{
 "cells": [
  {
   "cell_type": "code",
   "execution_count": 4,
   "metadata": {},
   "outputs": [],
   "source": [
    "# Name: Brian Dorricott\n",
    "# Assignment due: 2-Jul-20\n",
    "#\n",
    "import numpy as np\n",
    "import pandas as pd\n",
    "import matplotlib.pyplot as plt\n",
    "from scipy import stats\n",
    "# get matplot to show charts inline\n",
    "%matplotlib inline"
   ]
  },
  {
   "cell_type": "code",
   "execution_count": 21,
   "metadata": {},
   "outputs": [],
   "source": [
    "# 1. Read data set\n",
    "#\n",
    "df = pd.read_csv(\"..\\\\data\\\\Australian-coronavirus-tracking-updates.csv\")"
   ]
  },
  {
   "cell_type": "code",
   "execution_count": 104,
   "metadata": {},
   "outputs": [
    {
     "name": "stdout",
     "output_type": "stream",
     "text": [
      "   State        Date Time  Cumulative case count  Cumulative deaths  \\\n",
      "10   NSW  30/01/2020  NaN                    4.0                NaN   \n",
      "\n",
      "   Tests conducted (negative)  Tests conducted (total)  \\\n",
      "10                        NaN                     74.0   \n",
      "\n",
      "    Hospitalisations (count)  Intensive care (count) Ventilator usage (count)  \\\n",
      "10                       NaN                     NaN                      NaN   \n",
      "\n",
      "    Recovered (cumulative) Update Source Notes  \n",
      "10                     NaN    NSW Health   NaN  \n"
     ]
    }
   ],
   "source": [
    "print(df[df.index == 10])"
   ]
  },
  {
   "cell_type": "code",
   "execution_count": null,
   "metadata": {},
   "outputs": [],
   "source": []
  },
  {
   "cell_type": "code",
   "execution_count": 22,
   "metadata": {},
   "outputs": [
    {
     "name": "stdout",
     "output_type": "stream",
     "text": [
      "(850, 13)\n"
     ]
    }
   ],
   "source": [
    "# 2. Print summary of data\n",
    "#\n",
    "print(df.shape)"
   ]
  },
  {
   "cell_type": "code",
   "execution_count": 23,
   "metadata": {},
   "outputs": [
    {
     "name": "stdout",
     "output_type": "stream",
     "text": [
      "<bound method DataFrame.info of     State        Date   Time  Cumulative case count  Cumulative deaths  \\\n",
      "0      SA  23/01/2020    NaN                    0.0                NaN   \n",
      "1     VIC  25/01/2020    NaN                    1.0                NaN   \n",
      "2     NSW  25/01/2020    NaN                    3.0                NaN   \n",
      "3     NSW  27/01/2020    NaN                    4.0                NaN   \n",
      "4     QLD  28/01/2020    NaN                    0.0                NaN   \n",
      "..    ...         ...    ...                    ...                ...   \n",
      "845   VIC   1/07/2020  15:00                 2231.0                NaN   \n",
      "846   NSW   1/07/2020  15:25                 3203.0                NaN   \n",
      "847    WA   1/07/2020  15:29                  611.0                NaN   \n",
      "848   ACT   1/07/2020  15:31                  108.0                NaN   \n",
      "849   QLD   1/07/2020  12:00                 1067.0                NaN   \n",
      "\n",
      "    Tests conducted (negative)  Tests conducted (total)  \\\n",
      "0                          NaN                      6.0   \n",
      "1                          NaN                      NaN   \n",
      "2                          NaN                      NaN   \n",
      "3                          NaN                      NaN   \n",
      "4                          NaN                      6.0   \n",
      "..                         ...                      ...   \n",
      "845                        NaN                 830000.0   \n",
      "846                        NaN                 871567.0   \n",
      "847                        NaN                 185850.0   \n",
      "848                        NaN                  30224.0   \n",
      "849                        NaN                 370973.0   \n",
      "\n",
      "     Hospitalisations (count)  Intensive care (count)  \\\n",
      "0                         NaN                     NaN   \n",
      "1                         NaN                     NaN   \n",
      "2                         NaN                     NaN   \n",
      "3                         NaN                     NaN   \n",
      "4                         NaN                     NaN   \n",
      "..                        ...                     ...   \n",
      "845                      15.0                     2.0   \n",
      "846                      63.0                     1.0   \n",
      "847                       0.0                     0.0   \n",
      "848                       0.0                     0.0   \n",
      "849                       1.0                     0.0   \n",
      "\n",
      "    Ventilator usage (count)  Recovered (cumulative)  \\\n",
      "0                        NaN                     NaN   \n",
      "1                        NaN                     NaN   \n",
      "2                        NaN                     NaN   \n",
      "3                        NaN                     NaN   \n",
      "4                        NaN                     NaN   \n",
      "..                       ...                     ...   \n",
      "845                        0                  1839.0   \n",
      "846                        0                  2787.0   \n",
      "847                        0                   598.0   \n",
      "848                        0                   105.0   \n",
      "849                        0                  1054.0   \n",
      "\n",
      "                                         Update Source Notes  \n",
      "0                                    SA Health website   NaN  \n",
      "1                                        Victoria DHHS   NaN  \n",
      "2                             NSW Health media release   NaN  \n",
      "3                                           NSW Health   NaN  \n",
      "4                                    Queensland Health   NaN  \n",
      "..                                                 ...   ...  \n",
      "845                                      media release   NaN  \n",
      "846                                      media release   NaN  \n",
      "847                                      media release   NaN  \n",
      "848                    https://www.covid19.act.gov.au/   NaN  \n",
      "849  https://www.qld.gov.au/health/conditions/healt...   NaN  \n",
      "\n",
      "[850 rows x 13 columns]>\n"
     ]
    }
   ],
   "source": [
    "print(df.info)"
   ]
  },
  {
   "cell_type": "code",
   "execution_count": 86,
   "metadata": {},
   "outputs": [
    {
     "name": "stdout",
     "output_type": "stream",
     "text": [
      "           Date  Cumulative case count  Cumulative deaths\n",
      "1    25/01/2020                    1.0                NaN\n",
      "7    29/01/2020                    2.0                NaN\n",
      "9    30/01/2020                    3.0                NaN\n",
      "15    1/02/2020                    4.0                NaN\n",
      "55    1/03/2020                    9.0                NaN\n",
      "..          ...                    ...                ...\n",
      "833  27/06/2020                 1987.0                NaN\n",
      "836  28/06/2020                 2028.0                NaN\n",
      "840  29/06/2020                 2099.0                NaN\n",
      "842  30/06/2020                 2159.0                NaN\n",
      "845   1/07/2020                 2231.0                NaN\n",
      "\n",
      "[126 rows x 3 columns]\n"
     ]
    }
   ],
   "source": [
    "# Not part of assignment\n",
    "#\n",
    "# Select data we want\n",
    "df_nsw = df[df.State == \"NSW\"][[\"Date\", \"Cumulative case count\", \"Cumulative deaths\"]]\n",
    "print(df_nsw)"
   ]
  },
  {
   "cell_type": "code",
   "execution_count": 87,
   "metadata": {},
   "outputs": [
    {
     "name": "stdout",
     "output_type": "stream",
     "text": [
      "            Cases  Deaths\n",
      "Date                     \n",
      "25/01/2020    NaN     NaN\n",
      "29/01/2020    1.0     NaN\n",
      "30/01/2020    1.0     NaN\n",
      "1/02/2020     1.0     NaN\n",
      "1/03/2020     5.0     NaN\n",
      "...           ...     ...\n",
      "27/06/2020   40.0     NaN\n",
      "28/06/2020   41.0     NaN\n",
      "29/06/2020   71.0     NaN\n",
      "30/06/2020   60.0     NaN\n",
      "1/07/2020    72.0     NaN\n",
      "\n",
      "[126 rows x 2 columns]\n"
     ]
    }
   ],
   "source": [
    "# Not part of assignment\n",
    "#\n",
    "# Convert from Cumulative to Daily and rename columns to reflect change\n",
    "temp = df_nsw.set_index('Date').diff()\n",
    "df_nsw_daily = temp.rename(columns={\"Cumulative case count\":\"Cases\",\"Cumulative deaths\":\"Deaths\"})\n",
    "print(df_nsw_daily)"
   ]
  },
  {
   "cell_type": "code",
   "execution_count": 88,
   "metadata": {},
   "outputs": [
    {
     "data": {
      "image/png": "[encoded data removed]",
      "text/plain": [
       "<Figure size 432x288 with 1 Axes>"
      ]
     },
     "metadata": {
      "needs_background": "light"
     },
     "output_type": "display_data"
    }
   ],
   "source": [
    "# Not part of assignment\n",
    "#\n",
    "# Plot number of cases & deaths (*10 so we can see them)\n",
    "plt.plot(df_nsw_daily.index, df_nsw_daily[\"Cases\"])\n",
    "plt.plot(df_nsw_daily.index, df_nsw_daily[\"Deaths\"]*10)\n",
    "plt.show()\n"
   ]
  },
  {
   "cell_type": "code",
   "execution_count": 89,
   "metadata": {},
   "outputs": [
    {
     "name": "stdout",
     "output_type": "stream",
     "text": [
      "Cases     18.130081\n",
      "Deaths     0.631579\n",
      "dtype: float64\n"
     ]
    }
   ],
   "source": [
    "# 3. Exercise results\n",
    "print(df_nsw_daily.mean())"
   ]
  },
  {
   "cell_type": "code",
   "execution_count": 90,
   "metadata": {},
   "outputs": [
    {
     "name": "stdout",
     "output_type": "stream",
     "text": [
      "Shape of Data Frame:  (126, 2)\n"
     ]
    }
   ],
   "source": [
    "# 4. Use a function to show shape of data\n",
    "def getshape(df):\n",
    "    print(\"Shape of Data Frame: \", df.shape)\n",
    "getshape(df_nsw_daily)"
   ]
  },
  {
   "cell_type": "code",
   "execution_count": 95,
   "metadata": {},
   "outputs": [
    {
     "name": "stdout",
     "output_type": "stream",
     "text": [
      "Mean of Cases is  18.130081300813007\n",
      "Mean of Deaths is  0.631578947368421\n"
     ]
    }
   ],
   "source": [
    "# 5. Use a function to show mean of data columns\n",
    "def getmean(df, field):\n",
    "    print(\"Mean of\", field, \"is \", df[field].mean())\n",
    "getmean(df_nsw_daily, \"Cases\")\n",
    "getmean(df_nsw_daily, \"Deaths\")\n"
   ]
  },
  {
   "cell_type": "code",
   "execution_count": null,
   "metadata": {},
   "outputs": [],
   "source": []
  }
 ],
 "metadata": {
  "kernelspec": {
   "display_name": "Python 3",
   "language": "python",
   "name": "python3"
  },
  "language_info": {
   "codemirror_mode": {
    "name": "ipython",
    "version": 3
   },
   "file_extension": ".py",
   "mimetype": "text/x-python",
   "name": "python",
   "nbconvert_exporter": "python",
   "pygments_lexer": "ipython3",
   "version": "3.7.7"
  }
 },
 "nbformat": 4,
 "nbformat_minor": 4
}
