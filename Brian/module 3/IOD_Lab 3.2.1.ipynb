{
 "cells": [
  {
   "cell_type": "markdown",
   "metadata": {
    "colab_type": "text",
    "id": "7wcSELnGVSPN"
   },
   "source": [
    "<div>\n",
    "<img src=https://www.institutedata.com/wp-content/uploads/2019/10/iod_h_tp_primary_c.svg width=\"300\">\n",
    "</div>"
   ]
  },
  {
   "cell_type": "markdown",
   "metadata": {
    "colab_type": "text",
    "id": "MK0PFPnmVQQs"
   },
   "source": [
    "# Data\n",
    "\n",
    "> The sinking of the RMS Titanic is one of the most infamous shipwrecks in history.  On April 15, 1912, during her maiden voyage, the Titanic sank after colliding with an iceberg, killing 1502 out of 2224 passengers and crew. This sensational tragedy shocked the international community and led to better safety regulations for ships.\n",
    "\n",
    "> One of the reasons that the shipwreck led to such loss of life was that there were not enough lifeboats for the passengers and crew. Although there was some element of luck involved in surviving the sinking, some groups of people were more likely to survive than others, such as women, children, and the upper-class.\n",
    "\n",
    "In this lab, we'll explore this dataset to find insight.\n",
    "\n",
    "[Titanic Dataset](https://www.kaggle.com/c/titanic/data)"
   ]
  },
  {
   "cell_type": "markdown",
   "metadata": {
    "colab_type": "text",
    "id": "Te9iSnCNVQQv"
   },
   "source": [
    "# Data Dictionary\n",
    "\n",
    "| Variable |                                 Definition | Key                                            |\n",
    "|----------|-------------------------------------------:|------------------------------------------------|\n",
    "| Survival | Survival                                   | 0 = No, 1 = Yes                                |\n",
    "| Pclass   | Ticket class                               | 1 = 1st, 2 = 2nd, 3 = 3rd                      |\n",
    "| Sex      | Sex                                        |                                                |\n",
    "| Age      | Age in years                               |                                                |\n",
    "| SibSp    | # of siblings / spouses aboard the Titanic |                                                |\n",
    "| Parch    | # of parents / children aboard the Titanic |                                                |\n",
    "| Ticket   | Ticket number                              |                                                |\n",
    "| Fare     | Passenger fare                             |                                                |\n",
    "| Cabin    | Cabin number                               |                                                |\n",
    "| Embarked | Port of Embarkation                        | C = Cherbourg, Q = Queenstown, S = Southampton |"
   ]
  },
  {
   "cell_type": "markdown",
   "metadata": {
    "colab_type": "text",
    "id": "8CM9meP1VQQw"
   },
   "source": [
    "# Loading Modules"
   ]
  },
  {
   "cell_type": "code",
   "execution_count": 1,
   "metadata": {
    "colab": {},
    "colab_type": "code",
    "id": "GHFxoWnSVQQx"
   },
   "outputs": [],
   "source": [
    "# Load necessary libraries\n",
    "import pandas as pd\n",
    "import numpy as np\n",
    "import matplotlib.pyplot as plt\n",
    "\n",
    "%matplotlib inline"
   ]
  },
  {
   "cell_type": "markdown",
   "metadata": {
    "colab_type": "text",
    "id": "XcpBXT93VQQ0"
   },
   "source": [
    "# Loading Dataset\n",
    "\n",
    "Read titanic dataset."
   ]
  },
  {
   "cell_type": "code",
   "execution_count": 3,
   "metadata": {
    "ExecuteTime": {
     "end_time": "2019-09-30T02:38:12.074784Z",
     "start_time": "2019-09-30T02:38:12.069797Z"
    },
    "colab": {},
    "colab_type": "code",
    "id": "34iS-SdQVQQ1"
   },
   "outputs": [],
   "source": [
    "# Read Titanic Dataset\n",
    "titanic_csv = '../../data/titanic.csv'\n",
    "titanic = pd.read_csv(titanic_csv)"
   ]
  },
  {
   "cell_type": "markdown",
   "metadata": {
    "colab_type": "text",
    "id": "miTc8lnzVQQ3"
   },
   "source": [
    "# Explore Dataset"
   ]
  },
  {
   "cell_type": "markdown",
   "metadata": {
    "colab_type": "text",
    "id": "dM51XXicVQQ4"
   },
   "source": [
    "## Head"
   ]
  },
  {
   "cell_type": "code",
   "execution_count": 4,
   "metadata": {
    "colab": {},
    "colab_type": "code",
    "id": "VrkXE3uOVQQ4",
    "outputId": "4d473d33-3f40-4c0c-e32e-70e4805f5ff0"
   },
   "outputs": [
    {
     "data": {
      "text/html": [
       "<div>\n",
       "<style scoped>\n",
       "    .dataframe tbody tr th:only-of-type {\n",
       "        vertical-align: middle;\n",
       "    }\n",
       "\n",
       "    .dataframe tbody tr th {\n",
       "        vertical-align: top;\n",
       "    }\n",
       "\n",
       "    .dataframe thead th {\n",
       "        text-align: right;\n",
       "    }\n",
       "</style>\n",
       "<table border=\"1\" class=\"dataframe\">\n",
       "  <thead>\n",
       "    <tr style=\"text-align: right;\">\n",
       "      <th></th>\n",
       "      <th>PassengerId</th>\n",
       "      <th>Survived</th>\n",
       "      <th>Pclass</th>\n",
       "      <th>Name</th>\n",
       "      <th>Sex</th>\n",
       "      <th>Age</th>\n",
       "      <th>SibSp</th>\n",
       "      <th>Parch</th>\n",
       "      <th>Ticket</th>\n",
       "      <th>Fare</th>\n",
       "      <th>Cabin</th>\n",
       "      <th>Embarked</th>\n",
       "    </tr>\n",
       "  </thead>\n",
       "  <tbody>\n",
       "    <tr>\n",
       "      <th>0</th>\n",
       "      <td>1</td>\n",
       "      <td>0</td>\n",
       "      <td>3</td>\n",
       "      <td>Braund, Mr. Owen Harris</td>\n",
       "      <td>male</td>\n",
       "      <td>22.0</td>\n",
       "      <td>1</td>\n",
       "      <td>0</td>\n",
       "      <td>A/5 21171</td>\n",
       "      <td>7.2500</td>\n",
       "      <td>NaN</td>\n",
       "      <td>S</td>\n",
       "    </tr>\n",
       "    <tr>\n",
       "      <th>1</th>\n",
       "      <td>2</td>\n",
       "      <td>1</td>\n",
       "      <td>1</td>\n",
       "      <td>Cumings, Mrs. John Bradley (Florence Briggs Th...</td>\n",
       "      <td>female</td>\n",
       "      <td>38.0</td>\n",
       "      <td>1</td>\n",
       "      <td>0</td>\n",
       "      <td>PC 17599</td>\n",
       "      <td>71.2833</td>\n",
       "      <td>C85</td>\n",
       "      <td>C</td>\n",
       "    </tr>\n",
       "    <tr>\n",
       "      <th>2</th>\n",
       "      <td>3</td>\n",
       "      <td>1</td>\n",
       "      <td>3</td>\n",
       "      <td>Heikkinen, Miss. Laina</td>\n",
       "      <td>female</td>\n",
       "      <td>26.0</td>\n",
       "      <td>0</td>\n",
       "      <td>0</td>\n",
       "      <td>STON/O2. 3101282</td>\n",
       "      <td>7.9250</td>\n",
       "      <td>NaN</td>\n",
       "      <td>S</td>\n",
       "    </tr>\n",
       "    <tr>\n",
       "      <th>3</th>\n",
       "      <td>4</td>\n",
       "      <td>1</td>\n",
       "      <td>1</td>\n",
       "      <td>Futrelle, Mrs. Jacques Heath (Lily May Peel)</td>\n",
       "      <td>female</td>\n",
       "      <td>35.0</td>\n",
       "      <td>1</td>\n",
       "      <td>0</td>\n",
       "      <td>113803</td>\n",
       "      <td>53.1000</td>\n",
       "      <td>C123</td>\n",
       "      <td>S</td>\n",
       "    </tr>\n",
       "    <tr>\n",
       "      <th>4</th>\n",
       "      <td>5</td>\n",
       "      <td>0</td>\n",
       "      <td>3</td>\n",
       "      <td>Allen, Mr. William Henry</td>\n",
       "      <td>male</td>\n",
       "      <td>35.0</td>\n",
       "      <td>0</td>\n",
       "      <td>0</td>\n",
       "      <td>373450</td>\n",
       "      <td>8.0500</td>\n",
       "      <td>NaN</td>\n",
       "      <td>S</td>\n",
       "    </tr>\n",
       "  </tbody>\n",
       "</table>\n",
       "</div>"
      ],
      "text/plain": [
       "   PassengerId  Survived  Pclass  \\\n",
       "0            1         0       3   \n",
       "1            2         1       1   \n",
       "2            3         1       3   \n",
       "3            4         1       1   \n",
       "4            5         0       3   \n",
       "\n",
       "                                                Name     Sex   Age  SibSp  \\\n",
       "0                            Braund, Mr. Owen Harris    male  22.0      1   \n",
       "1  Cumings, Mrs. John Bradley (Florence Briggs Th...  female  38.0      1   \n",
       "2                             Heikkinen, Miss. Laina  female  26.0      0   \n",
       "3       Futrelle, Mrs. Jacques Heath (Lily May Peel)  female  35.0      1   \n",
       "4                           Allen, Mr. William Henry    male  35.0      0   \n",
       "\n",
       "   Parch            Ticket     Fare Cabin Embarked  \n",
       "0      0         A/5 21171   7.2500   NaN        S  \n",
       "1      0          PC 17599  71.2833   C85        C  \n",
       "2      0  STON/O2. 3101282   7.9250   NaN        S  \n",
       "3      0            113803  53.1000  C123        S  \n",
       "4      0            373450   8.0500   NaN        S  "
      ]
     },
     "execution_count": 4,
     "metadata": {},
     "output_type": "execute_result"
    }
   ],
   "source": [
    "# Check Head\n",
    "titanic.head()"
   ]
  },
  {
   "cell_type": "markdown",
   "metadata": {
    "colab_type": "text",
    "id": "zIMXv8K8VQQ7"
   },
   "source": [
    "## Tail"
   ]
  },
  {
   "cell_type": "code",
   "execution_count": 5,
   "metadata": {
    "colab": {},
    "colab_type": "code",
    "id": "7CiYeEZ9VQQ8",
    "outputId": "0e68469d-5cc7-4754-df65-7f717023f40c"
   },
   "outputs": [
    {
     "data": {
      "text/html": [
       "<div>\n",
       "<style scoped>\n",
       "    .dataframe tbody tr th:only-of-type {\n",
       "        vertical-align: middle;\n",
       "    }\n",
       "\n",
       "    .dataframe tbody tr th {\n",
       "        vertical-align: top;\n",
       "    }\n",
       "\n",
       "    .dataframe thead th {\n",
       "        text-align: right;\n",
       "    }\n",
       "</style>\n",
       "<table border=\"1\" class=\"dataframe\">\n",
       "  <thead>\n",
       "    <tr style=\"text-align: right;\">\n",
       "      <th></th>\n",
       "      <th>PassengerId</th>\n",
       "      <th>Survived</th>\n",
       "      <th>Pclass</th>\n",
       "      <th>Name</th>\n",
       "      <th>Sex</th>\n",
       "      <th>Age</th>\n",
       "      <th>SibSp</th>\n",
       "      <th>Parch</th>\n",
       "      <th>Ticket</th>\n",
       "      <th>Fare</th>\n",
       "      <th>Cabin</th>\n",
       "      <th>Embarked</th>\n",
       "    </tr>\n",
       "  </thead>\n",
       "  <tbody>\n",
       "    <tr>\n",
       "      <th>886</th>\n",
       "      <td>887</td>\n",
       "      <td>0</td>\n",
       "      <td>2</td>\n",
       "      <td>Montvila, Rev. Juozas</td>\n",
       "      <td>male</td>\n",
       "      <td>27.0</td>\n",
       "      <td>0</td>\n",
       "      <td>0</td>\n",
       "      <td>211536</td>\n",
       "      <td>13.00</td>\n",
       "      <td>NaN</td>\n",
       "      <td>S</td>\n",
       "    </tr>\n",
       "    <tr>\n",
       "      <th>887</th>\n",
       "      <td>888</td>\n",
       "      <td>1</td>\n",
       "      <td>1</td>\n",
       "      <td>Graham, Miss. Margaret Edith</td>\n",
       "      <td>female</td>\n",
       "      <td>19.0</td>\n",
       "      <td>0</td>\n",
       "      <td>0</td>\n",
       "      <td>112053</td>\n",
       "      <td>30.00</td>\n",
       "      <td>B42</td>\n",
       "      <td>S</td>\n",
       "    </tr>\n",
       "    <tr>\n",
       "      <th>888</th>\n",
       "      <td>889</td>\n",
       "      <td>0</td>\n",
       "      <td>3</td>\n",
       "      <td>Johnston, Miss. Catherine Helen \"Carrie\"</td>\n",
       "      <td>female</td>\n",
       "      <td>NaN</td>\n",
       "      <td>1</td>\n",
       "      <td>2</td>\n",
       "      <td>W./C. 6607</td>\n",
       "      <td>23.45</td>\n",
       "      <td>NaN</td>\n",
       "      <td>S</td>\n",
       "    </tr>\n",
       "    <tr>\n",
       "      <th>889</th>\n",
       "      <td>890</td>\n",
       "      <td>1</td>\n",
       "      <td>1</td>\n",
       "      <td>Behr, Mr. Karl Howell</td>\n",
       "      <td>male</td>\n",
       "      <td>26.0</td>\n",
       "      <td>0</td>\n",
       "      <td>0</td>\n",
       "      <td>111369</td>\n",
       "      <td>30.00</td>\n",
       "      <td>C148</td>\n",
       "      <td>C</td>\n",
       "    </tr>\n",
       "    <tr>\n",
       "      <th>890</th>\n",
       "      <td>891</td>\n",
       "      <td>0</td>\n",
       "      <td>3</td>\n",
       "      <td>Dooley, Mr. Patrick</td>\n",
       "      <td>male</td>\n",
       "      <td>32.0</td>\n",
       "      <td>0</td>\n",
       "      <td>0</td>\n",
       "      <td>370376</td>\n",
       "      <td>7.75</td>\n",
       "      <td>NaN</td>\n",
       "      <td>Q</td>\n",
       "    </tr>\n",
       "  </tbody>\n",
       "</table>\n",
       "</div>"
      ],
      "text/plain": [
       "     PassengerId  Survived  Pclass                                      Name  \\\n",
       "886          887         0       2                     Montvila, Rev. Juozas   \n",
       "887          888         1       1              Graham, Miss. Margaret Edith   \n",
       "888          889         0       3  Johnston, Miss. Catherine Helen \"Carrie\"   \n",
       "889          890         1       1                     Behr, Mr. Karl Howell   \n",
       "890          891         0       3                       Dooley, Mr. Patrick   \n",
       "\n",
       "        Sex   Age  SibSp  Parch      Ticket   Fare Cabin Embarked  \n",
       "886    male  27.0      0      0      211536  13.00   NaN        S  \n",
       "887  female  19.0      0      0      112053  30.00   B42        S  \n",
       "888  female   NaN      1      2  W./C. 6607  23.45   NaN        S  \n",
       "889    male  26.0      0      0      111369  30.00  C148        C  \n",
       "890    male  32.0      0      0      370376   7.75   NaN        Q  "
      ]
     },
     "execution_count": 5,
     "metadata": {},
     "output_type": "execute_result"
    }
   ],
   "source": [
    "# Check Tail\n",
    "titanic.tail()"
   ]
  },
  {
   "cell_type": "markdown",
   "metadata": {
    "colab_type": "text",
    "id": "sw6UIewHVQQ-"
   },
   "source": [
    "## Shape\n",
    "\n",
    "Find shape of dataset."
   ]
  },
  {
   "cell_type": "code",
   "execution_count": 6,
   "metadata": {
    "ExecuteTime": {
     "end_time": "2019-09-30T02:38:43.687396Z",
     "start_time": "2019-09-30T02:38:43.684402Z"
    },
    "colab": {},
    "colab_type": "code",
    "id": "yhPOlXcEVQQ_"
   },
   "outputs": [
    {
     "data": {
      "text/plain": [
       "(891, 12)"
      ]
     },
     "execution_count": 6,
     "metadata": {},
     "output_type": "execute_result"
    }
   ],
   "source": [
    "# ANSWER\n",
    "titanic.shape"
   ]
  },
  {
   "cell_type": "markdown",
   "metadata": {
    "colab_type": "text",
    "id": "QyohdWIWVQRB"
   },
   "source": [
    "## Check Types of Data\n",
    "\n",
    "Check types of data you have"
   ]
  },
  {
   "cell_type": "code",
   "execution_count": 7,
   "metadata": {
    "ExecuteTime": {
     "end_time": "2019-09-30T02:58:17.575475Z",
     "start_time": "2019-09-30T02:58:17.571485Z"
    },
    "colab": {},
    "colab_type": "code",
    "id": "z-3o2IuaVQRC"
   },
   "outputs": [
    {
     "data": {
      "text/plain": [
       "PassengerId      int64\n",
       "Survived         int64\n",
       "Pclass           int64\n",
       "Name            object\n",
       "Sex             object\n",
       "Age            float64\n",
       "SibSp            int64\n",
       "Parch            int64\n",
       "Ticket          object\n",
       "Fare           float64\n",
       "Cabin           object\n",
       "Embarked        object\n",
       "dtype: object"
      ]
     },
     "execution_count": 7,
     "metadata": {},
     "output_type": "execute_result"
    }
   ],
   "source": [
    "# ANSWER\n",
    "titanic.dtypes"
   ]
  },
  {
   "cell_type": "markdown",
   "metadata": {
    "colab_type": "text",
    "id": "xGJfiKgVVQRE"
   },
   "source": [
    "## Check Null Values\n",
    "\n",
    "Check whether dataset have any null values."
   ]
  },
  {
   "cell_type": "code",
   "execution_count": 8,
   "metadata": {
    "ExecuteTime": {
     "end_time": "2019-09-30T02:58:37.576712Z",
     "start_time": "2019-09-30T02:58:37.573730Z"
    },
    "colab": {},
    "colab_type": "code",
    "id": "BooTb2vBVQRF"
   },
   "outputs": [
    {
     "data": {
      "text/plain": [
       "PassengerId      0\n",
       "Survived         0\n",
       "Pclass           0\n",
       "Name             0\n",
       "Sex              0\n",
       "Age            177\n",
       "SibSp            0\n",
       "Parch            0\n",
       "Ticket           0\n",
       "Fare             0\n",
       "Cabin          687\n",
       "Embarked         2\n",
       "dtype: int64"
      ]
     },
     "execution_count": 8,
     "metadata": {},
     "output_type": "execute_result"
    }
   ],
   "source": [
    "# ANSWER\n",
    "titanic.isnull().sum()"
   ]
  },
  {
   "cell_type": "code",
   "execution_count": 9,
   "metadata": {},
   "outputs": [
    {
     "data": {
      "text/html": [
       "<div>\n",
       "<style scoped>\n",
       "    .dataframe tbody tr th:only-of-type {\n",
       "        vertical-align: middle;\n",
       "    }\n",
       "\n",
       "    .dataframe tbody tr th {\n",
       "        vertical-align: top;\n",
       "    }\n",
       "\n",
       "    .dataframe thead th {\n",
       "        text-align: right;\n",
       "    }\n",
       "</style>\n",
       "<table border=\"1\" class=\"dataframe\">\n",
       "  <thead>\n",
       "    <tr style=\"text-align: right;\">\n",
       "      <th></th>\n",
       "      <th>PassengerId</th>\n",
       "      <th>Survived</th>\n",
       "      <th>Pclass</th>\n",
       "      <th>Name</th>\n",
       "      <th>Sex</th>\n",
       "      <th>Age</th>\n",
       "      <th>SibSp</th>\n",
       "      <th>Parch</th>\n",
       "      <th>Ticket</th>\n",
       "      <th>Fare</th>\n",
       "      <th>Cabin</th>\n",
       "      <th>Embarked</th>\n",
       "    </tr>\n",
       "  </thead>\n",
       "  <tbody>\n",
       "    <tr>\n",
       "      <th>0</th>\n",
       "      <td>1</td>\n",
       "      <td>0</td>\n",
       "      <td>3</td>\n",
       "      <td>Braund, Mr. Owen Harris</td>\n",
       "      <td>male</td>\n",
       "      <td>22.0</td>\n",
       "      <td>1</td>\n",
       "      <td>0</td>\n",
       "      <td>A/5 21171</td>\n",
       "      <td>7.2500</td>\n",
       "      <td>NaN</td>\n",
       "      <td>S</td>\n",
       "    </tr>\n",
       "    <tr>\n",
       "      <th>1</th>\n",
       "      <td>2</td>\n",
       "      <td>1</td>\n",
       "      <td>1</td>\n",
       "      <td>Cumings, Mrs. John Bradley (Florence Briggs Th...</td>\n",
       "      <td>female</td>\n",
       "      <td>38.0</td>\n",
       "      <td>1</td>\n",
       "      <td>0</td>\n",
       "      <td>PC 17599</td>\n",
       "      <td>71.2833</td>\n",
       "      <td>C85</td>\n",
       "      <td>C</td>\n",
       "    </tr>\n",
       "    <tr>\n",
       "      <th>2</th>\n",
       "      <td>3</td>\n",
       "      <td>1</td>\n",
       "      <td>3</td>\n",
       "      <td>Heikkinen, Miss. Laina</td>\n",
       "      <td>female</td>\n",
       "      <td>26.0</td>\n",
       "      <td>0</td>\n",
       "      <td>0</td>\n",
       "      <td>STON/O2. 3101282</td>\n",
       "      <td>7.9250</td>\n",
       "      <td>NaN</td>\n",
       "      <td>S</td>\n",
       "    </tr>\n",
       "    <tr>\n",
       "      <th>3</th>\n",
       "      <td>4</td>\n",
       "      <td>1</td>\n",
       "      <td>1</td>\n",
       "      <td>Futrelle, Mrs. Jacques Heath (Lily May Peel)</td>\n",
       "      <td>female</td>\n",
       "      <td>35.0</td>\n",
       "      <td>1</td>\n",
       "      <td>0</td>\n",
       "      <td>113803</td>\n",
       "      <td>53.1000</td>\n",
       "      <td>C123</td>\n",
       "      <td>S</td>\n",
       "    </tr>\n",
       "    <tr>\n",
       "      <th>4</th>\n",
       "      <td>5</td>\n",
       "      <td>0</td>\n",
       "      <td>3</td>\n",
       "      <td>Allen, Mr. William Henry</td>\n",
       "      <td>male</td>\n",
       "      <td>35.0</td>\n",
       "      <td>0</td>\n",
       "      <td>0</td>\n",
       "      <td>373450</td>\n",
       "      <td>8.0500</td>\n",
       "      <td>NaN</td>\n",
       "      <td>S</td>\n",
       "    </tr>\n",
       "  </tbody>\n",
       "</table>\n",
       "</div>"
      ],
      "text/plain": [
       "   PassengerId  Survived  Pclass  \\\n",
       "0            1         0       3   \n",
       "1            2         1       1   \n",
       "2            3         1       3   \n",
       "3            4         1       1   \n",
       "4            5         0       3   \n",
       "\n",
       "                                                Name     Sex   Age  SibSp  \\\n",
       "0                            Braund, Mr. Owen Harris    male  22.0      1   \n",
       "1  Cumings, Mrs. John Bradley (Florence Briggs Th...  female  38.0      1   \n",
       "2                             Heikkinen, Miss. Laina  female  26.0      0   \n",
       "3       Futrelle, Mrs. Jacques Heath (Lily May Peel)  female  35.0      1   \n",
       "4                           Allen, Mr. William Henry    male  35.0      0   \n",
       "\n",
       "   Parch            Ticket     Fare Cabin Embarked  \n",
       "0      0         A/5 21171   7.2500   NaN        S  \n",
       "1      0          PC 17599  71.2833   C85        C  \n",
       "2      0  STON/O2. 3101282   7.9250   NaN        S  \n",
       "3      0            113803  53.1000  C123        S  \n",
       "4      0            373450   8.0500   NaN        S  "
      ]
     },
     "execution_count": 9,
     "metadata": {},
     "output_type": "execute_result"
    }
   ],
   "source": [
    "# Check titanic data again\n",
    "titanic.head()"
   ]
  },
  {
   "cell_type": "markdown",
   "metadata": {
    "colab_type": "text",
    "id": "sIjPhOwTVQRH"
   },
   "source": [
    "## Fill Null Values\n",
    "\n",
    "Is there any null values in any columns? \n",
    "\n",
    "- Identify those columns\n",
    "- Fill those null values using your own logic\n",
    "    - State your logic behind every steps"
   ]
  },
  {
   "cell_type": "markdown",
   "metadata": {
    "colab_type": "text",
    "id": "z9w1AEp_VQRJ"
   },
   "source": [
    "### Age"
   ]
  },
  {
   "cell_type": "code",
   "execution_count": 17,
   "metadata": {
    "ExecuteTime": {
     "end_time": "2019-09-30T02:59:01.672353Z",
     "start_time": "2019-09-30T02:59:01.668361Z"
    },
    "colab": {},
    "colab_type": "code",
    "id": "p3Ojk9ZgVQRK"
   },
   "outputs": [
    {
     "name": "stdout",
     "output_type": "stream",
     "text": [
      "29.69911764705882\n",
      "   PassengerId  Survived  Pclass  \\\n",
      "0            1         0       3   \n",
      "1            2         1       1   \n",
      "2            3         1       3   \n",
      "3            4         1       1   \n",
      "4            5         0       3   \n",
      "5            6         0       3   \n",
      "6            7         0       1   \n",
      "7            8         0       3   \n",
      "8            9         1       3   \n",
      "9           10         1       2   \n",
      "\n",
      "                                                Name     Sex        Age  \\\n",
      "0                            Braund, Mr. Owen Harris    male  22.000000   \n",
      "1  Cumings, Mrs. John Bradley (Florence Briggs Th...  female  38.000000   \n",
      "2                             Heikkinen, Miss. Laina  female  26.000000   \n",
      "3       Futrelle, Mrs. Jacques Heath (Lily May Peel)  female  35.000000   \n",
      "4                           Allen, Mr. William Henry    male  35.000000   \n",
      "5                                   Moran, Mr. James    male  29.699118   \n",
      "6                            McCarthy, Mr. Timothy J    male  54.000000   \n",
      "7                     Palsson, Master. Gosta Leonard    male   2.000000   \n",
      "8  Johnson, Mrs. Oscar W (Elisabeth Vilhelmina Berg)  female  27.000000   \n",
      "9                Nasser, Mrs. Nicholas (Adele Achem)  female  14.000000   \n",
      "\n",
      "   SibSp  Parch            Ticket     Fare Cabin Embarked  \n",
      "0      1      0         A/5 21171   7.2500   NaN        S  \n",
      "1      1      0          PC 17599  71.2833   C85        C  \n",
      "2      0      0  STON/O2. 3101282   7.9250   NaN        S  \n",
      "3      1      0            113803  53.1000  C123        S  \n",
      "4      0      0            373450   8.0500   NaN        S  \n",
      "5      0      0            330877   8.4583   NaN        Q  \n",
      "6      0      0             17463  51.8625   E46        S  \n",
      "7      3      1            349909  21.0750   NaN        S  \n",
      "8      0      2            347742  11.1333   NaN        S  \n",
      "9      1      0            237736  30.0708   NaN        C  \n"
     ]
    }
   ],
   "source": [
    "# ANSWER\n",
    "# Average age\n",
    "print(titanic['Age'].mean())\n",
    "titanic['Age']=titanic['Age'].fillna(titanic['Age'].mean())\n",
    "print(titanic.head(10))"
   ]
  },
  {
   "cell_type": "markdown",
   "metadata": {
    "colab_type": "text",
    "id": "k-xDz63vVQRM"
   },
   "source": [
    "### Cabin"
   ]
  },
  {
   "cell_type": "code",
   "execution_count": 22,
   "metadata": {
    "ExecuteTime": {
     "end_time": "2019-09-30T02:59:20.589858Z",
     "start_time": "2019-09-30T02:59:20.585870Z"
    },
    "colab": {},
    "colab_type": "code",
    "id": "ECtFUl_mVQRM"
   },
   "outputs": [
    {
     "name": "stdout",
     "output_type": "stream",
     "text": [
      "Unknown        687\n",
      "G6               4\n",
      "B96 B98          4\n",
      "C23 C25 C27      4\n",
      "F2               3\n",
      "              ... \n",
      "A14              1\n",
      "C90              1\n",
      "C49              1\n",
      "B42              1\n",
      "B50              1\n",
      "Name: Cabin, Length: 148, dtype: int64\n",
      "   PassengerId  Survived  Pclass  \\\n",
      "0            1         0       3   \n",
      "1            2         1       1   \n",
      "2            3         1       3   \n",
      "3            4         1       1   \n",
      "4            5         0       3   \n",
      "5            6         0       3   \n",
      "6            7         0       1   \n",
      "7            8         0       3   \n",
      "8            9         1       3   \n",
      "9           10         1       2   \n",
      "\n",
      "                                                Name     Sex        Age  \\\n",
      "0                            Braund, Mr. Owen Harris    male  22.000000   \n",
      "1  Cumings, Mrs. John Bradley (Florence Briggs Th...  female  38.000000   \n",
      "2                             Heikkinen, Miss. Laina  female  26.000000   \n",
      "3       Futrelle, Mrs. Jacques Heath (Lily May Peel)  female  35.000000   \n",
      "4                           Allen, Mr. William Henry    male  35.000000   \n",
      "5                                   Moran, Mr. James    male  29.699118   \n",
      "6                            McCarthy, Mr. Timothy J    male  54.000000   \n",
      "7                     Palsson, Master. Gosta Leonard    male   2.000000   \n",
      "8  Johnson, Mrs. Oscar W (Elisabeth Vilhelmina Berg)  female  27.000000   \n",
      "9                Nasser, Mrs. Nicholas (Adele Achem)  female  14.000000   \n",
      "\n",
      "   SibSp  Parch            Ticket     Fare    Cabin Embarked  \n",
      "0      1      0         A/5 21171   7.2500  Unknown        S  \n",
      "1      1      0          PC 17599  71.2833      C85        C  \n",
      "2      0      0  STON/O2. 3101282   7.9250  Unknown        S  \n",
      "3      1      0            113803  53.1000     C123        S  \n",
      "4      0      0            373450   8.0500  Unknown        S  \n",
      "5      0      0            330877   8.4583  Unknown        Q  \n",
      "6      0      0             17463  51.8625      E46        S  \n",
      "7      3      1            349909  21.0750  Unknown        S  \n",
      "8      0      2            347742  11.1333  Unknown        S  \n",
      "9      1      0            237736  30.0708  Unknown        C  \n"
     ]
    }
   ],
   "source": [
    "# ASNWER\n",
    "# in sample notice that Cabin is related to class\n",
    "print(titanic['Cabin'].value_counts())\n",
    "titanic['Cabin']=titanic['Cabin'].fillna('Unknown')\n",
    "print(titanic.head(10))"
   ]
  },
  {
   "cell_type": "markdown",
   "metadata": {
    "colab_type": "text",
    "id": "YswR0xl1VQRO"
   },
   "source": [
    "### Embarked"
   ]
  },
  {
   "cell_type": "code",
   "execution_count": 24,
   "metadata": {
    "ExecuteTime": {
     "end_time": "2019-09-30T03:00:37.272457Z",
     "start_time": "2019-09-30T03:00:37.268471Z"
    },
    "colab": {},
    "colab_type": "code",
    "id": "IkLCG8RrVQRP"
   },
   "outputs": [
    {
     "name": "stdout",
     "output_type": "stream",
     "text": [
      "['S' 'C' 'Q']\n",
      "S    646\n",
      "C    168\n",
      "Q     77\n",
      "Name: Embarked, dtype: int64\n"
     ]
    }
   ],
   "source": [
    "# ANSWER\n",
    "print(titanic['Embarked'].unique())\n",
    "print(titanic['Embarked'].value_counts())\n",
    "titanic['Embarked']=titanic['Embarked'].fillna('S')\n"
   ]
  },
  {
   "cell_type": "markdown",
   "metadata": {
    "colab_type": "text",
    "id": "Zw-M5KfRVQRR"
   },
   "source": [
    "# Describe\n",
    "\n",
    "Describe your dataset."
   ]
  },
  {
   "cell_type": "code",
   "execution_count": 25,
   "metadata": {
    "ExecuteTime": {
     "end_time": "2019-09-30T03:00:55.748437Z",
     "start_time": "2019-09-30T03:00:55.744449Z"
    },
    "colab": {},
    "colab_type": "code",
    "id": "axUd1m0ZVQRS"
   },
   "outputs": [
    {
     "data": {
      "text/html": [
       "<div>\n",
       "<style scoped>\n",
       "    .dataframe tbody tr th:only-of-type {\n",
       "        vertical-align: middle;\n",
       "    }\n",
       "\n",
       "    .dataframe tbody tr th {\n",
       "        vertical-align: top;\n",
       "    }\n",
       "\n",
       "    .dataframe thead th {\n",
       "        text-align: right;\n",
       "    }\n",
       "</style>\n",
       "<table border=\"1\" class=\"dataframe\">\n",
       "  <thead>\n",
       "    <tr style=\"text-align: right;\">\n",
       "      <th></th>\n",
       "      <th>PassengerId</th>\n",
       "      <th>Survived</th>\n",
       "      <th>Pclass</th>\n",
       "      <th>Age</th>\n",
       "      <th>SibSp</th>\n",
       "      <th>Parch</th>\n",
       "      <th>Fare</th>\n",
       "    </tr>\n",
       "  </thead>\n",
       "  <tbody>\n",
       "    <tr>\n",
       "      <th>count</th>\n",
       "      <td>891.000000</td>\n",
       "      <td>891.000000</td>\n",
       "      <td>891.000000</td>\n",
       "      <td>891.000000</td>\n",
       "      <td>891.000000</td>\n",
       "      <td>891.000000</td>\n",
       "      <td>891.000000</td>\n",
       "    </tr>\n",
       "    <tr>\n",
       "      <th>mean</th>\n",
       "      <td>446.000000</td>\n",
       "      <td>0.383838</td>\n",
       "      <td>2.308642</td>\n",
       "      <td>29.699118</td>\n",
       "      <td>0.523008</td>\n",
       "      <td>0.381594</td>\n",
       "      <td>32.204208</td>\n",
       "    </tr>\n",
       "    <tr>\n",
       "      <th>std</th>\n",
       "      <td>257.353842</td>\n",
       "      <td>0.486592</td>\n",
       "      <td>0.836071</td>\n",
       "      <td>13.002015</td>\n",
       "      <td>1.102743</td>\n",
       "      <td>0.806057</td>\n",
       "      <td>49.693429</td>\n",
       "    </tr>\n",
       "    <tr>\n",
       "      <th>min</th>\n",
       "      <td>1.000000</td>\n",
       "      <td>0.000000</td>\n",
       "      <td>1.000000</td>\n",
       "      <td>0.420000</td>\n",
       "      <td>0.000000</td>\n",
       "      <td>0.000000</td>\n",
       "      <td>0.000000</td>\n",
       "    </tr>\n",
       "    <tr>\n",
       "      <th>25%</th>\n",
       "      <td>223.500000</td>\n",
       "      <td>0.000000</td>\n",
       "      <td>2.000000</td>\n",
       "      <td>22.000000</td>\n",
       "      <td>0.000000</td>\n",
       "      <td>0.000000</td>\n",
       "      <td>7.910400</td>\n",
       "    </tr>\n",
       "    <tr>\n",
       "      <th>50%</th>\n",
       "      <td>446.000000</td>\n",
       "      <td>0.000000</td>\n",
       "      <td>3.000000</td>\n",
       "      <td>29.699118</td>\n",
       "      <td>0.000000</td>\n",
       "      <td>0.000000</td>\n",
       "      <td>14.454200</td>\n",
       "    </tr>\n",
       "    <tr>\n",
       "      <th>75%</th>\n",
       "      <td>668.500000</td>\n",
       "      <td>1.000000</td>\n",
       "      <td>3.000000</td>\n",
       "      <td>35.000000</td>\n",
       "      <td>1.000000</td>\n",
       "      <td>0.000000</td>\n",
       "      <td>31.000000</td>\n",
       "    </tr>\n",
       "    <tr>\n",
       "      <th>max</th>\n",
       "      <td>891.000000</td>\n",
       "      <td>1.000000</td>\n",
       "      <td>3.000000</td>\n",
       "      <td>80.000000</td>\n",
       "      <td>8.000000</td>\n",
       "      <td>6.000000</td>\n",
       "      <td>512.329200</td>\n",
       "    </tr>\n",
       "  </tbody>\n",
       "</table>\n",
       "</div>"
      ],
      "text/plain": [
       "       PassengerId    Survived      Pclass         Age       SibSp  \\\n",
       "count   891.000000  891.000000  891.000000  891.000000  891.000000   \n",
       "mean    446.000000    0.383838    2.308642   29.699118    0.523008   \n",
       "std     257.353842    0.486592    0.836071   13.002015    1.102743   \n",
       "min       1.000000    0.000000    1.000000    0.420000    0.000000   \n",
       "25%     223.500000    0.000000    2.000000   22.000000    0.000000   \n",
       "50%     446.000000    0.000000    3.000000   29.699118    0.000000   \n",
       "75%     668.500000    1.000000    3.000000   35.000000    1.000000   \n",
       "max     891.000000    1.000000    3.000000   80.000000    8.000000   \n",
       "\n",
       "            Parch        Fare  \n",
       "count  891.000000  891.000000  \n",
       "mean     0.381594   32.204208  \n",
       "std      0.806057   49.693429  \n",
       "min      0.000000    0.000000  \n",
       "25%      0.000000    7.910400  \n",
       "50%      0.000000   14.454200  \n",
       "75%      0.000000   31.000000  \n",
       "max      6.000000  512.329200  "
      ]
     },
     "execution_count": 25,
     "metadata": {},
     "output_type": "execute_result"
    }
   ],
   "source": [
    "# ANSWER\n",
    "titanic.describe()"
   ]
  },
  {
   "cell_type": "markdown",
   "metadata": {
    "colab_type": "text",
    "id": "-RQ9hmVIVQRU"
   },
   "source": [
    "# Relationship between Features and Survival\n",
    "\n",
    "Find relationship between categorical features and survived.\n",
    "\n",
    "**Describe your findings.**"
   ]
  },
  {
   "cell_type": "code",
   "execution_count": 27,
   "metadata": {
    "colab": {},
    "colab_type": "code",
    "id": "-LhNetuZVQRV"
   },
   "outputs": [],
   "source": [
    "def bar_charts(df, feature):\n",
    "    '''\n",
    "    Inputs:\n",
    "    df: Dataset\n",
    "    feature: Name of Feature to Check With Survived\n",
    "    '''\n",
    "    _agg = {\n",
    "        'PassengerId': 'count'\n",
    "    }\n",
    "    _groupby = ['Survived', feature]\n",
    "\n",
    "    df_feature = df.groupby(by=_groupby).agg(_agg)\n",
    "    \n",
    "    ax = df_feature.unstack().plot(kind='bar', figsize=(15,6))\n",
    "    plt.legend(list(df_feature.index.levels[1].unique()))\n",
    "    plt.xlabel('Survived')\n",
    "    plt.xticks(np.arange(2), ('No', 'Yes'))\n",
    "    plt.show();"
   ]
  },
  {
   "cell_type": "markdown",
   "metadata": {
    "colab_type": "text",
    "id": "vd9d2cn9VQRX"
   },
   "source": [
    "## Pclass\n",
    "\n",
    "Use barchart to find relationship between survived and pclass.  Note your findings."
   ]
  },
  {
   "cell_type": "code",
   "execution_count": 29,
   "metadata": {
    "ExecuteTime": {
     "end_time": "2019-09-30T03:02:04.043957Z",
     "start_time": "2019-09-30T03:02:04.039969Z"
    },
    "colab": {},
    "colab_type": "code",
    "id": "YcvUi3y1VQRY"
   },
   "outputs": [
    {
     "data": {
      "image/png": "[encoded data removed]",
      "text/plain": [
       "<Figure size 1080x432 with 1 Axes>"
      ]
     },
     "metadata": {
      "needs_background": "light"
     },
     "output_type": "display_data"
    }
   ],
   "source": [
    "# ANSWER\n",
    "bar_charts(titanic, 'Pclass')"
   ]
  },
  {
   "cell_type": "markdown",
   "metadata": {
    "colab_type": "text",
    "id": "zJLXH0HNVQRa"
   },
   "source": [
    "## Sex\n",
    "\n",
    "Use barchart to find relationship between survived and sex.  Note your findings."
   ]
  },
  {
   "cell_type": "code",
   "execution_count": 30,
   "metadata": {
    "ExecuteTime": {
     "end_time": "2019-09-30T03:03:23.420605Z",
     "start_time": "2019-09-30T03:03:23.416645Z"
    },
    "colab": {},
    "colab_type": "code",
    "id": "ass51dkPVQRa"
   },
   "outputs": [
    {
     "data": {
      "image/png": "[encoded data removed]",
      "text/plain": [
       "<Figure size 1080x432 with 1 Axes>"
      ]
     },
     "metadata": {
      "needs_background": "light"
     },
     "output_type": "display_data"
    }
   ],
   "source": [
    "# ANSWER\n",
    "bar_charts(titanic, 'Sex')"
   ]
  },
  {
   "cell_type": "markdown",
   "metadata": {
    "colab_type": "text",
    "id": "xGlcY9f2VQRc"
   },
   "source": [
    "## Parch\n",
    "\n",
    "Parch = Number of parents of children travelling with each passenger."
   ]
  },
  {
   "cell_type": "code",
   "execution_count": 31,
   "metadata": {
    "ExecuteTime": {
     "end_time": "2019-09-30T03:03:43.588783Z",
     "start_time": "2019-09-30T03:03:43.584794Z"
    },
    "colab": {},
    "colab_type": "code",
    "id": "ZvGfci3vVQRd"
   },
   "outputs": [
    {
     "data": {
      "image/png": "[encoded data removed]",
      "text/plain": [
       "<Figure size 1080x432 with 1 Axes>"
      ]
     },
     "metadata": {
      "needs_background": "light"
     },
     "output_type": "display_data"
    }
   ],
   "source": [
    "# ANSWER\n",
    "bar_charts(titanic, 'Parch')"
   ]
  },
  {
   "cell_type": "markdown",
   "metadata": {
    "colab_type": "text",
    "id": "hjI-7kutVQRh"
   },
   "source": [
    "## SibSp"
   ]
  },
  {
   "cell_type": "code",
   "execution_count": 32,
   "metadata": {},
   "outputs": [
    {
     "data": {
      "image/png": "[encoded data removed]",
      "text/plain": [
       "<Figure size 1080x432 with 1 Axes>"
      ]
     },
     "metadata": {
      "needs_background": "light"
     },
     "output_type": "display_data"
    }
   ],
   "source": [
    "bar_charts(titanic, 'SibSp')"
   ]
  },
  {
   "cell_type": "markdown",
   "metadata": {
    "colab_type": "text",
    "id": "Fq63WZRaVQRi"
   },
   "source": [
    "## Embarked"
   ]
  },
  {
   "cell_type": "code",
   "execution_count": 33,
   "metadata": {},
   "outputs": [
    {
     "data": {
      "image/png": "[encoded data removed]",
      "text/plain": [
       "<Figure size 1080x432 with 1 Axes>"
      ]
     },
     "metadata": {
      "needs_background": "light"
     },
     "output_type": "display_data"
    }
   ],
   "source": [
    "bar_charts(titanic, 'Embarked')"
   ]
  },
  {
   "cell_type": "markdown",
   "metadata": {
    "colab_type": "text",
    "id": "clJS-gHBVQRk"
   },
   "source": [
    "# Feature Engineering\n",
    "\n",
    "Create some new features from existing feature."
   ]
  },
  {
   "cell_type": "markdown",
   "metadata": {
    "colab_type": "text",
    "id": "EsyXiJDJVQRl"
   },
   "source": [
    "## Fare Class\n",
    "\n",
    "Create a new class based on their fare. Is there any relationship between fare and survival? "
   ]
  },
  {
   "cell_type": "code",
   "execution_count": 37,
   "metadata": {
    "colab": {},
    "colab_type": "code",
    "id": "snFAHJadVQRl"
   },
   "outputs": [],
   "source": [
    "def create_fare_class(x):\n",
    "    if x > 30:\n",
    "        fare_class = 1\n",
    "    elif x > 20 and x <= 30:\n",
    "        fare_class = 2\n",
    "    elif x > 10 and x <= 20:\n",
    "        fare_class = 3\n",
    "    else:\n",
    "        fare_class = 4\n",
    "    return fare_class"
   ]
  },
  {
   "cell_type": "code",
   "execution_count": 44,
   "metadata": {
    "ExecuteTime": {
     "end_time": "2019-09-30T03:05:50.199011Z",
     "start_time": "2019-09-30T03:05:50.195015Z"
    },
    "colab": {},
    "colab_type": "code",
    "id": "LLGlreIuVQRn"
   },
   "outputs": [
    {
     "name": "stdout",
     "output_type": "stream",
     "text": [
      "     PassengerId  Survived  Pclass  \\\n",
      "0              1         0       3   \n",
      "1              2         1       1   \n",
      "2              3         1       3   \n",
      "3              4         1       1   \n",
      "4              5         0       3   \n",
      "..           ...       ...     ...   \n",
      "886          887         0       2   \n",
      "887          888         1       1   \n",
      "888          889         0       3   \n",
      "889          890         1       1   \n",
      "890          891         0       3   \n",
      "\n",
      "                                                  Name     Sex        Age  \\\n",
      "0                              Braund, Mr. Owen Harris    male  22.000000   \n",
      "1    Cumings, Mrs. John Bradley (Florence Briggs Th...  female  38.000000   \n",
      "2                               Heikkinen, Miss. Laina  female  26.000000   \n",
      "3         Futrelle, Mrs. Jacques Heath (Lily May Peel)  female  35.000000   \n",
      "4                             Allen, Mr. William Henry    male  35.000000   \n",
      "..                                                 ...     ...        ...   \n",
      "886                              Montvila, Rev. Juozas    male  27.000000   \n",
      "887                       Graham, Miss. Margaret Edith  female  19.000000   \n",
      "888           Johnston, Miss. Catherine Helen \"Carrie\"  female  29.699118   \n",
      "889                              Behr, Mr. Karl Howell    male  26.000000   \n",
      "890                                Dooley, Mr. Patrick    male  32.000000   \n",
      "\n",
      "     SibSp  Parch            Ticket     Fare    Cabin Embarked  fc  \n",
      "0        1      0         A/5 21171   7.2500  Unknown        S   4  \n",
      "1        1      0          PC 17599  71.2833      C85        C   1  \n",
      "2        0      0  STON/O2. 3101282   7.9250  Unknown        S   4  \n",
      "3        1      0            113803  53.1000     C123        S   1  \n",
      "4        0      0            373450   8.0500  Unknown        S   4  \n",
      "..     ...    ...               ...      ...      ...      ...  ..  \n",
      "886      0      0            211536  13.0000  Unknown        S   3  \n",
      "887      0      0            112053  30.0000      B42        S   2  \n",
      "888      1      2        W./C. 6607  23.4500  Unknown        S   2  \n",
      "889      0      0            111369  30.0000     C148        C   2  \n",
      "890      0      0            370376   7.7500  Unknown        Q   4  \n",
      "\n",
      "[891 rows x 13 columns]\n"
     ]
    },
    {
     "data": {
      "image/png": "[encoded data removed]",
      "text/plain": [
       "<Figure size 1080x432 with 1 Axes>"
      ]
     },
     "metadata": {
      "needs_background": "light"
     },
     "output_type": "display_data"
    }
   ],
   "source": [
    "# ANSWER\n",
    "titanic['fc'] = titanic['Fare'].apply(create_fare_class)\n",
    "print(titanic)\n",
    "bar_charts(titanic, 'fc')"
   ]
  },
  {
   "cell_type": "markdown",
   "metadata": {
    "colab_type": "text",
    "id": "Xb6Rdtw9VQRp"
   },
   "source": [
    "## Age Class"
   ]
  },
  {
   "cell_type": "code",
   "execution_count": 48,
   "metadata": {
    "ExecuteTime": {
     "end_time": "2019-09-30T03:18:04.132415Z",
     "start_time": "2019-09-30T03:18:04.128391Z"
    },
    "colab": {},
    "colab_type": "code",
    "id": "2uBfHL0bVQRp"
   },
   "outputs": [],
   "source": [
    "# ANSWER"
   ]
  },
  {
   "cell_type": "code",
   "execution_count": 45,
   "metadata": {
    "colab": {},
    "colab_type": "code",
    "id": "irdrZGC0VQRs"
   },
   "outputs": [],
   "source": [
    "def create_age_class(x):\n",
    "    if x > 60:\n",
    "        age_class = 5\n",
    "    elif x > 35 and x <= 60:\n",
    "        age_class = 4\n",
    "    elif x > 25 and x <= 35:\n",
    "        age_class = 3\n",
    "    elif x > 16 and x <= 25:\n",
    "        age_class = 2\n",
    "    else:\n",
    "        age_class = 1\n",
    "    return age_class"
   ]
  },
  {
   "cell_type": "code",
   "execution_count": 46,
   "metadata": {
    "ExecuteTime": {
     "end_time": "2019-09-30T03:18:13.115637Z",
     "start_time": "2019-09-30T03:18:13.112646Z"
    },
    "colab": {},
    "colab_type": "code",
    "id": "nSysIPDYVQRu"
   },
   "outputs": [
    {
     "name": "stdout",
     "output_type": "stream",
     "text": [
      "     PassengerId  Survived  Pclass  \\\n",
      "0              1         0       3   \n",
      "1              2         1       1   \n",
      "2              3         1       3   \n",
      "3              4         1       1   \n",
      "4              5         0       3   \n",
      "..           ...       ...     ...   \n",
      "886          887         0       2   \n",
      "887          888         1       1   \n",
      "888          889         0       3   \n",
      "889          890         1       1   \n",
      "890          891         0       3   \n",
      "\n",
      "                                                  Name     Sex        Age  \\\n",
      "0                              Braund, Mr. Owen Harris    male  22.000000   \n",
      "1    Cumings, Mrs. John Bradley (Florence Briggs Th...  female  38.000000   \n",
      "2                               Heikkinen, Miss. Laina  female  26.000000   \n",
      "3         Futrelle, Mrs. Jacques Heath (Lily May Peel)  female  35.000000   \n",
      "4                             Allen, Mr. William Henry    male  35.000000   \n",
      "..                                                 ...     ...        ...   \n",
      "886                              Montvila, Rev. Juozas    male  27.000000   \n",
      "887                       Graham, Miss. Margaret Edith  female  19.000000   \n",
      "888           Johnston, Miss. Catherine Helen \"Carrie\"  female  29.699118   \n",
      "889                              Behr, Mr. Karl Howell    male  26.000000   \n",
      "890                                Dooley, Mr. Patrick    male  32.000000   \n",
      "\n",
      "     SibSp  Parch            Ticket     Fare    Cabin Embarked  fc  ac  \n",
      "0        1      0         A/5 21171   7.2500  Unknown        S   4   2  \n",
      "1        1      0          PC 17599  71.2833      C85        C   1   4  \n",
      "2        0      0  STON/O2. 3101282   7.9250  Unknown        S   4   3  \n",
      "3        1      0            113803  53.1000     C123        S   1   3  \n",
      "4        0      0            373450   8.0500  Unknown        S   4   3  \n",
      "..     ...    ...               ...      ...      ...      ...  ..  ..  \n",
      "886      0      0            211536  13.0000  Unknown        S   3   3  \n",
      "887      0      0            112053  30.0000      B42        S   2   2  \n",
      "888      1      2        W./C. 6607  23.4500  Unknown        S   2   3  \n",
      "889      0      0            111369  30.0000     C148        C   2   3  \n",
      "890      0      0            370376   7.7500  Unknown        Q   4   3  \n",
      "\n",
      "[891 rows x 14 columns]\n"
     ]
    },
    {
     "data": {
      "image/png": "[encoded data removed]",
      "text/plain": [
       "<Figure size 1080x432 with 1 Axes>"
      ]
     },
     "metadata": {
      "needs_background": "light"
     },
     "output_type": "display_data"
    }
   ],
   "source": [
    "# ANSWER\n",
    "titanic['ac'] = titanic['Age'].apply(create_age_class)\n",
    "print(titanic)\n",
    "bar_charts(titanic, 'ac')"
   ]
  },
  {
   "cell_type": "markdown",
   "metadata": {
    "colab_type": "text",
    "id": "bHzvfjfAVQRv"
   },
   "source": [
    "# Staistical Overview"
   ]
  },
  {
   "cell_type": "markdown",
   "metadata": {
    "colab_type": "text",
    "id": "FEwE4HgHVQRw"
   },
   "source": [
    "## Correlation\n",
    "\n",
    "Find correlation between `survived` and other features."
   ]
  },
  {
   "cell_type": "code",
   "execution_count": 47,
   "metadata": {
    "colab": {},
    "colab_type": "code",
    "id": "rdx8aVFNVQRw",
    "outputId": "82c9c672-79e2-4640-ad50-ab64c639eacf"
   },
   "outputs": [
    {
     "data": {
      "text/html": [
       "<div>\n",
       "<style scoped>\n",
       "    .dataframe tbody tr th:only-of-type {\n",
       "        vertical-align: middle;\n",
       "    }\n",
       "\n",
       "    .dataframe tbody tr th {\n",
       "        vertical-align: top;\n",
       "    }\n",
       "\n",
       "    .dataframe thead th {\n",
       "        text-align: right;\n",
       "    }\n",
       "</style>\n",
       "<table border=\"1\" class=\"dataframe\">\n",
       "  <thead>\n",
       "    <tr style=\"text-align: right;\">\n",
       "      <th></th>\n",
       "      <th>PassengerId</th>\n",
       "      <th>Survived</th>\n",
       "      <th>Pclass</th>\n",
       "      <th>Age</th>\n",
       "      <th>SibSp</th>\n",
       "      <th>Parch</th>\n",
       "      <th>Fare</th>\n",
       "      <th>fc</th>\n",
       "      <th>ac</th>\n",
       "    </tr>\n",
       "  </thead>\n",
       "  <tbody>\n",
       "    <tr>\n",
       "      <th>PassengerId</th>\n",
       "      <td>1.000000</td>\n",
       "      <td>-0.005007</td>\n",
       "      <td>-0.035144</td>\n",
       "      <td>0.033207</td>\n",
       "      <td>-0.057527</td>\n",
       "      <td>-0.001652</td>\n",
       "      <td>0.012658</td>\n",
       "      <td>0.003258</td>\n",
       "      <td>0.026653</td>\n",
       "    </tr>\n",
       "    <tr>\n",
       "      <th>Survived</th>\n",
       "      <td>-0.005007</td>\n",
       "      <td>1.000000</td>\n",
       "      <td>-0.338481</td>\n",
       "      <td>-0.069809</td>\n",
       "      <td>-0.035322</td>\n",
       "      <td>0.081629</td>\n",
       "      <td>0.257307</td>\n",
       "      <td>-0.307600</td>\n",
       "      <td>-0.067911</td>\n",
       "    </tr>\n",
       "    <tr>\n",
       "      <th>Pclass</th>\n",
       "      <td>-0.035144</td>\n",
       "      <td>-0.338481</td>\n",
       "      <td>1.000000</td>\n",
       "      <td>-0.331339</td>\n",
       "      <td>0.083081</td>\n",
       "      <td>0.018443</td>\n",
       "      <td>-0.549500</td>\n",
       "      <td>0.719670</td>\n",
       "      <td>-0.292128</td>\n",
       "    </tr>\n",
       "    <tr>\n",
       "      <th>Age</th>\n",
       "      <td>0.033207</td>\n",
       "      <td>-0.069809</td>\n",
       "      <td>-0.331339</td>\n",
       "      <td>1.000000</td>\n",
       "      <td>-0.232625</td>\n",
       "      <td>-0.179191</td>\n",
       "      <td>0.091566</td>\n",
       "      <td>-0.108947</td>\n",
       "      <td>0.933632</td>\n",
       "    </tr>\n",
       "    <tr>\n",
       "      <th>SibSp</th>\n",
       "      <td>-0.057527</td>\n",
       "      <td>-0.035322</td>\n",
       "      <td>0.083081</td>\n",
       "      <td>-0.232625</td>\n",
       "      <td>1.000000</td>\n",
       "      <td>0.414838</td>\n",
       "      <td>0.159651</td>\n",
       "      <td>-0.380692</td>\n",
       "      <td>-0.232166</td>\n",
       "    </tr>\n",
       "    <tr>\n",
       "      <th>Parch</th>\n",
       "      <td>-0.001652</td>\n",
       "      <td>0.081629</td>\n",
       "      <td>0.018443</td>\n",
       "      <td>-0.179191</td>\n",
       "      <td>0.414838</td>\n",
       "      <td>1.000000</td>\n",
       "      <td>0.216225</td>\n",
       "      <td>-0.387100</td>\n",
       "      <td>-0.168121</td>\n",
       "    </tr>\n",
       "    <tr>\n",
       "      <th>Fare</th>\n",
       "      <td>0.012658</td>\n",
       "      <td>0.257307</td>\n",
       "      <td>-0.549500</td>\n",
       "      <td>0.091566</td>\n",
       "      <td>0.159651</td>\n",
       "      <td>0.216225</td>\n",
       "      <td>1.000000</td>\n",
       "      <td>-0.599129</td>\n",
       "      <td>0.075551</td>\n",
       "    </tr>\n",
       "    <tr>\n",
       "      <th>fc</th>\n",
       "      <td>0.003258</td>\n",
       "      <td>-0.307600</td>\n",
       "      <td>0.719670</td>\n",
       "      <td>-0.108947</td>\n",
       "      <td>-0.380692</td>\n",
       "      <td>-0.387100</td>\n",
       "      <td>-0.599129</td>\n",
       "      <td>1.000000</td>\n",
       "      <td>-0.080506</td>\n",
       "    </tr>\n",
       "    <tr>\n",
       "      <th>ac</th>\n",
       "      <td>0.026653</td>\n",
       "      <td>-0.067911</td>\n",
       "      <td>-0.292128</td>\n",
       "      <td>0.933632</td>\n",
       "      <td>-0.232166</td>\n",
       "      <td>-0.168121</td>\n",
       "      <td>0.075551</td>\n",
       "      <td>-0.080506</td>\n",
       "      <td>1.000000</td>\n",
       "    </tr>\n",
       "  </tbody>\n",
       "</table>\n",
       "</div>"
      ],
      "text/plain": [
       "             PassengerId  Survived    Pclass       Age     SibSp     Parch  \\\n",
       "PassengerId     1.000000 -0.005007 -0.035144  0.033207 -0.057527 -0.001652   \n",
       "Survived       -0.005007  1.000000 -0.338481 -0.069809 -0.035322  0.081629   \n",
       "Pclass         -0.035144 -0.338481  1.000000 -0.331339  0.083081  0.018443   \n",
       "Age             0.033207 -0.069809 -0.331339  1.000000 -0.232625 -0.179191   \n",
       "SibSp          -0.057527 -0.035322  0.083081 -0.232625  1.000000  0.414838   \n",
       "Parch          -0.001652  0.081629  0.018443 -0.179191  0.414838  1.000000   \n",
       "Fare            0.012658  0.257307 -0.549500  0.091566  0.159651  0.216225   \n",
       "fc              0.003258 -0.307600  0.719670 -0.108947 -0.380692 -0.387100   \n",
       "ac              0.026653 -0.067911 -0.292128  0.933632 -0.232166 -0.168121   \n",
       "\n",
       "                 Fare        fc        ac  \n",
       "PassengerId  0.012658  0.003258  0.026653  \n",
       "Survived     0.257307 -0.307600 -0.067911  \n",
       "Pclass      -0.549500  0.719670 -0.292128  \n",
       "Age          0.091566 -0.108947  0.933632  \n",
       "SibSp        0.159651 -0.380692 -0.232166  \n",
       "Parch        0.216225 -0.387100 -0.168121  \n",
       "Fare         1.000000 -0.599129  0.075551  \n",
       "fc          -0.599129  1.000000 -0.080506  \n",
       "ac           0.075551 -0.080506  1.000000  "
      ]
     },
     "execution_count": 47,
     "metadata": {},
     "output_type": "execute_result"
    }
   ],
   "source": [
    "titanic.corr()"
   ]
  },
  {
   "cell_type": "markdown",
   "metadata": {
    "colab_type": "text",
    "id": "MRocCdj0VQRy"
   },
   "source": [
    "# [BONUS] Hypothesis Testing\n",
    "---\n",
    "Hypothesis testing is the use of statistics to determine the probability that a given hypothesis is true. The usual process of hypothesis testing consists of four steps.\n",
    "\n",
    "1. Formulate the null hypothesis H_0 (commonly, that the observations are the result of pure chance) and the alternative hypothesis H_a (commonly, that the observations show a real effect combined with a component of chance variation).\n",
    "\n",
    "2. Identify a test statistic that can be used to assess the truth of the null hypothesis.\n",
    "\n",
    "3. Compute the P-value, which is the probability that a test statistic at least as significant as the one observed would be obtained assuming that the null hypothesis were true. The smaller the P-value, the stronger the evidence against the null hypothesis.\n",
    "\n",
    "4. Compare the p-value to an acceptable significance value  alpha (sometimes called an alpha value). If p<=alpha, that the observed effect is statistically significant, the null hypothesis is ruled out, and the alternative hypothesis is valid."
   ]
  },
  {
   "cell_type": "markdown",
   "metadata": {
    "colab_type": "text",
    "id": "mSyZDV_KVQRz"
   },
   "source": [
    "### Define Hypothesis\n",
    "\n",
    "> Formulate the null hypothesis H_0 (commonly, that the observations are the result of pure chance) and the alternative hypothesis H_a (commonly, that the observations show a real effect combined with a component of chance variation).\n",
    "\n",
    "    Null Hypothesis (H0): There is no difference in the survival rate between the young and old passengers.\n",
    "\n",
    "    Alternative Hypothesis (HA): There is a difference in the survival rate between the young and old passengers."
   ]
  },
  {
   "cell_type": "markdown",
   "metadata": {
    "colab_type": "text",
    "id": "4F4R2cPoVQR0"
   },
   "source": [
    "### Collect Data\n",
    "\n",
    "Next step is to collect data for each population group. \n",
    "\n",
    "Collect two sets of data, one with the passenger greater than 35 years of age and another one with the passenger younger than 35. The sample size should ideally be the same but it can be different. Lets say that the sample sizes is 100."
   ]
  },
  {
   "cell_type": "code",
   "execution_count": 130,
   "metadata": {
    "ExecuteTime": {
     "end_time": "2019-09-30T03:15:52.694018Z",
     "start_time": "2019-09-30T03:15:52.689032Z"
    },
    "colab": {},
    "colab_type": "code",
    "id": "N1e4bUIcVQR1"
   },
   "outputs": [
    {
     "name": "stdout",
     "output_type": "stream",
     "text": [
      "PassengerId      int64\n",
      "Survived         int64\n",
      "Pclass           int64\n",
      "Name            object\n",
      "Sex             object\n",
      "Age            float64\n",
      "SibSp            int64\n",
      "Parch            int64\n",
      "Ticket          object\n",
      "Fare           float64\n",
      "Cabin           object\n",
      "Embarked        object\n",
      "fc               int64\n",
      "ac               int64\n",
      "dtype: object\n",
      "       PassengerId    Survived      Pclass         Age       SibSp  \\\n",
      "count   656.000000  656.000000  656.000000  656.000000  656.000000   \n",
      "mean    442.842988    0.378049    2.486280   23.837521    0.588415   \n",
      "std     260.794209    0.485270    0.751463    8.231312    1.241073   \n",
      "min       1.000000    0.000000    1.000000    0.420000    0.000000   \n",
      "25%     214.750000    0.000000    2.000000   19.750000    0.000000   \n",
      "50%     433.000000    0.000000    3.000000   27.000000    0.000000   \n",
      "75%     674.250000    1.000000    3.000000   29.699118    1.000000   \n",
      "max     891.000000    1.000000    3.000000   34.500000    8.000000   \n",
      "\n",
      "            Parch        Fare          fc          ac  \n",
      "count  656.000000  656.000000  656.000000  656.000000  \n",
      "mean     0.362805   26.746226    2.865854    2.388720  \n",
      "std      0.702941   38.807422    1.190417    0.737104  \n",
      "min      0.000000    0.000000    1.000000    1.000000  \n",
      "25%      0.000000    7.895800    2.000000    2.000000  \n",
      "50%      0.000000   13.000000    3.000000    3.000000  \n",
      "75%      0.000000   26.662500    4.000000    3.000000  \n",
      "max      4.000000  263.000000    4.000000    3.000000  \n",
      "       PassengerId    Survived      Pclass         Age       SibSp  \\\n",
      "count   217.000000  217.000000  217.000000  217.000000  217.000000   \n",
      "mean    458.304147    0.382488    1.811060   46.979263    0.345622   \n",
      "std     245.874459    0.487119    0.858653    9.188272    0.522983   \n",
      "min       2.000000    0.000000    1.000000   36.000000    0.000000   \n",
      "25%     253.000000    0.000000    1.000000   40.000000    0.000000   \n",
      "50%     472.000000    0.000000    2.000000   45.000000    0.000000   \n",
      "75%     662.000000    1.000000    3.000000   52.000000    1.000000   \n",
      "max     886.000000    1.000000    3.000000   80.000000    2.000000   \n",
      "\n",
      "            Parch        Fare          fc          ac  \n",
      "count  217.000000  217.000000  217.000000  217.000000  \n",
      "mean     0.465438   43.966821    2.207373    4.101382  \n",
      "std      1.075809   56.083306    1.177859    0.302532  \n",
      "min      0.000000    0.000000    1.000000    4.000000  \n",
      "25%      0.000000   12.525000    1.000000    4.000000  \n",
      "50%      0.000000   26.387500    2.000000    4.000000  \n",
      "75%      0.000000   55.900000    3.000000    4.000000  \n",
      "max      6.000000  512.329200    4.000000    5.000000  \n"
     ]
    }
   ],
   "source": [
    "# ANSWER\n",
    "print(titanic.dtypes)\n",
    "\n",
    "#younger = titanic[(titanic.Age < 35) & (titanic.Survived == 1)]\n",
    "younger = titanic[(titanic.Age < 35)]\n",
    "samp_younger = np.random.choice(younger['Age'], size=100)\n",
    "#print(younger)\n",
    "print(younger.describe())\n",
    "\n",
    "#older = titanic[(titanic.Age > 35) & (titanic.Survived == 1)]\n",
    "older = titanic[(titanic.Age > 35)]\n",
    "samp_older = np.random.choice(older['Age'], size=100)\n",
    "#print(older)\n",
    "print(older.describe())"
   ]
  },
  {
   "cell_type": "markdown",
   "metadata": {
    "colab_type": "text",
    "id": "bhRfTi_PVQR4"
   },
   "source": [
    "### Set alpha (Let alpha = 0.05)\n",
    "\n",
    "> Identify a test statistic that can be used to assess the truth of the null hypothesis."
   ]
  },
  {
   "cell_type": "code",
   "execution_count": 104,
   "metadata": {
    "ExecuteTime": {
     "end_time": "2019-09-30T03:16:00.572626Z",
     "start_time": "2019-09-30T03:16:00.568636Z"
    },
    "colab": {},
    "colab_type": "code",
    "id": "8-y-fmZIVQR5"
   },
   "outputs": [],
   "source": [
    "# ANSWER\n",
    "alpha = 0.05"
   ]
  },
  {
   "cell_type": "markdown",
   "metadata": {
    "colab_type": "text",
    "id": "kwRxiB2ZVQR7"
   },
   "source": [
    "### Calculate point estimate"
   ]
  },
  {
   "cell_type": "code",
   "execution_count": 105,
   "metadata": {
    "colab": {},
    "colab_type": "code",
    "id": "pLBXpOF3VQR8"
   },
   "outputs": [],
   "source": [
    "a = younger['Survived']\n",
    "b = older['Survived']"
   ]
  },
  {
   "cell_type": "code",
   "execution_count": 117,
   "metadata": {
    "colab": {},
    "colab_type": "code",
    "id": "QU-4N9mTVQR_"
   },
   "outputs": [
    {
     "name": "stdout",
     "output_type": "stream",
     "text": [
      "0.235486873952709 0.23728451954258403\n",
      "0.48619512209363697\n"
     ]
    }
   ],
   "source": [
    "## Calculate the variance to get the standard deviation\n",
    "var_a = a.var()\n",
    "var_b = b.var()\n",
    "print(var_a,var_b)\n",
    "\n",
    "## Calculate the Standard Deviation\n",
    "s = np.sqrt((var_a + var_b)/2)\n",
    "print(s)"
   ]
  },
  {
   "cell_type": "markdown",
   "metadata": {
    "colab_type": "text",
    "id": "-jEn1ds-VQSA"
   },
   "source": [
    "### Calculate test statistic"
   ]
  },
  {
   "cell_type": "code",
   "execution_count": 118,
   "metadata": {
    "colab": {},
    "colab_type": "code",
    "id": "s3SxkRBGVQSB"
   },
   "outputs": [
    {
     "name": "stdout",
     "output_type": "stream",
     "text": [
      "-445.79560182646304\n"
     ]
    }
   ],
   "source": [
    "## Calculate the t-statistics\n",
    "N = 200\n",
    "t = (samp_younger.mean() - samp_older.mean())/(s*np.sqrt(2/N))\n",
    "print(t)"
   ]
  },
  {
   "cell_type": "markdown",
   "metadata": {
    "colab_type": "text",
    "id": "w0c8ZzCUVQSC"
   },
   "source": [
    "### Find the p-value\n",
    "\n",
    "> Compute the P-value, which is the probability that a test statistic at least as significant as the one observed would be obtained assuming that the null hypothesis were true. The smaller the P-value, the stronger the evidence against the null hypothesis."
   ]
  },
  {
   "cell_type": "code",
   "execution_count": 119,
   "metadata": {
    "colab": {},
    "colab_type": "code",
    "id": "eaW2hoF2VQSE"
   },
   "outputs": [],
   "source": [
    "import scipy.stats as stats\n",
    "## Compare with the critical t-value\n",
    "## Degrees of freedom\n",
    "df = 2*N - 2\n",
    "\n",
    "#p-value after comparison with the t \n",
    "p = 1 - stats.t.cdf(t,df=df)"
   ]
  },
  {
   "cell_type": "code",
   "execution_count": 120,
   "metadata": {
    "colab": {},
    "colab_type": "code",
    "id": "YZsL2DI6VQSG",
    "outputId": "ea730196-3e4c-45f8-c74b-c87851cfad25"
   },
   "outputs": [
    {
     "name": "stdout",
     "output_type": "stream",
     "text": [
      "t = -445.79560182646304\n",
      "p = 2.0\n"
     ]
    }
   ],
   "source": [
    "print(\"t = \" + str(t))\n",
    "print(\"p = \" + str(2*p))"
   ]
  },
  {
   "cell_type": "markdown",
   "metadata": {
    "colab_type": "text",
    "id": "zYAt-GyOVQSK"
   },
   "source": [
    "### Interpret results\n",
    "\n",
    "> Compare the p-value to an acceptable significance value  alpha (sometimes called an alpha value). If p<=alpha, that the observed effect is statistically significant, the null hypothesis is ruled out, and the alternative hypothesis is valid."
   ]
  },
  {
   "cell_type": "code",
   "execution_count": 121,
   "metadata": {
    "colab": {},
    "colab_type": "code",
    "id": "9a_HkzglVQSK"
   },
   "outputs": [],
   "source": [
    "def print_sig(p_value, alpha):\n",
    "    if p_value < alpha:\n",
    "        print(\"We reject our null hypothesis.\")\n",
    "    elif p_value > alpha:\n",
    "        print(\"We fail to reject our null hypothesis.\")\n",
    "    else:\n",
    "        print(\"Our test is inconclusive.\")"
   ]
  },
  {
   "cell_type": "code",
   "execution_count": 122,
   "metadata": {
    "colab": {},
    "colab_type": "code",
    "id": "j2QHMBE6VQSM",
    "outputId": "28e3546f-edb7-4ab6-e5f2-adf39fbbfe6f"
   },
   "outputs": [
    {
     "name": "stdout",
     "output_type": "stream",
     "text": [
      "t = -0.11671700242019256\n",
      "p = 0.9071112225160882\n",
      "We fail to reject our null hypothesis.\n"
     ]
    }
   ],
   "source": [
    "## Cross Checking with the internal scipy function\n",
    "t2, p2 = stats.ttest_ind(a,b)\n",
    "print(\"t = \" + str(t2))\n",
    "print(\"p = \" + str(p2))\n",
    "\n",
    "print_sig(p2, alpha)"
   ]
  },
  {
   "cell_type": "markdown",
   "metadata": {
    "colab_type": "text",
    "id": "HdJ9hO0Emlfq"
   },
   "source": [
    "\n",
    "\n",
    "---\n",
    "\n",
    "\n",
    "\n",
    "---\n",
    "\n",
    "\n",
    "\n",
    "> > > > > > > > > © 2019 Institute of Data\n",
    "\n",
    "\n",
    "---\n",
    "\n",
    "\n",
    "\n",
    "---\n",
    "\n",
    "\n",
    "\n"
   ]
  }
 ],
 "metadata": {
  "colab": {
   "collapsed_sections": [
    "z9w1AEp_VQRJ",
    "k-xDz63vVQRM",
    "YswR0xl1VQRO",
    "mSyZDV_KVQRz",
    "4F4R2cPoVQR0",
    "bhRfTi_PVQR4",
    "kwRxiB2ZVQR7",
    "-jEn1ds-VQSA",
    "w0c8ZzCUVQSC"
   ],
   "name": "DSIA Lab 3.2.1.ipynb",
   "provenance": []
  },
  "kernelspec": {
   "display_name": "Python 3",
   "language": "python",
   "name": "python3"
  },
  "language_info": {
   "codemirror_mode": {
    "name": "ipython",
    "version": 3
   },
   "file_extension": ".py",
   "mimetype": "text/x-python",
   "name": "python",
   "nbconvert_exporter": "python",
   "pygments_lexer": "ipython3",
   "version": "3.7.7"
  },
  "varInspector": {
   "cols": {
    "lenName": 16,
    "lenType": 16,
    "lenVar": 40
   },
   "kernels_config": {
    "python": {
     "delete_cmd_postfix": "",
     "delete_cmd_prefix": "del ",
     "library": "var_list.py",
     "varRefreshCmd": "print(var_dic_list())"
    },
    "r": {
     "delete_cmd_postfix": ") ",
     "delete_cmd_prefix": "rm(",
     "library": "var_list.r",
     "varRefreshCmd": "cat(var_dic_list()) "
    }
   },
   "types_to_exclude": [
    "module",
    "function",
    "builtin_function_or_method",
    "instance",
    "_Feature"
   ],
   "window_display": false
  }
 },
 "nbformat": 4,
 "nbformat_minor": 1
}
