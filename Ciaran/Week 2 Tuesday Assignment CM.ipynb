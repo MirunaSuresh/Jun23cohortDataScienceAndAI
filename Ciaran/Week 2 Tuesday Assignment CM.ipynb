{
 "cells": [
  {
   "cell_type": "markdown",
   "metadata": {},
   "source": [
    "# Question 1"
   ]
  },
  {
   "cell_type": "code",
   "execution_count": 18,
   "metadata": {},
   "outputs": [],
   "source": [
    "import numpy as np\n",
    "import pandas as pd\n"
   ]
  },
  {
   "cell_type": "code",
   "execution_count": 10,
   "metadata": {},
   "outputs": [],
   "source": [
    "df = pd.read_csv('C:\\\\Users\\\\wibby\\\\Documents\\\\Work\\\\Data Science\\\\Datasets\\\\Meteorite_Landings.csv')"
   ]
  },
  {
   "cell_type": "markdown",
   "metadata": {},
   "source": [
    "# Question 2"
   ]
  },
  {
   "cell_type": "code",
   "execution_count": 11,
   "metadata": {},
   "outputs": [
    {
     "name": "stdout",
     "output_type": "stream",
     "text": [
      "       name   id nametype     recclass  mass (g)  fall  \\\n",
      "0    Aachen    1    Valid           L5      21.0  Fell   \n",
      "1    Aarhus    2    Valid           H6     720.0  Fell   \n",
      "2      Abee    6    Valid          EH4  107000.0  Fell   \n",
      "3  Acapulco   10    Valid  Acapulcoite    1914.0  Fell   \n",
      "4   Achiras  370    Valid           L6     780.0  Fell   \n",
      "\n",
      "                     year    reclat    reclong               GeoLocation  \n",
      "0  01/01/1880 12:00:00 AM  50.77500    6.08333     (50.775000, 6.083330)  \n",
      "1  01/01/1951 12:00:00 AM  56.18333   10.23333    (56.183330, 10.233330)  \n",
      "2  01/01/1952 12:00:00 AM  54.21667 -113.00000  (54.216670, -113.000000)  \n",
      "3  01/01/1976 12:00:00 AM  16.88333  -99.90000   (16.883330, -99.900000)  \n",
      "4  01/01/1902 12:00:00 AM -33.16667  -64.95000  (-33.166670, -64.950000)  \n"
     ]
    }
   ],
   "source": [
    "print(df.head())"
   ]
  },
  {
   "cell_type": "code",
   "execution_count": 12,
   "metadata": {},
   "outputs": [
    {
     "name": "stdout",
     "output_type": "stream",
     "text": [
      "             name     id nametype              recclass  mass (g)   fall  \\\n",
      "45711  Zillah 002  31356    Valid               Eucrite     172.0  Found   \n",
      "45712      Zinder  30409    Valid  Pallasite, ungrouped      46.0  Found   \n",
      "45713        Zlin  30410    Valid                    H4       3.3  Found   \n",
      "45714   Zubkovsky  31357    Valid                    L6    2167.0  Found   \n",
      "45715  Zulu Queen  30414    Valid                  L3.7     200.0  Found   \n",
      "\n",
      "                         year    reclat    reclong               GeoLocation  \n",
      "45711  01/01/1990 12:00:00 AM  29.03700   17.01850    (29.037000, 17.018500)  \n",
      "45712  01/01/1999 12:00:00 AM  13.78333    8.96667     (13.783330, 8.966670)  \n",
      "45713  01/01/1939 12:00:00 AM  49.25000   17.66667    (49.250000, 17.666670)  \n",
      "45714  01/01/2003 12:00:00 AM  49.78917   41.50460    (49.789170, 41.504600)  \n",
      "45715  01/01/1976 12:00:00 AM  33.98333 -115.68333  (33.983330, -115.683330)  \n"
     ]
    }
   ],
   "source": [
    "print(df.tail())"
   ]
  },
  {
   "cell_type": "code",
   "execution_count": 15,
   "metadata": {},
   "outputs": [
    {
     "name": "stdout",
     "output_type": "stream",
     "text": [
      "(45716, 10)\n"
     ]
    }
   ],
   "source": [
    "df.shape"
   ]
  },
  {
   "cell_type": "code",
   "execution_count": 57,
   "metadata": {},
   "outputs": [
    {
     "name": "stdout",
     "output_type": "stream",
     "text": [
      "There are 45716 rows and 10 columns\n"
     ]
    }
   ],
   "source": [
    "#Easier format to read\n",
    "(x, y) = df.shape\n",
    "print(\"There are\", x, \"rows and\", y, \"columns\")"
   ]
  },
  {
   "cell_type": "markdown",
   "metadata": {},
   "source": [
    "# Question 3"
   ]
  },
  {
   "cell_type": "code",
   "execution_count": 31,
   "metadata": {},
   "outputs": [
    {
     "data": {
      "text/plain": [
       "13278.078548601488"
      ]
     },
     "execution_count": 31,
     "metadata": {},
     "output_type": "execute_result"
    }
   ],
   "source": [
    "np.mean(df['mass (g)'])"
   ]
  },
  {
   "cell_type": "markdown",
   "metadata": {},
   "source": [
    "# Question 4"
   ]
  },
  {
   "cell_type": "code",
   "execution_count": 32,
   "metadata": {},
   "outputs": [],
   "source": [
    "def data_shape(dataframe):\n",
    "    print(dataframe.shape)"
   ]
  },
  {
   "cell_type": "code",
   "execution_count": 33,
   "metadata": {},
   "outputs": [
    {
     "name": "stdout",
     "output_type": "stream",
     "text": [
      "(45716, 10)\n"
     ]
    }
   ],
   "source": [
    "#Check if function works\n",
    "data_shape(df)"
   ]
  },
  {
   "cell_type": "code",
   "execution_count": 78,
   "metadata": {},
   "outputs": [],
   "source": [
    "def data_shape2(dataframe):\n",
    "    x,y = dataframe.shape\n",
    "    print(\"There are\", x, \"rows and\", y, \"columns\")"
   ]
  },
  {
   "cell_type": "code",
   "execution_count": 79,
   "metadata": {},
   "outputs": [
    {
     "name": "stdout",
     "output_type": "stream",
     "text": [
      "There are 45716 rows and 10 columns\n"
     ]
    }
   ],
   "source": [
    "#Check if function works\n",
    "data_shape2(df)"
   ]
  },
  {
   "cell_type": "markdown",
   "metadata": {},
   "source": [
    "# Question 5"
   ]
  },
  {
   "cell_type": "code",
   "execution_count": 42,
   "metadata": {},
   "outputs": [],
   "source": [
    "def num_avg(dataframe, fieldname):\n",
    "    '''Returns the average of a numeric field, use quotes surrounding the fieldname'''\n",
    "    aver = np.mean(dataframe[fieldname])\n",
    "    return aver"
   ]
  },
  {
   "cell_type": "code",
   "execution_count": 50,
   "metadata": {},
   "outputs": [
    {
     "data": {
      "text/plain": [
       "13278.078548601488"
      ]
     },
     "execution_count": 50,
     "metadata": {},
     "output_type": "execute_result"
    }
   ],
   "source": [
    "num_avg(df, 'mass (g)')"
   ]
  },
  {
   "cell_type": "markdown",
   "metadata": {},
   "source": [
    "# Q5 with error handling"
   ]
  },
  {
   "cell_type": "code",
   "execution_count": 70,
   "metadata": {},
   "outputs": [],
   "source": [
    "#Add error handling to the function\n",
    "\n",
    "def num_avg2(dataframe, fieldname):\n",
    "    '''Returns the average of a numeric field, with error handling'''\n",
    "    try:\n",
    "        aver = np.mean(dataframe[fieldname])\n",
    "        return aver\n",
    "    except:\n",
    "        print('Field must be int or float')"
   ]
  },
  {
   "cell_type": "code",
   "execution_count": 75,
   "metadata": {},
   "outputs": [
    {
     "name": "stdout",
     "output_type": "stream",
     "text": [
      "Field must be int or float\n"
     ]
    }
   ],
   "source": [
    "num_avg2(df, 'name')"
   ]
  }
 ],
 "metadata": {
  "kernelspec": {
   "display_name": "Python 3",
   "language": "python",
   "name": "python3"
  },
  "language_info": {
   "codemirror_mode": {
    "name": "ipython",
    "version": 3
   },
   "file_extension": ".py",
   "mimetype": "text/x-python",
   "name": "python",
   "nbconvert_exporter": "python",
   "pygments_lexer": "ipython3",
   "version": "3.7.6"
  }
 },
 "nbformat": 4,
 "nbformat_minor": 4
}
