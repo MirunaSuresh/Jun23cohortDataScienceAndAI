{
 "cells": [
  {
   "cell_type": "code",
   "execution_count": null,
   "metadata": {},
   "outputs": [],
   "source": [
    "#DUE 02/07/2020\n",
    "#TASK01 - Import data of your domain into jupyter notebook \n"
   ]
  },
  {
   "cell_type": "code",
   "execution_count": 33,
   "metadata": {},
   "outputs": [],
   "source": [
    "import pandas as pd\n",
    "\n",
    "df = pd.read_csv(\"E:\\Python\\Source\\Import_and_export.csv\")"
   ]
  },
  {
   "cell_type": "code",
   "execution_count": 99,
   "metadata": {},
   "outputs": [],
   "source": [
    "# csv file is about Import and Export information"
   ]
  },
  {
   "cell_type": "code",
   "execution_count": 34,
   "metadata": {
    "collapsed": true
   },
   "outputs": [
    {
     "data": {
      "text/plain": [
       "<bound method NDFrame.describe of      Direction  Year        Date    Weekday Current_Match Country  \\\n",
       "0      Exports  2015  31/01/2015   Saturday    01/02/2020   China   \n",
       "1      Exports  2015  01/02/2015     Sunday    02/02/2020   China   \n",
       "2      Exports  2015  02/02/2015     Monday    03/02/2020   China   \n",
       "3      Exports  2015  03/02/2015    Tuesday    04/02/2020   China   \n",
       "4      Exports  2015  06/02/2015     Friday    07/02/2020   China   \n",
       "...        ...   ...         ...        ...           ...     ...   \n",
       "8128   Imports  2020  20/06/2020   Saturday    20/06/2020   China   \n",
       "8129   Imports  2020  21/06/2020     Sunday    21/06/2020   China   \n",
       "8130   Imports  2020  22/06/2020     Monday    22/06/2020   China   \n",
       "8131   Imports  2020  23/06/2020    Tuesday    23/06/2020   China   \n",
       "8132   Imports  2020  24/06/2020  Wednesday    24/06/2020   China   \n",
       "\n",
       "                      Commodity Transport_Mode Measure     Value  \n",
       "0                         Dairy            All       $  12000000  \n",
       "1                         Dairy            All       $   4000000  \n",
       "2                         Dairy            All       $  10000000  \n",
       "3                         Dairy            All       $   1000000  \n",
       "4                         Dairy            All       $   9000000  \n",
       "...                         ...            ...     ...       ...  \n",
       "8128  Machinery and electronics            All       $   1000000  \n",
       "8129  Machinery and electronics            All       $   3000000  \n",
       "8130  Machinery and electronics            All       $  19000000  \n",
       "8131  Machinery and electronics            All       $  19000000  \n",
       "8132  Machinery and electronics            All       $  15000000  \n",
       "\n",
       "[8133 rows x 10 columns]>"
      ]
     },
     "execution_count": 34,
     "metadata": {},
     "output_type": "execute_result"
    }
   ],
   "source": [
    "#TASK02 - Get data summary\n",
    "df.describe"
   ]
  },
  {
   "cell_type": "code",
   "execution_count": 43,
   "metadata": {},
   "outputs": [],
   "source": [
    "columns = df.columns\n",
    "index = df.index\n",
    "data = df.values"
   ]
  },
  {
   "cell_type": "code",
   "execution_count": 45,
   "metadata": {},
   "outputs": [
    {
     "data": {
      "text/plain": [
       "Index(['Direction', 'Year', 'Date', 'Weekday', 'Current_Match', 'Country',\n",
       "       'Commodity', 'Transport_Mode', 'Measure', 'Value'],\n",
       "      dtype='object')"
      ]
     },
     "execution_count": 45,
     "metadata": {},
     "output_type": "execute_result"
    }
   ],
   "source": [
    "columns"
   ]
  },
  {
   "cell_type": "code",
   "execution_count": 44,
   "metadata": {},
   "outputs": [
    {
     "data": {
      "text/plain": [
       "RangeIndex(start=0, stop=8133, step=1)"
      ]
     },
     "execution_count": 44,
     "metadata": {},
     "output_type": "execute_result"
    }
   ],
   "source": [
    "index"
   ]
  },
  {
   "cell_type": "code",
   "execution_count": 42,
   "metadata": {
    "scrolled": true
   },
   "outputs": [
    {
     "data": {
      "text/plain": [
       "array([['Exports', 2015, '31/01/2015', ..., 'All', '$', 12000000],\n",
       "       ['Exports', 2015, '01/02/2015', ..., 'All', '$', 4000000],\n",
       "       ['Exports', 2015, '02/02/2015', ..., 'All', '$', 10000000],\n",
       "       ...,\n",
       "       ['Imports', 2020, '22/06/2020', ..., 'All', '$', 19000000],\n",
       "       ['Imports', 2020, '23/06/2020', ..., 'All', '$', 19000000],\n",
       "       ['Imports', 2020, '24/06/2020', ..., 'All', '$', 15000000]],\n",
       "      dtype=object)"
      ]
     },
     "execution_count": 42,
     "metadata": {},
     "output_type": "execute_result"
    }
   ],
   "source": [
    "data"
   ]
  },
  {
   "cell_type": "code",
   "execution_count": null,
   "metadata": {},
   "outputs": [],
   "source": [
    "#TASK03 - Find average or min of one of the numeric columns"
   ]
  },
  {
   "cell_type": "code",
   "execution_count": 60,
   "metadata": {},
   "outputs": [
    {
     "name": "stdout",
     "output_type": "stream",
     "text": [
      "Maximum import/export - $ 83000000\n",
      "Minimum import/export - $ 1000\n",
      "Average import/export - $ 4338285.872371819\n"
     ]
    }
   ],
   "source": [
    "print(\"Maximum import/export - $\",max(df[\"Value\"]))\n",
    "print(\"Minimum import/export - $\",min(df[\"Value\"]))\n",
    "print(\"Average import/export - $\",df[\"Value\"].mean())"
   ]
  },
  {
   "cell_type": "code",
   "execution_count": 61,
   "metadata": {},
   "outputs": [
    {
     "data": {
      "text/plain": [
       "count    8.133000e+03\n",
       "mean     4.338286e+06\n",
       "std      6.615694e+06\n",
       "min      1.000000e+03\n",
       "25%      3.000000e+03\n",
       "50%      1.000000e+06\n",
       "75%      6.000000e+06\n",
       "max      8.300000e+07\n",
       "Name: Value, dtype: float64"
      ]
     },
     "execution_count": 61,
     "metadata": {},
     "output_type": "execute_result"
    }
   ],
   "source": [
    "df[\"Value\"].describe()"
   ]
  },
  {
   "cell_type": "code",
   "execution_count": null,
   "metadata": {},
   "outputs": [],
   "source": [
    "#TASK04 - Write a function to print the shape"
   ]
  },
  {
   "cell_type": "code",
   "execution_count": 94,
   "metadata": {},
   "outputs": [],
   "source": [
    "def getShape(dFrame):\n",
    "    print(\"Shape of DataFrame -\", dFrame.shape)"
   ]
  },
  {
   "cell_type": "code",
   "execution_count": 95,
   "metadata": {},
   "outputs": [
    {
     "name": "stdout",
     "output_type": "stream",
     "text": [
      "Shape of DataFrame - (8133, 10)\n"
     ]
    }
   ],
   "source": [
    "getShape(df)"
   ]
  },
  {
   "cell_type": "code",
   "execution_count": 96,
   "metadata": {},
   "outputs": [],
   "source": [
    "#TASK05 - Write a function to calculate average of numeric field"
   ]
  },
  {
   "cell_type": "code",
   "execution_count": 97,
   "metadata": {},
   "outputs": [],
   "source": [
    "def getAvg(dFrame,dFiled):\n",
    "    print(\"Average -\", dFrame[dFiled].mean())"
   ]
  },
  {
   "cell_type": "code",
   "execution_count": 98,
   "metadata": {},
   "outputs": [
    {
     "name": "stdout",
     "output_type": "stream",
     "text": [
      "Average - 4338285.872371819\n"
     ]
    }
   ],
   "source": [
    "getAvg(df,\"Value\")"
   ]
  },
  {
   "cell_type": "code",
   "execution_count": null,
   "metadata": {},
   "outputs": [],
   "source": []
  }
 ],
 "metadata": {
  "kernelspec": {
   "display_name": "Python 3",
   "language": "python",
   "name": "python3"
  },
  "language_info": {
   "codemirror_mode": {
    "name": "ipython",
    "version": 3
   },
   "file_extension": ".py",
   "mimetype": "text/x-python",
   "name": "python",
   "nbconvert_exporter": "python",
   "pygments_lexer": "ipython3",
   "version": "3.7.7"
  }
 },
 "nbformat": 4,
 "nbformat_minor": 4
}
