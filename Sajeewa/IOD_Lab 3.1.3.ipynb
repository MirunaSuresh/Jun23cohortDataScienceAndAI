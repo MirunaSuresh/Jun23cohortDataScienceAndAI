{
 "cells": [
  {
   "cell_type": "markdown",
   "metadata": {
    "colab_type": "text",
    "id": "XJ1yDaQTVf4m"
   },
   "source": [
    "<div>\n",
    "<img src=https://www.institutedata.com/wp-content/uploads/2019/10/iod_h_tp_primary_c.svg width=\"300\">\n",
    "</div>"
   ]
  },
  {
   "cell_type": "markdown",
   "metadata": {
    "colab_type": "text",
    "id": "QnAkzb-CVf4o"
   },
   "source": [
    "# Lab 3.1.3\n",
    "\n",
    "## Data\n",
    "\n",
    "The Philippine Statistics Authority (PSA) spearheads the conduct of the Family Income and Expenditure Survey (FIES) nationwide. The survey, which is undertaken every three (3) years, is aimed at providing data on family income and expenditure, including, among others, levels of consumption by item of expenditure, sources of income in cash, and related information affecting income and expenditure levels and patterns in the Philippines.\n",
    "\n",
    "You can download the data from [here](https://www.kaggle.com/grosvenpaul/family-income-and-expenditure).\n",
    "\n",
    "The purpose of today's lab is to use simulation to visualize the sampling distribution for the sample mean. The Central Limit Theorem (CLT) tells us that as our sample size gets larger, the sampling distribution of the sample mean converges to a normal distribution. Therefore, when we have a large sample size, we can say that the sampling distribution for the sample mean is approximately normal, regardless of the distribution from which we are sampling.\n",
    "\n",
    "Let's start by taking a look at the data, **`Total Household Income`** will serve as a \"population\" for the purposes of this lab. "
   ]
  },
  {
   "cell_type": "code",
   "execution_count": 3,
   "metadata": {
    "colab": {},
    "colab_type": "code",
    "id": "SEP_7ZTmVf4p"
   },
   "outputs": [],
   "source": [
    "import pandas as pd\n",
    "import numpy as np\n",
    "import matplotlib.pyplot as plt\n",
    "import seaborn as sns\n",
    "\n",
    "%matplotlib inline"
   ]
  },
  {
   "cell_type": "code",
   "execution_count": 4,
   "metadata": {
    "colab": {},
    "colab_type": "code",
    "id": "TzSCY2HWVf4t"
   },
   "outputs": [],
   "source": [
    "house_hold_csv = \"C:\\\\Users\\\\Sajeewa\\\\Downloads\\\\Python\\\\Family_Income_and_Expenditure.csv\"\n",
    "# Read CSV\n",
    "house = pd.read_csv(house_hold_csv)"
   ]
  },
  {
   "cell_type": "code",
   "execution_count": 5,
   "metadata": {
    "colab": {},
    "colab_type": "code",
    "id": "f8AVkqjtVf4w"
   },
   "outputs": [
    {
     "data": {
      "text/html": [
       "<div>\n",
       "<style scoped>\n",
       "    .dataframe tbody tr th:only-of-type {\n",
       "        vertical-align: middle;\n",
       "    }\n",
       "\n",
       "    .dataframe tbody tr th {\n",
       "        vertical-align: top;\n",
       "    }\n",
       "\n",
       "    .dataframe thead th {\n",
       "        text-align: right;\n",
       "    }\n",
       "</style>\n",
       "<table border=\"1\" class=\"dataframe\">\n",
       "  <thead>\n",
       "    <tr style=\"text-align: right;\">\n",
       "      <th></th>\n",
       "      <th>Total Household Income</th>\n",
       "      <th>Region</th>\n",
       "      <th>Total Food Expenditure</th>\n",
       "      <th>Main Source of Income</th>\n",
       "      <th>Agricultural Household indicator</th>\n",
       "      <th>Bread and Cereals Expenditure</th>\n",
       "      <th>Total Rice Expenditure</th>\n",
       "      <th>Meat Expenditure</th>\n",
       "      <th>Total Fish and  marine products Expenditure</th>\n",
       "      <th>Fruit Expenditure</th>\n",
       "      <th>...</th>\n",
       "      <th>Number of Refrigerator/Freezer</th>\n",
       "      <th>Number of Washing Machine</th>\n",
       "      <th>Number of Airconditioner</th>\n",
       "      <th>Number of Car, Jeep, Van</th>\n",
       "      <th>Number of Landline/wireless telephones</th>\n",
       "      <th>Number of Cellular phone</th>\n",
       "      <th>Number of Personal Computer</th>\n",
       "      <th>Number of Stove with Oven/Gas Range</th>\n",
       "      <th>Number of Motorized Banca</th>\n",
       "      <th>Number of Motorcycle/Tricycle</th>\n",
       "    </tr>\n",
       "  </thead>\n",
       "  <tbody>\n",
       "    <tr>\n",
       "      <th>0</th>\n",
       "      <td>480332</td>\n",
       "      <td>CAR</td>\n",
       "      <td>117848</td>\n",
       "      <td>Wage/Salaries</td>\n",
       "      <td>0</td>\n",
       "      <td>42140</td>\n",
       "      <td>38300</td>\n",
       "      <td>24676</td>\n",
       "      <td>16806</td>\n",
       "      <td>3325</td>\n",
       "      <td>...</td>\n",
       "      <td>1</td>\n",
       "      <td>1</td>\n",
       "      <td>0</td>\n",
       "      <td>0</td>\n",
       "      <td>0</td>\n",
       "      <td>2</td>\n",
       "      <td>1</td>\n",
       "      <td>0</td>\n",
       "      <td>0</td>\n",
       "      <td>1</td>\n",
       "    </tr>\n",
       "    <tr>\n",
       "      <th>1</th>\n",
       "      <td>198235</td>\n",
       "      <td>CAR</td>\n",
       "      <td>67766</td>\n",
       "      <td>Wage/Salaries</td>\n",
       "      <td>0</td>\n",
       "      <td>17329</td>\n",
       "      <td>13008</td>\n",
       "      <td>17434</td>\n",
       "      <td>11073</td>\n",
       "      <td>2035</td>\n",
       "      <td>...</td>\n",
       "      <td>0</td>\n",
       "      <td>1</td>\n",
       "      <td>0</td>\n",
       "      <td>0</td>\n",
       "      <td>0</td>\n",
       "      <td>3</td>\n",
       "      <td>1</td>\n",
       "      <td>0</td>\n",
       "      <td>0</td>\n",
       "      <td>2</td>\n",
       "    </tr>\n",
       "    <tr>\n",
       "      <th>2</th>\n",
       "      <td>82785</td>\n",
       "      <td>CAR</td>\n",
       "      <td>61609</td>\n",
       "      <td>Wage/Salaries</td>\n",
       "      <td>1</td>\n",
       "      <td>34182</td>\n",
       "      <td>32001</td>\n",
       "      <td>7783</td>\n",
       "      <td>2590</td>\n",
       "      <td>1730</td>\n",
       "      <td>...</td>\n",
       "      <td>0</td>\n",
       "      <td>0</td>\n",
       "      <td>0</td>\n",
       "      <td>0</td>\n",
       "      <td>0</td>\n",
       "      <td>0</td>\n",
       "      <td>0</td>\n",
       "      <td>0</td>\n",
       "      <td>0</td>\n",
       "      <td>0</td>\n",
       "    </tr>\n",
       "    <tr>\n",
       "      <th>3</th>\n",
       "      <td>107589</td>\n",
       "      <td>CAR</td>\n",
       "      <td>78189</td>\n",
       "      <td>Wage/Salaries</td>\n",
       "      <td>0</td>\n",
       "      <td>34030</td>\n",
       "      <td>28659</td>\n",
       "      <td>10914</td>\n",
       "      <td>10812</td>\n",
       "      <td>690</td>\n",
       "      <td>...</td>\n",
       "      <td>0</td>\n",
       "      <td>0</td>\n",
       "      <td>0</td>\n",
       "      <td>0</td>\n",
       "      <td>0</td>\n",
       "      <td>1</td>\n",
       "      <td>0</td>\n",
       "      <td>0</td>\n",
       "      <td>0</td>\n",
       "      <td>0</td>\n",
       "    </tr>\n",
       "    <tr>\n",
       "      <th>4</th>\n",
       "      <td>189322</td>\n",
       "      <td>CAR</td>\n",
       "      <td>94625</td>\n",
       "      <td>Wage/Salaries</td>\n",
       "      <td>0</td>\n",
       "      <td>34820</td>\n",
       "      <td>30167</td>\n",
       "      <td>18391</td>\n",
       "      <td>11309</td>\n",
       "      <td>1395</td>\n",
       "      <td>...</td>\n",
       "      <td>1</td>\n",
       "      <td>0</td>\n",
       "      <td>0</td>\n",
       "      <td>0</td>\n",
       "      <td>0</td>\n",
       "      <td>3</td>\n",
       "      <td>0</td>\n",
       "      <td>0</td>\n",
       "      <td>0</td>\n",
       "      <td>1</td>\n",
       "    </tr>\n",
       "  </tbody>\n",
       "</table>\n",
       "<p>5 rows × 60 columns</p>\n",
       "</div>"
      ],
      "text/plain": [
       "   Total Household Income Region  Total Food Expenditure  \\\n",
       "0                  480332    CAR                  117848   \n",
       "1                  198235    CAR                   67766   \n",
       "2                   82785    CAR                   61609   \n",
       "3                  107589    CAR                   78189   \n",
       "4                  189322    CAR                   94625   \n",
       "\n",
       "  Main Source of Income  Agricultural Household indicator  \\\n",
       "0         Wage/Salaries                                 0   \n",
       "1         Wage/Salaries                                 0   \n",
       "2         Wage/Salaries                                 1   \n",
       "3         Wage/Salaries                                 0   \n",
       "4         Wage/Salaries                                 0   \n",
       "\n",
       "   Bread and Cereals Expenditure  Total Rice Expenditure  Meat Expenditure  \\\n",
       "0                          42140                   38300             24676   \n",
       "1                          17329                   13008             17434   \n",
       "2                          34182                   32001              7783   \n",
       "3                          34030                   28659             10914   \n",
       "4                          34820                   30167             18391   \n",
       "\n",
       "   Total Fish and  marine products Expenditure  Fruit Expenditure  ...  \\\n",
       "0                                        16806               3325  ...   \n",
       "1                                        11073               2035  ...   \n",
       "2                                         2590               1730  ...   \n",
       "3                                        10812                690  ...   \n",
       "4                                        11309               1395  ...   \n",
       "\n",
       "   Number of Refrigerator/Freezer  Number of Washing Machine  \\\n",
       "0                               1                          1   \n",
       "1                               0                          1   \n",
       "2                               0                          0   \n",
       "3                               0                          0   \n",
       "4                               1                          0   \n",
       "\n",
       "   Number of Airconditioner  Number of Car, Jeep, Van  \\\n",
       "0                         0                         0   \n",
       "1                         0                         0   \n",
       "2                         0                         0   \n",
       "3                         0                         0   \n",
       "4                         0                         0   \n",
       "\n",
       "   Number of Landline/wireless telephones  Number of Cellular phone  \\\n",
       "0                                       0                         2   \n",
       "1                                       0                         3   \n",
       "2                                       0                         0   \n",
       "3                                       0                         1   \n",
       "4                                       0                         3   \n",
       "\n",
       "   Number of Personal Computer  Number of Stove with Oven/Gas Range  \\\n",
       "0                            1                                    0   \n",
       "1                            1                                    0   \n",
       "2                            0                                    0   \n",
       "3                            0                                    0   \n",
       "4                            0                                    0   \n",
       "\n",
       "   Number of Motorized Banca  Number of Motorcycle/Tricycle  \n",
       "0                          0                              1  \n",
       "1                          0                              2  \n",
       "2                          0                              0  \n",
       "3                          0                              0  \n",
       "4                          0                              1  \n",
       "\n",
       "[5 rows x 60 columns]"
      ]
     },
     "execution_count": 5,
     "metadata": {},
     "output_type": "execute_result"
    }
   ],
   "source": [
    "# Head\n",
    "house.head()"
   ]
  },
  {
   "cell_type": "code",
   "execution_count": 6,
   "metadata": {
    "colab": {},
    "colab_type": "code",
    "id": "SShWhTTQVf4z"
   },
   "outputs": [
    {
     "data": {
      "text/html": [
       "<div>\n",
       "<style scoped>\n",
       "    .dataframe tbody tr th:only-of-type {\n",
       "        vertical-align: middle;\n",
       "    }\n",
       "\n",
       "    .dataframe tbody tr th {\n",
       "        vertical-align: top;\n",
       "    }\n",
       "\n",
       "    .dataframe thead th {\n",
       "        text-align: right;\n",
       "    }\n",
       "</style>\n",
       "<table border=\"1\" class=\"dataframe\">\n",
       "  <thead>\n",
       "    <tr style=\"text-align: right;\">\n",
       "      <th></th>\n",
       "      <th>Total Household Income</th>\n",
       "      <th>Region</th>\n",
       "      <th>Total Food Expenditure</th>\n",
       "      <th>Main Source of Income</th>\n",
       "      <th>Agricultural Household indicator</th>\n",
       "      <th>Bread and Cereals Expenditure</th>\n",
       "      <th>Total Rice Expenditure</th>\n",
       "      <th>Meat Expenditure</th>\n",
       "      <th>Total Fish and  marine products Expenditure</th>\n",
       "      <th>Fruit Expenditure</th>\n",
       "      <th>...</th>\n",
       "      <th>Number of Refrigerator/Freezer</th>\n",
       "      <th>Number of Washing Machine</th>\n",
       "      <th>Number of Airconditioner</th>\n",
       "      <th>Number of Car, Jeep, Van</th>\n",
       "      <th>Number of Landline/wireless telephones</th>\n",
       "      <th>Number of Cellular phone</th>\n",
       "      <th>Number of Personal Computer</th>\n",
       "      <th>Number of Stove with Oven/Gas Range</th>\n",
       "      <th>Number of Motorized Banca</th>\n",
       "      <th>Number of Motorcycle/Tricycle</th>\n",
       "    </tr>\n",
       "  </thead>\n",
       "  <tbody>\n",
       "    <tr>\n",
       "      <th>41539</th>\n",
       "      <td>119773</td>\n",
       "      <td>XII - SOCCSKSARGEN</td>\n",
       "      <td>44875</td>\n",
       "      <td>Enterpreneurial Activities</td>\n",
       "      <td>1</td>\n",
       "      <td>23675</td>\n",
       "      <td>21542</td>\n",
       "      <td>1476</td>\n",
       "      <td>6120</td>\n",
       "      <td>1632</td>\n",
       "      <td>...</td>\n",
       "      <td>0</td>\n",
       "      <td>0</td>\n",
       "      <td>0</td>\n",
       "      <td>0</td>\n",
       "      <td>0</td>\n",
       "      <td>1</td>\n",
       "      <td>0</td>\n",
       "      <td>0</td>\n",
       "      <td>0</td>\n",
       "      <td>0</td>\n",
       "    </tr>\n",
       "    <tr>\n",
       "      <th>41540</th>\n",
       "      <td>137320</td>\n",
       "      <td>XII - SOCCSKSARGEN</td>\n",
       "      <td>31157</td>\n",
       "      <td>Enterpreneurial Activities</td>\n",
       "      <td>1</td>\n",
       "      <td>2691</td>\n",
       "      <td>1273</td>\n",
       "      <td>1886</td>\n",
       "      <td>4386</td>\n",
       "      <td>1840</td>\n",
       "      <td>...</td>\n",
       "      <td>0</td>\n",
       "      <td>0</td>\n",
       "      <td>0</td>\n",
       "      <td>0</td>\n",
       "      <td>0</td>\n",
       "      <td>3</td>\n",
       "      <td>0</td>\n",
       "      <td>0</td>\n",
       "      <td>0</td>\n",
       "      <td>0</td>\n",
       "    </tr>\n",
       "    <tr>\n",
       "      <th>41541</th>\n",
       "      <td>133171</td>\n",
       "      <td>XII - SOCCSKSARGEN</td>\n",
       "      <td>45882</td>\n",
       "      <td>Enterpreneurial Activities</td>\n",
       "      <td>2</td>\n",
       "      <td>28646</td>\n",
       "      <td>27339</td>\n",
       "      <td>480</td>\n",
       "      <td>4796</td>\n",
       "      <td>1232</td>\n",
       "      <td>...</td>\n",
       "      <td>0</td>\n",
       "      <td>0</td>\n",
       "      <td>0</td>\n",
       "      <td>0</td>\n",
       "      <td>0</td>\n",
       "      <td>1</td>\n",
       "      <td>0</td>\n",
       "      <td>0</td>\n",
       "      <td>0</td>\n",
       "      <td>0</td>\n",
       "    </tr>\n",
       "    <tr>\n",
       "      <th>41542</th>\n",
       "      <td>129500</td>\n",
       "      <td>XII - SOCCSKSARGEN</td>\n",
       "      <td>81416</td>\n",
       "      <td>Enterpreneurial Activities</td>\n",
       "      <td>1</td>\n",
       "      <td>29996</td>\n",
       "      <td>26655</td>\n",
       "      <td>2359</td>\n",
       "      <td>17730</td>\n",
       "      <td>2923</td>\n",
       "      <td>...</td>\n",
       "      <td>0</td>\n",
       "      <td>0</td>\n",
       "      <td>0</td>\n",
       "      <td>0</td>\n",
       "      <td>0</td>\n",
       "      <td>2</td>\n",
       "      <td>0</td>\n",
       "      <td>0</td>\n",
       "      <td>0</td>\n",
       "      <td>0</td>\n",
       "    </tr>\n",
       "    <tr>\n",
       "      <th>41543</th>\n",
       "      <td>128598</td>\n",
       "      <td>XII - SOCCSKSARGEN</td>\n",
       "      <td>78195</td>\n",
       "      <td>Enterpreneurial Activities</td>\n",
       "      <td>1</td>\n",
       "      <td>43485</td>\n",
       "      <td>41205</td>\n",
       "      <td>1985</td>\n",
       "      <td>7735</td>\n",
       "      <td>2062</td>\n",
       "      <td>...</td>\n",
       "      <td>0</td>\n",
       "      <td>0</td>\n",
       "      <td>0</td>\n",
       "      <td>0</td>\n",
       "      <td>0</td>\n",
       "      <td>1</td>\n",
       "      <td>0</td>\n",
       "      <td>0</td>\n",
       "      <td>0</td>\n",
       "      <td>0</td>\n",
       "    </tr>\n",
       "  </tbody>\n",
       "</table>\n",
       "<p>5 rows × 60 columns</p>\n",
       "</div>"
      ],
      "text/plain": [
       "       Total Household Income              Region  Total Food Expenditure  \\\n",
       "41539                  119773  XII - SOCCSKSARGEN                   44875   \n",
       "41540                  137320  XII - SOCCSKSARGEN                   31157   \n",
       "41541                  133171  XII - SOCCSKSARGEN                   45882   \n",
       "41542                  129500  XII - SOCCSKSARGEN                   81416   \n",
       "41543                  128598  XII - SOCCSKSARGEN                   78195   \n",
       "\n",
       "            Main Source of Income  Agricultural Household indicator  \\\n",
       "41539  Enterpreneurial Activities                                 1   \n",
       "41540  Enterpreneurial Activities                                 1   \n",
       "41541  Enterpreneurial Activities                                 2   \n",
       "41542  Enterpreneurial Activities                                 1   \n",
       "41543  Enterpreneurial Activities                                 1   \n",
       "\n",
       "       Bread and Cereals Expenditure  Total Rice Expenditure  \\\n",
       "41539                          23675                   21542   \n",
       "41540                           2691                    1273   \n",
       "41541                          28646                   27339   \n",
       "41542                          29996                   26655   \n",
       "41543                          43485                   41205   \n",
       "\n",
       "       Meat Expenditure  Total Fish and  marine products Expenditure  \\\n",
       "41539              1476                                         6120   \n",
       "41540              1886                                         4386   \n",
       "41541               480                                         4796   \n",
       "41542              2359                                        17730   \n",
       "41543              1985                                         7735   \n",
       "\n",
       "       Fruit Expenditure  ...  Number of Refrigerator/Freezer  \\\n",
       "41539               1632  ...                               0   \n",
       "41540               1840  ...                               0   \n",
       "41541               1232  ...                               0   \n",
       "41542               2923  ...                               0   \n",
       "41543               2062  ...                               0   \n",
       "\n",
       "       Number of Washing Machine  Number of Airconditioner  \\\n",
       "41539                          0                         0   \n",
       "41540                          0                         0   \n",
       "41541                          0                         0   \n",
       "41542                          0                         0   \n",
       "41543                          0                         0   \n",
       "\n",
       "       Number of Car, Jeep, Van  Number of Landline/wireless telephones  \\\n",
       "41539                         0                                       0   \n",
       "41540                         0                                       0   \n",
       "41541                         0                                       0   \n",
       "41542                         0                                       0   \n",
       "41543                         0                                       0   \n",
       "\n",
       "       Number of Cellular phone  Number of Personal Computer  \\\n",
       "41539                         1                            0   \n",
       "41540                         3                            0   \n",
       "41541                         1                            0   \n",
       "41542                         2                            0   \n",
       "41543                         1                            0   \n",
       "\n",
       "       Number of Stove with Oven/Gas Range  Number of Motorized Banca  \\\n",
       "41539                                    0                          0   \n",
       "41540                                    0                          0   \n",
       "41541                                    0                          0   \n",
       "41542                                    0                          0   \n",
       "41543                                    0                          0   \n",
       "\n",
       "       Number of Motorcycle/Tricycle  \n",
       "41539                              0  \n",
       "41540                              0  \n",
       "41541                              0  \n",
       "41542                              0  \n",
       "41543                              0  \n",
       "\n",
       "[5 rows x 60 columns]"
      ]
     },
     "execution_count": 6,
     "metadata": {},
     "output_type": "execute_result"
    }
   ],
   "source": [
    "# Tail\n",
    "house.tail()"
   ]
  },
  {
   "cell_type": "code",
   "execution_count": 7,
   "metadata": {
    "colab": {},
    "colab_type": "code",
    "id": "Naaa_xKVVf41"
   },
   "outputs": [
    {
     "data": {
      "text/plain": [
       "(41544, 60)"
      ]
     },
     "execution_count": 7,
     "metadata": {},
     "output_type": "execute_result"
    }
   ],
   "source": [
    "# Shape\n",
    "house.shape"
   ]
  },
  {
   "cell_type": "code",
   "execution_count": 8,
   "metadata": {
    "colab": {},
    "colab_type": "code",
    "id": "vp9cRdywVf44"
   },
   "outputs": [
    {
     "data": {
      "text/plain": [
       "pandas.core.frame.DataFrame"
      ]
     },
     "execution_count": 8,
     "metadata": {},
     "output_type": "execute_result"
    }
   ],
   "source": [
    "# Data Types\n",
    "type(house)"
   ]
  },
  {
   "cell_type": "markdown",
   "metadata": {
    "colab_type": "text",
    "id": "CXS1YnOgVf47"
   },
   "source": [
    "#### Surveying the populations\n",
    "\n",
    "##### 1. Create a histogram of `Total Household Income`."
   ]
  },
  {
   "cell_type": "code",
   "execution_count": 9,
   "metadata": {
    "colab": {},
    "colab_type": "code",
    "id": "3YKhcWRhVf47"
   },
   "outputs": [
    {
     "data": {
      "text/plain": [
       "(array([3.9380e+03, 1.1265e+04, 8.5400e+03, 4.8330e+03, 3.2790e+03,\n",
       "        2.3950e+03, 1.6330e+03, 1.2040e+03, 9.4900e+02, 6.8600e+02,\n",
       "        5.0700e+02, 4.1600e+02, 3.4000e+02, 2.4500e+02, 2.0500e+02,\n",
       "        1.5600e+02, 1.4200e+02, 1.1900e+02, 1.0400e+02, 8.6000e+01,\n",
       "        5.3000e+01, 4.7000e+01, 4.4000e+01, 3.9000e+01, 3.8000e+01,\n",
       "        2.7000e+01, 2.8000e+01, 1.9000e+01, 1.3000e+01, 1.6000e+01,\n",
       "        1.7000e+01, 1.1000e+01, 1.6000e+01, 9.0000e+00, 1.2000e+01,\n",
       "        1.0000e+01, 7.0000e+00, 6.0000e+00, 5.0000e+00, 9.0000e+00,\n",
       "        4.0000e+00, 7.0000e+00, 9.0000e+00, 4.0000e+00, 2.0000e+00,\n",
       "        2.0000e+00, 0.0000e+00, 5.0000e+00, 2.0000e+00, 2.0000e+00,\n",
       "        2.0000e+00, 2.0000e+00, 1.0000e+00, 1.0000e+00, 4.0000e+00,\n",
       "        1.0000e+00, 1.0000e+00, 1.0000e+00, 0.0000e+00, 1.0000e+00,\n",
       "        2.0000e+00, 0.0000e+00, 0.0000e+00, 0.0000e+00, 3.0000e+00,\n",
       "        1.0000e+00, 0.0000e+00, 2.0000e+00, 0.0000e+00, 2.0000e+00,\n",
       "        0.0000e+00, 1.0000e+00, 0.0000e+00, 1.0000e+00, 0.0000e+00,\n",
       "        0.0000e+00, 1.0000e+00, 0.0000e+00, 0.0000e+00, 0.0000e+00,\n",
       "        0.0000e+00, 1.0000e+00, 0.0000e+00, 1.0000e+00, 0.0000e+00,\n",
       "        1.0000e+00, 0.0000e+00, 0.0000e+00, 0.0000e+00, 0.0000e+00,\n",
       "        0.0000e+00, 0.0000e+00, 0.0000e+00, 0.0000e+00, 0.0000e+00,\n",
       "        1.0000e+00, 0.0000e+00, 0.0000e+00, 0.0000e+00, 0.0000e+00,\n",
       "        0.0000e+00, 0.0000e+00, 2.0000e+00, 0.0000e+00, 1.0000e+00,\n",
       "        0.0000e+00, 0.0000e+00, 0.0000e+00, 0.0000e+00, 1.0000e+00,\n",
       "        0.0000e+00, 0.0000e+00, 0.0000e+00, 0.0000e+00, 0.0000e+00,\n",
       "        0.0000e+00, 0.0000e+00, 0.0000e+00, 0.0000e+00, 1.0000e+00,\n",
       "        0.0000e+00, 0.0000e+00, 0.0000e+00, 0.0000e+00, 0.0000e+00,\n",
       "        0.0000e+00, 0.0000e+00, 0.0000e+00, 0.0000e+00, 0.0000e+00,\n",
       "        0.0000e+00, 0.0000e+00, 0.0000e+00, 0.0000e+00, 0.0000e+00,\n",
       "        0.0000e+00, 0.0000e+00, 0.0000e+00, 0.0000e+00, 0.0000e+00,\n",
       "        0.0000e+00, 0.0000e+00, 0.0000e+00, 0.0000e+00, 0.0000e+00,\n",
       "        0.0000e+00, 0.0000e+00, 0.0000e+00, 0.0000e+00, 0.0000e+00,\n",
       "        0.0000e+00, 0.0000e+00, 0.0000e+00, 0.0000e+00, 0.0000e+00,\n",
       "        0.0000e+00, 0.0000e+00, 0.0000e+00, 0.0000e+00, 0.0000e+00,\n",
       "        0.0000e+00, 0.0000e+00, 0.0000e+00, 0.0000e+00, 0.0000e+00,\n",
       "        0.0000e+00, 0.0000e+00, 0.0000e+00, 1.0000e+00, 0.0000e+00,\n",
       "        0.0000e+00, 0.0000e+00, 0.0000e+00, 0.0000e+00, 0.0000e+00,\n",
       "        0.0000e+00, 0.0000e+00, 0.0000e+00, 0.0000e+00, 0.0000e+00,\n",
       "        0.0000e+00, 0.0000e+00, 0.0000e+00, 0.0000e+00, 0.0000e+00,\n",
       "        0.0000e+00, 0.0000e+00, 0.0000e+00, 0.0000e+00, 0.0000e+00,\n",
       "        0.0000e+00, 0.0000e+00, 0.0000e+00, 0.0000e+00, 0.0000e+00,\n",
       "        0.0000e+00, 0.0000e+00, 1.0000e+00, 0.0000e+00, 1.0000e+00]),\n",
       " array([1.12850000e+04, 7.03085150e+04, 1.29332030e+05, 1.88355545e+05,\n",
       "        2.47379060e+05, 3.06402575e+05, 3.65426090e+05, 4.24449605e+05,\n",
       "        4.83473120e+05, 5.42496635e+05, 6.01520150e+05, 6.60543665e+05,\n",
       "        7.19567180e+05, 7.78590695e+05, 8.37614210e+05, 8.96637725e+05,\n",
       "        9.55661240e+05, 1.01468476e+06, 1.07370827e+06, 1.13273178e+06,\n",
       "        1.19175530e+06, 1.25077881e+06, 1.30980233e+06, 1.36882584e+06,\n",
       "        1.42784936e+06, 1.48687288e+06, 1.54589639e+06, 1.60491991e+06,\n",
       "        1.66394342e+06, 1.72296694e+06, 1.78199045e+06, 1.84101397e+06,\n",
       "        1.90003748e+06, 1.95906099e+06, 2.01808451e+06, 2.07710802e+06,\n",
       "        2.13613154e+06, 2.19515506e+06, 2.25417857e+06, 2.31320208e+06,\n",
       "        2.37222560e+06, 2.43124911e+06, 2.49027263e+06, 2.54929615e+06,\n",
       "        2.60831966e+06, 2.66734317e+06, 2.72636669e+06, 2.78539021e+06,\n",
       "        2.84441372e+06, 2.90343723e+06, 2.96246075e+06, 3.02148427e+06,\n",
       "        3.08050778e+06, 3.13953129e+06, 3.19855481e+06, 3.25757833e+06,\n",
       "        3.31660184e+06, 3.37562535e+06, 3.43464887e+06, 3.49367238e+06,\n",
       "        3.55269590e+06, 3.61171942e+06, 3.67074293e+06, 3.72976644e+06,\n",
       "        3.78878996e+06, 3.84781348e+06, 3.90683699e+06, 3.96586050e+06,\n",
       "        4.02488402e+06, 4.08390754e+06, 4.14293105e+06, 4.20195456e+06,\n",
       "        4.26097808e+06, 4.32000159e+06, 4.37902511e+06, 4.43804862e+06,\n",
       "        4.49707214e+06, 4.55609566e+06, 4.61511917e+06, 4.67414268e+06,\n",
       "        4.73316620e+06, 4.79218971e+06, 4.85121323e+06, 4.91023675e+06,\n",
       "        4.96926026e+06, 5.02828378e+06, 5.08730729e+06, 5.14633080e+06,\n",
       "        5.20535432e+06, 5.26437783e+06, 5.32340135e+06, 5.38242487e+06,\n",
       "        5.44144838e+06, 5.50047189e+06, 5.55949541e+06, 5.61851892e+06,\n",
       "        5.67754244e+06, 5.73656596e+06, 5.79558947e+06, 5.85461299e+06,\n",
       "        5.91363650e+06, 5.97266001e+06, 6.03168353e+06, 6.09070704e+06,\n",
       "        6.14973056e+06, 6.20875408e+06, 6.26777759e+06, 6.32680110e+06,\n",
       "        6.38582462e+06, 6.44484813e+06, 6.50387165e+06, 6.56289517e+06,\n",
       "        6.62191868e+06, 6.68094220e+06, 6.73996571e+06, 6.79898922e+06,\n",
       "        6.85801274e+06, 6.91703625e+06, 6.97605977e+06, 7.03508329e+06,\n",
       "        7.09410680e+06, 7.15313031e+06, 7.21215383e+06, 7.27117734e+06,\n",
       "        7.33020086e+06, 7.38922438e+06, 7.44824789e+06, 7.50727141e+06,\n",
       "        7.56629492e+06, 7.62531843e+06, 7.68434195e+06, 7.74336546e+06,\n",
       "        7.80238898e+06, 7.86141250e+06, 7.92043601e+06, 7.97945953e+06,\n",
       "        8.03848304e+06, 8.09750655e+06, 8.15653007e+06, 8.21555358e+06,\n",
       "        8.27457710e+06, 8.33360062e+06, 8.39262413e+06, 8.45164764e+06,\n",
       "        8.51067116e+06, 8.56969468e+06, 8.62871819e+06, 8.68774171e+06,\n",
       "        8.74676522e+06, 8.80578873e+06, 8.86481225e+06, 8.92383577e+06,\n",
       "        8.98285928e+06, 9.04188279e+06, 9.10090631e+06, 9.15992982e+06,\n",
       "        9.21895334e+06, 9.27797686e+06, 9.33700037e+06, 9.39602388e+06,\n",
       "        9.45504740e+06, 9.51407091e+06, 9.57309443e+06, 9.63211795e+06,\n",
       "        9.69114146e+06, 9.75016497e+06, 9.80918849e+06, 9.86821201e+06,\n",
       "        9.92723552e+06, 9.98625904e+06, 1.00452826e+07, 1.01043061e+07,\n",
       "        1.01633296e+07, 1.02223531e+07, 1.02813766e+07, 1.03404001e+07,\n",
       "        1.03994236e+07, 1.04584472e+07, 1.05174707e+07, 1.05764942e+07,\n",
       "        1.06355177e+07, 1.06945412e+07, 1.07535647e+07, 1.08125882e+07,\n",
       "        1.08716118e+07, 1.09306353e+07, 1.09896588e+07, 1.10486823e+07,\n",
       "        1.11077058e+07, 1.11667293e+07, 1.12257528e+07, 1.12847764e+07,\n",
       "        1.13437999e+07, 1.14028234e+07, 1.14618469e+07, 1.15208704e+07,\n",
       "        1.15798939e+07, 1.16389175e+07, 1.16979410e+07, 1.17569645e+07,\n",
       "        1.18159880e+07]),\n",
       " <a list of 200 Patch objects>)"
      ]
     },
     "execution_count": 9,
     "metadata": {},
     "output_type": "execute_result"
    },
    {
     "data": {
      "image/png": "[encoded data removed]",
      "text/plain": [
       "<Figure size 432x288 with 1 Axes>"
      ]
     },
     "metadata": {
      "needs_background": "light"
     },
     "output_type": "display_data"
    }
   ],
   "source": [
    "# ANSWER\n",
    "plt.hist(house['Total Household Income'],bins=200)"
   ]
  },
  {
   "cell_type": "markdown",
   "metadata": {
    "colab_type": "text",
    "id": "8vgg6ml3Vf4-"
   },
   "source": [
    "##### 2. How would you describe the shape of this population?"
   ]
  },
  {
   "cell_type": "code",
   "execution_count": 10,
   "metadata": {},
   "outputs": [
    {
     "data": {
      "text/html": [
       "<div>\n",
       "<style scoped>\n",
       "    .dataframe tbody tr th:only-of-type {\n",
       "        vertical-align: middle;\n",
       "    }\n",
       "\n",
       "    .dataframe tbody tr th {\n",
       "        vertical-align: top;\n",
       "    }\n",
       "\n",
       "    .dataframe thead th {\n",
       "        text-align: right;\n",
       "    }\n",
       "</style>\n",
       "<table border=\"1\" class=\"dataframe\">\n",
       "  <thead>\n",
       "    <tr style=\"text-align: right;\">\n",
       "      <th></th>\n",
       "      <th>Total Household Income</th>\n",
       "      <th>Total Food Expenditure</th>\n",
       "      <th>Agricultural Household indicator</th>\n",
       "      <th>Bread and Cereals Expenditure</th>\n",
       "      <th>Total Rice Expenditure</th>\n",
       "      <th>Meat Expenditure</th>\n",
       "      <th>Total Fish and  marine products Expenditure</th>\n",
       "      <th>Fruit Expenditure</th>\n",
       "      <th>Vegetables Expenditure</th>\n",
       "      <th>Restaurant and hotels Expenditure</th>\n",
       "      <th>...</th>\n",
       "      <th>Number of Refrigerator/Freezer</th>\n",
       "      <th>Number of Washing Machine</th>\n",
       "      <th>Number of Airconditioner</th>\n",
       "      <th>Number of Car, Jeep, Van</th>\n",
       "      <th>Number of Landline/wireless telephones</th>\n",
       "      <th>Number of Cellular phone</th>\n",
       "      <th>Number of Personal Computer</th>\n",
       "      <th>Number of Stove with Oven/Gas Range</th>\n",
       "      <th>Number of Motorized Banca</th>\n",
       "      <th>Number of Motorcycle/Tricycle</th>\n",
       "    </tr>\n",
       "  </thead>\n",
       "  <tbody>\n",
       "    <tr>\n",
       "      <th>count</th>\n",
       "      <td>4.154400e+04</td>\n",
       "      <td>41544.000000</td>\n",
       "      <td>41544.000000</td>\n",
       "      <td>41544.000000</td>\n",
       "      <td>41544.000000</td>\n",
       "      <td>41544.000000</td>\n",
       "      <td>41544.000000</td>\n",
       "      <td>41544.000000</td>\n",
       "      <td>41544.000000</td>\n",
       "      <td>41544.000000</td>\n",
       "      <td>...</td>\n",
       "      <td>41544.000000</td>\n",
       "      <td>41544.000000</td>\n",
       "      <td>41544.000000</td>\n",
       "      <td>41544.000000</td>\n",
       "      <td>41544.000000</td>\n",
       "      <td>41544.000000</td>\n",
       "      <td>41544.000000</td>\n",
       "      <td>41544.000000</td>\n",
       "      <td>41544.000000</td>\n",
       "      <td>41544.000000</td>\n",
       "    </tr>\n",
       "    <tr>\n",
       "      <th>mean</th>\n",
       "      <td>2.475556e+05</td>\n",
       "      <td>85099.158194</td>\n",
       "      <td>0.429858</td>\n",
       "      <td>25133.723642</td>\n",
       "      <td>18195.825005</td>\n",
       "      <td>10540.072574</td>\n",
       "      <td>10529.318337</td>\n",
       "      <td>2550.474990</td>\n",
       "      <td>5006.918568</td>\n",
       "      <td>15436.566075</td>\n",
       "      <td>...</td>\n",
       "      <td>0.394184</td>\n",
       "      <td>0.319806</td>\n",
       "      <td>0.129814</td>\n",
       "      <td>0.081215</td>\n",
       "      <td>0.060610</td>\n",
       "      <td>1.905738</td>\n",
       "      <td>0.315015</td>\n",
       "      <td>0.135038</td>\n",
       "      <td>0.013119</td>\n",
       "      <td>0.289885</td>\n",
       "    </tr>\n",
       "    <tr>\n",
       "      <th>std</th>\n",
       "      <td>2.868805e+05</td>\n",
       "      <td>51637.947682</td>\n",
       "      <td>0.676666</td>\n",
       "      <td>13466.482984</td>\n",
       "      <td>11727.224350</td>\n",
       "      <td>10497.727757</td>\n",
       "      <td>7812.201613</td>\n",
       "      <td>2969.752879</td>\n",
       "      <td>3300.175236</td>\n",
       "      <td>23705.195929</td>\n",
       "      <td>...</td>\n",
       "      <td>0.537025</td>\n",
       "      <td>0.478482</td>\n",
       "      <td>0.448673</td>\n",
       "      <td>0.346786</td>\n",
       "      <td>0.276732</td>\n",
       "      <td>1.558130</td>\n",
       "      <td>0.739698</td>\n",
       "      <td>0.354083</td>\n",
       "      <td>0.127171</td>\n",
       "      <td>0.558408</td>\n",
       "    </tr>\n",
       "    <tr>\n",
       "      <th>min</th>\n",
       "      <td>1.128500e+04</td>\n",
       "      <td>2947.000000</td>\n",
       "      <td>0.000000</td>\n",
       "      <td>0.000000</td>\n",
       "      <td>0.000000</td>\n",
       "      <td>0.000000</td>\n",
       "      <td>0.000000</td>\n",
       "      <td>0.000000</td>\n",
       "      <td>0.000000</td>\n",
       "      <td>0.000000</td>\n",
       "      <td>...</td>\n",
       "      <td>0.000000</td>\n",
       "      <td>0.000000</td>\n",
       "      <td>0.000000</td>\n",
       "      <td>0.000000</td>\n",
       "      <td>0.000000</td>\n",
       "      <td>0.000000</td>\n",
       "      <td>0.000000</td>\n",
       "      <td>0.000000</td>\n",
       "      <td>0.000000</td>\n",
       "      <td>0.000000</td>\n",
       "    </tr>\n",
       "    <tr>\n",
       "      <th>25%</th>\n",
       "      <td>1.048950e+05</td>\n",
       "      <td>51017.250000</td>\n",
       "      <td>0.000000</td>\n",
       "      <td>16556.000000</td>\n",
       "      <td>11020.000000</td>\n",
       "      <td>3353.750000</td>\n",
       "      <td>5504.000000</td>\n",
       "      <td>1024.750000</td>\n",
       "      <td>2873.000000</td>\n",
       "      <td>1930.000000</td>\n",
       "      <td>...</td>\n",
       "      <td>0.000000</td>\n",
       "      <td>0.000000</td>\n",
       "      <td>0.000000</td>\n",
       "      <td>0.000000</td>\n",
       "      <td>0.000000</td>\n",
       "      <td>1.000000</td>\n",
       "      <td>0.000000</td>\n",
       "      <td>0.000000</td>\n",
       "      <td>0.000000</td>\n",
       "      <td>0.000000</td>\n",
       "    </tr>\n",
       "    <tr>\n",
       "      <th>50%</th>\n",
       "      <td>1.640795e+05</td>\n",
       "      <td>72985.500000</td>\n",
       "      <td>0.000000</td>\n",
       "      <td>23324.000000</td>\n",
       "      <td>16620.000000</td>\n",
       "      <td>7332.500000</td>\n",
       "      <td>8695.000000</td>\n",
       "      <td>1820.000000</td>\n",
       "      <td>4314.000000</td>\n",
       "      <td>7314.000000</td>\n",
       "      <td>...</td>\n",
       "      <td>0.000000</td>\n",
       "      <td>0.000000</td>\n",
       "      <td>0.000000</td>\n",
       "      <td>0.000000</td>\n",
       "      <td>0.000000</td>\n",
       "      <td>2.000000</td>\n",
       "      <td>0.000000</td>\n",
       "      <td>0.000000</td>\n",
       "      <td>0.000000</td>\n",
       "      <td>0.000000</td>\n",
       "    </tr>\n",
       "    <tr>\n",
       "      <th>75%</th>\n",
       "      <td>2.911385e+05</td>\n",
       "      <td>105635.500000</td>\n",
       "      <td>1.000000</td>\n",
       "      <td>31439.000000</td>\n",
       "      <td>23920.000000</td>\n",
       "      <td>14292.000000</td>\n",
       "      <td>13388.000000</td>\n",
       "      <td>3100.000000</td>\n",
       "      <td>6304.250000</td>\n",
       "      <td>19921.250000</td>\n",
       "      <td>...</td>\n",
       "      <td>1.000000</td>\n",
       "      <td>1.000000</td>\n",
       "      <td>0.000000</td>\n",
       "      <td>0.000000</td>\n",
       "      <td>0.000000</td>\n",
       "      <td>3.000000</td>\n",
       "      <td>0.000000</td>\n",
       "      <td>0.000000</td>\n",
       "      <td>0.000000</td>\n",
       "      <td>0.000000</td>\n",
       "    </tr>\n",
       "    <tr>\n",
       "      <th>max</th>\n",
       "      <td>1.181599e+07</td>\n",
       "      <td>827565.000000</td>\n",
       "      <td>2.000000</td>\n",
       "      <td>765864.000000</td>\n",
       "      <td>758326.000000</td>\n",
       "      <td>261566.000000</td>\n",
       "      <td>188208.000000</td>\n",
       "      <td>273769.000000</td>\n",
       "      <td>74800.000000</td>\n",
       "      <td>725296.000000</td>\n",
       "      <td>...</td>\n",
       "      <td>5.000000</td>\n",
       "      <td>3.000000</td>\n",
       "      <td>5.000000</td>\n",
       "      <td>5.000000</td>\n",
       "      <td>4.000000</td>\n",
       "      <td>10.000000</td>\n",
       "      <td>6.000000</td>\n",
       "      <td>3.000000</td>\n",
       "      <td>3.000000</td>\n",
       "      <td>5.000000</td>\n",
       "    </tr>\n",
       "  </tbody>\n",
       "</table>\n",
       "<p>8 rows × 45 columns</p>\n",
       "</div>"
      ],
      "text/plain": [
       "       Total Household Income  Total Food Expenditure  \\\n",
       "count            4.154400e+04            41544.000000   \n",
       "mean             2.475556e+05            85099.158194   \n",
       "std              2.868805e+05            51637.947682   \n",
       "min              1.128500e+04             2947.000000   \n",
       "25%              1.048950e+05            51017.250000   \n",
       "50%              1.640795e+05            72985.500000   \n",
       "75%              2.911385e+05           105635.500000   \n",
       "max              1.181599e+07           827565.000000   \n",
       "\n",
       "       Agricultural Household indicator  Bread and Cereals Expenditure  \\\n",
       "count                      41544.000000                   41544.000000   \n",
       "mean                           0.429858                   25133.723642   \n",
       "std                            0.676666                   13466.482984   \n",
       "min                            0.000000                       0.000000   \n",
       "25%                            0.000000                   16556.000000   \n",
       "50%                            0.000000                   23324.000000   \n",
       "75%                            1.000000                   31439.000000   \n",
       "max                            2.000000                  765864.000000   \n",
       "\n",
       "       Total Rice Expenditure  Meat Expenditure  \\\n",
       "count            41544.000000      41544.000000   \n",
       "mean             18195.825005      10540.072574   \n",
       "std              11727.224350      10497.727757   \n",
       "min                  0.000000          0.000000   \n",
       "25%              11020.000000       3353.750000   \n",
       "50%              16620.000000       7332.500000   \n",
       "75%              23920.000000      14292.000000   \n",
       "max             758326.000000     261566.000000   \n",
       "\n",
       "       Total Fish and  marine products Expenditure  Fruit Expenditure  \\\n",
       "count                                 41544.000000       41544.000000   \n",
       "mean                                  10529.318337        2550.474990   \n",
       "std                                    7812.201613        2969.752879   \n",
       "min                                       0.000000           0.000000   \n",
       "25%                                    5504.000000        1024.750000   \n",
       "50%                                    8695.000000        1820.000000   \n",
       "75%                                   13388.000000        3100.000000   \n",
       "max                                  188208.000000      273769.000000   \n",
       "\n",
       "       Vegetables Expenditure  Restaurant and hotels Expenditure  ...  \\\n",
       "count            41544.000000                       41544.000000  ...   \n",
       "mean              5006.918568                       15436.566075  ...   \n",
       "std               3300.175236                       23705.195929  ...   \n",
       "min                  0.000000                           0.000000  ...   \n",
       "25%               2873.000000                        1930.000000  ...   \n",
       "50%               4314.000000                        7314.000000  ...   \n",
       "75%               6304.250000                       19921.250000  ...   \n",
       "max              74800.000000                      725296.000000  ...   \n",
       "\n",
       "       Number of Refrigerator/Freezer  Number of Washing Machine  \\\n",
       "count                    41544.000000               41544.000000   \n",
       "mean                         0.394184                   0.319806   \n",
       "std                          0.537025                   0.478482   \n",
       "min                          0.000000                   0.000000   \n",
       "25%                          0.000000                   0.000000   \n",
       "50%                          0.000000                   0.000000   \n",
       "75%                          1.000000                   1.000000   \n",
       "max                          5.000000                   3.000000   \n",
       "\n",
       "       Number of Airconditioner  Number of Car, Jeep, Van  \\\n",
       "count              41544.000000              41544.000000   \n",
       "mean                   0.129814                  0.081215   \n",
       "std                    0.448673                  0.346786   \n",
       "min                    0.000000                  0.000000   \n",
       "25%                    0.000000                  0.000000   \n",
       "50%                    0.000000                  0.000000   \n",
       "75%                    0.000000                  0.000000   \n",
       "max                    5.000000                  5.000000   \n",
       "\n",
       "       Number of Landline/wireless telephones  Number of Cellular phone  \\\n",
       "count                            41544.000000              41544.000000   \n",
       "mean                                 0.060610                  1.905738   \n",
       "std                                  0.276732                  1.558130   \n",
       "min                                  0.000000                  0.000000   \n",
       "25%                                  0.000000                  1.000000   \n",
       "50%                                  0.000000                  2.000000   \n",
       "75%                                  0.000000                  3.000000   \n",
       "max                                  4.000000                 10.000000   \n",
       "\n",
       "       Number of Personal Computer  Number of Stove with Oven/Gas Range  \\\n",
       "count                 41544.000000                         41544.000000   \n",
       "mean                      0.315015                             0.135038   \n",
       "std                       0.739698                             0.354083   \n",
       "min                       0.000000                             0.000000   \n",
       "25%                       0.000000                             0.000000   \n",
       "50%                       0.000000                             0.000000   \n",
       "75%                       0.000000                             0.000000   \n",
       "max                       6.000000                             3.000000   \n",
       "\n",
       "       Number of Motorized Banca  Number of Motorcycle/Tricycle  \n",
       "count               41544.000000                   41544.000000  \n",
       "mean                    0.013119                       0.289885  \n",
       "std                     0.127171                       0.558408  \n",
       "min                     0.000000                       0.000000  \n",
       "25%                     0.000000                       0.000000  \n",
       "50%                     0.000000                       0.000000  \n",
       "75%                     0.000000                       0.000000  \n",
       "max                     3.000000                       5.000000  \n",
       "\n",
       "[8 rows x 45 columns]"
      ]
     },
     "execution_count": 10,
     "metadata": {},
     "output_type": "execute_result"
    }
   ],
   "source": [
    "#Skewed to right\n",
    "house.describe()"
   ]
  },
  {
   "cell_type": "markdown",
   "metadata": {
    "colab_type": "text",
    "id": "FI_k9uSEVf4_"
   },
   "source": [
    "**ANSWER:**"
   ]
  },
  {
   "cell_type": "markdown",
   "metadata": {
    "colab_type": "text",
    "id": "j1hOsdI2Vf4_"
   },
   "source": [
    "##### 2. What is the mean income of this population?"
   ]
  },
  {
   "cell_type": "code",
   "execution_count": 21,
   "metadata": {},
   "outputs": [
    {
     "data": {
      "text/plain": [
       "247555.58480165608"
      ]
     },
     "execution_count": 21,
     "metadata": {},
     "output_type": "execute_result"
    }
   ],
   "source": [
    "# ANSWER\n",
    "house_mean = house['Total Household Income'].mean()\n",
    "house_mean"
   ]
  },
  {
   "cell_type": "markdown",
   "metadata": {
    "colab_type": "text",
    "id": "U-aYo343Vf5D"
   },
   "source": [
    "##### 3. What sampling statistic/point estimate would you use to estimate the mean of this population if you were given a random sample from the population?"
   ]
  },
  {
   "cell_type": "markdown",
   "metadata": {
    "colab_type": "text",
    "id": "MliyslcyVf5E"
   },
   "source": [
    "**ANSWER"
   ]
  },
  {
   "cell_type": "markdown",
   "metadata": {
    "colab_type": "text",
    "id": "TkxedbVpVf5E"
   },
   "source": [
    "#### Simulated sampling (sample means)"
   ]
  },
  {
   "cell_type": "markdown",
   "metadata": {
    "colab_type": "text",
    "id": "PREGkP4vVf5F"
   },
   "source": [
    "Now, we'd like to get an idea of what happens when we take multiple random samples of size 5. \n",
    "\n",
    "Take 10 sample (size=5) from the entire population. Calculate means for each sample. Now make a histogram of all the sample means.\n",
    "\n",
    "- Describe the shape of the histogram.\n",
    "- What is the center of the distribution of sample means?"
   ]
  },
  {
   "cell_type": "markdown",
   "metadata": {
    "colab_type": "text",
    "id": "i6_BukQlVf5G"
   },
   "source": [
    "##### 4. Simulation with `sample_size=5`"
   ]
  },
  {
   "cell_type": "markdown",
   "metadata": {
    "colab_type": "text",
    "id": "-CP_eMlOVf5G"
   },
   "source": [
    "Take 10 samples, but with a sample size of 5."
   ]
  },
  {
   "cell_type": "code",
   "execution_count": 31,
   "metadata": {
    "colab": {},
    "colab_type": "code",
    "id": "rqSxVPVwVf5H"
   },
   "outputs": [],
   "source": [
    "# ANSWER\n",
    "def getSample(n,a):\n",
    "    house_sample_list =[]\n",
    "    for i in range(n):\n",
    "        house_sample = house.sample(a)\n",
    "        house_sample_list.append(house_sample['Total Household Income'].mean())\n",
    "    return house_sample_list "
   ]
  },
  {
   "cell_type": "markdown",
   "metadata": {},
   "source": [
    "def calculate_sample_mean(df, column_name, N=10, sample_size=5):\n",
    "   sample_mean_list = []\n",
    "\n",
    "    for i in range(N):\n",
    "        df_sample = df.sample(n=sample_size)\n",
    "        sample_mean_list.append(df_sample[column_name].mean())\n",
    "    \n",
    "    return sample_mean_list"
   ]
  },
  {
   "cell_type": "code",
   "execution_count": 32,
   "metadata": {},
   "outputs": [
    {
     "name": "stdout",
     "output_type": "stream",
     "text": [
      "[156182.4, 160049.8, 287488.6, 199657.8, 461742.0]\n"
     ]
    }
   ],
   "source": [
    "print(getSample(5,5))"
   ]
  },
  {
   "cell_type": "markdown",
   "metadata": {
    "colab_type": "text",
    "id": "CrInQX6EVf5J"
   },
   "source": [
    "###### 4.A Make a histogram of all the sample means"
   ]
  },
  {
   "cell_type": "code",
   "execution_count": 0,
   "metadata": {
    "colab": {},
    "colab_type": "code",
    "id": "oU5T6NQaVf5K"
   },
   "outputs": [],
   "source": [
    "# ANSWER"
   ]
  },
  {
   "cell_type": "code",
   "execution_count": 28,
   "metadata": {},
   "outputs": [],
   "source": [
    "def visual_sample_mean(population_mean, sample_mean_list):\n",
    "    sample_mean = np.mean(sample_mean_list)\n",
    "    ax = sns.distplot(sample_mean_list);\n",
    "    \n",
    "    # plot a vertical line for population mean and sample mean\n",
    "    ax.axvline(population_mean, color='black', linestyle='solid', lw=1)\n",
    "    ax.axvline(sample_mean, color='red', linestyle='dashed', lw=1)\n",
    "    \n",
    "    plt.xlabel('Mean of Samples')\n",
    "    plt.ylabel('Frequency')\n",
    "\n",
    "    plt.show()"
   ]
  },
  {
   "cell_type": "code",
   "execution_count": 33,
   "metadata": {},
   "outputs": [],
   "source": [
    "house_sample_list = getSample(5,5)"
   ]
  },
  {
   "cell_type": "code",
   "execution_count": 30,
   "metadata": {},
   "outputs": [
    {
     "data": {
      "image/png": "[encoded data removed]",
      "text/plain": [
       "<Figure size 432x288 with 1 Axes>"
      ]
     },
     "metadata": {
      "needs_background": "light"
     },
     "output_type": "display_data"
    }
   ],
   "source": [
    "visual_sample_mean(house_mean,house_sample_list)"
   ]
  },
  {
   "cell_type": "markdown",
   "metadata": {
    "colab_type": "text",
    "id": "laC4ugRjVf5M"
   },
   "source": [
    "###### 4.B Describe the shape of the histogram."
   ]
  },
  {
   "cell_type": "markdown",
   "metadata": {
    "colab_type": "text",
    "id": "2_FSwIVJVf5M"
   },
   "source": [
    "**ANSWER:**"
   ]
  },
  {
   "cell_type": "markdown",
   "metadata": {
    "colab_type": "text",
    "id": "9oCRfg1YVf5N"
   },
   "source": [
    "##### 7. Simulation with `sample_size=15`"
   ]
  },
  {
   "cell_type": "markdown",
   "metadata": {
    "colab_type": "text",
    "id": "gjtCdkx0Vf5N"
   },
   "source": [
    "let's try taking another 1000 samples, but with a sample size of 15"
   ]
  },
  {
   "cell_type": "code",
   "execution_count": 35,
   "metadata": {
    "colab": {},
    "colab_type": "code",
    "id": "80IQ6Sa-Vf5O"
   },
   "outputs": [
    {
     "data": {
      "image/png": "[encoded data removed]",
      "text/plain": [
       "<Figure size 432x288 with 1 Axes>"
      ]
     },
     "metadata": {
      "needs_background": "light"
     },
     "output_type": "display_data"
    }
   ],
   "source": [
    "# ANSWER\n",
    "house_sample_100 = getSample(1000,15)\n",
    "visual_sample_mean(house_mean,house_sample_100)"
   ]
  },
  {
   "cell_type": "markdown",
   "metadata": {
    "colab_type": "text",
    "id": "J8k2KhsQVf5Q"
   },
   "source": [
    "##### 8. Simulation with `sample_size=50`"
   ]
  },
  {
   "cell_type": "markdown",
   "metadata": {
    "colab_type": "text",
    "id": "AAAdK633Vf5R"
   },
   "source": [
    "Let's try taking another 1000 samples, but with a sample size of 50"
   ]
  },
  {
   "cell_type": "code",
   "execution_count": 36,
   "metadata": {
    "colab": {},
    "colab_type": "code",
    "id": "zgj6G2ghVf5R"
   },
   "outputs": [
    {
     "data": {
      "image/png": "[encoded data removed]",
      "text/plain": [
       "<Figure size 432x288 with 1 Axes>"
      ]
     },
     "metadata": {
      "needs_background": "light"
     },
     "output_type": "display_data"
    }
   ],
   "source": [
    "# ANSWER\n",
    "house_sample_100 = getSample(1000,50)\n",
    "visual_sample_mean(house_mean,house_sample_100)"
   ]
  },
  {
   "cell_type": "markdown",
   "metadata": {
    "colab_type": "text",
    "id": "K2iwg-qXVf5T"
   },
   "source": [
    "###### 8.A Describe the shape of the histogram of sample means (using sample size of 50)"
   ]
  },
  {
   "cell_type": "markdown",
   "metadata": {
    "colab_type": "text",
    "id": "WLw5q7TxVf5U"
   },
   "source": [
    "**ANSWER:**"
   ]
  },
  {
   "cell_type": "markdown",
   "metadata": {
    "colab_type": "text",
    "id": "udgqwlA2Vf5V"
   },
   "source": [
    "###### 8.B What is mean of the distribution of sample means?"
   ]
  },
  {
   "cell_type": "code",
   "execution_count": 38,
   "metadata": {
    "colab": {},
    "colab_type": "code",
    "id": "U6qOqsgeVf5W"
   },
   "outputs": [
    {
     "data": {
      "text/plain": [
       "247612.03806"
      ]
     },
     "execution_count": 38,
     "metadata": {},
     "output_type": "execute_result"
    }
   ],
   "source": [
    "# ANSWER\n",
    "np.mean(house_sample_100)"
   ]
  },
  {
   "cell_type": "markdown",
   "metadata": {
    "colab_type": "text",
    "id": "bmWVLwnyVf5Y"
   },
   "source": [
    "**ANSWER:**\n",
    "\n",
    "> If repeated random samples of a given size n are taken from a population of values for a quantitative variable, where the population mean is μ (mu) and the population standard deviation is σ (sigma) then the mean of all sample means (x-bars) is population mean μ (mu)."
   ]
  },
  {
   "cell_type": "markdown",
   "metadata": {
    "colab_type": "text",
    "id": "Yml6WoZcVf5Z"
   },
   "source": [
    "###### 8.C As the sample size grew, did your results confirm the CLT?"
   ]
  },
  {
   "cell_type": "markdown",
   "metadata": {
    "colab_type": "text",
    "id": "PSNXrDxyVf5a"
   },
   "source": [
    "**ANSWER:**"
   ]
  },
  {
   "cell_type": "markdown",
   "metadata": {
    "colab_type": "text",
    "id": "ifU4EAcJm0xa"
   },
   "source": [
    "\n",
    "\n",
    "---\n",
    "\n",
    "\n",
    "\n",
    "---\n",
    "\n",
    "\n",
    "\n",
    "> > > > > > > > > © 2019 Institute of Data\n",
    "\n",
    "\n",
    "---\n",
    "\n",
    "\n",
    "\n",
    "---\n",
    "\n",
    "\n",
    "\n"
   ]
  }
 ],
 "metadata": {
  "colab": {
   "collapsed_sections": [],
   "name": "DSIA Lab 3.1.3.ipynb",
   "provenance": []
  },
  "kernelspec": {
   "display_name": "Python 3",
   "language": "python",
   "name": "python3"
  },
  "language_info": {
   "codemirror_mode": {
    "name": "ipython",
    "version": 3
   },
   "file_extension": ".py",
   "mimetype": "text/x-python",
   "name": "python",
   "nbconvert_exporter": "python",
   "pygments_lexer": "ipython3",
   "version": "3.7.7"
  }
 },
 "nbformat": 4,
 "nbformat_minor": 1
}
