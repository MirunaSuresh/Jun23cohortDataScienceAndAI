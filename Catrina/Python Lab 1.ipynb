{
 "cells": [
  {
   "cell_type": "markdown",
   "metadata": {
    "colab_type": "text",
    "id": "7KeNKtNL2Ix-"
   },
   "source": [
    "<div>\n",
    "<img src=https://www.institutedata.com/wp-content/uploads/2019/10/iod_h_tp_primary_c.svg width=\"300\">\n",
    "</div>\n",
    "\n",
    "# Python - Lab 1 \n",
    "\n",
    "## Learning objectives\n",
    "\n",
    "This lab demonstrates examples of: \n",
    "\n",
    "1. Creating and manipulating lists\n",
    "2. For loops\n",
    "3. Importing modules and functions\n",
    "4. Creating dictonaries\n",
    "\n",
    "## Instructions:\n",
    "\n",
    "1. Replace ??? with the appropriate code\n",
    "2. Press Shift + Enter to execute cell\n",
    "\n"
   ]
  },
  {
   "cell_type": "code",
   "execution_count": 7,
   "metadata": {
    "colab": {},
    "colab_type": "code",
    "id": "NaRcNY1l2LbD"
   },
   "outputs": [],
   "source": [
    "# create a list of 10 student (use just first name)\n",
    "students = [\"Alice\", \"Bob\", \"Jane\", \"Mary\", \"Tim\", \"Sally\", \"Michael\", \"Amy\",\"James\",\"Alex\"]\n"
   ]
  },
  {
   "cell_type": "code",
   "execution_count": 9,
   "metadata": {
    "colab": {},
    "colab_type": "code",
    "id": "lyMlOgoUZ2R4"
   },
   "outputs": [
    {
     "name": "stdout",
     "output_type": "stream",
     "text": [
      "Student List: ['Alice', 'Bob', 'Jane', 'Mary', 'Tim', 'Sally', 'Michael', 'Amy', 'James', 'Alex']\n"
     ]
    }
   ],
   "source": [
    "# Print the list\n",
    "print(f'Student List: {students}')      \n"
   ]
  },
  {
   "cell_type": "code",
   "execution_count": 10,
   "metadata": {},
   "outputs": [
    {
     "name": "stdout",
     "output_type": "stream",
     "text": [
      "{20*'#'}\n",
      "The type of variable a: 700\n"
     ]
    }
   ],
   "source": [
    "# this is a comment\n",
    "a = 100\n",
    "a = a + 200\n",
    "print(\"{20*'#'}\")\n",
    "print (f\"The type of variable a: {a+400}\")\n"
   ]
  },
  {
   "cell_type": "code",
   "execution_count": 19,
   "metadata": {
    "colab": {},
    "colab_type": "code",
    "id": "LtbLA_T811kr"
   },
   "outputs": [
    {
     "name": "stdout",
     "output_type": "stream",
     "text": [
      "Index 01 \tAlice\n",
      "Index 02 \tBob\n",
      "Index 03 \tJane\n",
      "Index 04 \tMary\n",
      "Index 05 \tTim\n",
      "Index 06 \tSally\n",
      "Index 07 \tMichael\n",
      "Index 08 \tAmy\n",
      "Index 09 \tJames\n",
      "Index 10 \tAlex\n"
     ]
    }
   ],
   "source": [
    "# print the list of students\n",
    "# in the following format\n",
    "# Index 01 \t Alice\n",
    "# Index 02 \t Bob\n",
    "# Index 03 \t Pradeep\n",
    "for i, student in enumerate(students):\n",
    "    print(f'Index {i+1:02} \\t{student}')\n",
    "          "
   ]
  },
  {
   "cell_type": "code",
   "execution_count": 23,
   "metadata": {
    "colab": {},
    "colab_type": "code",
    "id": "OF5sj3CX1lHl"
   },
   "outputs": [
    {
     "name": "stdout",
     "output_type": "stream",
     "text": [
      "Index 01 \tAlex\n",
      "Index 02 \tJames\n",
      "Index 03 \tAmy\n",
      "Index 04 \tMichael\n",
      "Index 05 \tSally\n",
      "Index 06 \tTim\n",
      "Index 07 \tMary\n",
      "Index 08 \tJane\n",
      "Index 09 \tBob\n",
      "Index 10 \tAlice\n"
     ]
    }
   ],
   "source": [
    "# print the list of students in reverse order one student in a line with its index\n",
    "students_reversed = students.copy()\n",
    "students_reversed.reverse()\n",
    "for i, student in enumerate(students_reversed):\n",
    "     print(f'Index {i+1:02} \\t{student}')"
   ]
  },
  {
   "cell_type": "code",
   "execution_count": 21,
   "metadata": {
    "colab": {},
    "colab_type": "code",
    "id": "eAdtim4G1pyV"
   },
   "outputs": [
    {
     "name": "stdout",
     "output_type": "stream",
     "text": [
      "['Jane', 'Alex', 'Tim', 'Alice', 'Mary', 'Bob', 'Sally', 'Amy', 'Michael', 'James']\n"
     ]
    }
   ],
   "source": [
    "# print the student list in random order\n",
    "# hint look up the function random.sample\n",
    "import  random\n",
    "students_random = random.sample(students,len(students))\n",
    "print(students_random)\n",
    "\n",
    "\n"
   ]
  },
  {
   "cell_type": "code",
   "execution_count": 36,
   "metadata": {
    "colab": {},
    "colab_type": "code",
    "id": "sfKkL5dt1tqG"
   },
   "outputs": [
    {
     "name": "stdout",
     "output_type": "stream",
     "text": [
      "Students and their marks: \n",
      " {'Alice': 90, 'Bob': 87, 'Jane': 76, 'Mary': 75, 'Tim': 73, 'Sally': 69, 'Michael': 66, 'Amy': 64, 'James': 55, 'Alex': 45}\n"
     ]
    }
   ],
   "source": [
    "# list students in order of their exam marks in the following list\n",
    "marks = [87,45,76,64,66,90,55,73,69,75]\n",
    "students_marks = dict(zip(students,sorted(marks, reverse=True)))\n",
    "print(f\"Students and their marks: \\n {students_marks}\")\n",
    "\n"
   ]
  },
  {
   "cell_type": "code",
   "execution_count": 25,
   "metadata": {
    "colab": {},
    "colab_type": "code",
    "id": "9d9QrXRo182c"
   },
   "outputs": [
    {
     "name": "stdout",
     "output_type": "stream",
     "text": [
      "Students and their marks: \n",
      " {'Alice': 87, 'Bob': 45, 'Jane': 76, 'Mary': 64, 'Tim': 66, 'Sally': 90, 'Michael': 55, 'Amy': 73, 'James': 69, 'Alex': 75}\n"
     ]
    },
    {
     "data": {
      "text/plain": [
       "{'Sally': 90,\n",
       " 'Alice': 87,\n",
       " 'Jane': 76,\n",
       " 'Alex': 75,\n",
       " 'Amy': 73,\n",
       " 'James': 69,\n",
       " 'Tim': 66,\n",
       " 'Mary': 64,\n",
       " 'Michael': 55,\n",
       " 'Bob': 45}"
      ]
     },
     "execution_count": 25,
     "metadata": {},
     "output_type": "execute_result"
    }
   ],
   "source": [
    "# list students in order of their exam marks in the following list\n",
    "marks = [87,45,76,64,66,90,55,73,69,75]\n",
    "studentsAndMarks = dict(zip(students,marks))\n",
    "print(f\"Students and their marks: \\n {studentsAndMarks}\")\n",
    "{k: v for k, v in sorted(studentsAndMarks.items(), key=lambda item: item[1],reverse=True)}"
   ]
  },
  {
   "cell_type": "code",
   "execution_count": 26,
   "metadata": {},
   "outputs": [
    {
     "name": "stdout",
     "output_type": "stream",
     "text": [
      "Sally     :90\n",
      "Alice     :87\n",
      "Jane      :76\n",
      "Alex      :75\n",
      "Amy       :73\n",
      "James     :69\n",
      "Tim       :66\n",
      "Mary      :64\n"
     ]
    }
   ],
   "source": [
    "# Extension: Keep only students who have a mark above 60\n",
    "\n",
    "studentsAbove60 = dict()\n",
    "\n",
    "for student in studentsAndMarks.keys(): \n",
    "    if studentsAndMarks[student] > 60:\n",
    "        studentsAbove60[student] = studentsAndMarks[student]\n",
    "\n",
    "for student in sorted(studentsAbove60, key=studentsAbove60.get, reverse=True):\n",
    "  print(f\"{student:10s}:{studentsAbove60[student]}\")    \n"
   ]
  },
  {
   "cell_type": "code",
   "execution_count": null,
   "metadata": {},
   "outputs": [],
   "source": []
  }
 ],
 "metadata": {
  "colab": {
   "collapsed_sections": [],
   "name": "Lab01.ipynb",
   "provenance": []
  },
  "kernelspec": {
   "display_name": "Python 3",
   "language": "python",
   "name": "python3"
  },
  "language_info": {
   "codemirror_mode": {
    "name": "ipython",
    "version": 3
   },
   "file_extension": ".py",
   "mimetype": "text/x-python",
   "name": "python",
   "nbconvert_exporter": "python",
   "pygments_lexer": "ipython3",
   "version": "3.7.6"
  }
 },
 "nbformat": 4,
 "nbformat_minor": 1
}
