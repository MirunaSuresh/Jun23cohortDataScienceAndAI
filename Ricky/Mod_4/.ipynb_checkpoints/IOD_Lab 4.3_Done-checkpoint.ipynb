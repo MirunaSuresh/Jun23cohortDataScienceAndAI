{
 "cells": [
  {
   "cell_type": "markdown",
   "metadata": {
    "colab_type": "text",
    "id": "gm7oR_yWsjnk"
   },
   "source": [
    "<div>\n",
    "<img src=https://www.institutedata.com/wp-content/uploads/2019/10/iod_h_tp_primary_c.svg width=\"300\">\n",
    "</div>"
   ]
  },
  {
   "cell_type": "markdown",
   "metadata": {
    "colab_type": "text",
    "id": "UlfytRuusjnn"
   },
   "source": [
    "# Lab 4.3: Measurements"
   ]
  },
  {
   "cell_type": "code",
   "execution_count": 1,
   "metadata": {
    "colab": {},
    "colab_type": "code",
    "id": "xHsJeO0tsjno"
   },
   "outputs": [],
   "source": [
    "## Import Libraries\n",
    "\n",
    "import pandas as pd\n",
    "\n",
    "%matplotlib inline\n",
    "import matplotlib.pyplot as plt\n",
    "\n",
    "from sklearn import datasets\n",
    "from sklearn.linear_model import LinearRegression\n",
    "from sklearn.model_selection import train_test_split"
   ]
  },
  {
   "cell_type": "markdown",
   "metadata": {
    "colab_type": "text",
    "id": "j-Y7yPDBsjnw"
   },
   "source": [
    "### 1. Forward Feature Selection\n",
    "\n",
    "> Forward Selection: Forward selection is an iterative method in which we start with having no feature in the model. In each iteration, we keep adding the feature which best improves our model till an addition of a new variable does not improve the performance of the model.\n",
    "\n",
    "Create a Regression model using Forward Feature Selection by looping over all the features adding one at a time until there are no improvements on the prediction metric ( R2  and  AdjustedR2  in this case)."
   ]
  },
  {
   "cell_type": "markdown",
   "metadata": {
    "colab_type": "text",
    "id": "mFSxSn2hsjnz"
   },
   "source": [
    "#### 1.1 Load Diabetics Data Using datasets of sklearn"
   ]
  },
  {
   "cell_type": "code",
   "execution_count": 2,
   "metadata": {
    "colab": {},
    "colab_type": "code",
    "id": "l2gHGPKVsjn0"
   },
   "outputs": [],
   "source": [
    "## Load the Diabetes Housing dataset\n",
    "\n",
    "# Load the diabetes dataset from sklearn\n",
    "diabetes = datasets.load_diabetes()"
   ]
  },
  {
   "cell_type": "code",
   "execution_count": 3,
   "metadata": {
    "colab": {
     "base_uri": "https://localhost:8080/",
     "height": 712
    },
    "colab_type": "code",
    "id": "VNyg3soKsjn3",
    "outputId": "230ac33d-8184-4fe3-c144-a594e8ee0a20"
   },
   "outputs": [
    {
     "name": "stdout",
     "output_type": "stream",
     "text": [
      ".. _diabetes_dataset:\n",
      "\n",
      "Diabetes dataset\n",
      "----------------\n",
      "\n",
      "Ten baseline variables, age, sex, body mass index, average blood\n",
      "pressure, and six blood serum measurements were obtained for each of n =\n",
      "442 diabetes patients, as well as the response of interest, a\n",
      "quantitative measure of disease progression one year after baseline.\n",
      "\n",
      "**Data Set Characteristics:**\n",
      "\n",
      "  :Number of Instances: 442\n",
      "\n",
      "  :Number of Attributes: First 10 columns are numeric predictive values\n",
      "\n",
      "  :Target: Column 11 is a quantitative measure of disease progression one year after baseline\n",
      "\n",
      "  :Attribute Information:\n",
      "      - age     age in years\n",
      "      - sex\n",
      "      - bmi     body mass index\n",
      "      - bp      average blood pressure\n",
      "      - s1      tc, T-Cells (a type of white blood cells)\n",
      "      - s2      ldl, low-density lipoproteins\n",
      "      - s3      hdl, high-density lipoproteins\n",
      "      - s4      tch, thyroid stimulating hormone\n",
      "      - s5      ltg, lamotrigine\n",
      "      - s6      glu, blood sugar level\n",
      "\n",
      "Note: Each of these 10 feature variables have been mean centered and scaled by the standard deviation times `n_samples` (i.e. the sum of squares of each column totals 1).\n",
      "\n",
      "Source URL:\n",
      "https://www4.stat.ncsu.edu/~boos/var.select/diabetes.html\n",
      "\n",
      "For more information see:\n",
      "Bradley Efron, Trevor Hastie, Iain Johnstone and Robert Tibshirani (2004) \"Least Angle Regression,\" Annals of Statistics (with discussion), 407-499.\n",
      "(https://web.stanford.edu/~hastie/Papers/LARS/LeastAngle_2002.pdf)\n"
     ]
    }
   ],
   "source": [
    "# Description\n",
    "print(diabetes.DESCR)"
   ]
  },
  {
   "cell_type": "code",
   "execution_count": 4,
   "metadata": {
    "colab": {},
    "colab_type": "code",
    "id": "0Le6yeYXsjn-"
   },
   "outputs": [
    {
     "data": {
      "text/html": [
       "<div>\n",
       "<style scoped>\n",
       "    .dataframe tbody tr th:only-of-type {\n",
       "        vertical-align: middle;\n",
       "    }\n",
       "\n",
       "    .dataframe tbody tr th {\n",
       "        vertical-align: top;\n",
       "    }\n",
       "\n",
       "    .dataframe thead th {\n",
       "        text-align: right;\n",
       "    }\n",
       "</style>\n",
       "<table border=\"1\" class=\"dataframe\">\n",
       "  <thead>\n",
       "    <tr style=\"text-align: right;\">\n",
       "      <th></th>\n",
       "      <th>age</th>\n",
       "      <th>sex</th>\n",
       "      <th>bmi</th>\n",
       "      <th>bp</th>\n",
       "      <th>s1</th>\n",
       "      <th>s2</th>\n",
       "      <th>s3</th>\n",
       "      <th>s4</th>\n",
       "      <th>s5</th>\n",
       "      <th>s6</th>\n",
       "    </tr>\n",
       "  </thead>\n",
       "  <tbody>\n",
       "    <tr>\n",
       "      <th>0</th>\n",
       "      <td>0.038076</td>\n",
       "      <td>0.050680</td>\n",
       "      <td>0.061696</td>\n",
       "      <td>0.021872</td>\n",
       "      <td>-0.044223</td>\n",
       "      <td>-0.034821</td>\n",
       "      <td>-0.043401</td>\n",
       "      <td>-0.002592</td>\n",
       "      <td>0.019908</td>\n",
       "      <td>-0.017646</td>\n",
       "    </tr>\n",
       "    <tr>\n",
       "      <th>1</th>\n",
       "      <td>-0.001882</td>\n",
       "      <td>-0.044642</td>\n",
       "      <td>-0.051474</td>\n",
       "      <td>-0.026328</td>\n",
       "      <td>-0.008449</td>\n",
       "      <td>-0.019163</td>\n",
       "      <td>0.074412</td>\n",
       "      <td>-0.039493</td>\n",
       "      <td>-0.068330</td>\n",
       "      <td>-0.092204</td>\n",
       "    </tr>\n",
       "    <tr>\n",
       "      <th>2</th>\n",
       "      <td>0.085299</td>\n",
       "      <td>0.050680</td>\n",
       "      <td>0.044451</td>\n",
       "      <td>-0.005671</td>\n",
       "      <td>-0.045599</td>\n",
       "      <td>-0.034194</td>\n",
       "      <td>-0.032356</td>\n",
       "      <td>-0.002592</td>\n",
       "      <td>0.002864</td>\n",
       "      <td>-0.025930</td>\n",
       "    </tr>\n",
       "    <tr>\n",
       "      <th>3</th>\n",
       "      <td>-0.089063</td>\n",
       "      <td>-0.044642</td>\n",
       "      <td>-0.011595</td>\n",
       "      <td>-0.036656</td>\n",
       "      <td>0.012191</td>\n",
       "      <td>0.024991</td>\n",
       "      <td>-0.036038</td>\n",
       "      <td>0.034309</td>\n",
       "      <td>0.022692</td>\n",
       "      <td>-0.009362</td>\n",
       "    </tr>\n",
       "    <tr>\n",
       "      <th>4</th>\n",
       "      <td>0.005383</td>\n",
       "      <td>-0.044642</td>\n",
       "      <td>-0.036385</td>\n",
       "      <td>0.021872</td>\n",
       "      <td>0.003935</td>\n",
       "      <td>0.015596</td>\n",
       "      <td>0.008142</td>\n",
       "      <td>-0.002592</td>\n",
       "      <td>-0.031991</td>\n",
       "      <td>-0.046641</td>\n",
       "    </tr>\n",
       "    <tr>\n",
       "      <th>...</th>\n",
       "      <td>...</td>\n",
       "      <td>...</td>\n",
       "      <td>...</td>\n",
       "      <td>...</td>\n",
       "      <td>...</td>\n",
       "      <td>...</td>\n",
       "      <td>...</td>\n",
       "      <td>...</td>\n",
       "      <td>...</td>\n",
       "      <td>...</td>\n",
       "    </tr>\n",
       "    <tr>\n",
       "      <th>437</th>\n",
       "      <td>0.041708</td>\n",
       "      <td>0.050680</td>\n",
       "      <td>0.019662</td>\n",
       "      <td>0.059744</td>\n",
       "      <td>-0.005697</td>\n",
       "      <td>-0.002566</td>\n",
       "      <td>-0.028674</td>\n",
       "      <td>-0.002592</td>\n",
       "      <td>0.031193</td>\n",
       "      <td>0.007207</td>\n",
       "    </tr>\n",
       "    <tr>\n",
       "      <th>438</th>\n",
       "      <td>-0.005515</td>\n",
       "      <td>0.050680</td>\n",
       "      <td>-0.015906</td>\n",
       "      <td>-0.067642</td>\n",
       "      <td>0.049341</td>\n",
       "      <td>0.079165</td>\n",
       "      <td>-0.028674</td>\n",
       "      <td>0.034309</td>\n",
       "      <td>-0.018118</td>\n",
       "      <td>0.044485</td>\n",
       "    </tr>\n",
       "    <tr>\n",
       "      <th>439</th>\n",
       "      <td>0.041708</td>\n",
       "      <td>0.050680</td>\n",
       "      <td>-0.015906</td>\n",
       "      <td>0.017282</td>\n",
       "      <td>-0.037344</td>\n",
       "      <td>-0.013840</td>\n",
       "      <td>-0.024993</td>\n",
       "      <td>-0.011080</td>\n",
       "      <td>-0.046879</td>\n",
       "      <td>0.015491</td>\n",
       "    </tr>\n",
       "    <tr>\n",
       "      <th>440</th>\n",
       "      <td>-0.045472</td>\n",
       "      <td>-0.044642</td>\n",
       "      <td>0.039062</td>\n",
       "      <td>0.001215</td>\n",
       "      <td>0.016318</td>\n",
       "      <td>0.015283</td>\n",
       "      <td>-0.028674</td>\n",
       "      <td>0.026560</td>\n",
       "      <td>0.044528</td>\n",
       "      <td>-0.025930</td>\n",
       "    </tr>\n",
       "    <tr>\n",
       "      <th>441</th>\n",
       "      <td>-0.045472</td>\n",
       "      <td>-0.044642</td>\n",
       "      <td>-0.073030</td>\n",
       "      <td>-0.081414</td>\n",
       "      <td>0.083740</td>\n",
       "      <td>0.027809</td>\n",
       "      <td>0.173816</td>\n",
       "      <td>-0.039493</td>\n",
       "      <td>-0.004220</td>\n",
       "      <td>0.003064</td>\n",
       "    </tr>\n",
       "  </tbody>\n",
       "</table>\n",
       "<p>442 rows × 10 columns</p>\n",
       "</div>"
      ],
      "text/plain": [
       "          age       sex       bmi        bp        s1        s2        s3  \\\n",
       "0    0.038076  0.050680  0.061696  0.021872 -0.044223 -0.034821 -0.043401   \n",
       "1   -0.001882 -0.044642 -0.051474 -0.026328 -0.008449 -0.019163  0.074412   \n",
       "2    0.085299  0.050680  0.044451 -0.005671 -0.045599 -0.034194 -0.032356   \n",
       "3   -0.089063 -0.044642 -0.011595 -0.036656  0.012191  0.024991 -0.036038   \n",
       "4    0.005383 -0.044642 -0.036385  0.021872  0.003935  0.015596  0.008142   \n",
       "..        ...       ...       ...       ...       ...       ...       ...   \n",
       "437  0.041708  0.050680  0.019662  0.059744 -0.005697 -0.002566 -0.028674   \n",
       "438 -0.005515  0.050680 -0.015906 -0.067642  0.049341  0.079165 -0.028674   \n",
       "439  0.041708  0.050680 -0.015906  0.017282 -0.037344 -0.013840 -0.024993   \n",
       "440 -0.045472 -0.044642  0.039062  0.001215  0.016318  0.015283 -0.028674   \n",
       "441 -0.045472 -0.044642 -0.073030 -0.081414  0.083740  0.027809  0.173816   \n",
       "\n",
       "           s4        s5        s6  \n",
       "0   -0.002592  0.019908 -0.017646  \n",
       "1   -0.039493 -0.068330 -0.092204  \n",
       "2   -0.002592  0.002864 -0.025930  \n",
       "3    0.034309  0.022692 -0.009362  \n",
       "4   -0.002592 -0.031991 -0.046641  \n",
       "..        ...       ...       ...  \n",
       "437 -0.002592  0.031193  0.007207  \n",
       "438  0.034309 -0.018118  0.044485  \n",
       "439 -0.011080 -0.046879  0.015491  \n",
       "440  0.026560  0.044528 -0.025930  \n",
       "441 -0.039493 -0.004220  0.003064  \n",
       "\n",
       "[442 rows x 10 columns]"
      ]
     },
     "execution_count": 4,
     "metadata": {},
     "output_type": "execute_result"
    }
   ],
   "source": [
    "# Predictors\n",
    "X = pd.DataFrame(diabetes.data, columns = diabetes.feature_names)\n",
    "X"
   ]
  },
  {
   "cell_type": "code",
   "execution_count": 5,
   "metadata": {},
   "outputs": [
    {
     "data": {
      "text/plain": [
       "(array([  3.,  13.,  32.,  75.,  82., 119.,  63.,  30.,  17.,   8.]),\n",
       " array([-0.13776723, -0.11042932, -0.08309141, -0.05575351, -0.0284156 ,\n",
       "        -0.0010777 ,  0.02626021,  0.05359811,  0.08093602,  0.10827393,\n",
       "         0.13561183]),\n",
       " <a list of 10 Patch objects>)"
      ]
     },
     "execution_count": 5,
     "metadata": {},
     "output_type": "execute_result"
    },
    {
     "data": {
      "image/png": "[encoded data removed]",
      "text/plain": [
       "<Figure size 1080x720 with 10 Axes>"
      ]
     },
     "metadata": {
      "needs_background": "light"
     },
     "output_type": "display_data"
    }
   ],
   "source": [
    "fig, ax = plt.subplots(2, 5, figsize=(15,10))\n",
    "\n",
    "ax[0,0].hist(X.age)\n",
    "ax[0,1].hist(X.sex)\n",
    "ax[0,2].hist(X.bmi)\n",
    "ax[0,3].hist(X.bp)\n",
    "ax[0,4].hist(X.s1)\n",
    "ax[1,0].hist(X.s2)\n",
    "ax[1,1].hist(X.s3)\n",
    "ax[1,2].hist(X.s4)\n",
    "ax[1,3].hist(X.s5)\n",
    "ax[1,4].hist(X.s6)"
   ]
  },
  {
   "cell_type": "code",
   "execution_count": 6,
   "metadata": {
    "colab": {},
    "colab_type": "code",
    "id": "iR8WVIqssjoD"
   },
   "outputs": [],
   "source": [
    "# Target\n",
    "y = diabetes.target"
   ]
  },
  {
   "cell_type": "code",
   "execution_count": 7,
   "metadata": {
    "colab": {},
    "colab_type": "code",
    "id": "QaaJqQxUsjoG"
   },
   "outputs": [],
   "source": [
    "## Create training and testing subsets\n",
    "\n",
    "X_train, X_test, y_train, y_test = train_test_split(X, y, test_size = 0.2, random_state = 42)"
   ]
  },
  {
   "cell_type": "markdown",
   "metadata": {
    "colab_type": "text",
    "id": "9NPcYC45sjoI"
   },
   "source": [
    "#### 1.2 Use Forward Feature Selection to pick a good model\n",
    "\n",
    "**Hint: Same as Lab 4.2.2**\n",
    "\n",
    "- Add R^2 value in a list\n",
    "- Add Adjusted R^2 in another list\n",
    "- Display both R^2 and Adjusted R^2"
   ]
  },
  {
   "cell_type": "code",
   "execution_count": 8,
   "metadata": {
    "colab": {},
    "colab_type": "code",
    "id": "Xnk9hncbsjoJ"
   },
   "outputs": [],
   "source": [
    "## Flag intermediate output\n",
    "\n",
    "show_steps = True   # for testing/debugging\n",
    "# show_steps = False  # without showing steps"
   ]
  },
  {
   "cell_type": "code",
   "execution_count": 12,
   "metadata": {
    "colab": {},
    "colab_type": "code",
    "id": "DEqC7hHbsjoN"
   },
   "outputs": [
    {
     "name": "stdout",
     "output_type": "stream",
     "text": [
      "\n",
      "(E) Remaining Features: ['bmi', 's1', 's2', 's3', 's5', 's6', 'age', 's4', 'bp', 'sex']\n",
      "(-) Trying bmi\n",
      "(-) Current Features = ['bmi']\n",
      "(B) Best! R^2:0.366, Adjusted R^2:0.358 \n",
      "(-) Trying s1\n",
      "(-) Current Features = ['s1']\n",
      "(-) Trying s2\n",
      "(-) Current Features = ['s2']\n",
      "(-) Trying s3\n",
      "(-) Current Features = ['s3']\n",
      "(-) Trying s5\n",
      "(-) Current Features = ['s5']\n",
      "(-) Trying s6\n",
      "(-) Current Features = ['s6']\n",
      "(-) Trying age\n",
      "(-) Current Features = ['age']\n",
      "(-) Trying s4\n",
      "(-) Current Features = ['s4']\n",
      "(-) Trying bp\n",
      "(-) Current Features = ['bp']\n",
      "(-) Trying sex\n",
      "(-) Current Features = ['sex']\n",
      "Added bmi\n",
      "\n",
      "(E) Remaining Features: ['s1', 's2', 's3', 's5', 's6', 'age', 's4', 'bp', 'sex']\n",
      "(-) Trying s1\n",
      "(-) Current Features = ['bmi', 's1']\n",
      "(-) Trying s2\n",
      "(-) Current Features = ['bmi', 's2']\n",
      "(-) Trying s3\n",
      "(-) Current Features = ['bmi', 's3']\n",
      "(B) Best! R^2:0.399, Adjusted R^2:0.385 \n",
      "(-) Trying s5\n",
      "(-) Current Features = ['bmi', 's5']\n",
      "(B) Best! R^2:0.458, Adjusted R^2:0.446 \n",
      "(-) Trying s6\n",
      "(-) Current Features = ['bmi', 's6']\n",
      "(-) Trying age\n",
      "(-) Current Features = ['bmi', 'age']\n",
      "(-) Trying s4\n",
      "(-) Current Features = ['bmi', 's4']\n",
      "(-) Trying bp\n",
      "(-) Current Features = ['bmi', 'bp']\n",
      "(-) Trying sex\n",
      "(-) Current Features = ['bmi', 'sex']\n",
      "Added s5\n",
      "\n",
      "(E) Remaining Features: ['s1', 's2', 's6', 's3', 'age', 's4', 'bp', 'sex']\n",
      "(-) Trying s1\n",
      "(-) Current Features = ['bmi', 's5', 's1']\n",
      "(B) Best! R^2:0.472, Adjusted R^2:0.454 \n",
      "(-) Trying s2\n",
      "(-) Current Features = ['bmi', 's5', 's2']\n",
      "(-) Trying s6\n",
      "(-) Current Features = ['bmi', 's5', 's6']\n",
      "(-) Trying s3\n",
      "(-) Current Features = ['bmi', 's5', 's3']\n",
      "(-) Trying age\n",
      "(-) Current Features = ['bmi', 's5', 'age']\n",
      "(-) Trying s4\n",
      "(-) Current Features = ['bmi', 's5', 's4']\n",
      "(-) Trying bp\n",
      "(-) Current Features = ['bmi', 's5', 'bp']\n",
      "(B) Best! R^2:0.483, Adjusted R^2:0.465 \n",
      "(-) Trying sex\n",
      "(-) Current Features = ['bmi', 's5', 'sex']\n",
      "Added bp\n",
      "\n",
      "(E) Remaining Features: ['s1', 's2', 's6', 's3', 'age', 's4', 'sex']\n",
      "(-) Trying s1\n",
      "(-) Current Features = ['bmi', 's5', 'bp', 's1']\n",
      "(B) Best! R^2:0.499, Adjusted R^2:0.475 \n",
      "(-) Trying s2\n",
      "(-) Current Features = ['bmi', 's5', 'bp', 's2']\n",
      "(-) Trying s6\n",
      "(-) Current Features = ['bmi', 's5', 'bp', 's6']\n",
      "(-) Trying s3\n",
      "(-) Current Features = ['bmi', 's5', 'bp', 's3']\n",
      "(-) Trying age\n",
      "(-) Current Features = ['bmi', 's5', 'bp', 'age']\n",
      "(-) Trying s4\n",
      "(-) Current Features = ['bmi', 's5', 'bp', 's4']\n",
      "(-) Trying sex\n",
      "(-) Current Features = ['bmi', 's5', 'bp', 'sex']\n",
      "Added s1\n",
      "\n",
      "(E) Remaining Features: ['s2', 's6', 's3', 'age', 's4', 'sex']\n",
      "(-) Trying s2\n",
      "(-) Current Features = ['bmi', 's5', 'bp', 's1', 's2']\n",
      "(B) Best! R^2:0.509, Adjusted R^2:0.479 \n",
      "(-) Trying s6\n",
      "(-) Current Features = ['bmi', 's5', 'bp', 's1', 's6']\n",
      "(-) Trying s3\n",
      "(-) Current Features = ['bmi', 's5', 'bp', 's1', 's3']\n",
      "(-) Trying age\n",
      "(-) Current Features = ['bmi', 's5', 'bp', 's1', 'age']\n",
      "(-) Trying s4\n",
      "(-) Current Features = ['bmi', 's5', 'bp', 's1', 's4']\n",
      "(-) Trying sex\n",
      "(-) Current Features = ['bmi', 's5', 'bp', 's1', 'sex']\n",
      "Added s2\n",
      "\n",
      "(E) Remaining Features: ['s3', 's6', 'age', 's4', 'sex']\n",
      "(-) Trying s3\n",
      "(-) Current Features = ['bmi', 's5', 'bp', 's1', 's2', 's3']\n",
      "(-) Trying s6\n",
      "(-) Current Features = ['bmi', 's5', 'bp', 's1', 's2', 's6']\n",
      "(-) Trying age\n",
      "(-) Current Features = ['bmi', 's5', 'bp', 's1', 's2', 'age']\n",
      "(-) Trying s4\n",
      "(-) Current Features = ['bmi', 's5', 'bp', 's1', 's2', 's4']\n",
      "(-) Trying sex\n",
      "(-) Current Features = ['bmi', 's5', 'bp', 's1', 's2', 'sex']\n",
      "(B) Best! R^2:0.523, Adjusted R^2:0.489 \n",
      "Added sex\n",
      "\n",
      "(E) Remaining Features: ['age', 's4', 's3', 's6']\n",
      "(-) Trying age\n",
      "(-) Current Features = ['bmi', 's5', 'bp', 's1', 's2', 'sex', 'age']\n",
      "(-) Trying s4\n",
      "(-) Current Features = ['bmi', 's5', 'bp', 's1', 's2', 'sex', 's4']\n",
      "(-) Trying s3\n",
      "(-) Current Features = ['bmi', 's5', 'bp', 's1', 's2', 'sex', 's3']\n",
      "(-) Trying s6\n",
      "(-) Current Features = ['bmi', 's5', 'bp', 's1', 's2', 'sex', 's6']\n",
      "--------------------------------------------------\n",
      "Best Features:\n",
      "bmi, s5, bp, s1, s2, sex\n"
     ]
    }
   ],
   "source": [
    "## Use Forward Feature Selection to pick a good model\n",
    "\n",
    "included = []\n",
    "best = {'feature': '', 'r2': 0, 'a_r2': 0} # keep track of model and parameters\n",
    "model = LinearRegression()\n",
    "n = X_test.shape[0] # get the number of cases in the test data for adjusted R2 calculation\n",
    "\n",
    "r2_list = []\n",
    "adjusted_r2_list = []\n",
    "\n",
    "while True:\n",
    "    changed = False\n",
    "    if show_steps:\n",
    "        print('')    \n",
    "    excluded = list(set(X.columns) - set(included))    \n",
    "    if show_steps:\n",
    "        print(f'(E) Remaining Features: {excluded}')  \n",
    "        \n",
    "    for new_column in excluded:        \n",
    "        if show_steps:\n",
    "            print(f'(-) Trying {new_column}')\n",
    "            print(f'(-) Current Features = {included + [new_column]}')           \n",
    "        model.fit(X_train[included + [new_column]], y_train)\n",
    "        r2 = model.score(X_train[included + [new_column]], y_train)        \n",
    "        k = len(included + [new_column])\n",
    "        adjusted_r2 = 1 - (((1 - r2)*(n -1)) / (n - k - 1))       \n",
    "        \n",
    "        if adjusted_r2 > best['a_r2']:\n",
    "            best = {'feature': new_column, 'r2': r2, 'a_r2': adjusted_r2}\n",
    "            changed = True\n",
    "            if show_steps:\n",
    "                print(f'(B) Best! R^2:{best[\"r2\"]:.3f}, Adjusted R^2:{best[\"a_r2\"]:.3f} ')                         \n",
    "    if changed:\n",
    "        included.append(best['feature'])\n",
    "        r2_list.append(best['r2'])\n",
    "        adjusted_r2_list.append(best['a_r2'])\n",
    "        print(f'Added {best[\"feature\"]}')\n",
    "    else:\n",
    "        break       \n",
    "print('-' * 50)\n",
    "print('Best Features:')\n",
    "print(', '.join(included))\n",
    "    "
   ]
  },
  {
   "cell_type": "code",
   "execution_count": 23,
   "metadata": {
    "colab": {
     "base_uri": "https://localhost:8080/",
     "height": 337
    },
    "colab_type": "code",
    "id": "whvMHo6rsjoU",
    "outputId": "0f05a34f-f5bd-46ac-9798-73b43c8e4d95"
   },
   "outputs": [
    {
     "data": {
      "image/png": "[encoded data removed]",
      "text/plain": [
       "<Figure size 720x360 with 1 Axes>"
      ]
     },
     "metadata": {
      "needs_background": "light"
     },
     "output_type": "display_data"
    }
   ],
   "source": [
    "## Chart both R^2 and Adjusted R^2\n",
    "\n",
    "_range = range(1, len(r2_list)+1)\n",
    "\n",
    "plt.figure(figsize = (10, 5))\n",
    "\n",
    "plt.plot(_range, r2_list, label = '$R^2$')\n",
    "plt.plot(_range, adjusted_r2_list, label = '$Adjusted \\: R^2$')\n",
    "plt.xlabel('Number of Features')\n",
    "plt.legend()\n",
    "plt.show()"
   ]
  },
  {
   "cell_type": "code",
   "execution_count": 24,
   "metadata": {},
   "outputs": [
    {
     "name": "stdout",
     "output_type": "stream",
     "text": [
      "\n",
      "(B) Best! Features:bmi, R^2:0.366, Adjusted R^2:0.358\n",
      "Added bmi\n",
      "\n",
      "(B) Best! Features:s3, R^2:0.399, Adjusted R^2:0.385\n",
      "(B) Best! Features:s5, R^2:0.458, Adjusted R^2:0.446\n",
      "Added s5\n",
      "\n",
      "(B) Best! Features:s1, R^2:0.472, Adjusted R^2:0.454\n",
      "(B) Best! Features:bp, R^2:0.483, Adjusted R^2:0.465\n",
      "Added bp\n",
      "\n",
      "(B) Best! Features:s1, R^2:0.499, Adjusted R^2:0.475\n",
      "Added s1\n",
      "\n",
      "(B) Best! Features:s2, R^2:0.509, Adjusted R^2:0.479\n",
      "Added s2\n",
      "\n",
      "(B) Best! Features:sex, R^2:0.523, Adjusted R^2:0.489\n",
      "Added sex\n",
      "\n",
      "Best Features:['bmi', 's5', 'bp', 's1', 's2', 'sex']\n"
     ]
    }
   ],
   "source": [
    "# Code Simplify (without show_steps)\n",
    "included = []\n",
    "best = {'feature': '', 'r2': 0, 'a_r2': 0} \n",
    "model = LinearRegression()\n",
    "n = X_test.shape[0] \n",
    "\n",
    "while True:\n",
    "    changed = False\n",
    "    print('')\n",
    "    excluded = list(set(X.columns) - set(included))    \n",
    "              \n",
    "    for new_column in excluded:                           \n",
    "        model.fit(X_train[included + [new_column]], y_train)\n",
    "        r2 = model.score(X_train[included + [new_column]], y_train)        \n",
    "        k = len(included + [new_column])\n",
    "        adjusted_r2 = 1 - (((1 - r2)*(n -1)) / (n - k - 1))       \n",
    "        \n",
    "        if adjusted_r2 > best['a_r2']:\n",
    "            best = {'feature': new_column, 'r2': r2, 'a_r2': adjusted_r2}\n",
    "            changed = True           \n",
    "            print(f'(B) Best! Features:{best[\"feature\"]}, R^2:{best[\"r2\"]:.3f}, Adjusted R^2:{best[\"a_r2\"]:.3f}')                         \n",
    "   \n",
    "    if changed:\n",
    "        included.append(best['feature'])\n",
    "        print(f'Added {best[\"feature\"]}')\n",
    "    else:\n",
    "        break       \n",
    "\n",
    "print(f'Best Features:{included}')"
   ]
  },
  {
   "cell_type": "markdown",
   "metadata": {
    "colab_type": "text",
    "id": "ZNsyA27Dlwxs"
   },
   "source": [
    "\n",
    "\n",
    "---\n",
    "\n",
    "\n",
    "\n",
    "---\n",
    "\n",
    "\n",
    "\n",
    "> > > > > > > > > © 2019 Institute of Data\n",
    "\n",
    "\n",
    "---\n",
    "\n",
    "\n",
    "\n",
    "---\n",
    "\n",
    "\n",
    "\n"
   ]
  }
 ],
 "metadata": {
  "colab": {
   "collapsed_sections": [],
   "name": "IOD_Lab 4.3.ipynb",
   "provenance": []
  },
  "kernelspec": {
   "display_name": "Python 3",
   "language": "python",
   "name": "python3"
  },
  "language_info": {
   "codemirror_mode": {
    "name": "ipython",
    "version": 3
   },
   "file_extension": ".py",
   "mimetype": "text/x-python",
   "name": "python",
   "nbconvert_exporter": "python",
   "pygments_lexer": "ipython3",
   "version": "3.8.3"
  }
 },
 "nbformat": 4,
 "nbformat_minor": 1
}
