{
 "cells": [
  {
   "cell_type": "markdown",
   "metadata": {},
   "source": [
    "Feature Selection"
   ]
  },
  {
   "cell_type": "code",
   "execution_count": null,
   "metadata": {},
   "outputs": [],
   "source": [
    "included = []\n",
    "best = {'feature': '', 'r2': 0, 'Adjusted_r2': 0}\n",
    "n = X_train.shape[0]\n",
    "\n",
    "while True:\n",
    "    changed = False\n",
    "    print('')\n",
    "    excluded = list(set(X.columns) - set(included))\n",
    "    \n",
    "    for new_column in excluded:\n",
    "        model.fit(X_train[included + [new_column]], y_train)\n",
    "        r2 = model.score(X_train[included + [new_column]], y_train)\n",
    "        k = len(included + [new_column])\n",
    "        adjusted_r2 = adjusted_r2 = 1 - (((1 - r2)*(n -1)) / (n - k - 1)) \n",
    "        \n",
    "        if adjusted_r2 > best['adjusted_r2']:\n",
    "            best = {'feature': new_column, 'r2': r2, 'adjusted_r2': adjusted_r2}\n",
    "            print(f'(B) Best! Feature:{best[\"feature\"]:.3f}, R2: {best[\"r2\"]:.3f}, Adjusted_R2:{best[\"adjusted_r2\"]:.3f}')\n",
    "            changed = True\n",
    "    if changed:\n",
    "        included.append(best['feature'])\n",
    "        print(f'Added {best[\"feature\"]}')\n",
    "    else:\n",
    "        break\n",
    "print('')\n",
    "print(included)"
   ]
  }
 ],
 "metadata": {
  "kernelspec": {
   "display_name": "Python 3",
   "language": "python",
   "name": "python3"
  },
  "language_info": {
   "codemirror_mode": {
    "name": "ipython",
    "version": 3
   },
   "file_extension": ".py",
   "mimetype": "text/x-python",
   "name": "python",
   "nbconvert_exporter": "python",
   "pygments_lexer": "ipython3",
   "version": "3.8.3"
  }
 },
 "nbformat": 4,
 "nbformat_minor": 4
}
