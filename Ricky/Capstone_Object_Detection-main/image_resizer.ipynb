{
 "cells": [
  {
   "cell_type": "code",
   "execution_count": 18,
   "metadata": {},
   "outputs": [],
   "source": [
    "import os\n",
    "from PIL import Image"
   ]
  },
  {
   "cell_type": "code",
   "execution_count": 20,
   "metadata": {},
   "outputs": [
    {
     "name": "stdout",
     "output_type": "stream",
     "text": [
      "JPEG\n",
      "(1900, 1069)\n",
      "RGB\n"
     ]
    }
   ],
   "source": [
    "path = 'C:/Users/Ricky K Nguyen/Desktop/train-f1/image1.jpg'\n",
    "\n",
    "im = Image.open(path)\n",
    "print(im.format)\n",
    "print(im.size)\n",
    "print(im.mode)\n",
    "im.show()"
   ]
  },
  {
   "cell_type": "code",
   "execution_count": 21,
   "metadata": {},
   "outputs": [],
   "source": [
    "IMAGES_DIR = 'C:/Users/Ricky K Nguyen/Desktop/test-f1/'\n",
    "destination = 'C:/Users/Ricky K Nguyen/Desktop/test-f1-resize/'\n",
    "directory = os.listdir(IMAGES_DIR)"
   ]
  },
  {
   "cell_type": "code",
   "execution_count": 24,
   "metadata": {},
   "outputs": [
    {
     "name": "stdout",
     "output_type": "stream",
     "text": [
      "Images resize completed\n"
     ]
    }
   ],
   "source": [
    "for item in directory:\n",
    "    img = Image.open(IMAGES_DIR + item)\n",
    "    imgResize = img.resize((900, 600), Image.ANTIALIAS)\n",
    "    imgResize.save(destination + item, 'JPEG' ,quality=95)\n",
    "print('Images resize completed')"
   ]
  },
  {
   "cell_type": "code",
   "execution_count": null,
   "metadata": {},
   "outputs": [],
   "source": []
  }
 ],
 "metadata": {
  "kernelspec": {
   "display_name": "Python 3",
   "language": "python",
   "name": "python3"
  },
  "language_info": {
   "codemirror_mode": {
    "name": "ipython",
    "version": 3
   },
   "file_extension": ".py",
   "mimetype": "text/x-python",
   "name": "python",
   "nbconvert_exporter": "python",
   "pygments_lexer": "ipython3",
   "version": "3.7.0"
  }
 },
 "nbformat": 4,
 "nbformat_minor": 4
}
