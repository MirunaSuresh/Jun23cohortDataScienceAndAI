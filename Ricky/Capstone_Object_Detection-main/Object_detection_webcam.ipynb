{
 "cells": [
  {
   "cell_type": "code",
   "execution_count": null,
   "metadata": {},
   "outputs": [],
   "source": [
    "import io\n",
    "import os\n",
    "import scipy.misc\n",
    "import numpy as np\n",
    "import six\n",
    "import time\n",
    "import cv2\n",
    "\n",
    "from six import BytesIO\n",
    "\n",
    "import matplotlib\n",
    "import matplotlib.pyplot as plt\n",
    "\n",
    "import tensorflow as tf\n",
    "from object_detection.utils import visualization_utils as viz_utils\n",
    "\n",
    "%matplotlib inline"
   ]
  },
  {
   "cell_type": "code",
   "execution_count": null,
   "metadata": {},
   "outputs": [],
   "source": [
    "category_index = {\n",
    "    1: {'id': 1, 'name': 'Mercedes'},\n",
    "    2: {'id': 2, 'name': 'Red Bull Racing'},\n",
    "    3: {'id': 3, 'name': 'Racing Point'},\n",
    "    4: {'id': 4, 'name': 'McLaren'},\n",
    "    5: {'id': 5, 'name': 'Renault'},\n",
    "    6: {'id': 6, 'name': 'Ferrari'},\n",
    "    7: {'id': 7, 'name': 'accident'},\n",
    "}"
   ]
  },
  {
   "cell_type": "code",
   "execution_count": null,
   "metadata": {},
   "outputs": [],
   "source": [
    "start_time = time.time()\n",
    "tf.keras.backend.clear_session()\n",
    "detect_fn = tf.saved_model.load('C:/Users/Ricky K Nguyen/Desktop/Capstone/inference_graph/saved_model')\n",
    "end_time = time.time()\n",
    "elapsed_time = end_time - start_time\n",
    "print('Elapsed time: ' + str(elapsed_time) + 's')"
   ]
  },
  {
   "cell_type": "code",
   "execution_count": null,
   "metadata": {},
   "outputs": [],
   "source": [
    "# Select your webcam\n",
    "video = cv2.VideoCapture(0)"
   ]
  },
  {
   "cell_type": "code",
   "execution_count": null,
   "metadata": {},
   "outputs": [],
   "source": [
    "while True:    \n",
    "    ret, image_np = video.read()\n",
    "    input_tensor = np.expand_dims(image_np, 0)\n",
    "    detections = detect_fn(input_tensor)\n",
    "    \n",
    "    plt.rcParams['figure.figsize'] = [42, 21]\n",
    "    label_id_offset = 1\n",
    "    image_np_with_detections = image_np.copy()\n",
    "    viz_utils.visualize_boxes_and_labels_on_image_array(image_np_with_detections,\n",
    "                                                        detections['detection_boxes'][0].numpy(),\n",
    "                                                        detections['detection_classes'][0].numpy().astype(np.int32),\n",
    "                                                        detections['detection_scores'][0].numpy(),\n",
    "                                                        category_index,\n",
    "                                                        use_normalized_coordinates=True,\n",
    "                                                        max_boxes_to_draw=200,\n",
    "                                                        min_score_thresh=.40,\n",
    "                                                        agnostic_mode=False)\n",
    "    cv2.imshow('object detection', cv2.resize(image_np_with_detections, (900,600)))\n",
    "    if cv2.waitKey(25) & 0xFF == ord('q'):\n",
    "        cv2.destroyAllWindows()\n",
    "        break"
   ]
  }
 ],
 "metadata": {
  "kernelspec": {
   "display_name": "Python 3",
   "language": "python",
   "name": "python3"
  },
  "language_info": {
   "codemirror_mode": {
    "name": "ipython",
    "version": 3
   },
   "file_extension": ".py",
   "mimetype": "text/x-python",
   "name": "python",
   "nbconvert_exporter": "python",
   "pygments_lexer": "ipython3",
   "version": "3.6.4"
  }
 },
 "nbformat": 4,
 "nbformat_minor": 4
}
