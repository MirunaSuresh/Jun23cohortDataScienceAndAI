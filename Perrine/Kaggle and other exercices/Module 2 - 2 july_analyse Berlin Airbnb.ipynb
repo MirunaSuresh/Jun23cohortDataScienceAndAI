{
 "cells": [
  {
   "cell_type": "code",
   "execution_count": 109,
   "metadata": {},
   "outputs": [],
   "source": [
    "import pandas as pd\n",
    "import numpy as np"
   ]
  },
  {
   "cell_type": "code",
   "execution_count": 110,
   "metadata": {},
   "outputs": [],
   "source": [
    "#1 DATA IMPORT\n",
    "Berlin_Airbnb = pd.read_csv(\"C:\\\\users\\\\perrine mignot\\\\Downloads\\\\Kaggle Data Berlin Airbnb\\\\listings.csv\",index_col = 0)"
   ]
  },
  {
   "cell_type": "code",
   "execution_count": 112,
   "metadata": {},
   "outputs": [
    {
     "data": {
      "text/html": [
       "<div>\n",
       "<style scoped>\n",
       "    .dataframe tbody tr th:only-of-type {\n",
       "        vertical-align: middle;\n",
       "    }\n",
       "\n",
       "    .dataframe tbody tr th {\n",
       "        vertical-align: top;\n",
       "    }\n",
       "\n",
       "    .dataframe thead th {\n",
       "        text-align: right;\n",
       "    }\n",
       "</style>\n",
       "<table border=\"1\" class=\"dataframe\">\n",
       "  <thead>\n",
       "    <tr style=\"text-align: right;\">\n",
       "      <th></th>\n",
       "      <th>name</th>\n",
       "      <th>host_id</th>\n",
       "      <th>host_name</th>\n",
       "      <th>neighbourhood_group</th>\n",
       "      <th>neighbourhood</th>\n",
       "      <th>latitude</th>\n",
       "      <th>longitude</th>\n",
       "      <th>room_type</th>\n",
       "      <th>price</th>\n",
       "      <th>minimum_nights</th>\n",
       "      <th>number_of_reviews</th>\n",
       "      <th>last_review</th>\n",
       "      <th>reviews_per_month</th>\n",
       "      <th>calculated_host_listings_count</th>\n",
       "      <th>availability_365</th>\n",
       "    </tr>\n",
       "    <tr>\n",
       "      <th>id</th>\n",
       "      <th></th>\n",
       "      <th></th>\n",
       "      <th></th>\n",
       "      <th></th>\n",
       "      <th></th>\n",
       "      <th></th>\n",
       "      <th></th>\n",
       "      <th></th>\n",
       "      <th></th>\n",
       "      <th></th>\n",
       "      <th></th>\n",
       "      <th></th>\n",
       "      <th></th>\n",
       "      <th></th>\n",
       "      <th></th>\n",
       "    </tr>\n",
       "  </thead>\n",
       "  <tbody>\n",
       "    <tr>\n",
       "      <th>2015</th>\n",
       "      <td>Berlin-Mitte Value! Quiet courtyard/very central</td>\n",
       "      <td>2217</td>\n",
       "      <td>Ian</td>\n",
       "      <td>Mitte</td>\n",
       "      <td>Brunnenstr. Süd</td>\n",
       "      <td>52.534537</td>\n",
       "      <td>13.402557</td>\n",
       "      <td>Entire home/apt</td>\n",
       "      <td>60</td>\n",
       "      <td>4</td>\n",
       "      <td>118</td>\n",
       "      <td>2018-10-28</td>\n",
       "      <td>3.76</td>\n",
       "      <td>4</td>\n",
       "      <td>141</td>\n",
       "    </tr>\n",
       "    <tr>\n",
       "      <th>2695</th>\n",
       "      <td>Prenzlauer Berg close to Mauerpark</td>\n",
       "      <td>2986</td>\n",
       "      <td>Michael</td>\n",
       "      <td>Pankow</td>\n",
       "      <td>Prenzlauer Berg Nordwest</td>\n",
       "      <td>52.548513</td>\n",
       "      <td>13.404553</td>\n",
       "      <td>Private room</td>\n",
       "      <td>17</td>\n",
       "      <td>2</td>\n",
       "      <td>6</td>\n",
       "      <td>2018-10-01</td>\n",
       "      <td>1.42</td>\n",
       "      <td>1</td>\n",
       "      <td>0</td>\n",
       "    </tr>\n",
       "    <tr>\n",
       "      <th>3176</th>\n",
       "      <td>Fabulous Flat in great Location</td>\n",
       "      <td>3718</td>\n",
       "      <td>Britta</td>\n",
       "      <td>Pankow</td>\n",
       "      <td>Prenzlauer Berg Südwest</td>\n",
       "      <td>52.534996</td>\n",
       "      <td>13.417579</td>\n",
       "      <td>Entire home/apt</td>\n",
       "      <td>90</td>\n",
       "      <td>62</td>\n",
       "      <td>143</td>\n",
       "      <td>2017-03-20</td>\n",
       "      <td>1.25</td>\n",
       "      <td>1</td>\n",
       "      <td>220</td>\n",
       "    </tr>\n",
       "    <tr>\n",
       "      <th>3309</th>\n",
       "      <td>BerlinSpot Schöneberg near KaDeWe</td>\n",
       "      <td>4108</td>\n",
       "      <td>Jana</td>\n",
       "      <td>Tempelhof - Schöneberg</td>\n",
       "      <td>Schöneberg-Nord</td>\n",
       "      <td>52.498855</td>\n",
       "      <td>13.349065</td>\n",
       "      <td>Private room</td>\n",
       "      <td>26</td>\n",
       "      <td>5</td>\n",
       "      <td>25</td>\n",
       "      <td>2018-08-16</td>\n",
       "      <td>0.39</td>\n",
       "      <td>1</td>\n",
       "      <td>297</td>\n",
       "    </tr>\n",
       "    <tr>\n",
       "      <th>7071</th>\n",
       "      <td>BrightRoom with sunny greenview!</td>\n",
       "      <td>17391</td>\n",
       "      <td>Bright</td>\n",
       "      <td>Pankow</td>\n",
       "      <td>Helmholtzplatz</td>\n",
       "      <td>52.543157</td>\n",
       "      <td>13.415091</td>\n",
       "      <td>Private room</td>\n",
       "      <td>42</td>\n",
       "      <td>2</td>\n",
       "      <td>197</td>\n",
       "      <td>2018-11-04</td>\n",
       "      <td>1.75</td>\n",
       "      <td>1</td>\n",
       "      <td>26</td>\n",
       "    </tr>\n",
       "  </tbody>\n",
       "</table>\n",
       "</div>"
      ],
      "text/plain": [
       "                                                  name  host_id host_name  \\\n",
       "id                                                                          \n",
       "2015  Berlin-Mitte Value! Quiet courtyard/very central     2217       Ian   \n",
       "2695                Prenzlauer Berg close to Mauerpark     2986   Michael   \n",
       "3176                   Fabulous Flat in great Location     3718    Britta   \n",
       "3309                 BerlinSpot Schöneberg near KaDeWe     4108      Jana   \n",
       "7071                  BrightRoom with sunny greenview!    17391    Bright   \n",
       "\n",
       "         neighbourhood_group             neighbourhood   latitude  longitude  \\\n",
       "id                                                                             \n",
       "2015                   Mitte           Brunnenstr. Süd  52.534537  13.402557   \n",
       "2695                  Pankow  Prenzlauer Berg Nordwest  52.548513  13.404553   \n",
       "3176                  Pankow   Prenzlauer Berg Südwest  52.534996  13.417579   \n",
       "3309  Tempelhof - Schöneberg           Schöneberg-Nord  52.498855  13.349065   \n",
       "7071                  Pankow            Helmholtzplatz  52.543157  13.415091   \n",
       "\n",
       "            room_type  price  minimum_nights  number_of_reviews last_review  \\\n",
       "id                                                                            \n",
       "2015  Entire home/apt     60               4                118  2018-10-28   \n",
       "2695     Private room     17               2                  6  2018-10-01   \n",
       "3176  Entire home/apt     90              62                143  2017-03-20   \n",
       "3309     Private room     26               5                 25  2018-08-16   \n",
       "7071     Private room     42               2                197  2018-11-04   \n",
       "\n",
       "      reviews_per_month  calculated_host_listings_count  availability_365  \n",
       "id                                                                         \n",
       "2015               3.76                               4               141  \n",
       "2695               1.42                               1                 0  \n",
       "3176               1.25                               1               220  \n",
       "3309               0.39                               1               297  \n",
       "7071               1.75                               1                26  "
      ]
     },
     "execution_count": 112,
     "metadata": {},
     "output_type": "execute_result"
    }
   ],
   "source": [
    "#2 DATA SUMMARY\n",
    "Berlin_Airbnb.head()"
   ]
  },
  {
   "cell_type": "code",
   "execution_count": 108,
   "metadata": {},
   "outputs": [
    {
     "name": "stdout",
     "output_type": "stream",
     "text": [
      "<class 'pandas.core.frame.DataFrame'>\n",
      "Int64Index: 22552 entries, 2015 to 29867352\n",
      "Data columns (total 15 columns):\n",
      "name                              22493 non-null object\n",
      "host_id                           22552 non-null int64\n",
      "host_name                         22526 non-null object\n",
      "neighbourhood_group               22552 non-null object\n",
      "neighbourhood                     22552 non-null object\n",
      "latitude                          22552 non-null float64\n",
      "longitude                         22552 non-null float64\n",
      "room_type                         22552 non-null object\n",
      "price                             22552 non-null int64\n",
      "minimum_nights                    22552 non-null int64\n",
      "number_of_reviews                 22552 non-null int64\n",
      "last_review                       18644 non-null object\n",
      "reviews_per_month                 18638 non-null float64\n",
      "calculated_host_listings_count    22552 non-null int64\n",
      "availability_365                  22552 non-null int64\n",
      "dtypes: float64(3), int64(6), object(6)\n",
      "memory usage: 2.8+ MB\n"
     ]
    }
   ],
   "source": [
    "#2 DATA SUMMARY\n",
    "Berlin_Airbnb.info()"
   ]
  },
  {
   "cell_type": "code",
   "execution_count": 102,
   "metadata": {},
   "outputs": [
    {
     "data": {
      "text/html": [
       "<div>\n",
       "<style scoped>\n",
       "    .dataframe tbody tr th:only-of-type {\n",
       "        vertical-align: middle;\n",
       "    }\n",
       "\n",
       "    .dataframe tbody tr th {\n",
       "        vertical-align: top;\n",
       "    }\n",
       "\n",
       "    .dataframe thead th {\n",
       "        text-align: right;\n",
       "    }\n",
       "</style>\n",
       "<table border=\"1\" class=\"dataframe\">\n",
       "  <thead>\n",
       "    <tr style=\"text-align: right;\">\n",
       "      <th></th>\n",
       "      <th>host_id</th>\n",
       "      <th>latitude</th>\n",
       "      <th>longitude</th>\n",
       "      <th>price</th>\n",
       "      <th>minimum_nights</th>\n",
       "      <th>number_of_reviews</th>\n",
       "      <th>reviews_per_month</th>\n",
       "      <th>calculated_host_listings_count</th>\n",
       "      <th>availability_365</th>\n",
       "    </tr>\n",
       "  </thead>\n",
       "  <tbody>\n",
       "    <tr>\n",
       "      <th>count</th>\n",
       "      <td>22552.0</td>\n",
       "      <td>22552.0</td>\n",
       "      <td>22552.0</td>\n",
       "      <td>22552.0</td>\n",
       "      <td>22552.0</td>\n",
       "      <td>22552.0</td>\n",
       "      <td>18638.0</td>\n",
       "      <td>22552.0</td>\n",
       "      <td>22552.0</td>\n",
       "    </tr>\n",
       "    <tr>\n",
       "      <th>mean</th>\n",
       "      <td>54033548.0</td>\n",
       "      <td>53.0</td>\n",
       "      <td>13.0</td>\n",
       "      <td>67.0</td>\n",
       "      <td>7.0</td>\n",
       "      <td>18.0</td>\n",
       "      <td>1.0</td>\n",
       "      <td>2.0</td>\n",
       "      <td>80.0</td>\n",
       "    </tr>\n",
       "    <tr>\n",
       "      <th>std</th>\n",
       "      <td>58162903.0</td>\n",
       "      <td>0.0</td>\n",
       "      <td>0.0</td>\n",
       "      <td>220.0</td>\n",
       "      <td>41.0</td>\n",
       "      <td>37.0</td>\n",
       "      <td>2.0</td>\n",
       "      <td>4.0</td>\n",
       "      <td>119.0</td>\n",
       "    </tr>\n",
       "    <tr>\n",
       "      <th>min</th>\n",
       "      <td>2217.0</td>\n",
       "      <td>52.0</td>\n",
       "      <td>13.0</td>\n",
       "      <td>0.0</td>\n",
       "      <td>1.0</td>\n",
       "      <td>0.0</td>\n",
       "      <td>0.0</td>\n",
       "      <td>1.0</td>\n",
       "      <td>0.0</td>\n",
       "    </tr>\n",
       "    <tr>\n",
       "      <th>25%</th>\n",
       "      <td>9240002.0</td>\n",
       "      <td>52.0</td>\n",
       "      <td>13.0</td>\n",
       "      <td>30.0</td>\n",
       "      <td>2.0</td>\n",
       "      <td>1.0</td>\n",
       "      <td>0.0</td>\n",
       "      <td>1.0</td>\n",
       "      <td>0.0</td>\n",
       "    </tr>\n",
       "    <tr>\n",
       "      <th>50%</th>\n",
       "      <td>31267110.0</td>\n",
       "      <td>53.0</td>\n",
       "      <td>13.0</td>\n",
       "      <td>45.0</td>\n",
       "      <td>2.0</td>\n",
       "      <td>5.0</td>\n",
       "      <td>1.0</td>\n",
       "      <td>1.0</td>\n",
       "      <td>4.0</td>\n",
       "    </tr>\n",
       "    <tr>\n",
       "      <th>75%</th>\n",
       "      <td>80675177.0</td>\n",
       "      <td>53.0</td>\n",
       "      <td>13.0</td>\n",
       "      <td>70.0</td>\n",
       "      <td>4.0</td>\n",
       "      <td>16.0</td>\n",
       "      <td>2.0</td>\n",
       "      <td>1.0</td>\n",
       "      <td>129.0</td>\n",
       "    </tr>\n",
       "    <tr>\n",
       "      <th>max</th>\n",
       "      <td>224508134.0</td>\n",
       "      <td>53.0</td>\n",
       "      <td>14.0</td>\n",
       "      <td>9000.0</td>\n",
       "      <td>5000.0</td>\n",
       "      <td>498.0</td>\n",
       "      <td>37.0</td>\n",
       "      <td>45.0</td>\n",
       "      <td>365.0</td>\n",
       "    </tr>\n",
       "  </tbody>\n",
       "</table>\n",
       "</div>"
      ],
      "text/plain": [
       "           host_id  latitude  longitude    price  minimum_nights  \\\n",
       "count      22552.0   22552.0    22552.0  22552.0         22552.0   \n",
       "mean    54033548.0      53.0       13.0     67.0             7.0   \n",
       "std     58162903.0       0.0        0.0    220.0            41.0   \n",
       "min         2217.0      52.0       13.0      0.0             1.0   \n",
       "25%      9240002.0      52.0       13.0     30.0             2.0   \n",
       "50%     31267110.0      53.0       13.0     45.0             2.0   \n",
       "75%     80675177.0      53.0       13.0     70.0             4.0   \n",
       "max    224508134.0      53.0       14.0   9000.0          5000.0   \n",
       "\n",
       "       number_of_reviews  reviews_per_month  calculated_host_listings_count  \\\n",
       "count            22552.0            18638.0                         22552.0   \n",
       "mean                18.0                1.0                             2.0   \n",
       "std                 37.0                2.0                             4.0   \n",
       "min                  0.0                0.0                             1.0   \n",
       "25%                  1.0                0.0                             1.0   \n",
       "50%                  5.0                1.0                             1.0   \n",
       "75%                 16.0                2.0                             1.0   \n",
       "max                498.0               37.0                            45.0   \n",
       "\n",
       "       availability_365  \n",
       "count           22552.0  \n",
       "mean               80.0  \n",
       "std               119.0  \n",
       "min                 0.0  \n",
       "25%                 0.0  \n",
       "50%                 4.0  \n",
       "75%               129.0  \n",
       "max               365.0  "
      ]
     },
     "execution_count": 102,
     "metadata": {},
     "output_type": "execute_result"
    }
   ],
   "source": [
    "#2 DATA SUMMARY\n",
    "np.round(Berlin_Airbnb.describe(), decimals=0)"
   ]
  },
  {
   "cell_type": "code",
   "execution_count": 120,
   "metadata": {},
   "outputs": [
    {
     "name": "stdout",
     "output_type": "stream",
     "text": [
      "host_id                           54033548.0\n",
      "latitude                                53.0\n",
      "longitude                               13.0\n",
      "price                                   67.0\n",
      "minimum_nights                           7.0\n",
      "number_of_reviews                       18.0\n",
      "reviews_per_month                        1.0\n",
      "calculated_host_listings_count           2.0\n",
      "availability_365                        80.0\n",
      "dtype: float64\n"
     ]
    }
   ],
   "source": [
    "#3 FIND MEAN\n",
    "print(np.round(np.mean(Berlin_Airbnb)))"
   ]
  },
  {
   "cell_type": "code",
   "execution_count": 131,
   "metadata": {},
   "outputs": [
    {
     "name": "stdout",
     "output_type": "stream",
     "text": [
      "('Mean price:', 67.14366796736431)\n"
     ]
    }
   ],
   "source": [
    "#3 FIND MEAN FOR PRICE\n",
    "print(\"Mean price:\", price.mean())"
   ]
  },
  {
   "cell_type": "code",
   "execution_count": 129,
   "metadata": {},
   "outputs": [
    {
     "data": {
      "text/plain": [
       "67.14366796736431"
      ]
     },
     "execution_count": 129,
     "metadata": {},
     "output_type": "execute_result"
    }
   ],
   "source": [
    "#3 FIND MEAN FOR PRICE other way\n",
    "price.mean()"
   ]
  },
  {
   "cell_type": "code",
   "execution_count": 92,
   "metadata": {},
   "outputs": [
    {
     "data": {
      "text/plain": [
       "(22552, 15)"
      ]
     },
     "execution_count": 92,
     "metadata": {},
     "output_type": "execute_result"
    }
   ],
   "source": [
    "#4 FIND SHAPE \n",
    "np.shape(Berlin_Airbnb)"
   ]
  },
  {
   "cell_type": "code",
   "execution_count": 160,
   "metadata": {},
   "outputs": [
    {
     "name": "stdout",
     "output_type": "stream",
     "text": [
      "('FUNC SHAPE:', (22552, 15))\n"
     ]
    }
   ],
   "source": [
    "#4 FIND SHAPE via FUNCTION\n",
    "def shapeFunc(Berlin_Airbnb):\n",
    "    print('FUNC SHAPE:',Berlin_Airbnb.shape)\n",
    "    # pass\n",
    "\n",
    "shapeFunc(Berlin_Airbnb)"
   ]
  },
  {
   "cell_type": "code",
   "execution_count": 162,
   "metadata": {},
   "outputs": [
    {
     "data": {
      "text/plain": [
       "1514224"
      ]
     },
     "execution_count": 162,
     "metadata": {},
     "output_type": "execute_result"
    }
   ],
   "source": [
    "# 5-FIND AVERAGE\n",
    "np.sum(price)"
   ]
  },
  {
   "cell_type": "code",
   "execution_count": 135,
   "metadata": {},
   "outputs": [
    {
     "data": {
      "text/plain": [
       "1514224"
      ]
     },
     "execution_count": 135,
     "metadata": {},
     "output_type": "execute_result"
    }
   ],
   "source": [
    "# 5-FIND SUM for Func AVERAGE\n",
    "price.sum()"
   ]
  },
  {
   "cell_type": "code",
   "execution_count": 163,
   "metadata": {},
   "outputs": [
    {
     "ename": "AttributeError",
     "evalue": "'module' object has no attribute 'count'",
     "output_type": "error",
     "traceback": [
      "\u001b[1;31m\u001b[0m",
      "\u001b[1;31mAttributeError\u001b[0mTraceback (most recent call last)",
      "\u001b[1;32m<ipython-input-163-0b71c5e05eb0>\u001b[0m in \u001b[0;36m<module>\u001b[1;34m()\u001b[0m\n\u001b[0;32m      1\u001b[0m \u001b[1;31m# 5-FIND COUNT for Func AVERAGE\u001b[0m\u001b[1;33m\u001b[0m\u001b[1;33m\u001b[0m\u001b[0m\n\u001b[1;32m----> 2\u001b[1;33m \u001b[0mnp\u001b[0m\u001b[1;33m.\u001b[0m\u001b[0mcount\u001b[0m\u001b[1;33m(\u001b[0m\u001b[0mprice\u001b[0m\u001b[1;33m)\u001b[0m\u001b[1;33m\u001b[0m\u001b[0m\n\u001b[0m",
      "\u001b[1;31mAttributeError\u001b[0m: 'module' object has no attribute 'count'"
     ]
    }
   ],
   "source": [
    "# 5-FIND COUNT for Func AVERAGE\n",
    "np.count(price)"
   ]
  },
  {
   "cell_type": "code",
   "execution_count": 145,
   "metadata": {},
   "outputs": [
    {
     "data": {
      "text/plain": [
       "22544"
      ]
     },
     "execution_count": 145,
     "metadata": {},
     "output_type": "execute_result"
    }
   ],
   "source": [
    "# 5-FIND COUNT for Func AVERAGE\n",
    "np.count_nonzero(price)"
   ]
  },
  {
   "cell_type": "code",
   "execution_count": 168,
   "metadata": {},
   "outputs": [
    {
     "ename": "SyntaxError",
     "evalue": "invalid syntax (<ipython-input-168-4d86d39a0022>, line 2)",
     "output_type": "error",
     "traceback": [
      "\u001b[1;36m  File \u001b[1;32m\"<ipython-input-168-4d86d39a0022>\"\u001b[1;36m, line \u001b[1;32m2\u001b[0m\n\u001b[1;33m    def average_price(Berlin_Airbnb,price)\u001b[0m\n\u001b[1;37m                                          ^\u001b[0m\n\u001b[1;31mSyntaxError\u001b[0m\u001b[1;31m:\u001b[0m invalid syntax\n"
     ]
    }
   ],
   "source": [
    "# 5- FUNCTION AVERAGE\n",
    "def average_price(Berlin_Airbnb,price)\n",
    "    \"return the average of price column\"\n",
    "    np.sum(price) / np.count_nonzero(price)\n",
    "    return(average_price)"
   ]
  },
  {
   "cell_type": "code",
   "execution_count": 166,
   "metadata": {},
   "outputs": [
    {
     "name": "stdout",
     "output_type": "stream",
     "text": [
      "('FUNC AVERAGE:', 67.14366796736431)\n"
     ]
    }
   ],
   "source": [
    "# 5-FUNCTION TO PRINT AVERAGE\n",
    "def averageFunc(Berlin_Airbnb,price):\n",
    "    print('FUNC AVERAGE:',Berlin_Airbnb[price].mean())\n",
    "\n",
    "averageFunc(Berlin_Airbnb,'price')"
   ]
  },
  {
   "cell_type": "code",
   "execution_count": null,
   "metadata": {},
   "outputs": [],
   "source": []
  }
 ],
 "metadata": {
  "kernelspec": {
   "display_name": "Python 2",
   "language": "python",
   "name": "python2"
  },
  "language_info": {
   "codemirror_mode": {
    "name": "ipython",
    "version": 2
   },
   "file_extension": ".py",
   "mimetype": "text/x-python",
   "name": "python",
   "nbconvert_exporter": "python",
   "pygments_lexer": "ipython2",
   "version": "2.7.16"
  }
 },
 "nbformat": 4,
 "nbformat_minor": 2
}
