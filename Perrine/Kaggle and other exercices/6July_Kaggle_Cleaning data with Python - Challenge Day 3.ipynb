{
 "cells": [
  {
   "cell_type": "markdown",
   "metadata": {
    "_cell_guid": "79c7e3d0-c299-4dcb-8224-4455121ee9b0",
    "_uuid": "d629ff2d2480ee46fbb7e2d37f6b5fab8052498a",
    "collapsed": true
   },
   "source": [
    "# Cleaning data with Python - Challenge day 3 - Parsing dates\n",
    "\n",
    "Rather than forking, I prefer to start with a clean workbook and make it my own, so let's get started on [day 3 of Rachael's cleaning data in Python][1] 5-dayer.\n",
    "\n",
    "Today, it's about parsing dates, something I'm pretty happy with in both base R and using lubridate, but Python? Not so much. Time to being working towards changing that...\n",
    "\n",
    "[1]: https://www.kaggle.com/rtatman/data-cleaning-challenge-parsing-dates"
   ]
  },
  {
   "cell_type": "code",
   "execution_count": 2,
   "metadata": {
    "_cell_guid": "49e34b56-f598-4bdc-be1e-df5671bdf70f",
    "_uuid": "925d37b699dfdecdda4e2dd47770f6bb0078ba44"
   },
   "outputs": [],
   "source": [
    "# modules we'll use\n",
    "import pandas as pd\n",
    "import numpy as np\n",
    "import seaborn as sns\n",
    "import datetime\n",
    "\n",
    "# read in our data\n",
    "earthquakes = pd.read_csv(\"../input/earthquake-database/database.csv\")\n",
    "landslides = pd.read_csv(\"../input/landslide-events/catalog.csv\")\n",
    "volcanos = pd.read_csv(\"../input/volcanic-eruptions/database.csv\")\n",
    "\n",
    "# set seed for reproducibility\n",
    "np.random.seed(0)"
   ]
  },
  {
   "cell_type": "markdown",
   "metadata": {
    "_uuid": "e80f10e1dc56a3dc054771b1322e2701188b9a01"
   },
   "source": [
    "### Your turn! Check the data type of the Date column in the earthquakes dataframe (note the capital 'D' in date!)"
   ]
  },
  {
   "cell_type": "code",
   "execution_count": 3,
   "metadata": {
    "_uuid": "40fd618007d688ad5bb09c21123ff86e1b7f4abd"
   },
   "outputs": [
    {
     "name": "stdout",
     "output_type": "stream",
     "text": [
      "         Date      Time  Latitude  Longitude        Type  Depth  Depth Error  \\\n",
      "0  01/02/1965  13:44:18    19.246    145.616  Earthquake  131.6          NaN   \n",
      "1  01/04/1965  11:29:49     1.863    127.352  Earthquake   80.0          NaN   \n",
      "2  01/05/1965  18:05:58   -20.579   -173.972  Earthquake   20.0          NaN   \n",
      "3  01/08/1965  18:49:43   -59.076    -23.557  Earthquake   15.0          NaN   \n",
      "4  01/09/1965  13:32:50    11.938    126.427  Earthquake   15.0          NaN   \n",
      "\n",
      "   Depth Seismic Stations  Magnitude Magnitude Type    ...      \\\n",
      "0                     NaN        6.0             MW    ...       \n",
      "1                     NaN        5.8             MW    ...       \n",
      "2                     NaN        6.2             MW    ...       \n",
      "3                     NaN        5.8             MW    ...       \n",
      "4                     NaN        5.8             MW    ...       \n",
      "\n",
      "   Magnitude Seismic Stations  Azimuthal Gap  Horizontal Distance  \\\n",
      "0                         NaN            NaN                  NaN   \n",
      "1                         NaN            NaN                  NaN   \n",
      "2                         NaN            NaN                  NaN   \n",
      "3                         NaN            NaN                  NaN   \n",
      "4                         NaN            NaN                  NaN   \n",
      "\n",
      "   Horizontal Error  Root Mean Square            ID  Source Location Source  \\\n",
      "0               NaN               NaN  ISCGEM860706  ISCGEM          ISCGEM   \n",
      "1               NaN               NaN  ISCGEM860737  ISCGEM          ISCGEM   \n",
      "2               NaN               NaN  ISCGEM860762  ISCGEM          ISCGEM   \n",
      "3               NaN               NaN  ISCGEM860856  ISCGEM          ISCGEM   \n",
      "4               NaN               NaN  ISCGEM860890  ISCGEM          ISCGEM   \n",
      "\n",
      "  Magnitude Source     Status  \n",
      "0           ISCGEM  Automatic  \n",
      "1           ISCGEM  Automatic  \n",
      "2           ISCGEM  Automatic  \n",
      "3           ISCGEM  Automatic  \n",
      "4           ISCGEM  Automatic  \n",
      "\n",
      "[5 rows x 21 columns]\n"
     ]
    }
   ],
   "source": [
    "# take a look at the variable names\n",
    "print(earthquakes.head())"
   ]
  },
  {
   "cell_type": "code",
   "execution_count": 4,
   "metadata": {
    "_uuid": "b489ddd988cdebbcc49447455bbff7784e4174c4"
   },
   "outputs": [
    {
     "data": {
      "text/plain": [
       "dtype('O')"
      ]
     },
     "execution_count": 4,
     "metadata": {},
     "output_type": "execute_result"
    }
   ],
   "source": [
    "# note the capital 'D' indeed, let's answer the question...\n",
    "earthquakes['Date'].dtype"
   ]
  },
  {
   "cell_type": "markdown",
   "metadata": {
    "_uuid": "0c20ec1ce5a8d6559e883d01238118e141a9a1d1"
   },
   "source": [
    "### Your turn! Create a new column, date_parsed, in the earthquakes dataset that has correctly parsed dates in it. (Don't forget to double-check that the dtype is correct!)"
   ]
  },
  {
   "cell_type": "code",
   "execution_count": 27,
   "metadata": {
    "_uuid": "0d51955bf90c2aaf7f608c1f2aa6c8d0c7f159c1"
   },
   "outputs": [],
   "source": [
    "earthquakes['date_parsed'] = pd.to_datetime(earthquakes['Date'], format = \"%m/%d/%Y\")"
   ]
  },
  {
   "cell_type": "markdown",
   "metadata": {
    "_uuid": "67d0448f0092e679b3a6110ebd28b08f5d75f667"
   },
   "source": [
    "Hmmm, an error. It's just a simple bit of code, could the issue be that this simple bit of code is a bit too rigid to deal with the dataset?\n",
    "\n",
    "Let's try this code ([thanks Jamie!][1]) to see if we can see if there are any rows causing our error:\n",
    "[1]: https://www.kaggle.com/jsteckel"
   ]
  },
  {
   "cell_type": "code",
   "execution_count": 28,
   "metadata": {
    "_uuid": "e78c0d560f74d19cf406c4269e238bb180e1ba63"
   },
   "outputs": [],
   "source": [
    "print (pd.to_datetime(earthquakes['Date'], errors = 'coerce', format=\"%m/%d/%Y\"))\n",
    "mask = pd.to_datetime(earthquakes['Date'], errors = 'coerce', format=\"%m/%d/%Y\").isnull()\n",
    "print (earthquakes['Date'][mask])"
   ]
  },
  {
   "cell_type": "markdown",
   "metadata": {
    "_uuid": "30b47c59bdb1679e529595625250fb68ff2d6da4"
   },
   "source": [
    "And there we have it: looks like we have three rows with our date in a different format. Let's get around that with the addition of an argument to our original, inflexible, code:"
   ]
  },
  {
   "cell_type": "code",
   "execution_count": 29,
   "metadata": {
    "_uuid": "612fe02a79a39b88454ddd60c8e04d6a604655a3"
   },
   "outputs": [],
   "source": [
    "earthquakes['dateParsed'] = pd.to_datetime(earthquakes['Date'], infer_datetime_format = True)"
   ]
  },
  {
   "cell_type": "code",
   "execution_count": 30,
   "metadata": {
    "_uuid": "7603a2617ae59f2d75b01558b8600003f840f16a"
   },
   "outputs": [],
   "source": [
    "earthquakes.dateParsed.head()"
   ]
  },
  {
   "cell_type": "markdown",
   "metadata": {
    "_uuid": "8e0c9e9edf1caccd81d82efd47ec8d5ca2d24a24"
   },
   "source": [
    "dtype: datetime64. Nice.\n",
    "\n",
    "### Your turn! get the day of the month from the date_parsed column"
   ]
  },
  {
   "cell_type": "code",
   "execution_count": 31,
   "metadata": {
    "_uuid": "cb4bf2c82e3d41000f5c7e0898589c14b66b951f"
   },
   "outputs": [],
   "source": [
    "earthquakes['dayOfMonth'] = earthquakes['dateParsed'].dt.day\n",
    "earthquakes.dayOfMonth.head()"
   ]
  },
  {
   "cell_type": "markdown",
   "metadata": {
    "_uuid": "a952230cf061b07be2747c5c8d17a6eaf08e7c30"
   },
   "source": [
    "### Your turn! Plot the days of the month from your earthquake dataset and make sure they make sense."
   ]
  },
  {
   "cell_type": "code",
   "execution_count": 33,
   "metadata": {
    "_uuid": "10840773dc71fc513d2d8a6588d1d09da7804e49"
   },
   "outputs": [],
   "source": [
    "# remove na's\n",
    "earthquakes.dayOfMonth = earthquakes.dayOfMonth.dropna()\n",
    "\n",
    "# plot the day of the month\n",
    "sns.distplot(earthquakes.dayOfMonth, kde = False, bins = 31)"
   ]
  },
  {
   "cell_type": "markdown",
   "metadata": {
    "_uuid": "a8b61b47e2899491890c3650fd2bc6f3a7f2f58b"
   },
   "source": [
    "\"And that\", as Jim Lovell (well, it was Tom Hanks I suppose) said, \"is how we do that\".\n",
    "\n",
    "Aquarius. Signing off."
   ]
  }
 ],
 "metadata": {
  "kernelspec": {
   "display_name": "Python 2",
   "language": "python",
   "name": "python2"
  },
  "language_info": {
   "codemirror_mode": {
    "name": "ipython",
    "version": 2
   },
   "file_extension": ".py",
   "mimetype": "text/x-python",
   "name": "python",
   "nbconvert_exporter": "python",
   "pygments_lexer": "ipython2",
   "version": "2.7.16"
  }
 },
 "nbformat": 4,
 "nbformat_minor": 1
}
