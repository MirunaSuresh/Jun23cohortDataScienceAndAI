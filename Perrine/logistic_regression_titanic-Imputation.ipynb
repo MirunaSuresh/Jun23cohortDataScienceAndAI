{
 "cells": [
  {
   "cell_type": "code",
   "execution_count": 278,
   "metadata": {},
   "outputs": [],
   "source": [
    "import pandas as pd\n",
    "import numpy as np\n",
    "import matplotlib.pyplot as plt\n",
    "import seaborn as sns\n",
    "\n",
    "from sklearn.model_selection import train_test_split\n",
    "from sklearn.linear_model import LogisticRegression\n",
    "\n",
    "%matplotlib inline"
   ]
  },
  {
   "cell_type": "code",
   "execution_count": 279,
   "metadata": {},
   "outputs": [],
   "source": [
    "titanic_csv = '../DATA/titanic_train.csv'\n",
    "titanic = pd.read_csv('C:/Users/Perrine Mignot/Downloads/titanic.csv')"
   ]
  },
  {
   "cell_type": "markdown",
   "metadata": {},
   "source": [
    "Exploring data"
   ]
  },
  {
   "cell_type": "code",
   "execution_count": 280,
   "metadata": {},
   "outputs": [
    {
     "data": {
      "text/html": [
       "<div>\n",
       "<style scoped>\n",
       "    .dataframe tbody tr th:only-of-type {\n",
       "        vertical-align: middle;\n",
       "    }\n",
       "\n",
       "    .dataframe tbody tr th {\n",
       "        vertical-align: top;\n",
       "    }\n",
       "\n",
       "    .dataframe thead th {\n",
       "        text-align: right;\n",
       "    }\n",
       "</style>\n",
       "<table border=\"1\" class=\"dataframe\">\n",
       "  <thead>\n",
       "    <tr style=\"text-align: right;\">\n",
       "      <th></th>\n",
       "      <th>PassengerId</th>\n",
       "      <th>Survived</th>\n",
       "      <th>Pclass</th>\n",
       "      <th>Name</th>\n",
       "      <th>Sex</th>\n",
       "      <th>Age</th>\n",
       "      <th>SibSp</th>\n",
       "      <th>Parch</th>\n",
       "      <th>Ticket</th>\n",
       "      <th>Fare</th>\n",
       "      <th>Cabin</th>\n",
       "      <th>Embarked</th>\n",
       "    </tr>\n",
       "  </thead>\n",
       "  <tbody>\n",
       "    <tr>\n",
       "      <th>0</th>\n",
       "      <td>1</td>\n",
       "      <td>0</td>\n",
       "      <td>3</td>\n",
       "      <td>Braund, Mr. Owen Harris</td>\n",
       "      <td>male</td>\n",
       "      <td>22.0</td>\n",
       "      <td>1</td>\n",
       "      <td>0</td>\n",
       "      <td>A/5 21171</td>\n",
       "      <td>7.2500</td>\n",
       "      <td>NaN</td>\n",
       "      <td>S</td>\n",
       "    </tr>\n",
       "    <tr>\n",
       "      <th>1</th>\n",
       "      <td>2</td>\n",
       "      <td>1</td>\n",
       "      <td>1</td>\n",
       "      <td>Cumings, Mrs. John Bradley (Florence Briggs Th...</td>\n",
       "      <td>female</td>\n",
       "      <td>38.0</td>\n",
       "      <td>1</td>\n",
       "      <td>0</td>\n",
       "      <td>PC 17599</td>\n",
       "      <td>71.2833</td>\n",
       "      <td>C85</td>\n",
       "      <td>C</td>\n",
       "    </tr>\n",
       "    <tr>\n",
       "      <th>2</th>\n",
       "      <td>3</td>\n",
       "      <td>1</td>\n",
       "      <td>3</td>\n",
       "      <td>Heikkinen, Miss. Laina</td>\n",
       "      <td>female</td>\n",
       "      <td>26.0</td>\n",
       "      <td>0</td>\n",
       "      <td>0</td>\n",
       "      <td>STON/O2. 3101282</td>\n",
       "      <td>7.9250</td>\n",
       "      <td>NaN</td>\n",
       "      <td>S</td>\n",
       "    </tr>\n",
       "    <tr>\n",
       "      <th>3</th>\n",
       "      <td>4</td>\n",
       "      <td>1</td>\n",
       "      <td>1</td>\n",
       "      <td>Futrelle, Mrs. Jacques Heath (Lily May Peel)</td>\n",
       "      <td>female</td>\n",
       "      <td>35.0</td>\n",
       "      <td>1</td>\n",
       "      <td>0</td>\n",
       "      <td>113803</td>\n",
       "      <td>53.1000</td>\n",
       "      <td>C123</td>\n",
       "      <td>S</td>\n",
       "    </tr>\n",
       "    <tr>\n",
       "      <th>4</th>\n",
       "      <td>5</td>\n",
       "      <td>0</td>\n",
       "      <td>3</td>\n",
       "      <td>Allen, Mr. William Henry</td>\n",
       "      <td>male</td>\n",
       "      <td>35.0</td>\n",
       "      <td>0</td>\n",
       "      <td>0</td>\n",
       "      <td>373450</td>\n",
       "      <td>8.0500</td>\n",
       "      <td>NaN</td>\n",
       "      <td>S</td>\n",
       "    </tr>\n",
       "  </tbody>\n",
       "</table>\n",
       "</div>"
      ],
      "text/plain": [
       "   PassengerId  Survived  Pclass  \\\n",
       "0            1         0       3   \n",
       "1            2         1       1   \n",
       "2            3         1       3   \n",
       "3            4         1       1   \n",
       "4            5         0       3   \n",
       "\n",
       "                                                Name     Sex   Age  SibSp  \\\n",
       "0                            Braund, Mr. Owen Harris    male  22.0      1   \n",
       "1  Cumings, Mrs. John Bradley (Florence Briggs Th...  female  38.0      1   \n",
       "2                             Heikkinen, Miss. Laina  female  26.0      0   \n",
       "3       Futrelle, Mrs. Jacques Heath (Lily May Peel)  female  35.0      1   \n",
       "4                           Allen, Mr. William Henry    male  35.0      0   \n",
       "\n",
       "   Parch            Ticket     Fare Cabin Embarked  \n",
       "0      0         A/5 21171   7.2500   NaN        S  \n",
       "1      0          PC 17599  71.2833   C85        C  \n",
       "2      0  STON/O2. 3101282   7.9250   NaN        S  \n",
       "3      0            113803  53.1000  C123        S  \n",
       "4      0            373450   8.0500   NaN        S  "
      ]
     },
     "execution_count": 280,
     "metadata": {},
     "output_type": "execute_result"
    }
   ],
   "source": [
    "titanic.head()"
   ]
  },
  {
   "cell_type": "code",
   "execution_count": 281,
   "metadata": {},
   "outputs": [
    {
     "data": {
      "text/plain": [
       "PassengerId      0\n",
       "Survived         0\n",
       "Pclass           0\n",
       "Name             0\n",
       "Sex              0\n",
       "Age            177\n",
       "SibSp            0\n",
       "Parch            0\n",
       "Ticket           0\n",
       "Fare             0\n",
       "Cabin          687\n",
       "Embarked         2\n",
       "dtype: int64"
      ]
     },
     "execution_count": 281,
     "metadata": {},
     "output_type": "execute_result"
    }
   ],
   "source": [
    "titanic.isnull().sum()"
   ]
  },
  {
   "cell_type": "code",
   "execution_count": 282,
   "metadata": {},
   "outputs": [
    {
     "data": {
      "text/plain": [
       "<matplotlib.axes._subplots.AxesSubplot at 0x2501bfcd248>"
      ]
     },
     "execution_count": 282,
     "metadata": {},
     "output_type": "execute_result"
    },
    {
     "data": {
      "image/png": "[encoded data removed]",
      "text/plain": [
       "<Figure size 432x288 with 2 Axes>"
      ]
     },
     "metadata": {
      "needs_background": "light"
     },
     "output_type": "display_data"
    }
   ],
   "source": [
    "sns.heatmap(titanic.isnull())"
   ]
  },
  {
   "cell_type": "code",
   "execution_count": 283,
   "metadata": {},
   "outputs": [
    {
     "ename": "AttributeError",
     "evalue": "module 'seaborn' has no attribute 'xlabel'",
     "output_type": "error",
     "traceback": [
      "\u001b[1;31m---------------------------------------------------------------------------\u001b[0m",
      "\u001b[1;31mAttributeError\u001b[0m                            Traceback (most recent call last)",
      "\u001b[1;32m<ipython-input-283-1b65728c06a1>\u001b[0m in \u001b[0;36m<module>\u001b[1;34m\u001b[0m\n\u001b[0;32m      1\u001b[0m \u001b[0msns\u001b[0m\u001b[1;33m.\u001b[0m\u001b[0mcountplot\u001b[0m\u001b[1;33m(\u001b[0m\u001b[0mx\u001b[0m\u001b[1;33m=\u001b[0m\u001b[1;34m'Survived'\u001b[0m\u001b[1;33m,\u001b[0m\u001b[0mdata\u001b[0m\u001b[1;33m=\u001b[0m\u001b[0mtitanic\u001b[0m\u001b[1;33m)\u001b[0m\u001b[1;33m\u001b[0m\u001b[1;33m\u001b[0m\u001b[0m\n\u001b[1;32m----> 2\u001b[1;33m \u001b[0msns\u001b[0m\u001b[1;33m.\u001b[0m\u001b[0mxlabel\u001b[0m\u001b[1;33m(\u001b[0m\u001b[1;34m'survived'\u001b[0m\u001b[1;33m,\u001b[0m\u001b[1;34m'died'\u001b[0m\u001b[1;33m)\u001b[0m\u001b[1;33m\u001b[0m\u001b[1;33m\u001b[0m\u001b[0m\n\u001b[0m",
      "\u001b[1;31mAttributeError\u001b[0m: module 'seaborn' has no attribute 'xlabel'"
     ]
    },
    {
     "data": {
      "image/png": "[encoded data removed]",
      "text/plain": [
       "<Figure size 432x288 with 1 Axes>"
      ]
     },
     "metadata": {
      "needs_background": "light"
     },
     "output_type": "display_data"
    }
   ],
   "source": [
    "sns.countplot(x='Survived',data=titanic)\n",
    "sns.xlabel('survived','died')"
   ]
  },
  {
   "cell_type": "code",
   "execution_count": 284,
   "metadata": {},
   "outputs": [
    {
     "data": {
      "text/plain": [
       "<matplotlib.axes._subplots.AxesSubplot at 0x2501d0e6648>"
      ]
     },
     "execution_count": 284,
     "metadata": {},
     "output_type": "execute_result"
    },
    {
     "data": {
      "image/png": "[encoded data removed]",
      "text/plain": [
       "<Figure size 432x288 with 1 Axes>"
      ]
     },
     "metadata": {
      "needs_background": "light"
     },
     "output_type": "display_data"
    }
   ],
   "source": [
    "sns.countplot(x='Survived',hue='Sex',data=titanic)"
   ]
  },
  {
   "cell_type": "code",
   "execution_count": 285,
   "metadata": {},
   "outputs": [],
   "source": [
    "# more females survived than males."
   ]
  },
  {
   "cell_type": "code",
   "execution_count": 286,
   "metadata": {},
   "outputs": [
    {
     "data": {
      "text/plain": [
       "<matplotlib.axes._subplots.AxesSubplot at 0x2501d131f88>"
      ]
     },
     "execution_count": 286,
     "metadata": {},
     "output_type": "execute_result"
    },
    {
     "data": {
      "image/png": "[encoded data removed]",
      "text/plain": [
       "<Figure size 432x288 with 1 Axes>"
      ]
     },
     "metadata": {
      "needs_background": "light"
     },
     "output_type": "display_data"
    }
   ],
   "source": [
    "sns.countplot(x='Survived',hue='Pclass',data=titanic)"
   ]
  },
  {
   "cell_type": "code",
   "execution_count": 287,
   "metadata": {},
   "outputs": [],
   "source": [
    "# passengers belonging to class 3 died the most."
   ]
  },
  {
   "cell_type": "markdown",
   "metadata": {},
   "source": [
    "Data Cleaning"
   ]
  },
  {
   "cell_type": "code",
   "execution_count": 288,
   "metadata": {},
   "outputs": [
    {
     "data": {
      "text/html": [
       "<div>\n",
       "<style scoped>\n",
       "    .dataframe tbody tr th:only-of-type {\n",
       "        vertical-align: middle;\n",
       "    }\n",
       "\n",
       "    .dataframe tbody tr th {\n",
       "        vertical-align: top;\n",
       "    }\n",
       "\n",
       "    .dataframe thead th {\n",
       "        text-align: right;\n",
       "    }\n",
       "</style>\n",
       "<table border=\"1\" class=\"dataframe\">\n",
       "  <thead>\n",
       "    <tr style=\"text-align: right;\">\n",
       "      <th></th>\n",
       "      <th>PassengerId</th>\n",
       "      <th>Survived</th>\n",
       "      <th>Pclass</th>\n",
       "      <th>Name</th>\n",
       "      <th>Sex</th>\n",
       "      <th>Age</th>\n",
       "      <th>SibSp</th>\n",
       "      <th>Parch</th>\n",
       "      <th>Ticket</th>\n",
       "      <th>Fare</th>\n",
       "      <th>Cabin</th>\n",
       "      <th>Embarked</th>\n",
       "    </tr>\n",
       "  </thead>\n",
       "  <tbody>\n",
       "    <tr>\n",
       "      <th>0</th>\n",
       "      <td>1</td>\n",
       "      <td>0</td>\n",
       "      <td>3</td>\n",
       "      <td>Braund, Mr. Owen Harris</td>\n",
       "      <td>male</td>\n",
       "      <td>22.0</td>\n",
       "      <td>1</td>\n",
       "      <td>0</td>\n",
       "      <td>A/5 21171</td>\n",
       "      <td>7.2500</td>\n",
       "      <td>NaN</td>\n",
       "      <td>S</td>\n",
       "    </tr>\n",
       "    <tr>\n",
       "      <th>1</th>\n",
       "      <td>2</td>\n",
       "      <td>1</td>\n",
       "      <td>1</td>\n",
       "      <td>Cumings, Mrs. John Bradley (Florence Briggs Th...</td>\n",
       "      <td>female</td>\n",
       "      <td>38.0</td>\n",
       "      <td>1</td>\n",
       "      <td>0</td>\n",
       "      <td>PC 17599</td>\n",
       "      <td>71.2833</td>\n",
       "      <td>C85</td>\n",
       "      <td>C</td>\n",
       "    </tr>\n",
       "    <tr>\n",
       "      <th>2</th>\n",
       "      <td>3</td>\n",
       "      <td>1</td>\n",
       "      <td>3</td>\n",
       "      <td>Heikkinen, Miss. Laina</td>\n",
       "      <td>female</td>\n",
       "      <td>26.0</td>\n",
       "      <td>0</td>\n",
       "      <td>0</td>\n",
       "      <td>STON/O2. 3101282</td>\n",
       "      <td>7.9250</td>\n",
       "      <td>NaN</td>\n",
       "      <td>S</td>\n",
       "    </tr>\n",
       "    <tr>\n",
       "      <th>3</th>\n",
       "      <td>4</td>\n",
       "      <td>1</td>\n",
       "      <td>1</td>\n",
       "      <td>Futrelle, Mrs. Jacques Heath (Lily May Peel)</td>\n",
       "      <td>female</td>\n",
       "      <td>35.0</td>\n",
       "      <td>1</td>\n",
       "      <td>0</td>\n",
       "      <td>113803</td>\n",
       "      <td>53.1000</td>\n",
       "      <td>C123</td>\n",
       "      <td>S</td>\n",
       "    </tr>\n",
       "    <tr>\n",
       "      <th>4</th>\n",
       "      <td>5</td>\n",
       "      <td>0</td>\n",
       "      <td>3</td>\n",
       "      <td>Allen, Mr. William Henry</td>\n",
       "      <td>male</td>\n",
       "      <td>35.0</td>\n",
       "      <td>0</td>\n",
       "      <td>0</td>\n",
       "      <td>373450</td>\n",
       "      <td>8.0500</td>\n",
       "      <td>NaN</td>\n",
       "      <td>S</td>\n",
       "    </tr>\n",
       "  </tbody>\n",
       "</table>\n",
       "</div>"
      ],
      "text/plain": [
       "   PassengerId  Survived  Pclass  \\\n",
       "0            1         0       3   \n",
       "1            2         1       1   \n",
       "2            3         1       3   \n",
       "3            4         1       1   \n",
       "4            5         0       3   \n",
       "\n",
       "                                                Name     Sex   Age  SibSp  \\\n",
       "0                            Braund, Mr. Owen Harris    male  22.0      1   \n",
       "1  Cumings, Mrs. John Bradley (Florence Briggs Th...  female  38.0      1   \n",
       "2                             Heikkinen, Miss. Laina  female  26.0      0   \n",
       "3       Futrelle, Mrs. Jacques Heath (Lily May Peel)  female  35.0      1   \n",
       "4                           Allen, Mr. William Henry    male  35.0      0   \n",
       "\n",
       "   Parch            Ticket     Fare Cabin Embarked  \n",
       "0      0         A/5 21171   7.2500   NaN        S  \n",
       "1      0          PC 17599  71.2833   C85        C  \n",
       "2      0  STON/O2. 3101282   7.9250   NaN        S  \n",
       "3      0            113803  53.1000  C123        S  \n",
       "4      0            373450   8.0500   NaN        S  "
      ]
     },
     "execution_count": 288,
     "metadata": {},
     "output_type": "execute_result"
    }
   ],
   "source": [
    "titanic.head()"
   ]
  },
  {
   "cell_type": "code",
   "execution_count": 289,
   "metadata": {},
   "outputs": [],
   "source": [
    "# replace missing age value with age mean"
   ]
  },
  {
   "cell_type": "code",
   "execution_count": 290,
   "metadata": {},
   "outputs": [
    {
     "data": {
      "text/plain": [
       "29.69911764705882"
      ]
     },
     "execution_count": 290,
     "metadata": {},
     "output_type": "execute_result"
    }
   ],
   "source": [
    "titanic.Age.mean()"
   ]
  },
  {
   "cell_type": "code",
   "execution_count": 291,
   "metadata": {},
   "outputs": [],
   "source": [
    "# finding out more about the missing values to decide what to do \n",
    "titanic_missing = titanic.loc[titanic.Age == 0]"
   ]
  },
  {
   "cell_type": "code",
   "execution_count": 292,
   "metadata": {},
   "outputs": [
    {
     "data": {
      "text/plain": [
       "0.0"
      ]
     },
     "execution_count": 292,
     "metadata": {},
     "output_type": "execute_result"
    }
   ],
   "source": [
    "# why isn't this returning the sum of missing age values so 177? \n",
    "# I would then like to use this new dataset to find out which class does the msising values belong to but first I need to be able to isolate them.\n",
    "# Can you please help? :-)\n",
    "titanic_missing.Age.sum()"
   ]
  },
  {
   "cell_type": "code",
   "execution_count": 293,
   "metadata": {},
   "outputs": [
    {
     "data": {
      "text/plain": [
       "PassengerId      0\n",
       "Survived         0\n",
       "Pclass           0\n",
       "Name             0\n",
       "Sex              0\n",
       "Age            177\n",
       "SibSp            0\n",
       "Parch            0\n",
       "Ticket           0\n",
       "Fare             0\n",
       "Cabin          687\n",
       "Embarked         2\n",
       "dtype: int64"
      ]
     },
     "execution_count": 293,
     "metadata": {},
     "output_type": "execute_result"
    }
   ],
   "source": [
    "titanic.isnull().sum() "
   ]
  },
  {
   "cell_type": "code",
   "execution_count": 294,
   "metadata": {},
   "outputs": [],
   "source": [
    "# imputing the age using the mean of the age column"
   ]
  },
  {
   "cell_type": "code",
   "execution_count": 295,
   "metadata": {},
   "outputs": [
    {
     "name": "stdout",
     "output_type": "stream",
     "text": [
      "[[22.        ]\n",
      " [38.        ]\n",
      " [26.        ]\n",
      " [35.        ]\n",
      " [35.        ]\n",
      " [29.69911765]\n",
      " [54.        ]\n",
      " [ 2.        ]\n",
      " [27.        ]\n",
      " [14.        ]\n",
      " [ 4.        ]\n",
      " [58.        ]\n",
      " [20.        ]\n",
      " [39.        ]\n",
      " [14.        ]\n",
      " [55.        ]\n",
      " [ 2.        ]\n",
      " [29.69911765]\n",
      " [31.        ]\n",
      " [29.69911765]\n",
      " [35.        ]\n",
      " [34.        ]\n",
      " [15.        ]\n",
      " [28.        ]\n",
      " [ 8.        ]\n",
      " [38.        ]\n",
      " [29.69911765]\n",
      " [19.        ]\n",
      " [29.69911765]\n",
      " [29.69911765]\n",
      " [40.        ]\n",
      " [29.69911765]\n",
      " [29.69911765]\n",
      " [66.        ]\n",
      " [28.        ]\n",
      " [42.        ]\n",
      " [29.69911765]\n",
      " [21.        ]\n",
      " [18.        ]\n",
      " [14.        ]\n",
      " [40.        ]\n",
      " [27.        ]\n",
      " [29.69911765]\n",
      " [ 3.        ]\n",
      " [19.        ]\n",
      " [29.69911765]\n",
      " [29.69911765]\n",
      " [29.69911765]\n",
      " [29.69911765]\n",
      " [18.        ]\n",
      " [ 7.        ]\n",
      " [21.        ]\n",
      " [49.        ]\n",
      " [29.        ]\n",
      " [65.        ]\n",
      " [29.69911765]\n",
      " [21.        ]\n",
      " [28.5       ]\n",
      " [ 5.        ]\n",
      " [11.        ]\n",
      " [22.        ]\n",
      " [38.        ]\n",
      " [45.        ]\n",
      " [ 4.        ]\n",
      " [29.69911765]\n",
      " [29.69911765]\n",
      " [29.        ]\n",
      " [19.        ]\n",
      " [17.        ]\n",
      " [26.        ]\n",
      " [32.        ]\n",
      " [16.        ]\n",
      " [21.        ]\n",
      " [26.        ]\n",
      " [32.        ]\n",
      " [25.        ]\n",
      " [29.69911765]\n",
      " [29.69911765]\n",
      " [ 0.83      ]\n",
      " [30.        ]\n",
      " [22.        ]\n",
      " [29.        ]\n",
      " [29.69911765]\n",
      " [28.        ]\n",
      " [17.        ]\n",
      " [33.        ]\n",
      " [16.        ]\n",
      " [29.69911765]\n",
      " [23.        ]\n",
      " [24.        ]\n",
      " [29.        ]\n",
      " [20.        ]\n",
      " [46.        ]\n",
      " [26.        ]\n",
      " [59.        ]\n",
      " [29.69911765]\n",
      " [71.        ]\n",
      " [23.        ]\n",
      " [34.        ]\n",
      " [34.        ]\n",
      " [28.        ]\n",
      " [29.69911765]\n",
      " [21.        ]\n",
      " [33.        ]\n",
      " [37.        ]\n",
      " [28.        ]\n",
      " [21.        ]\n",
      " [29.69911765]\n",
      " [38.        ]\n",
      " [29.69911765]\n",
      " [47.        ]\n",
      " [14.5       ]\n",
      " [22.        ]\n",
      " [20.        ]\n",
      " [17.        ]\n",
      " [21.        ]\n",
      " [70.5       ]\n",
      " [29.        ]\n",
      " [24.        ]\n",
      " [ 2.        ]\n",
      " [21.        ]\n",
      " [29.69911765]\n",
      " [32.5       ]\n",
      " [32.5       ]\n",
      " [54.        ]\n",
      " [12.        ]\n",
      " [29.69911765]\n",
      " [24.        ]\n",
      " [29.69911765]\n",
      " [45.        ]\n",
      " [33.        ]\n",
      " [20.        ]\n",
      " [47.        ]\n",
      " [29.        ]\n",
      " [25.        ]\n",
      " [23.        ]\n",
      " [19.        ]\n",
      " [37.        ]\n",
      " [16.        ]\n",
      " [24.        ]\n",
      " [29.69911765]\n",
      " [22.        ]\n",
      " [24.        ]\n",
      " [19.        ]\n",
      " [18.        ]\n",
      " [19.        ]\n",
      " [27.        ]\n",
      " [ 9.        ]\n",
      " [36.5       ]\n",
      " [42.        ]\n",
      " [51.        ]\n",
      " [22.        ]\n",
      " [55.5       ]\n",
      " [40.5       ]\n",
      " [29.69911765]\n",
      " [51.        ]\n",
      " [16.        ]\n",
      " [30.        ]\n",
      " [29.69911765]\n",
      " [29.69911765]\n",
      " [44.        ]\n",
      " [40.        ]\n",
      " [26.        ]\n",
      " [17.        ]\n",
      " [ 1.        ]\n",
      " [ 9.        ]\n",
      " [29.69911765]\n",
      " [45.        ]\n",
      " [29.69911765]\n",
      " [28.        ]\n",
      " [61.        ]\n",
      " [ 4.        ]\n",
      " [ 1.        ]\n",
      " [21.        ]\n",
      " [56.        ]\n",
      " [18.        ]\n",
      " [29.69911765]\n",
      " [50.        ]\n",
      " [30.        ]\n",
      " [36.        ]\n",
      " [29.69911765]\n",
      " [29.69911765]\n",
      " [ 9.        ]\n",
      " [ 1.        ]\n",
      " [ 4.        ]\n",
      " [29.69911765]\n",
      " [29.69911765]\n",
      " [45.        ]\n",
      " [40.        ]\n",
      " [36.        ]\n",
      " [32.        ]\n",
      " [19.        ]\n",
      " [19.        ]\n",
      " [ 3.        ]\n",
      " [44.        ]\n",
      " [58.        ]\n",
      " [29.69911765]\n",
      " [42.        ]\n",
      " [29.69911765]\n",
      " [24.        ]\n",
      " [28.        ]\n",
      " [29.69911765]\n",
      " [34.        ]\n",
      " [45.5       ]\n",
      " [18.        ]\n",
      " [ 2.        ]\n",
      " [32.        ]\n",
      " [26.        ]\n",
      " [16.        ]\n",
      " [40.        ]\n",
      " [24.        ]\n",
      " [35.        ]\n",
      " [22.        ]\n",
      " [30.        ]\n",
      " [29.69911765]\n",
      " [31.        ]\n",
      " [27.        ]\n",
      " [42.        ]\n",
      " [32.        ]\n",
      " [30.        ]\n",
      " [16.        ]\n",
      " [27.        ]\n",
      " [51.        ]\n",
      " [29.69911765]\n",
      " [38.        ]\n",
      " [22.        ]\n",
      " [19.        ]\n",
      " [20.5       ]\n",
      " [18.        ]\n",
      " [29.69911765]\n",
      " [35.        ]\n",
      " [29.        ]\n",
      " [59.        ]\n",
      " [ 5.        ]\n",
      " [24.        ]\n",
      " [29.69911765]\n",
      " [44.        ]\n",
      " [ 8.        ]\n",
      " [19.        ]\n",
      " [33.        ]\n",
      " [29.69911765]\n",
      " [29.69911765]\n",
      " [29.        ]\n",
      " [22.        ]\n",
      " [30.        ]\n",
      " [44.        ]\n",
      " [25.        ]\n",
      " [24.        ]\n",
      " [37.        ]\n",
      " [54.        ]\n",
      " [29.69911765]\n",
      " [29.        ]\n",
      " [62.        ]\n",
      " [30.        ]\n",
      " [41.        ]\n",
      " [29.        ]\n",
      " [29.69911765]\n",
      " [30.        ]\n",
      " [35.        ]\n",
      " [50.        ]\n",
      " [29.69911765]\n",
      " [ 3.        ]\n",
      " [52.        ]\n",
      " [40.        ]\n",
      " [29.69911765]\n",
      " [36.        ]\n",
      " [16.        ]\n",
      " [25.        ]\n",
      " [58.        ]\n",
      " [35.        ]\n",
      " [29.69911765]\n",
      " [25.        ]\n",
      " [41.        ]\n",
      " [37.        ]\n",
      " [29.69911765]\n",
      " [63.        ]\n",
      " [45.        ]\n",
      " [29.69911765]\n",
      " [ 7.        ]\n",
      " [35.        ]\n",
      " [65.        ]\n",
      " [28.        ]\n",
      " [16.        ]\n",
      " [19.        ]\n",
      " [29.69911765]\n",
      " [33.        ]\n",
      " [30.        ]\n",
      " [22.        ]\n",
      " [42.        ]\n",
      " [22.        ]\n",
      " [26.        ]\n",
      " [19.        ]\n",
      " [36.        ]\n",
      " [24.        ]\n",
      " [24.        ]\n",
      " [29.69911765]\n",
      " [23.5       ]\n",
      " [ 2.        ]\n",
      " [29.69911765]\n",
      " [50.        ]\n",
      " [29.69911765]\n",
      " [29.69911765]\n",
      " [19.        ]\n",
      " [29.69911765]\n",
      " [29.69911765]\n",
      " [ 0.92      ]\n",
      " [29.69911765]\n",
      " [17.        ]\n",
      " [30.        ]\n",
      " [30.        ]\n",
      " [24.        ]\n",
      " [18.        ]\n",
      " [26.        ]\n",
      " [28.        ]\n",
      " [43.        ]\n",
      " [26.        ]\n",
      " [24.        ]\n",
      " [54.        ]\n",
      " [31.        ]\n",
      " [40.        ]\n",
      " [22.        ]\n",
      " [27.        ]\n",
      " [30.        ]\n",
      " [22.        ]\n",
      " [29.69911765]\n",
      " [36.        ]\n",
      " [61.        ]\n",
      " [36.        ]\n",
      " [31.        ]\n",
      " [16.        ]\n",
      " [29.69911765]\n",
      " [45.5       ]\n",
      " [38.        ]\n",
      " [16.        ]\n",
      " [29.69911765]\n",
      " [29.69911765]\n",
      " [29.        ]\n",
      " [41.        ]\n",
      " [45.        ]\n",
      " [45.        ]\n",
      " [ 2.        ]\n",
      " [24.        ]\n",
      " [28.        ]\n",
      " [25.        ]\n",
      " [36.        ]\n",
      " [24.        ]\n",
      " [40.        ]\n",
      " [29.69911765]\n",
      " [ 3.        ]\n",
      " [42.        ]\n",
      " [23.        ]\n",
      " [29.69911765]\n",
      " [15.        ]\n",
      " [25.        ]\n",
      " [29.69911765]\n",
      " [28.        ]\n",
      " [22.        ]\n",
      " [38.        ]\n",
      " [29.69911765]\n",
      " [29.69911765]\n",
      " [40.        ]\n",
      " [29.        ]\n",
      " [45.        ]\n",
      " [35.        ]\n",
      " [29.69911765]\n",
      " [30.        ]\n",
      " [60.        ]\n",
      " [29.69911765]\n",
      " [29.69911765]\n",
      " [24.        ]\n",
      " [25.        ]\n",
      " [18.        ]\n",
      " [19.        ]\n",
      " [22.        ]\n",
      " [ 3.        ]\n",
      " [29.69911765]\n",
      " [22.        ]\n",
      " [27.        ]\n",
      " [20.        ]\n",
      " [19.        ]\n",
      " [42.        ]\n",
      " [ 1.        ]\n",
      " [32.        ]\n",
      " [35.        ]\n",
      " [29.69911765]\n",
      " [18.        ]\n",
      " [ 1.        ]\n",
      " [36.        ]\n",
      " [29.69911765]\n",
      " [17.        ]\n",
      " [36.        ]\n",
      " [21.        ]\n",
      " [28.        ]\n",
      " [23.        ]\n",
      " [24.        ]\n",
      " [22.        ]\n",
      " [31.        ]\n",
      " [46.        ]\n",
      " [23.        ]\n",
      " [28.        ]\n",
      " [39.        ]\n",
      " [26.        ]\n",
      " [21.        ]\n",
      " [28.        ]\n",
      " [20.        ]\n",
      " [34.        ]\n",
      " [51.        ]\n",
      " [ 3.        ]\n",
      " [21.        ]\n",
      " [29.69911765]\n",
      " [29.69911765]\n",
      " [29.69911765]\n",
      " [33.        ]\n",
      " [29.69911765]\n",
      " [44.        ]\n",
      " [29.69911765]\n",
      " [34.        ]\n",
      " [18.        ]\n",
      " [30.        ]\n",
      " [10.        ]\n",
      " [29.69911765]\n",
      " [21.        ]\n",
      " [29.        ]\n",
      " [28.        ]\n",
      " [18.        ]\n",
      " [29.69911765]\n",
      " [28.        ]\n",
      " [19.        ]\n",
      " [29.69911765]\n",
      " [32.        ]\n",
      " [28.        ]\n",
      " [29.69911765]\n",
      " [42.        ]\n",
      " [17.        ]\n",
      " [50.        ]\n",
      " [14.        ]\n",
      " [21.        ]\n",
      " [24.        ]\n",
      " [64.        ]\n",
      " [31.        ]\n",
      " [45.        ]\n",
      " [20.        ]\n",
      " [25.        ]\n",
      " [28.        ]\n",
      " [29.69911765]\n",
      " [ 4.        ]\n",
      " [13.        ]\n",
      " [34.        ]\n",
      " [ 5.        ]\n",
      " [52.        ]\n",
      " [36.        ]\n",
      " [29.69911765]\n",
      " [30.        ]\n",
      " [49.        ]\n",
      " [29.69911765]\n",
      " [29.        ]\n",
      " [65.        ]\n",
      " [29.69911765]\n",
      " [50.        ]\n",
      " [29.69911765]\n",
      " [48.        ]\n",
      " [34.        ]\n",
      " [47.        ]\n",
      " [48.        ]\n",
      " [29.69911765]\n",
      " [38.        ]\n",
      " [29.69911765]\n",
      " [56.        ]\n",
      " [29.69911765]\n",
      " [ 0.75      ]\n",
      " [29.69911765]\n",
      " [38.        ]\n",
      " [33.        ]\n",
      " [23.        ]\n",
      " [22.        ]\n",
      " [29.69911765]\n",
      " [34.        ]\n",
      " [29.        ]\n",
      " [22.        ]\n",
      " [ 2.        ]\n",
      " [ 9.        ]\n",
      " [29.69911765]\n",
      " [50.        ]\n",
      " [63.        ]\n",
      " [25.        ]\n",
      " [29.69911765]\n",
      " [35.        ]\n",
      " [58.        ]\n",
      " [30.        ]\n",
      " [ 9.        ]\n",
      " [29.69911765]\n",
      " [21.        ]\n",
      " [55.        ]\n",
      " [71.        ]\n",
      " [21.        ]\n",
      " [29.69911765]\n",
      " [54.        ]\n",
      " [29.69911765]\n",
      " [25.        ]\n",
      " [24.        ]\n",
      " [17.        ]\n",
      " [21.        ]\n",
      " [29.69911765]\n",
      " [37.        ]\n",
      " [16.        ]\n",
      " [18.        ]\n",
      " [33.        ]\n",
      " [29.69911765]\n",
      " [28.        ]\n",
      " [26.        ]\n",
      " [29.        ]\n",
      " [29.69911765]\n",
      " [36.        ]\n",
      " [54.        ]\n",
      " [24.        ]\n",
      " [47.        ]\n",
      " [34.        ]\n",
      " [29.69911765]\n",
      " [36.        ]\n",
      " [32.        ]\n",
      " [30.        ]\n",
      " [22.        ]\n",
      " [29.69911765]\n",
      " [44.        ]\n",
      " [29.69911765]\n",
      " [40.5       ]\n",
      " [50.        ]\n",
      " [29.69911765]\n",
      " [39.        ]\n",
      " [23.        ]\n",
      " [ 2.        ]\n",
      " [29.69911765]\n",
      " [17.        ]\n",
      " [29.69911765]\n",
      " [30.        ]\n",
      " [ 7.        ]\n",
      " [45.        ]\n",
      " [30.        ]\n",
      " [29.69911765]\n",
      " [22.        ]\n",
      " [36.        ]\n",
      " [ 9.        ]\n",
      " [11.        ]\n",
      " [32.        ]\n",
      " [50.        ]\n",
      " [64.        ]\n",
      " [19.        ]\n",
      " [29.69911765]\n",
      " [33.        ]\n",
      " [ 8.        ]\n",
      " [17.        ]\n",
      " [27.        ]\n",
      " [29.69911765]\n",
      " [22.        ]\n",
      " [22.        ]\n",
      " [62.        ]\n",
      " [48.        ]\n",
      " [29.69911765]\n",
      " [39.        ]\n",
      " [36.        ]\n",
      " [29.69911765]\n",
      " [40.        ]\n",
      " [28.        ]\n",
      " [29.69911765]\n",
      " [29.69911765]\n",
      " [24.        ]\n",
      " [19.        ]\n",
      " [29.        ]\n",
      " [29.69911765]\n",
      " [32.        ]\n",
      " [62.        ]\n",
      " [53.        ]\n",
      " [36.        ]\n",
      " [29.69911765]\n",
      " [16.        ]\n",
      " [19.        ]\n",
      " [34.        ]\n",
      " [39.        ]\n",
      " [29.69911765]\n",
      " [32.        ]\n",
      " [25.        ]\n",
      " [39.        ]\n",
      " [54.        ]\n",
      " [36.        ]\n",
      " [29.69911765]\n",
      " [18.        ]\n",
      " [47.        ]\n",
      " [60.        ]\n",
      " [22.        ]\n",
      " [29.69911765]\n",
      " [35.        ]\n",
      " [52.        ]\n",
      " [47.        ]\n",
      " [29.69911765]\n",
      " [37.        ]\n",
      " [36.        ]\n",
      " [29.69911765]\n",
      " [49.        ]\n",
      " [29.69911765]\n",
      " [49.        ]\n",
      " [24.        ]\n",
      " [29.69911765]\n",
      " [29.69911765]\n",
      " [44.        ]\n",
      " [35.        ]\n",
      " [36.        ]\n",
      " [30.        ]\n",
      " [27.        ]\n",
      " [22.        ]\n",
      " [40.        ]\n",
      " [39.        ]\n",
      " [29.69911765]\n",
      " [29.69911765]\n",
      " [29.69911765]\n",
      " [35.        ]\n",
      " [24.        ]\n",
      " [34.        ]\n",
      " [26.        ]\n",
      " [ 4.        ]\n",
      " [26.        ]\n",
      " [27.        ]\n",
      " [42.        ]\n",
      " [20.        ]\n",
      " [21.        ]\n",
      " [21.        ]\n",
      " [61.        ]\n",
      " [57.        ]\n",
      " [21.        ]\n",
      " [26.        ]\n",
      " [29.69911765]\n",
      " [80.        ]\n",
      " [51.        ]\n",
      " [32.        ]\n",
      " [29.69911765]\n",
      " [ 9.        ]\n",
      " [28.        ]\n",
      " [32.        ]\n",
      " [31.        ]\n",
      " [41.        ]\n",
      " [29.69911765]\n",
      " [20.        ]\n",
      " [24.        ]\n",
      " [ 2.        ]\n",
      " [29.69911765]\n",
      " [ 0.75      ]\n",
      " [48.        ]\n",
      " [19.        ]\n",
      " [56.        ]\n",
      " [29.69911765]\n",
      " [23.        ]\n",
      " [29.69911765]\n",
      " [18.        ]\n",
      " [21.        ]\n",
      " [29.69911765]\n",
      " [18.        ]\n",
      " [24.        ]\n",
      " [29.69911765]\n",
      " [32.        ]\n",
      " [23.        ]\n",
      " [58.        ]\n",
      " [50.        ]\n",
      " [40.        ]\n",
      " [47.        ]\n",
      " [36.        ]\n",
      " [20.        ]\n",
      " [32.        ]\n",
      " [25.        ]\n",
      " [29.69911765]\n",
      " [43.        ]\n",
      " [29.69911765]\n",
      " [40.        ]\n",
      " [31.        ]\n",
      " [70.        ]\n",
      " [31.        ]\n",
      " [29.69911765]\n",
      " [18.        ]\n",
      " [24.5       ]\n",
      " [18.        ]\n",
      " [43.        ]\n",
      " [36.        ]\n",
      " [29.69911765]\n",
      " [27.        ]\n",
      " [20.        ]\n",
      " [14.        ]\n",
      " [60.        ]\n",
      " [25.        ]\n",
      " [14.        ]\n",
      " [19.        ]\n",
      " [18.        ]\n",
      " [15.        ]\n",
      " [31.        ]\n",
      " [ 4.        ]\n",
      " [29.69911765]\n",
      " [25.        ]\n",
      " [60.        ]\n",
      " [52.        ]\n",
      " [44.        ]\n",
      " [29.69911765]\n",
      " [49.        ]\n",
      " [42.        ]\n",
      " [18.        ]\n",
      " [35.        ]\n",
      " [18.        ]\n",
      " [25.        ]\n",
      " [26.        ]\n",
      " [39.        ]\n",
      " [45.        ]\n",
      " [42.        ]\n",
      " [22.        ]\n",
      " [29.69911765]\n",
      " [24.        ]\n",
      " [29.69911765]\n",
      " [48.        ]\n",
      " [29.        ]\n",
      " [52.        ]\n",
      " [19.        ]\n",
      " [38.        ]\n",
      " [27.        ]\n",
      " [29.69911765]\n",
      " [33.        ]\n",
      " [ 6.        ]\n",
      " [17.        ]\n",
      " [34.        ]\n",
      " [50.        ]\n",
      " [27.        ]\n",
      " [20.        ]\n",
      " [30.        ]\n",
      " [29.69911765]\n",
      " [25.        ]\n",
      " [25.        ]\n",
      " [29.        ]\n",
      " [11.        ]\n",
      " [29.69911765]\n",
      " [23.        ]\n",
      " [23.        ]\n",
      " [28.5       ]\n",
      " [48.        ]\n",
      " [35.        ]\n",
      " [29.69911765]\n",
      " [29.69911765]\n",
      " [29.69911765]\n",
      " [36.        ]\n",
      " [21.        ]\n",
      " [24.        ]\n",
      " [31.        ]\n",
      " [70.        ]\n",
      " [16.        ]\n",
      " [30.        ]\n",
      " [19.        ]\n",
      " [31.        ]\n",
      " [ 4.        ]\n",
      " [ 6.        ]\n",
      " [33.        ]\n",
      " [23.        ]\n",
      " [48.        ]\n",
      " [ 0.67      ]\n",
      " [28.        ]\n",
      " [18.        ]\n",
      " [34.        ]\n",
      " [33.        ]\n",
      " [29.69911765]\n",
      " [41.        ]\n",
      " [20.        ]\n",
      " [36.        ]\n",
      " [16.        ]\n",
      " [51.        ]\n",
      " [29.69911765]\n",
      " [30.5       ]\n",
      " [29.69911765]\n",
      " [32.        ]\n",
      " [24.        ]\n",
      " [48.        ]\n",
      " [57.        ]\n",
      " [29.69911765]\n",
      " [54.        ]\n",
      " [18.        ]\n",
      " [29.69911765]\n",
      " [ 5.        ]\n",
      " [29.69911765]\n",
      " [43.        ]\n",
      " [13.        ]\n",
      " [17.        ]\n",
      " [29.        ]\n",
      " [29.69911765]\n",
      " [25.        ]\n",
      " [25.        ]\n",
      " [18.        ]\n",
      " [ 8.        ]\n",
      " [ 1.        ]\n",
      " [46.        ]\n",
      " [29.69911765]\n",
      " [16.        ]\n",
      " [29.69911765]\n",
      " [29.69911765]\n",
      " [25.        ]\n",
      " [39.        ]\n",
      " [49.        ]\n",
      " [31.        ]\n",
      " [30.        ]\n",
      " [30.        ]\n",
      " [34.        ]\n",
      " [31.        ]\n",
      " [11.        ]\n",
      " [ 0.42      ]\n",
      " [27.        ]\n",
      " [31.        ]\n",
      " [39.        ]\n",
      " [18.        ]\n",
      " [39.        ]\n",
      " [33.        ]\n",
      " [26.        ]\n",
      " [39.        ]\n",
      " [35.        ]\n",
      " [ 6.        ]\n",
      " [30.5       ]\n",
      " [29.69911765]\n",
      " [23.        ]\n",
      " [31.        ]\n",
      " [43.        ]\n",
      " [10.        ]\n",
      " [52.        ]\n",
      " [27.        ]\n",
      " [38.        ]\n",
      " [27.        ]\n",
      " [ 2.        ]\n",
      " [29.69911765]\n",
      " [29.69911765]\n",
      " [ 1.        ]\n",
      " [29.69911765]\n",
      " [62.        ]\n",
      " [15.        ]\n",
      " [ 0.83      ]\n",
      " [29.69911765]\n",
      " [23.        ]\n",
      " [18.        ]\n",
      " [39.        ]\n",
      " [21.        ]\n",
      " [29.69911765]\n",
      " [32.        ]\n",
      " [29.69911765]\n",
      " [20.        ]\n",
      " [16.        ]\n",
      " [30.        ]\n",
      " [34.5       ]\n",
      " [17.        ]\n",
      " [42.        ]\n",
      " [29.69911765]\n",
      " [35.        ]\n",
      " [28.        ]\n",
      " [29.69911765]\n",
      " [ 4.        ]\n",
      " [74.        ]\n",
      " [ 9.        ]\n",
      " [16.        ]\n",
      " [44.        ]\n",
      " [18.        ]\n",
      " [45.        ]\n",
      " [51.        ]\n",
      " [24.        ]\n",
      " [29.69911765]\n",
      " [41.        ]\n",
      " [21.        ]\n",
      " [48.        ]\n",
      " [29.69911765]\n",
      " [24.        ]\n",
      " [42.        ]\n",
      " [27.        ]\n",
      " [31.        ]\n",
      " [29.69911765]\n",
      " [ 4.        ]\n",
      " [26.        ]\n",
      " [47.        ]\n",
      " [33.        ]\n",
      " [47.        ]\n",
      " [28.        ]\n",
      " [15.        ]\n",
      " [20.        ]\n",
      " [19.        ]\n",
      " [29.69911765]\n",
      " [56.        ]\n",
      " [25.        ]\n",
      " [33.        ]\n",
      " [22.        ]\n",
      " [28.        ]\n",
      " [25.        ]\n",
      " [39.        ]\n",
      " [27.        ]\n",
      " [19.        ]\n",
      " [29.69911765]\n",
      " [26.        ]\n",
      " [32.        ]]\n"
     ]
    }
   ],
   "source": [
    "from sklearn.impute import SimpleImputer\n",
    "imp_mean = SimpleImputer(missing_values=np.nan, strategy='mean')\n",
    "imp_mean.fit(np.array(titanic['Age']).reshape(-1,1))\n",
    "#imp_mean.fit_transform(titanic.Age))\n",
    "print(imp_mean.transform(np.array(titanic.Age).reshape(-1,1)))"
   ]
  },
  {
   "cell_type": "code",
   "execution_count": 296,
   "metadata": {},
   "outputs": [
    {
     "name": "stdout",
     "output_type": "stream",
     "text": [
      "<class 'numpy.ndarray'>\n",
      "(891, 1)\n"
     ]
    }
   ],
   "source": [
    "age_imputes = imp_mean.transform(np.array(titanic.Age).reshape(-1,1))\n",
    "print(type(age_imputes))\n",
    "print(age_imputes.shape)"
   ]
  },
  {
   "cell_type": "code",
   "execution_count": 297,
   "metadata": {},
   "outputs": [],
   "source": [
    "titanic['Age']= age_imputes"
   ]
  },
  {
   "cell_type": "code",
   "execution_count": 298,
   "metadata": {},
   "outputs": [
    {
     "data": {
      "text/plain": [
       "0"
      ]
     },
     "execution_count": 298,
     "metadata": {},
     "output_type": "execute_result"
    }
   ],
   "source": [
    "titanic['Age'].isna().sum()"
   ]
  },
  {
   "cell_type": "code",
   "execution_count": 299,
   "metadata": {},
   "outputs": [
    {
     "data": {
      "text/plain": [
       "29.699118    177\n",
       "24.000000     30\n",
       "22.000000     27\n",
       "18.000000     26\n",
       "28.000000     25\n",
       "            ... \n",
       "55.500000      1\n",
       "53.000000      1\n",
       "20.500000      1\n",
       "23.500000      1\n",
       "0.420000       1\n",
       "Name: Age, Length: 89, dtype: int64"
      ]
     },
     "execution_count": 299,
     "metadata": {},
     "output_type": "execute_result"
    }
   ],
   "source": [
    "titanic.Age.value_counts()"
   ]
  },
  {
   "cell_type": "code",
   "execution_count": 300,
   "metadata": {},
   "outputs": [
    {
     "data": {
      "text/plain": [
       "29.69911764705882"
      ]
     },
     "execution_count": 300,
     "metadata": {},
     "output_type": "execute_result"
    }
   ],
   "source": [
    "titanic.Age.mean()"
   ]
  },
  {
   "cell_type": "code",
   "execution_count": 301,
   "metadata": {},
   "outputs": [],
   "source": [
    "# replace age by pclass and sex mean values now on titanic2"
   ]
  },
  {
   "cell_type": "code",
   "execution_count": 302,
   "metadata": {},
   "outputs": [],
   "source": [
    "titanic2 = titanic"
   ]
  },
  {
   "cell_type": "code",
   "execution_count": 303,
   "metadata": {},
   "outputs": [],
   "source": [
    "by_sex_class = titanic2.groupby(['Sex','Pclass'])"
   ]
  },
  {
   "cell_type": "code",
   "execution_count": 304,
   "metadata": {},
   "outputs": [
    {
     "data": {
      "text/plain": [
       "Sex     Pclass\n",
       "female  1         32.500000\n",
       "        2         28.500000\n",
       "        3         28.000000\n",
       "male    1         36.000000\n",
       "        2         29.699118\n",
       "        3         29.699118\n",
       "Name: Age, dtype: float64"
      ]
     },
     "execution_count": 304,
     "metadata": {},
     "output_type": "execute_result"
    }
   ],
   "source": [
    "titanic2.groupby(['Sex','Pclass'])['Age'].median()"
   ]
  },
  {
   "cell_type": "code",
   "execution_count": 305,
   "metadata": {},
   "outputs": [],
   "source": [
    "def impute_median(series):\n",
    "    return series.fillna(series.median())"
   ]
  },
  {
   "cell_type": "code",
   "execution_count": 306,
   "metadata": {},
   "outputs": [],
   "source": [
    "titanic2.Age = by_sex_class.Age.transform(impute_median)"
   ]
  },
  {
   "cell_type": "code",
   "execution_count": 307,
   "metadata": {},
   "outputs": [
    {
     "data": {
      "text/html": [
       "<div>\n",
       "<style scoped>\n",
       "    .dataframe tbody tr th:only-of-type {\n",
       "        vertical-align: middle;\n",
       "    }\n",
       "\n",
       "    .dataframe tbody tr th {\n",
       "        vertical-align: top;\n",
       "    }\n",
       "\n",
       "    .dataframe thead th {\n",
       "        text-align: right;\n",
       "    }\n",
       "</style>\n",
       "<table border=\"1\" class=\"dataframe\">\n",
       "  <thead>\n",
       "    <tr style=\"text-align: right;\">\n",
       "      <th></th>\n",
       "      <th>PassengerId</th>\n",
       "      <th>Survived</th>\n",
       "      <th>Pclass</th>\n",
       "      <th>Name</th>\n",
       "      <th>Sex</th>\n",
       "      <th>Age</th>\n",
       "      <th>SibSp</th>\n",
       "      <th>Parch</th>\n",
       "      <th>Ticket</th>\n",
       "      <th>Fare</th>\n",
       "      <th>Cabin</th>\n",
       "      <th>Embarked</th>\n",
       "    </tr>\n",
       "  </thead>\n",
       "  <tbody>\n",
       "    <tr>\n",
       "      <th>886</th>\n",
       "      <td>887</td>\n",
       "      <td>0</td>\n",
       "      <td>2</td>\n",
       "      <td>Montvila, Rev. Juozas</td>\n",
       "      <td>male</td>\n",
       "      <td>27.000000</td>\n",
       "      <td>0</td>\n",
       "      <td>0</td>\n",
       "      <td>211536</td>\n",
       "      <td>13.00</td>\n",
       "      <td>NaN</td>\n",
       "      <td>S</td>\n",
       "    </tr>\n",
       "    <tr>\n",
       "      <th>887</th>\n",
       "      <td>888</td>\n",
       "      <td>1</td>\n",
       "      <td>1</td>\n",
       "      <td>Graham, Miss. Margaret Edith</td>\n",
       "      <td>female</td>\n",
       "      <td>19.000000</td>\n",
       "      <td>0</td>\n",
       "      <td>0</td>\n",
       "      <td>112053</td>\n",
       "      <td>30.00</td>\n",
       "      <td>B42</td>\n",
       "      <td>S</td>\n",
       "    </tr>\n",
       "    <tr>\n",
       "      <th>888</th>\n",
       "      <td>889</td>\n",
       "      <td>0</td>\n",
       "      <td>3</td>\n",
       "      <td>Johnston, Miss. Catherine Helen \"Carrie\"</td>\n",
       "      <td>female</td>\n",
       "      <td>29.699118</td>\n",
       "      <td>1</td>\n",
       "      <td>2</td>\n",
       "      <td>W./C. 6607</td>\n",
       "      <td>23.45</td>\n",
       "      <td>NaN</td>\n",
       "      <td>S</td>\n",
       "    </tr>\n",
       "    <tr>\n",
       "      <th>889</th>\n",
       "      <td>890</td>\n",
       "      <td>1</td>\n",
       "      <td>1</td>\n",
       "      <td>Behr, Mr. Karl Howell</td>\n",
       "      <td>male</td>\n",
       "      <td>26.000000</td>\n",
       "      <td>0</td>\n",
       "      <td>0</td>\n",
       "      <td>111369</td>\n",
       "      <td>30.00</td>\n",
       "      <td>C148</td>\n",
       "      <td>C</td>\n",
       "    </tr>\n",
       "    <tr>\n",
       "      <th>890</th>\n",
       "      <td>891</td>\n",
       "      <td>0</td>\n",
       "      <td>3</td>\n",
       "      <td>Dooley, Mr. Patrick</td>\n",
       "      <td>male</td>\n",
       "      <td>32.000000</td>\n",
       "      <td>0</td>\n",
       "      <td>0</td>\n",
       "      <td>370376</td>\n",
       "      <td>7.75</td>\n",
       "      <td>NaN</td>\n",
       "      <td>Q</td>\n",
       "    </tr>\n",
       "  </tbody>\n",
       "</table>\n",
       "</div>"
      ],
      "text/plain": [
       "     PassengerId  Survived  Pclass                                      Name  \\\n",
       "886          887         0       2                     Montvila, Rev. Juozas   \n",
       "887          888         1       1              Graham, Miss. Margaret Edith   \n",
       "888          889         0       3  Johnston, Miss. Catherine Helen \"Carrie\"   \n",
       "889          890         1       1                     Behr, Mr. Karl Howell   \n",
       "890          891         0       3                       Dooley, Mr. Patrick   \n",
       "\n",
       "        Sex        Age  SibSp  Parch      Ticket   Fare Cabin Embarked  \n",
       "886    male  27.000000      0      0      211536  13.00   NaN        S  \n",
       "887  female  19.000000      0      0      112053  30.00   B42        S  \n",
       "888  female  29.699118      1      2  W./C. 6607  23.45   NaN        S  \n",
       "889    male  26.000000      0      0      111369  30.00  C148        C  \n",
       "890    male  32.000000      0      0      370376   7.75   NaN        Q  "
      ]
     },
     "execution_count": 307,
     "metadata": {},
     "output_type": "execute_result"
    }
   ],
   "source": [
    "titanic2.tail()"
   ]
  },
  {
   "cell_type": "code",
   "execution_count": 308,
   "metadata": {},
   "outputs": [
    {
     "data": {
      "text/plain": [
       "29.699118    177\n",
       "24.000000     30\n",
       "22.000000     27\n",
       "18.000000     26\n",
       "28.000000     25\n",
       "            ... \n",
       "55.500000      1\n",
       "53.000000      1\n",
       "20.500000      1\n",
       "23.500000      1\n",
       "0.420000       1\n",
       "Name: Age, Length: 89, dtype: int64"
      ]
     },
     "execution_count": 308,
     "metadata": {},
     "output_type": "execute_result"
    }
   ],
   "source": [
    "titanic2.Age.value_counts()"
   ]
  },
  {
   "cell_type": "code",
   "execution_count": 309,
   "metadata": {},
   "outputs": [
    {
     "data": {
      "text/plain": [
       "0"
      ]
     },
     "execution_count": 309,
     "metadata": {},
     "output_type": "execute_result"
    }
   ],
   "source": [
    "titanic2['Age'].isna().sum()"
   ]
  },
  {
   "cell_type": "code",
   "execution_count": 310,
   "metadata": {},
   "outputs": [
    {
     "data": {
      "text/plain": [
       "29.69911764705882"
      ]
     },
     "execution_count": 310,
     "metadata": {},
     "output_type": "execute_result"
    }
   ],
   "source": [
    "titanic2.Age.mean()"
   ]
  },
  {
   "cell_type": "code",
   "execution_count": 311,
   "metadata": {},
   "outputs": [
    {
     "data": {
      "text/plain": [
       "<matplotlib.axes._subplots.AxesSubplot at 0x2501d19e8c8>"
      ]
     },
     "execution_count": 311,
     "metadata": {},
     "output_type": "execute_result"
    },
    {
     "data": {
      "image/png": "[encoded data removed]",
      "text/plain": [
       "<Figure size 432x288 with 1 Axes>"
      ]
     },
     "metadata": {
      "needs_background": "light"
     },
     "output_type": "display_data"
    }
   ],
   "source": [
    "titanic2.Age.value_counts().hist(bins = 30)"
   ]
  },
  {
   "cell_type": "code",
   "execution_count": 312,
   "metadata": {},
   "outputs": [
    {
     "data": {
      "text/plain": [
       "<matplotlib.axes._subplots.AxesSubplot at 0x2501ba2ec08>"
      ]
     },
     "execution_count": 312,
     "metadata": {},
     "output_type": "execute_result"
    },
    {
     "data": {
      "image/png": "[encoded data removed]",
      "text/plain": [
       "<Figure size 432x288 with 1 Axes>"
      ]
     },
     "metadata": {
      "needs_background": "light"
     },
     "output_type": "display_data"
    }
   ],
   "source": [
    "titanic.Age.value_counts().hist(bins = 30)"
   ]
  },
  {
   "cell_type": "code",
   "execution_count": 313,
   "metadata": {},
   "outputs": [],
   "source": [
    "# Why is the data for Age missing values replaced with the exact same values when we used 2 different functions to replace Age missing value? \n",
    "# I would like to know if it's because all the missing values are for man from class 2 or 3 but I couldn't isolate them at the top."
   ]
  },
  {
   "cell_type": "code",
   "execution_count": 315,
   "metadata": {},
   "outputs": [],
   "source": [
    "# Now Let’s go ahead and drop the Cabin column."
   ]
  },
  {
   "cell_type": "code",
   "execution_count": 316,
   "metadata": {},
   "outputs": [],
   "source": [
    "titanic.drop('Cabin',axis=1,inplace=True)"
   ]
  },
  {
   "cell_type": "markdown",
   "metadata": {},
   "source": [
    "Converting Categorical Features"
   ]
  },
  {
   "cell_type": "markdown",
   "metadata": {},
   "source": [
    "Here, we are dummying the sex and embark columns. After dummying, we will drop the rest of the columns which are not needed. (sex and embarked aren't needed as they are the original ones)"
   ]
  },
  {
   "cell_type": "code",
   "execution_count": 317,
   "metadata": {},
   "outputs": [],
   "source": [
    "sex = pd.get_dummies(titanic['Sex'])\n",
    "embark = pd.get_dummies(titanic['Embarked'])"
   ]
  },
  {
   "cell_type": "code",
   "execution_count": 318,
   "metadata": {},
   "outputs": [],
   "source": [
    "titanic.drop(['Sex','Embarked','Name','Ticket'],axis=1,inplace=True)"
   ]
  },
  {
   "cell_type": "code",
   "execution_count": 319,
   "metadata": {},
   "outputs": [
    {
     "data": {
      "text/html": [
       "<div>\n",
       "<style scoped>\n",
       "    .dataframe tbody tr th:only-of-type {\n",
       "        vertical-align: middle;\n",
       "    }\n",
       "\n",
       "    .dataframe tbody tr th {\n",
       "        vertical-align: top;\n",
       "    }\n",
       "\n",
       "    .dataframe thead th {\n",
       "        text-align: right;\n",
       "    }\n",
       "</style>\n",
       "<table border=\"1\" class=\"dataframe\">\n",
       "  <thead>\n",
       "    <tr style=\"text-align: right;\">\n",
       "      <th></th>\n",
       "      <th>PassengerId</th>\n",
       "      <th>Survived</th>\n",
       "      <th>Pclass</th>\n",
       "      <th>Age</th>\n",
       "      <th>SibSp</th>\n",
       "      <th>Parch</th>\n",
       "      <th>Fare</th>\n",
       "    </tr>\n",
       "  </thead>\n",
       "  <tbody>\n",
       "    <tr>\n",
       "      <th>0</th>\n",
       "      <td>1</td>\n",
       "      <td>0</td>\n",
       "      <td>3</td>\n",
       "      <td>22.0</td>\n",
       "      <td>1</td>\n",
       "      <td>0</td>\n",
       "      <td>7.2500</td>\n",
       "    </tr>\n",
       "    <tr>\n",
       "      <th>1</th>\n",
       "      <td>2</td>\n",
       "      <td>1</td>\n",
       "      <td>1</td>\n",
       "      <td>38.0</td>\n",
       "      <td>1</td>\n",
       "      <td>0</td>\n",
       "      <td>71.2833</td>\n",
       "    </tr>\n",
       "    <tr>\n",
       "      <th>2</th>\n",
       "      <td>3</td>\n",
       "      <td>1</td>\n",
       "      <td>3</td>\n",
       "      <td>26.0</td>\n",
       "      <td>0</td>\n",
       "      <td>0</td>\n",
       "      <td>7.9250</td>\n",
       "    </tr>\n",
       "    <tr>\n",
       "      <th>3</th>\n",
       "      <td>4</td>\n",
       "      <td>1</td>\n",
       "      <td>1</td>\n",
       "      <td>35.0</td>\n",
       "      <td>1</td>\n",
       "      <td>0</td>\n",
       "      <td>53.1000</td>\n",
       "    </tr>\n",
       "    <tr>\n",
       "      <th>4</th>\n",
       "      <td>5</td>\n",
       "      <td>0</td>\n",
       "      <td>3</td>\n",
       "      <td>35.0</td>\n",
       "      <td>0</td>\n",
       "      <td>0</td>\n",
       "      <td>8.0500</td>\n",
       "    </tr>\n",
       "  </tbody>\n",
       "</table>\n",
       "</div>"
      ],
      "text/plain": [
       "   PassengerId  Survived  Pclass   Age  SibSp  Parch     Fare\n",
       "0            1         0       3  22.0      1      0   7.2500\n",
       "1            2         1       1  38.0      1      0  71.2833\n",
       "2            3         1       3  26.0      0      0   7.9250\n",
       "3            4         1       1  35.0      1      0  53.1000\n",
       "4            5         0       3  35.0      0      0   8.0500"
      ]
     },
     "execution_count": 319,
     "metadata": {},
     "output_type": "execute_result"
    }
   ],
   "source": [
    "titanic.head()"
   ]
  },
  {
   "cell_type": "markdown",
   "metadata": {},
   "source": [
    "We will concatenate the new sex and embarked columns to the dataframe."
   ]
  },
  {
   "cell_type": "code",
   "execution_count": 320,
   "metadata": {},
   "outputs": [],
   "source": [
    "titanic = pd.concat([titanic,sex,embark],axis=1)"
   ]
  },
  {
   "cell_type": "code",
   "execution_count": 321,
   "metadata": {},
   "outputs": [
    {
     "data": {
      "text/html": [
       "<div>\n",
       "<style scoped>\n",
       "    .dataframe tbody tr th:only-of-type {\n",
       "        vertical-align: middle;\n",
       "    }\n",
       "\n",
       "    .dataframe tbody tr th {\n",
       "        vertical-align: top;\n",
       "    }\n",
       "\n",
       "    .dataframe thead th {\n",
       "        text-align: right;\n",
       "    }\n",
       "</style>\n",
       "<table border=\"1\" class=\"dataframe\">\n",
       "  <thead>\n",
       "    <tr style=\"text-align: right;\">\n",
       "      <th></th>\n",
       "      <th>PassengerId</th>\n",
       "      <th>Survived</th>\n",
       "      <th>Pclass</th>\n",
       "      <th>Age</th>\n",
       "      <th>SibSp</th>\n",
       "      <th>Parch</th>\n",
       "      <th>Fare</th>\n",
       "      <th>female</th>\n",
       "      <th>male</th>\n",
       "      <th>C</th>\n",
       "      <th>Q</th>\n",
       "      <th>S</th>\n",
       "    </tr>\n",
       "  </thead>\n",
       "  <tbody>\n",
       "    <tr>\n",
       "      <th>0</th>\n",
       "      <td>1</td>\n",
       "      <td>0</td>\n",
       "      <td>3</td>\n",
       "      <td>22.0</td>\n",
       "      <td>1</td>\n",
       "      <td>0</td>\n",
       "      <td>7.2500</td>\n",
       "      <td>0</td>\n",
       "      <td>1</td>\n",
       "      <td>0</td>\n",
       "      <td>0</td>\n",
       "      <td>1</td>\n",
       "    </tr>\n",
       "    <tr>\n",
       "      <th>1</th>\n",
       "      <td>2</td>\n",
       "      <td>1</td>\n",
       "      <td>1</td>\n",
       "      <td>38.0</td>\n",
       "      <td>1</td>\n",
       "      <td>0</td>\n",
       "      <td>71.2833</td>\n",
       "      <td>1</td>\n",
       "      <td>0</td>\n",
       "      <td>1</td>\n",
       "      <td>0</td>\n",
       "      <td>0</td>\n",
       "    </tr>\n",
       "    <tr>\n",
       "      <th>2</th>\n",
       "      <td>3</td>\n",
       "      <td>1</td>\n",
       "      <td>3</td>\n",
       "      <td>26.0</td>\n",
       "      <td>0</td>\n",
       "      <td>0</td>\n",
       "      <td>7.9250</td>\n",
       "      <td>1</td>\n",
       "      <td>0</td>\n",
       "      <td>0</td>\n",
       "      <td>0</td>\n",
       "      <td>1</td>\n",
       "    </tr>\n",
       "    <tr>\n",
       "      <th>3</th>\n",
       "      <td>4</td>\n",
       "      <td>1</td>\n",
       "      <td>1</td>\n",
       "      <td>35.0</td>\n",
       "      <td>1</td>\n",
       "      <td>0</td>\n",
       "      <td>53.1000</td>\n",
       "      <td>1</td>\n",
       "      <td>0</td>\n",
       "      <td>0</td>\n",
       "      <td>0</td>\n",
       "      <td>1</td>\n",
       "    </tr>\n",
       "    <tr>\n",
       "      <th>4</th>\n",
       "      <td>5</td>\n",
       "      <td>0</td>\n",
       "      <td>3</td>\n",
       "      <td>35.0</td>\n",
       "      <td>0</td>\n",
       "      <td>0</td>\n",
       "      <td>8.0500</td>\n",
       "      <td>0</td>\n",
       "      <td>1</td>\n",
       "      <td>0</td>\n",
       "      <td>0</td>\n",
       "      <td>1</td>\n",
       "    </tr>\n",
       "  </tbody>\n",
       "</table>\n",
       "</div>"
      ],
      "text/plain": [
       "   PassengerId  Survived  Pclass   Age  SibSp  Parch     Fare  female  male  \\\n",
       "0            1         0       3  22.0      1      0   7.2500       0     1   \n",
       "1            2         1       1  38.0      1      0  71.2833       1     0   \n",
       "2            3         1       3  26.0      0      0   7.9250       1     0   \n",
       "3            4         1       1  35.0      1      0  53.1000       1     0   \n",
       "4            5         0       3  35.0      0      0   8.0500       0     1   \n",
       "\n",
       "   C  Q  S  \n",
       "0  0  0  1  \n",
       "1  1  0  0  \n",
       "2  0  0  1  \n",
       "3  0  0  1  \n",
       "4  0  0  1  "
      ]
     },
     "execution_count": 321,
     "metadata": {},
     "output_type": "execute_result"
    }
   ],
   "source": [
    "titanic.head()"
   ]
  },
  {
   "cell_type": "markdown",
   "metadata": {},
   "source": [
    "Test Train Split"
   ]
  },
  {
   "cell_type": "code",
   "execution_count": 322,
   "metadata": {},
   "outputs": [],
   "source": [
    "from sklearn.model_selection import train_test_split\n",
    "X_train, X_test, y_train, y_test = train_test_split(titanic.drop('Survived',axis=1), titanic['Survived'], test_size=0.30, random_state = 42)                "
   ]
  },
  {
   "cell_type": "markdown",
   "metadata": {},
   "source": [
    "Training and Predicting"
   ]
  },
  {
   "cell_type": "code",
   "execution_count": 323,
   "metadata": {},
   "outputs": [],
   "source": [
    "from sklearn.linear_model import LogisticRegression\n",
    "logmodel = LogisticRegression(max_iter=5000)\n",
    "logmodel.fit(X_train,y_train)\n",
    "predictions = logmodel.predict(X_test)"
   ]
  },
  {
   "cell_type": "markdown",
   "metadata": {},
   "source": [
    "Evaluation"
   ]
  },
  {
   "cell_type": "code",
   "execution_count": 324,
   "metadata": {},
   "outputs": [
    {
     "name": "stdout",
     "output_type": "stream",
     "text": [
      "              precision    recall  f1-score   support\n",
      "\n",
      "           0       0.82      0.86      0.84       157\n",
      "           1       0.79      0.73      0.76       111\n",
      "\n",
      "    accuracy                           0.81       268\n",
      "   macro avg       0.80      0.79      0.80       268\n",
      "weighted avg       0.81      0.81      0.80       268\n",
      "\n"
     ]
    }
   ],
   "source": [
    "from sklearn.metrics import classification_report\n",
    "print(classification_report(y_test,predictions))"
   ]
  },
  {
   "cell_type": "code",
   "execution_count": 328,
   "metadata": {},
   "outputs": [],
   "source": [
    "# doing the regression on dataset titanic2 - we should get the same results though as the missing values were replaced with the exaxct same values."
   ]
  },
  {
   "cell_type": "code",
   "execution_count": 329,
   "metadata": {},
   "outputs": [
    {
     "data": {
      "text/html": [
       "<div>\n",
       "<style scoped>\n",
       "    .dataframe tbody tr th:only-of-type {\n",
       "        vertical-align: middle;\n",
       "    }\n",
       "\n",
       "    .dataframe tbody tr th {\n",
       "        vertical-align: top;\n",
       "    }\n",
       "\n",
       "    .dataframe thead th {\n",
       "        text-align: right;\n",
       "    }\n",
       "</style>\n",
       "<table border=\"1\" class=\"dataframe\">\n",
       "  <thead>\n",
       "    <tr style=\"text-align: right;\">\n",
       "      <th></th>\n",
       "      <th>PassengerId</th>\n",
       "      <th>Survived</th>\n",
       "      <th>Pclass</th>\n",
       "      <th>Age</th>\n",
       "      <th>SibSp</th>\n",
       "      <th>Parch</th>\n",
       "      <th>Fare</th>\n",
       "    </tr>\n",
       "  </thead>\n",
       "  <tbody>\n",
       "    <tr>\n",
       "      <th>0</th>\n",
       "      <td>1</td>\n",
       "      <td>0</td>\n",
       "      <td>3</td>\n",
       "      <td>22.0</td>\n",
       "      <td>1</td>\n",
       "      <td>0</td>\n",
       "      <td>7.2500</td>\n",
       "    </tr>\n",
       "    <tr>\n",
       "      <th>1</th>\n",
       "      <td>2</td>\n",
       "      <td>1</td>\n",
       "      <td>1</td>\n",
       "      <td>38.0</td>\n",
       "      <td>1</td>\n",
       "      <td>0</td>\n",
       "      <td>71.2833</td>\n",
       "    </tr>\n",
       "    <tr>\n",
       "      <th>2</th>\n",
       "      <td>3</td>\n",
       "      <td>1</td>\n",
       "      <td>3</td>\n",
       "      <td>26.0</td>\n",
       "      <td>0</td>\n",
       "      <td>0</td>\n",
       "      <td>7.9250</td>\n",
       "    </tr>\n",
       "    <tr>\n",
       "      <th>3</th>\n",
       "      <td>4</td>\n",
       "      <td>1</td>\n",
       "      <td>1</td>\n",
       "      <td>35.0</td>\n",
       "      <td>1</td>\n",
       "      <td>0</td>\n",
       "      <td>53.1000</td>\n",
       "    </tr>\n",
       "    <tr>\n",
       "      <th>4</th>\n",
       "      <td>5</td>\n",
       "      <td>0</td>\n",
       "      <td>3</td>\n",
       "      <td>35.0</td>\n",
       "      <td>0</td>\n",
       "      <td>0</td>\n",
       "      <td>8.0500</td>\n",
       "    </tr>\n",
       "  </tbody>\n",
       "</table>\n",
       "</div>"
      ],
      "text/plain": [
       "   PassengerId  Survived  Pclass   Age  SibSp  Parch     Fare\n",
       "0            1         0       3  22.0      1      0   7.2500\n",
       "1            2         1       1  38.0      1      0  71.2833\n",
       "2            3         1       3  26.0      0      0   7.9250\n",
       "3            4         1       1  35.0      1      0  53.1000\n",
       "4            5         0       3  35.0      0      0   8.0500"
      ]
     },
     "execution_count": 329,
     "metadata": {},
     "output_type": "execute_result"
    }
   ],
   "source": [
    "titanic2.head()\n",
    "# why are sex and embark columns gone? I didn't drop them!"
   ]
  },
  {
   "cell_type": "code",
   "execution_count": 330,
   "metadata": {},
   "outputs": [],
   "source": [
    "# Test Train Split dataset2"
   ]
  },
  {
   "cell_type": "code",
   "execution_count": 331,
   "metadata": {},
   "outputs": [],
   "source": [
    "from sklearn.model_selection import train_test_split\n",
    "X2_train, X2_test, y2_train, y2_test = train_test_split(titanic2.drop('Survived',axis=1), titanic2['Survived'], test_size=0.30, random_state = 42)                "
   ]
  },
  {
   "cell_type": "code",
   "execution_count": 332,
   "metadata": {},
   "outputs": [],
   "source": [
    "# training and predicting model2\n",
    "from sklearn.linear_model import LogisticRegression\n",
    "logmodel2 = LogisticRegression(max_iter=5000)\n",
    "logmodel2.fit(X2_train,y2_train)\n",
    "predictions = logmodel2.predict(X2_test)"
   ]
  },
  {
   "cell_type": "code",
   "execution_count": 333,
   "metadata": {},
   "outputs": [
    {
     "name": "stdout",
     "output_type": "stream",
     "text": [
      "              precision    recall  f1-score   support\n",
      "\n",
      "           0       0.71      0.90      0.79       157\n",
      "           1       0.78      0.47      0.58       111\n",
      "\n",
      "    accuracy                           0.72       268\n",
      "   macro avg       0.74      0.69      0.69       268\n",
      "weighted avg       0.74      0.72      0.71       268\n",
      "\n"
     ]
    }
   ],
   "source": [
    "#evaluation model2\n",
    "from sklearn.metrics import classification_report\n",
    "print(classification_report(y2_test,predictions))"
   ]
  },
  {
   "cell_type": "code",
   "execution_count": null,
   "metadata": {},
   "outputs": [],
   "source": [
    "# the result is lower because the columns sex and embark are gone somehow! \n",
    "# I just wanted to compare the model with different age values but somehow I have lost 2 columns"
   ]
  }
 ],
 "metadata": {
  "kernelspec": {
   "display_name": "Python 3",
   "language": "python",
   "name": "python3"
  },
  "language_info": {
   "codemirror_mode": {
    "name": "ipython",
    "version": 3
   },
   "file_extension": ".py",
   "mimetype": "text/x-python",
   "name": "python",
   "nbconvert_exporter": "python",
   "pygments_lexer": "ipython3",
   "version": "3.7.7"
  }
 },
 "nbformat": 4,
 "nbformat_minor": 4
}
