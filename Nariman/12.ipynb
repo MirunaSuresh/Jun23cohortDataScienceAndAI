{
 "cells": [
  {
   "cell_type": "code",
   "execution_count": 54,
   "metadata": {},
   "outputs": [],
   "source": [
    "import pandas as pd\n",
    "\n",
    "\n",
    "\n",
    "df = pd.read_csv(\"D:\\\\working folder\\\\data Sciense\\\\DataSeta\\\\Concrete-Kaggle\\\\datasets_615077_1099819_Concrete_train.csv\")"
   ]
  },
  {
   "cell_type": "code",
   "execution_count": 55,
   "metadata": {},
   "outputs": [
    {
     "data": {
      "text/html": [
       "<div>\n",
       "<style scoped>\n",
       "    .dataframe tbody tr th:only-of-type {\n",
       "        vertical-align: middle;\n",
       "    }\n",
       "\n",
       "    .dataframe tbody tr th {\n",
       "        vertical-align: top;\n",
       "    }\n",
       "\n",
       "    .dataframe thead th {\n",
       "        text-align: right;\n",
       "    }\n",
       "</style>\n",
       "<table border=\"1\" class=\"dataframe\">\n",
       "  <thead>\n",
       "    <tr style=\"text-align: right;\">\n",
       "      <th></th>\n",
       "      <th>Cement (component 1)(kg in a m^3 mixture)</th>\n",
       "      <th>Blast Furnace Slag (component 2)(kg in a m^3 mixture)</th>\n",
       "      <th>Fly Ash (component 3)(kg in a m^3 mixture)</th>\n",
       "      <th>Water  (component 4)(kg in a m^3 mixture)</th>\n",
       "      <th>Superplasticizer (component 5)(kg in a m^3 mixture)</th>\n",
       "      <th>Coarse Aggregate  (component 6)(kg in a m^3 mixture)</th>\n",
       "      <th>Fine Aggregate (component 7)(kg in a m^3 mixture)</th>\n",
       "      <th>Age (day)</th>\n",
       "      <th>Concrete compressive strength(MPa, megapascals)</th>\n",
       "    </tr>\n",
       "  </thead>\n",
       "  <tbody>\n",
       "    <tr>\n",
       "      <th>0</th>\n",
       "      <td>233.81</td>\n",
       "      <td>0.0</td>\n",
       "      <td>94.58</td>\n",
       "      <td>197.89</td>\n",
       "      <td>4.567</td>\n",
       "      <td>947.04</td>\n",
       "      <td>852.16</td>\n",
       "      <td>28</td>\n",
       "      <td>22.835445</td>\n",
       "    </tr>\n",
       "    <tr>\n",
       "      <th>1</th>\n",
       "      <td>251.81</td>\n",
       "      <td>0.0</td>\n",
       "      <td>99.94</td>\n",
       "      <td>146.14</td>\n",
       "      <td>12.350</td>\n",
       "      <td>1006.00</td>\n",
       "      <td>899.76</td>\n",
       "      <td>56</td>\n",
       "      <td>44.140254</td>\n",
       "    </tr>\n",
       "    <tr>\n",
       "      <th>2</th>\n",
       "      <td>252.00</td>\n",
       "      <td>0.0</td>\n",
       "      <td>0.00</td>\n",
       "      <td>186.00</td>\n",
       "      <td>0.000</td>\n",
       "      <td>1111.00</td>\n",
       "      <td>784.00</td>\n",
       "      <td>7</td>\n",
       "      <td>11.465986</td>\n",
       "    </tr>\n",
       "    <tr>\n",
       "      <th>3</th>\n",
       "      <td>325.60</td>\n",
       "      <td>166.4</td>\n",
       "      <td>0.00</td>\n",
       "      <td>174.00</td>\n",
       "      <td>8.900</td>\n",
       "      <td>881.60</td>\n",
       "      <td>790.00</td>\n",
       "      <td>28</td>\n",
       "      <td>61.235811</td>\n",
       "    </tr>\n",
       "    <tr>\n",
       "      <th>4</th>\n",
       "      <td>250.00</td>\n",
       "      <td>0.0</td>\n",
       "      <td>95.69</td>\n",
       "      <td>191.84</td>\n",
       "      <td>5.330</td>\n",
       "      <td>948.90</td>\n",
       "      <td>857.20</td>\n",
       "      <td>14</td>\n",
       "      <td>24.655662</td>\n",
       "    </tr>\n",
       "    <tr>\n",
       "      <th>5</th>\n",
       "      <td>540.00</td>\n",
       "      <td>0.0</td>\n",
       "      <td>0.00</td>\n",
       "      <td>162.00</td>\n",
       "      <td>2.500</td>\n",
       "      <td>1040.00</td>\n",
       "      <td>676.00</td>\n",
       "      <td>28</td>\n",
       "      <td>79.986111</td>\n",
       "    </tr>\n",
       "    <tr>\n",
       "      <th>6</th>\n",
       "      <td>427.50</td>\n",
       "      <td>47.5</td>\n",
       "      <td>0.00</td>\n",
       "      <td>228.00</td>\n",
       "      <td>0.000</td>\n",
       "      <td>932.00</td>\n",
       "      <td>594.00</td>\n",
       "      <td>270</td>\n",
       "      <td>43.012960</td>\n",
       "    </tr>\n",
       "    <tr>\n",
       "      <th>7</th>\n",
       "      <td>285.00</td>\n",
       "      <td>190.0</td>\n",
       "      <td>0.00</td>\n",
       "      <td>163.00</td>\n",
       "      <td>7.600</td>\n",
       "      <td>1031.00</td>\n",
       "      <td>685.00</td>\n",
       "      <td>28</td>\n",
       "      <td>53.579180</td>\n",
       "    </tr>\n",
       "    <tr>\n",
       "      <th>8</th>\n",
       "      <td>427.50</td>\n",
       "      <td>47.5</td>\n",
       "      <td>0.00</td>\n",
       "      <td>228.00</td>\n",
       "      <td>0.000</td>\n",
       "      <td>932.00</td>\n",
       "      <td>594.00</td>\n",
       "      <td>90</td>\n",
       "      <td>41.542997</td>\n",
       "    </tr>\n",
       "    <tr>\n",
       "      <th>9</th>\n",
       "      <td>140.00</td>\n",
       "      <td>133.0</td>\n",
       "      <td>103.00</td>\n",
       "      <td>200.00</td>\n",
       "      <td>7.000</td>\n",
       "      <td>916.00</td>\n",
       "      <td>753.00</td>\n",
       "      <td>28</td>\n",
       "      <td>36.438807</td>\n",
       "    </tr>\n",
       "  </tbody>\n",
       "</table>\n",
       "</div>"
      ],
      "text/plain": [
       "   Cement (component 1)(kg in a m^3 mixture)  \\\n",
       "0                                     233.81   \n",
       "1                                     251.81   \n",
       "2                                     252.00   \n",
       "3                                     325.60   \n",
       "4                                     250.00   \n",
       "5                                     540.00   \n",
       "6                                     427.50   \n",
       "7                                     285.00   \n",
       "8                                     427.50   \n",
       "9                                     140.00   \n",
       "\n",
       "   Blast Furnace Slag (component 2)(kg in a m^3 mixture)  \\\n",
       "0                                                0.0       \n",
       "1                                                0.0       \n",
       "2                                                0.0       \n",
       "3                                              166.4       \n",
       "4                                                0.0       \n",
       "5                                                0.0       \n",
       "6                                               47.5       \n",
       "7                                              190.0       \n",
       "8                                               47.5       \n",
       "9                                              133.0       \n",
       "\n",
       "   Fly Ash (component 3)(kg in a m^3 mixture)  \\\n",
       "0                                       94.58   \n",
       "1                                       99.94   \n",
       "2                                        0.00   \n",
       "3                                        0.00   \n",
       "4                                       95.69   \n",
       "5                                        0.00   \n",
       "6                                        0.00   \n",
       "7                                        0.00   \n",
       "8                                        0.00   \n",
       "9                                      103.00   \n",
       "\n",
       "   Water  (component 4)(kg in a m^3 mixture)  \\\n",
       "0                                     197.89   \n",
       "1                                     146.14   \n",
       "2                                     186.00   \n",
       "3                                     174.00   \n",
       "4                                     191.84   \n",
       "5                                     162.00   \n",
       "6                                     228.00   \n",
       "7                                     163.00   \n",
       "8                                     228.00   \n",
       "9                                     200.00   \n",
       "\n",
       "   Superplasticizer (component 5)(kg in a m^3 mixture)  \\\n",
       "0                                              4.567     \n",
       "1                                             12.350     \n",
       "2                                              0.000     \n",
       "3                                              8.900     \n",
       "4                                              5.330     \n",
       "5                                              2.500     \n",
       "6                                              0.000     \n",
       "7                                              7.600     \n",
       "8                                              0.000     \n",
       "9                                              7.000     \n",
       "\n",
       "   Coarse Aggregate  (component 6)(kg in a m^3 mixture)  \\\n",
       "0                                             947.04      \n",
       "1                                            1006.00      \n",
       "2                                            1111.00      \n",
       "3                                             881.60      \n",
       "4                                             948.90      \n",
       "5                                            1040.00      \n",
       "6                                             932.00      \n",
       "7                                            1031.00      \n",
       "8                                             932.00      \n",
       "9                                             916.00      \n",
       "\n",
       "   Fine Aggregate (component 7)(kg in a m^3 mixture)  Age (day)  \\\n",
       "0                                             852.16         28   \n",
       "1                                             899.76         56   \n",
       "2                                             784.00          7   \n",
       "3                                             790.00         28   \n",
       "4                                             857.20         14   \n",
       "5                                             676.00         28   \n",
       "6                                             594.00        270   \n",
       "7                                             685.00         28   \n",
       "8                                             594.00         90   \n",
       "9                                             753.00         28   \n",
       "\n",
       "   Concrete compressive strength(MPa, megapascals)   \n",
       "0                                         22.835445  \n",
       "1                                         44.140254  \n",
       "2                                         11.465986  \n",
       "3                                         61.235811  \n",
       "4                                         24.655662  \n",
       "5                                         79.986111  \n",
       "6                                         43.012960  \n",
       "7                                         53.579180  \n",
       "8                                         41.542997  \n",
       "9                                         36.438807  "
      ]
     },
     "execution_count": 55,
     "metadata": {},
     "output_type": "execute_result"
    }
   ],
   "source": [
    "df.head(n=10)"
   ]
  },
  {
   "cell_type": "code",
   "execution_count": 56,
   "metadata": {},
   "outputs": [],
   "source": [
    "columns = df.columns\n",
    "index = df.index\n",
    "data = df.values"
   ]
  },
  {
   "cell_type": "code",
   "execution_count": 57,
   "metadata": {},
   "outputs": [
    {
     "data": {
      "text/plain": [
       "Index(['Cement (component 1)(kg in a m^3 mixture)',\n",
       "       'Blast Furnace Slag (component 2)(kg in a m^3 mixture)',\n",
       "       'Fly Ash (component 3)(kg in a m^3 mixture)',\n",
       "       'Water  (component 4)(kg in a m^3 mixture)',\n",
       "       'Superplasticizer (component 5)(kg in a m^3 mixture)',\n",
       "       'Coarse Aggregate  (component 6)(kg in a m^3 mixture)',\n",
       "       'Fine Aggregate (component 7)(kg in a m^3 mixture)', 'Age (day)',\n",
       "       'Concrete compressive strength(MPa, megapascals) '],\n",
       "      dtype='object')"
      ]
     },
     "execution_count": 57,
     "metadata": {},
     "output_type": "execute_result"
    }
   ],
   "source": [
    "columns"
   ]
  },
  {
   "cell_type": "code",
   "execution_count": 58,
   "metadata": {},
   "outputs": [
    {
     "data": {
      "text/plain": [
       "RangeIndex(start=0, stop=700, step=1)"
      ]
     },
     "execution_count": 58,
     "metadata": {},
     "output_type": "execute_result"
    }
   ],
   "source": [
    "index"
   ]
  },
  {
   "cell_type": "code",
   "execution_count": 59,
   "metadata": {},
   "outputs": [
    {
     "data": {
      "text/plain": [
       "array([[233.81      ,   0.        ,  94.58      , ..., 852.16      ,\n",
       "         28.        ,  22.83544512],\n",
       "       [251.81      ,   0.        ,  99.94      , ..., 899.76      ,\n",
       "         56.        ,  44.14025352],\n",
       "       [252.        ,   0.        ,   0.        , ..., 784.        ,\n",
       "          7.        ,  11.46598588],\n",
       "       ...,\n",
       "       [266.        , 112.        ,  87.        , ..., 745.        ,\n",
       "         28.        ,  39.41734292],\n",
       "       [190.34      ,   0.        , 125.18      , ..., 798.9       ,\n",
       "         14.        ,  19.41564416],\n",
       "       [520.        ,   0.        ,   0.        , ..., 805.        ,\n",
       "         28.        ,  51.021224  ]])"
      ]
     },
     "execution_count": 59,
     "metadata": {},
     "output_type": "execute_result"
    }
   ],
   "source": [
    "data"
   ]
  },
  {
   "cell_type": "code",
   "execution_count": 60,
   "metadata": {},
   "outputs": [
    {
     "data": {
      "text/plain": [
       "(700, 9)"
      ]
     },
     "execution_count": 60,
     "metadata": {},
     "output_type": "execute_result"
    }
   ],
   "source": [
    "df.shape"
   ]
  },
  {
   "cell_type": "code",
   "execution_count": 61,
   "metadata": {},
   "outputs": [
    {
     "data": {
      "text/plain": [
       "Cement (component 1)(kg in a m^3 mixture)                float64\n",
       "Blast Furnace Slag (component 2)(kg in a m^3 mixture)    float64\n",
       "Fly Ash (component 3)(kg in a m^3 mixture)               float64\n",
       "Water  (component 4)(kg in a m^3 mixture)                float64\n",
       "Superplasticizer (component 5)(kg in a m^3 mixture)      float64\n",
       "Coarse Aggregate  (component 6)(kg in a m^3 mixture)     float64\n",
       "Fine Aggregate (component 7)(kg in a m^3 mixture)        float64\n",
       "Age (day)                                                  int64\n",
       "Concrete compressive strength(MPa, megapascals)          float64\n",
       "dtype: object"
      ]
     },
     "execution_count": 61,
     "metadata": {},
     "output_type": "execute_result"
    }
   ],
   "source": [
    "df.dtypes"
   ]
  },
  {
   "cell_type": "code",
   "execution_count": 62,
   "metadata": {},
   "outputs": [
    {
     "data": {
      "text/plain": [
       "float64    8\n",
       "int64      1\n",
       "dtype: int64"
      ]
     },
     "execution_count": 62,
     "metadata": {},
     "output_type": "execute_result"
    }
   ],
   "source": [
    "df.dtypes.value_counts()"
   ]
  },
  {
   "cell_type": "code",
   "execution_count": 63,
   "metadata": {},
   "outputs": [
    {
     "name": "stdout",
     "output_type": "stream",
     "text": [
      "<class 'pandas.core.frame.DataFrame'>\n",
      "RangeIndex: 700 entries, 0 to 699\n",
      "Data columns (total 9 columns):\n",
      " #   Column                                                 Non-Null Count  Dtype  \n",
      "---  ------                                                 --------------  -----  \n",
      " 0   Cement (component 1)(kg in a m^3 mixture)              700 non-null    float64\n",
      " 1   Blast Furnace Slag (component 2)(kg in a m^3 mixture)  700 non-null    float64\n",
      " 2   Fly Ash (component 3)(kg in a m^3 mixture)             700 non-null    float64\n",
      " 3   Water  (component 4)(kg in a m^3 mixture)              700 non-null    float64\n",
      " 4   Superplasticizer (component 5)(kg in a m^3 mixture)    700 non-null    float64\n",
      " 5   Coarse Aggregate  (component 6)(kg in a m^3 mixture)   700 non-null    float64\n",
      " 6   Fine Aggregate (component 7)(kg in a m^3 mixture)      700 non-null    float64\n",
      " 7   Age (day)                                              700 non-null    int64  \n",
      " 8   Concrete compressive strength(MPa, megapascals)        700 non-null    float64\n",
      "dtypes: float64(8), int64(1)\n",
      "memory usage: 49.3 KB\n"
     ]
    }
   ],
   "source": [
    "df.info()"
   ]
  },
  {
   "cell_type": "code",
   "execution_count": 64,
   "metadata": {},
   "outputs": [
    {
     "data": {
      "text/html": [
       "<div>\n",
       "<style scoped>\n",
       "    .dataframe tbody tr th:only-of-type {\n",
       "        vertical-align: middle;\n",
       "    }\n",
       "\n",
       "    .dataframe tbody tr th {\n",
       "        vertical-align: top;\n",
       "    }\n",
       "\n",
       "    .dataframe thead th {\n",
       "        text-align: right;\n",
       "    }\n",
       "</style>\n",
       "<table border=\"1\" class=\"dataframe\">\n",
       "  <thead>\n",
       "    <tr style=\"text-align: right;\">\n",
       "      <th></th>\n",
       "      <th>Cement (component 1)(kg in a m^3 mixture)</th>\n",
       "      <th>Blast Furnace Slag (component 2)(kg in a m^3 mixture)</th>\n",
       "      <th>Fly Ash (component 3)(kg in a m^3 mixture)</th>\n",
       "      <th>Water  (component 4)(kg in a m^3 mixture)</th>\n",
       "      <th>Superplasticizer (component 5)(kg in a m^3 mixture)</th>\n",
       "      <th>Coarse Aggregate  (component 6)(kg in a m^3 mixture)</th>\n",
       "      <th>Fine Aggregate (component 7)(kg in a m^3 mixture)</th>\n",
       "      <th>Age (day)</th>\n",
       "      <th>Concrete compressive strength(MPa, megapascals)</th>\n",
       "    </tr>\n",
       "  </thead>\n",
       "  <tbody>\n",
       "    <tr>\n",
       "      <th>count</th>\n",
       "      <td>700.000000</td>\n",
       "      <td>700.000000</td>\n",
       "      <td>700.000000</td>\n",
       "      <td>700.000000</td>\n",
       "      <td>700.000000</td>\n",
       "      <td>700.000000</td>\n",
       "      <td>700.000000</td>\n",
       "      <td>700.000000</td>\n",
       "      <td>700.000000</td>\n",
       "    </tr>\n",
       "    <tr>\n",
       "      <th>mean</th>\n",
       "      <td>278.767843</td>\n",
       "      <td>72.900814</td>\n",
       "      <td>56.098786</td>\n",
       "      <td>181.795129</td>\n",
       "      <td>6.344354</td>\n",
       "      <td>971.434214</td>\n",
       "      <td>773.633843</td>\n",
       "      <td>46.495714</td>\n",
       "      <td>36.188320</td>\n",
       "    </tr>\n",
       "    <tr>\n",
       "      <th>std</th>\n",
       "      <td>103.631704</td>\n",
       "      <td>85.568684</td>\n",
       "      <td>64.884900</td>\n",
       "      <td>21.804152</td>\n",
       "      <td>5.953926</td>\n",
       "      <td>78.183045</td>\n",
       "      <td>81.765379</td>\n",
       "      <td>62.214463</td>\n",
       "      <td>16.613490</td>\n",
       "    </tr>\n",
       "    <tr>\n",
       "      <th>min</th>\n",
       "      <td>102.000000</td>\n",
       "      <td>0.000000</td>\n",
       "      <td>0.000000</td>\n",
       "      <td>121.750000</td>\n",
       "      <td>0.000000</td>\n",
       "      <td>801.000000</td>\n",
       "      <td>594.000000</td>\n",
       "      <td>3.000000</td>\n",
       "      <td>2.331808</td>\n",
       "    </tr>\n",
       "    <tr>\n",
       "      <th>25%</th>\n",
       "      <td>190.595000</td>\n",
       "      <td>0.000000</td>\n",
       "      <td>0.000000</td>\n",
       "      <td>164.900000</td>\n",
       "      <td>0.000000</td>\n",
       "      <td>932.000000</td>\n",
       "      <td>728.675000</td>\n",
       "      <td>14.000000</td>\n",
       "      <td>24.089257</td>\n",
       "    </tr>\n",
       "    <tr>\n",
       "      <th>50%</th>\n",
       "      <td>262.750000</td>\n",
       "      <td>20.000000</td>\n",
       "      <td>0.000000</td>\n",
       "      <td>185.000000</td>\n",
       "      <td>6.860000</td>\n",
       "      <td>967.080000</td>\n",
       "      <td>779.320000</td>\n",
       "      <td>28.000000</td>\n",
       "      <td>34.646169</td>\n",
       "    </tr>\n",
       "    <tr>\n",
       "      <th>75%</th>\n",
       "      <td>349.000000</td>\n",
       "      <td>144.775000</td>\n",
       "      <td>118.310000</td>\n",
       "      <td>192.955000</td>\n",
       "      <td>10.300000</td>\n",
       "      <td>1028.650000</td>\n",
       "      <td>825.500000</td>\n",
       "      <td>56.000000</td>\n",
       "      <td>46.346232</td>\n",
       "    </tr>\n",
       "    <tr>\n",
       "      <th>max</th>\n",
       "      <td>540.000000</td>\n",
       "      <td>359.400000</td>\n",
       "      <td>200.000000</td>\n",
       "      <td>247.000000</td>\n",
       "      <td>32.200000</td>\n",
       "      <td>1134.300000</td>\n",
       "      <td>992.600000</td>\n",
       "      <td>365.000000</td>\n",
       "      <td>82.599225</td>\n",
       "    </tr>\n",
       "  </tbody>\n",
       "</table>\n",
       "</div>"
      ],
      "text/plain": [
       "       Cement (component 1)(kg in a m^3 mixture)  \\\n",
       "count                                 700.000000   \n",
       "mean                                  278.767843   \n",
       "std                                   103.631704   \n",
       "min                                   102.000000   \n",
       "25%                                   190.595000   \n",
       "50%                                   262.750000   \n",
       "75%                                   349.000000   \n",
       "max                                   540.000000   \n",
       "\n",
       "       Blast Furnace Slag (component 2)(kg in a m^3 mixture)  \\\n",
       "count                                         700.000000       \n",
       "mean                                           72.900814       \n",
       "std                                            85.568684       \n",
       "min                                             0.000000       \n",
       "25%                                             0.000000       \n",
       "50%                                            20.000000       \n",
       "75%                                           144.775000       \n",
       "max                                           359.400000       \n",
       "\n",
       "       Fly Ash (component 3)(kg in a m^3 mixture)  \\\n",
       "count                                  700.000000   \n",
       "mean                                    56.098786   \n",
       "std                                     64.884900   \n",
       "min                                      0.000000   \n",
       "25%                                      0.000000   \n",
       "50%                                      0.000000   \n",
       "75%                                    118.310000   \n",
       "max                                    200.000000   \n",
       "\n",
       "       Water  (component 4)(kg in a m^3 mixture)  \\\n",
       "count                                 700.000000   \n",
       "mean                                  181.795129   \n",
       "std                                    21.804152   \n",
       "min                                   121.750000   \n",
       "25%                                   164.900000   \n",
       "50%                                   185.000000   \n",
       "75%                                   192.955000   \n",
       "max                                   247.000000   \n",
       "\n",
       "       Superplasticizer (component 5)(kg in a m^3 mixture)  \\\n",
       "count                                         700.000000     \n",
       "mean                                            6.344354     \n",
       "std                                             5.953926     \n",
       "min                                             0.000000     \n",
       "25%                                             0.000000     \n",
       "50%                                             6.860000     \n",
       "75%                                            10.300000     \n",
       "max                                            32.200000     \n",
       "\n",
       "       Coarse Aggregate  (component 6)(kg in a m^3 mixture)  \\\n",
       "count                                         700.000000      \n",
       "mean                                          971.434214      \n",
       "std                                            78.183045      \n",
       "min                                           801.000000      \n",
       "25%                                           932.000000      \n",
       "50%                                           967.080000      \n",
       "75%                                          1028.650000      \n",
       "max                                          1134.300000      \n",
       "\n",
       "       Fine Aggregate (component 7)(kg in a m^3 mixture)   Age (day)  \\\n",
       "count                                         700.000000  700.000000   \n",
       "mean                                          773.633843   46.495714   \n",
       "std                                            81.765379   62.214463   \n",
       "min                                           594.000000    3.000000   \n",
       "25%                                           728.675000   14.000000   \n",
       "50%                                           779.320000   28.000000   \n",
       "75%                                           825.500000   56.000000   \n",
       "max                                           992.600000  365.000000   \n",
       "\n",
       "       Concrete compressive strength(MPa, megapascals)   \n",
       "count                                        700.000000  \n",
       "mean                                          36.188320  \n",
       "std                                           16.613490  \n",
       "min                                            2.331808  \n",
       "25%                                           24.089257  \n",
       "50%                                           34.646169  \n",
       "75%                                           46.346232  \n",
       "max                                           82.599225  "
      ]
     },
     "execution_count": 64,
     "metadata": {},
     "output_type": "execute_result"
    }
   ],
   "source": [
    "df.describe()"
   ]
  },
  {
   "cell_type": "code",
   "execution_count": 67,
   "metadata": {},
   "outputs": [
    {
     "data": {
      "text/plain": [
       "46.495714285714286"
      ]
     },
     "execution_count": 67,
     "metadata": {},
     "output_type": "execute_result"
    }
   ],
   "source": [
    "df['Age (day)'].mean()\n"
   ]
  },
  {
   "cell_type": "code",
   "execution_count": 68,
   "metadata": {},
   "outputs": [
    {
     "data": {
      "text/plain": [
       "365"
      ]
     },
     "execution_count": 68,
     "metadata": {},
     "output_type": "execute_result"
    }
   ],
   "source": [
    "df['Age (day)'].max()"
   ]
  },
  {
   "cell_type": "code",
   "execution_count": 70,
   "metadata": {},
   "outputs": [
    {
     "data": {
      "text/plain": [
       "3"
      ]
     },
     "execution_count": 70,
     "metadata": {},
     "output_type": "execute_result"
    }
   ],
   "source": [
    "df['Age (day)'].min()"
   ]
  },
  {
   "cell_type": "code",
   "execution_count": 85,
   "metadata": {},
   "outputs": [],
   "source": [
    "def avr(column_name):\n",
    "    avrt = df[column_name].mean()\n",
    "    print(avrt) \n",
    "    return avrt"
   ]
  },
  {
   "cell_type": "code",
   "execution_count": 86,
   "metadata": {},
   "outputs": [
    {
     "name": "stdout",
     "output_type": "stream",
     "text": [
      "46.495714285714286\n"
     ]
    },
    {
     "data": {
      "text/plain": [
       "46.495714285714286"
      ]
     },
     "execution_count": 86,
     "metadata": {},
     "output_type": "execute_result"
    }
   ],
   "source": [
    "avr('Age (day)')"
   ]
  },
  {
   "cell_type": "code",
   "execution_count": null,
   "metadata": {},
   "outputs": [],
   "source": []
  },
  {
   "cell_type": "code",
   "execution_count": null,
   "metadata": {},
   "outputs": [],
   "source": []
  }
 ],
 "metadata": {
  "kernelspec": {
   "display_name": "Python 3",
   "language": "python",
   "name": "python3"
  },
  "language_info": {
   "codemirror_mode": {
    "name": "ipython",
    "version": 3
   },
   "file_extension": ".py",
   "mimetype": "text/x-python",
   "name": "python",
   "nbconvert_exporter": "python",
   "pygments_lexer": "ipython3",
   "version": "3.7.6"
  }
 },
 "nbformat": 4,
 "nbformat_minor": 4
}
