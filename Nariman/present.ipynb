{
 "cells": [
  {
   "cell_type": "markdown",
   "metadata": {},
   "source": [
    "Develope a function to calculate Standard Deviation"
   ]
  },
  {
   "cell_type": "code",
   "execution_count": 1,
   "metadata": {},
   "outputs": [],
   "source": [
    "import numpy as np\n",
    "import pandas as pd\n",
    "import matplotlib.pyplot as plt "
   ]
  },
  {
   "cell_type": "code",
   "execution_count": 2,
   "metadata": {},
   "outputs": [],
   "source": [
    "\n",
    "a=[2,100,50,23,65,70,21,43,76]\n",
    "\n",
    "def std(a):\n",
    "    sum=np.sum(a)\n",
    "    numb=len(a)\n",
    "    mean=sum/numb\n",
    "    b=(a-mean)**2\n",
    "    std=(np.sum(b)/numb)**.5\n",
    "    \n",
    "    print('No. =',numb )\n",
    "    print(\"summation of the numbers = %4.2f\" % sum)\n",
    "    print(\"Average=%4.2f\" % mean)\n",
    "    print(\"Population Standard Deviation= %4.2f\" % std )\n"
   ]
  },
  {
   "cell_type": "code",
   "execution_count": 3,
   "metadata": {},
   "outputs": [
    {
     "name": "stdout",
     "output_type": "stream",
     "text": [
      "No. = 8\n",
      "summation of the numbers = 25.00\n",
      "Average=3.12\n",
      "Population Standard Deviation= 1.54\n"
     ]
    }
   ],
   "source": [
    "#Python code to demonstrate the working of  \n",
    "# sum() \n",
    "   \n",
    "numbers = [1,2,3,4,5,1,4,5] \n",
    "  \n",
    "std(numbers)"
   ]
  },
  {
   "cell_type": "code",
   "execution_count": 4,
   "metadata": {},
   "outputs": [
    {
     "data": {
      "image/png": "[encoded data removed]",
      "text/plain": [
       "<Figure size 432x288 with 1 Axes>"
      ]
     },
     "metadata": {
      "needs_background": "light"
     },
     "output_type": "display_data"
    }
   ],
   "source": [
    "# generating a random data set\n",
    "# Number are randomly generated replicating heigh of adoults in a comunity \n",
    "mean = 165\n",
    "sigma = 12\n",
    "# population size\n",
    "size = 75000\n",
    "height = np.random.normal(mean, sigma, size)\n",
    "plt.hist(height, bins=50)\n",
    "plt.show()"
   ]
  },
  {
   "cell_type": "code",
   "execution_count": 5,
   "metadata": {},
   "outputs": [
    {
     "name": "stdout",
     "output_type": "stream",
     "text": [
      "No. = 75000\n",
      "summation of the numbers = 12373418.50\n",
      "Average=164.98\n",
      "Population Standard Deviation= 11.98\n"
     ]
    }
   ],
   "source": [
    "std(height)"
   ]
  },
  {
   "cell_type": "code",
   "execution_count": null,
   "metadata": {},
   "outputs": [],
   "source": []
  },
  {
   "cell_type": "code",
   "execution_count": null,
   "metadata": {},
   "outputs": [],
   "source": []
  }
 ],
 "metadata": {
  "kernelspec": {
   "display_name": "Python 3",
   "language": "python",
   "name": "python3"
  },
  "language_info": {
   "codemirror_mode": {
    "name": "ipython",
    "version": 3
   },
   "file_extension": ".py",
   "mimetype": "text/x-python",
   "name": "python",
   "nbconvert_exporter": "python",
   "pygments_lexer": "ipython3",
   "version": "3.7.6"
  }
 },
 "nbformat": 4,
 "nbformat_minor": 4
}
