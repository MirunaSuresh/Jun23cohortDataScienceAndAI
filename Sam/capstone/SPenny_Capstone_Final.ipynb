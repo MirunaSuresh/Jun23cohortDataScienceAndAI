{
 "cells": [
  {
   "cell_type": "markdown",
   "metadata": {
    "colab_type": "text",
    "id": "UYvQOebqLcfM"
   },
   "source": [
    "<div>\n",
    "<img src=https://www.institutedata.com/wp-content/uploads/2019/10/iod_h_tp_primary_c.svg width=\"300\">\n",
    "</div>"
   ]
  },
  {
   "cell_type": "markdown",
   "metadata": {
    "colab_type": "text",
    "id": "1JWvLBewLcfP"
   },
   "source": [
    "# Capstone - Insult Detection in Social Commentary"
   ]
  },
  {
   "cell_type": "markdown",
   "metadata": {
    "colab_type": "text",
    "id": "HbhmKC6NLcfS"
   },
   "source": [
    "Based on the video tutorial **Text Classification with Machine Learning,SpaCy and Scikit(Sentiment Analysis)** by **Jesse E. Agbe (JCharis)**."
   ]
  },
  {
   "cell_type": "markdown",
   "metadata": {
    "colab_type": "text",
    "id": "NnuAMgbhLcfV"
   },
   "source": [
    "## Data Source: Kaggle Competition\n",
    "\n",
    "### Dataset\n",
    "- [Sentiment Labelled Sentences Data Set](https://www.kaggle.com/c/detecting-insults-in-social-commentary/data)\n",
    "\n",
    "### About the Data\n",
    "The dataset contains sentences labelled with insulting or neutral sentiment.\n",
    "\n",
    "- Data Set Characteristics: Text\n",
    "- Number of Instances: 6594\n",
    "- Area: Social Commentary\n",
    "- Associated Tasks: Classification\n",
    "- Missing Values? N/A\n",
    "\n",
    "### Data Set Information\n",
    "This dataset was created for the Kaggle Competition held by Imperium for detecting insults in social comentary. The comments have been scraped from a variety of news sites, twitter \n",
    "\n",
    "It contains sentences labelled with positive or negative sentiment.\n",
    "\n",
    "### Details\n",
    "Score is either 1 (for insult) or 0 (for non-insult)\n",
    "\n",
    "### Attribute Information\n",
    "The attributes are text sentences, extracted from social commentary sections of websites/apps, etc."
   ]
  },
  {
   "cell_type": "markdown",
   "metadata": {
    "colab_type": "text",
    "id": "abNvVWdlLcfW"
   },
   "source": [
    "## Import libraries"
   ]
  },
  {
   "cell_type": "code",
   "execution_count": 203,
   "metadata": {
    "colab": {},
    "colab_type": "code",
    "id": "4BJWjM0zLcfZ"
   },
   "outputs": [],
   "source": [
    "## Import Libraries\n",
    "import pandas as pd\n",
    "\n",
    "import regex as re\n",
    "import spacy\n",
    "import string\n",
    "\n",
    "%matplotlib inline\n",
    "import matplotlib.pyplot as plt\n",
    "import matplotlib.gridspec as gridspec\n",
    "import seaborn as sns\n",
    "\n",
    "from sklearn.feature_extraction.text import CountVectorizer\n",
    "from sklearn.feature_extraction.text import TfidfVectorizer\n",
    "from sklearn.linear_model import LogisticRegression\n",
    "\n",
    "from sklearn.model_selection import train_test_split\n",
    "\n",
    "from sklearn.svm import SVC\n",
    "from sklearn.svm import LinearSVC\n",
    "\n",
    "\n",
    "from sklearn.metrics import confusion_matrix\n",
    "from sklearn.metrics import accuracy_score\n",
    "from sklearn.metrics import precision_score\n",
    "from sklearn.metrics import recall_score\n",
    "from sklearn.metrics import f1_score\n",
    "from sklearn.metrics import average_precision_score\n",
    "from sklearn.metrics import roc_auc_score\n",
    "from sklearn.metrics import precision_recall_curve\n",
    "from sklearn.metrics import roc_curve\n",
    "from sklearn.metrics import auc\n",
    "\n",
    "\n",
    "\n",
    "import warnings\n",
    "warnings.filterwarnings('ignore')\n",
    "\n",
    "import unicodedata\n",
    "from collections import Counter\n"
   ]
  },
  {
   "cell_type": "markdown",
   "metadata": {
    "colab_type": "text",
    "id": "Dzzk6JdcLcfh"
   },
   "source": [
    "## Load data"
   ]
  },
  {
   "cell_type": "code",
   "execution_count": 56,
   "metadata": {},
   "outputs": [],
   "source": [
    "#Import datasets\n",
    "df_train = pd.read_csv('/Users/Sam/Desktop/Data Science:AI/Capstone/detecting-insults-in-social-commentary/train.csv')\n",
    "df_test = pd.read_csv('/Users/Sam/Desktop/Data Science:AI/Capstone/detecting-insults-in-social-commentary/test_with_solutions.csv')\n",
    "dfs_insult = {'train': df_train, 'test': df_test}"
   ]
  },
  {
   "cell_type": "code",
   "execution_count": 60,
   "metadata": {},
   "outputs": [],
   "source": [
    "#Drop the 'source' column from training set\n",
    "df_train.drop('source', axis=1, inplace=True)"
   ]
  },
  {
   "cell_type": "code",
   "execution_count": 62,
   "metadata": {},
   "outputs": [],
   "source": [
    "#Drop the 'source' column from test set\n",
    "df_test.drop('source', axis=1, inplace=True)"
   ]
  },
  {
   "cell_type": "markdown",
   "metadata": {
    "colab_type": "text",
    "id": "pwa3MBrwLcfo"
   },
   "source": [
    "## Inspect the data"
   ]
  },
  {
   "cell_type": "code",
   "execution_count": 63,
   "metadata": {
    "colab": {},
    "colab_type": "code",
    "id": "h4gcvMzSLcf3"
   },
   "outputs": [
    {
     "name": "stdout",
     "output_type": "stream",
     "text": [
      "Dataset: train [3947 row(s) x 2 col(s)]\n",
      "   insult                                               text source\n",
      "0       1                               \"You fuck your dad.\"  train\n",
      "1       0  \"i really don't understand your point.\\xa0 It ...  train\n",
      "2       0  \"A\\\\xc2\\\\xa0majority of Canadians can and has ...  train\n",
      "3       0  \"listen if you dont wanna get married to a man...  train\n",
      "4       0  \"C\\xe1c b\\u1ea1n xu\\u1ed1ng \\u0111\\u01b0\\u1edd...  train\n",
      "---------------------------------------------------------------------------\n",
      "Dataset: test [2647 row(s) x 2 col(s)]\n",
      "   insult                                               text source\n",
      "0       0  \"THE DRUDGE REPORT\\\\n\\\\n\\\\n\\\\nYou won't see th...   test\n",
      "1       0  \"@ian21\\xa0\"Roger Clemens is the fucking man, ...   test\n",
      "2       1  \"Agree with Alan you are an extremest idiot.  ...   test\n",
      "3       0  \"Really?\\\\n\\\\nI see Marc Lamont Hill on variou...   test\n",
      "4       0  \"Really suck isn't the word, when many of our ...   test\n",
      "---------------------------------------------------------------------------\n"
     ]
    }
   ],
   "source": [
    "# - assign column names\n",
    "# - add the data source\n",
    "# - check the data\n",
    "for ds in dfs_insult.keys():\n",
    "    print('Dataset: %s [%d row(s) x %d col(s)]' % (ds, dfs_insult[ds].shape[0], dfs_insult[ds].shape[1]))\n",
    "    dfs_insult[ds].columns = ['insult', 'text']\n",
    "    dfs_insult[ds]['source'] = ds\n",
    "    print(dfs_insult[ds].head())\n",
    "    print('-' * 75)"
   ]
  },
  {
   "cell_type": "code",
   "execution_count": 64,
   "metadata": {},
   "outputs": [
    {
     "data": {
      "text/plain": [
       "Text(0.5, 1.0, 'Training Data Split')"
      ]
     },
     "execution_count": 64,
     "metadata": {},
     "output_type": "execute_result"
    },
    {
     "data": {
      "image/png": "[encoded data removed]",
      "text/plain": [
       "<Figure size 432x288 with 1 Axes>"
      ]
     },
     "metadata": {
      "needs_background": "light"
     },
     "output_type": "display_data"
    }
   ],
   "source": [
    "#Plot the training data to show the split of insults vs. non-insults\n",
    "sns.countplot(df_train['insult'])\n",
    "plt.title('Training Data Split')"
   ]
  },
  {
   "cell_type": "code",
   "execution_count": 65,
   "metadata": {},
   "outputs": [
    {
     "data": {
      "text/plain": [
       "Text(0.5, 1.0, 'Test Data Split')"
      ]
     },
     "execution_count": 65,
     "metadata": {},
     "output_type": "execute_result"
    },
    {
     "data": {
      "image/png": "[encoded data removed]",
      "text/plain": [
       "<Figure size 432x288 with 1 Axes>"
      ]
     },
     "metadata": {
      "needs_background": "light"
     },
     "output_type": "display_data"
    }
   ],
   "source": [
    "#Plot the test data to show the split of insults vs. non-insults\n",
    "sns.countplot(df_test['insult'])\n",
    "plt.title('Test Data Split')"
   ]
  },
  {
   "cell_type": "markdown",
   "metadata": {
    "colab_type": "text",
    "id": "meEtfGfELcf4"
   },
   "source": [
    "## Merge the data"
   ]
  },
  {
   "cell_type": "code",
   "execution_count": 66,
   "metadata": {
    "colab": {},
    "colab_type": "code",
    "id": "SSqaJf1eLcf5"
   },
   "outputs": [],
   "source": [
    "#Concatenate the Datasets\n",
    "df = pd.concat(dfs_insult.values(), ignore_index = True)"
   ]
  },
  {
   "cell_type": "code",
   "execution_count": 67,
   "metadata": {
    "colab": {},
    "colab_type": "code",
    "id": "PmqNgVgRLcf7"
   },
   "outputs": [
    {
     "name": "stdout",
     "output_type": "stream",
     "text": [
      "Dataset: All [6594 row(s) x 3 col(s)]\n",
      "\n",
      "<class 'pandas.core.frame.DataFrame'>\n",
      "RangeIndex: 6594 entries, 0 to 6593\n",
      "Data columns (total 3 columns):\n",
      " #   Column  Non-Null Count  Dtype \n",
      "---  ------  --------------  ----- \n",
      " 0   insult  6594 non-null   int64 \n",
      " 1   text    6594 non-null   object\n",
      " 2   source  6594 non-null   object\n",
      "dtypes: int64(1), object(2)\n",
      "memory usage: 154.7+ KB\n",
      "None\n",
      "      insult                                               text source\n",
      "5426       0  \"Yawn.\\n\\nAnd your thoughts on left wing rank ...   test\n",
      "5554       1                            \"UR  ALL PENIS SUCKERS\"   test\n",
      "1449       0  \"In my area the scrap men and women are around...  train\n",
      "3074       0  \"The same bus drivers carried epl players (i.e...  train\n",
      "194        0        \"Yes  you have to have comedy in your life\"  train\n",
      "4171       0  \"If United get Kagawa they be one up on the mi...   test\n",
      "5989       0      \"Im going to period blood all over your dick\"   test\n",
      "3394       0  \"In the past day we've seen Zombies in Miami a...  train\n",
      "4230       0  \"The vocals in this song aren't the normal kpo...   test\n",
      "4591       0  \"No matter how old you get, she thinks about y...   test\n",
      "---------------------------------------------------------------------------\n"
     ]
    }
   ],
   "source": [
    "print('Dataset: %s [%d row(s) x %d col(s)]\\n' % ('All', df.shape[0], df.shape[1]))\n",
    "print(df.info())\n",
    "print(df.sample(10))\n",
    "print('-' * 75)"
   ]
  },
  {
   "cell_type": "code",
   "execution_count": 68,
   "metadata": {},
   "outputs": [
    {
     "data": {
      "text/plain": [
       "(6594, 3)"
      ]
     },
     "execution_count": 68,
     "metadata": {},
     "output_type": "execute_result"
    }
   ],
   "source": [
    "#Check shape of merged DF\n",
    "df.shape"
   ]
  },
  {
   "cell_type": "code",
   "execution_count": 69,
   "metadata": {},
   "outputs": [
    {
     "data": {
      "text/plain": [
       "insult    0\n",
       "text      0\n",
       "source    0\n",
       "dtype: int64"
      ]
     },
     "execution_count": 69,
     "metadata": {},
     "output_type": "execute_result"
    }
   ],
   "source": [
    "#Check for null values\n",
    "df.isnull().sum()"
   ]
  },
  {
   "cell_type": "markdown",
   "metadata": {
    "colab_type": "text",
    "id": "QBIFtbMALcf8"
   },
   "source": [
    "## Export the data"
   ]
  },
  {
   "cell_type": "code",
   "execution_count": 91,
   "metadata": {
    "colab": {},
    "colab_type": "code",
    "id": "n8OLkaALLcf9",
    "scrolled": false
   },
   "outputs": [],
   "source": [
    "df.to_csv('/Users/Sam/Downloads/insult_detect_final.csv', index = None)"
   ]
  },
  {
   "cell_type": "markdown",
   "metadata": {
    "colab_type": "text",
    "id": "bzA4FQsPLcgA"
   },
   "source": [
    "## Load the spaCy library"
   ]
  },
  {
   "cell_type": "code",
   "execution_count": 71,
   "metadata": {
    "colab": {},
    "colab_type": "code",
    "id": "wVMTSDYQLcgB"
   },
   "outputs": [],
   "source": [
    "nlp = spacy.load('en_core_web_sm')"
   ]
  },
  {
   "cell_type": "markdown",
   "metadata": {
    "colab_type": "text",
    "id": "YguMrtDuLcgD"
   },
   "source": [
    "## Prepare the text\n",
    "All the text handling and preparation concerned with modifications from raw text into useful data to feed to feature engineering andf eventually, modelling.\n",
    "- handle encoding (not needed in this instance)\n",
    "- handle extraneous and international charaters\n",
    "- Handle puntuation & special characters\n",
    "- handle symbols\n",
    "- handle metadata and embeded information (i.e. escape characters/encoding - UTF8, etc.)\n",
    "- handle repetitions (such multiple spaces or newlines)"
   ]
  },
  {
   "cell_type": "code",
   "execution_count": 72,
   "metadata": {
    "colab": {},
    "colab_type": "code",
    "id": "GlsKSvonLcgD",
    "scrolled": true
   },
   "outputs": [],
   "source": [
    "def clean_text(text):\n",
    "    # reduce multiple spaces and newlines to only one\n",
    "    text = re.sub(r'(\\s\\s+|\\n\\n+)', r'\\1', text)\n",
    "    # remove double quotes\n",
    "    text = re.sub(r'\"', '', text)\n",
    "\n",
    "    return text"
   ]
  },
  {
   "cell_type": "code",
   "execution_count": 73,
   "metadata": {
    "colab": {},
    "colab_type": "code",
    "id": "upPa3YmmLcgF"
   },
   "outputs": [],
   "source": [
    "df['text'] = df['text'].apply(clean_text)"
   ]
  },
  {
   "cell_type": "code",
   "execution_count": 74,
   "metadata": {},
   "outputs": [
    {
     "data": {
      "text/html": [
       "<div>\n",
       "<style scoped>\n",
       "    .dataframe tbody tr th:only-of-type {\n",
       "        vertical-align: middle;\n",
       "    }\n",
       "\n",
       "    .dataframe tbody tr th {\n",
       "        vertical-align: top;\n",
       "    }\n",
       "\n",
       "    .dataframe thead th {\n",
       "        text-align: right;\n",
       "    }\n",
       "</style>\n",
       "<table border=\"1\" class=\"dataframe\">\n",
       "  <thead>\n",
       "    <tr style=\"text-align: right;\">\n",
       "      <th></th>\n",
       "      <th>insult</th>\n",
       "      <th>text</th>\n",
       "      <th>source</th>\n",
       "    </tr>\n",
       "  </thead>\n",
       "  <tbody>\n",
       "    <tr>\n",
       "      <th>5036</th>\n",
       "      <td>1</td>\n",
       "      <td>have another bottle of Ripple and go back to y...</td>\n",
       "      <td>test</td>\n",
       "    </tr>\n",
       "    <tr>\n",
       "      <th>4317</th>\n",
       "      <td>1</td>\n",
       "      <td>Don't sell yourself short, Wayne. You are a cr...</td>\n",
       "      <td>test</td>\n",
       "    </tr>\n",
       "    <tr>\n",
       "      <th>6479</th>\n",
       "      <td>0</td>\n",
       "      <td>I don't think you should be silences. I think ...</td>\n",
       "      <td>test</td>\n",
       "    </tr>\n",
       "    <tr>\n",
       "      <th>6119</th>\n",
       "      <td>0</td>\n",
       "      <td>jlhanxson:\\n\\nDon't believe all you read in po...</td>\n",
       "      <td>test</td>\n",
       "    </tr>\n",
       "    <tr>\n",
       "      <th>4809</th>\n",
       "      <td>1</td>\n",
       "      <td>You are a total idiot.\\xa0 You are probably un...</td>\n",
       "      <td>test</td>\n",
       "    </tr>\n",
       "  </tbody>\n",
       "</table>\n",
       "</div>"
      ],
      "text/plain": [
       "      insult                                               text source\n",
       "5036       1  have another bottle of Ripple and go back to y...   test\n",
       "4317       1  Don't sell yourself short, Wayne. You are a cr...   test\n",
       "6479       0  I don't think you should be silences. I think ...   test\n",
       "6119       0  jlhanxson:\\n\\nDon't believe all you read in po...   test\n",
       "4809       1  You are a total idiot.\\xa0 You are probably un...   test"
      ]
     },
     "execution_count": 74,
     "metadata": {},
     "output_type": "execute_result"
    }
   ],
   "source": [
    "#Check the 'cleaned' text\n",
    "df.sample(5)"
   ]
  },
  {
   "cell_type": "markdown",
   "metadata": {
    "colab_type": "text",
    "id": "za_6vt3MLcgH"
   },
   "source": [
    "## Work the text\n",
    "Remove any stopwords, punctuation & digits, lemmatize the words and lowercase all characters with the code below."
   ]
  },
  {
   "cell_type": "code",
   "execution_count": 75,
   "metadata": {
    "colab": {},
    "colab_type": "code",
    "id": "sh_uDWcCLcgI"
   },
   "outputs": [],
   "source": [
    "def convert_text(text):\n",
    "    sent = nlp(text)\n",
    "    ents = {x.text: x for x in sent.ents}\n",
    "    tokens = []\n",
    "    for w in sent:\n",
    "        if w.is_stop or w.is_punct or w.is_digit:\n",
    "            continue\n",
    "        if w.text in ents:\n",
    "            tokens.append(w.text)\n",
    "        else:\n",
    "            tokens.append(w.lemma_.lower())\n",
    "    text = ' '.join(tokens)\n",
    "\n",
    "    return text"
   ]
  },
  {
   "cell_type": "code",
   "execution_count": 77,
   "metadata": {
    "colab": {},
    "colab_type": "code",
    "id": "0vDv55U1LcgK"
   },
   "outputs": [
    {
     "name": "stdout",
     "output_type": "stream",
     "text": [
      "CPU times: user 1min 38s, sys: 3.23 s, total: 1min 42s\n",
      "Wall time: 1min 57s\n"
     ]
    }
   ],
   "source": [
    "%%time\n",
    "#Apply the text_conversion function to the df\n",
    "df['short'] = df['text'].apply(convert_text)"
   ]
  },
  {
   "cell_type": "code",
   "execution_count": 78,
   "metadata": {
    "colab": {},
    "colab_type": "code",
    "id": "faiuJfunLcgM"
   },
   "outputs": [
    {
     "data": {
      "text/html": [
       "<div>\n",
       "<style scoped>\n",
       "    .dataframe tbody tr th:only-of-type {\n",
       "        vertical-align: middle;\n",
       "    }\n",
       "\n",
       "    .dataframe tbody tr th {\n",
       "        vertical-align: top;\n",
       "    }\n",
       "\n",
       "    .dataframe thead th {\n",
       "        text-align: right;\n",
       "    }\n",
       "</style>\n",
       "<table border=\"1\" class=\"dataframe\">\n",
       "  <thead>\n",
       "    <tr style=\"text-align: right;\">\n",
       "      <th></th>\n",
       "      <th>insult</th>\n",
       "      <th>text</th>\n",
       "      <th>source</th>\n",
       "      <th>short</th>\n",
       "    </tr>\n",
       "  </thead>\n",
       "  <tbody>\n",
       "    <tr>\n",
       "      <th>0</th>\n",
       "      <td>1</td>\n",
       "      <td>You fuck your dad.</td>\n",
       "      <td>train</td>\n",
       "      <td>fuck dad</td>\n",
       "    </tr>\n",
       "    <tr>\n",
       "      <th>1</th>\n",
       "      <td>0</td>\n",
       "      <td>i really don't understand your point.\\xa0 It s...</td>\n",
       "      <td>train</td>\n",
       "      <td>understand point.\\xa0 mix apple orange</td>\n",
       "    </tr>\n",
       "    <tr>\n",
       "      <th>2</th>\n",
       "      <td>0</td>\n",
       "      <td>A\\\\xc2\\\\xa0majority of Canadians can and has b...</td>\n",
       "      <td>train</td>\n",
       "      <td>a\\\\xc2\\\\xa0majority Canadians wrong again.\\\\n\\...</td>\n",
       "    </tr>\n",
       "    <tr>\n",
       "      <th>3</th>\n",
       "      <td>0</td>\n",
       "      <td>listen if you dont wanna get married to a man ...</td>\n",
       "      <td>train</td>\n",
       "      <td>listen not wanna married man woman dont bother...</td>\n",
       "    </tr>\n",
       "    <tr>\n",
       "      <th>4</th>\n",
       "      <td>0</td>\n",
       "      <td>C\\xe1c b\\u1ea1n xu\\u1ed1ng \\u0111\\u01b0\\u1eddn...</td>\n",
       "      <td>train</td>\n",
       "      <td>c\\xe1c b\\u1ea1n xu\\u1ed1ng \\u0111\\u01b0\\u1eddn...</td>\n",
       "    </tr>\n",
       "  </tbody>\n",
       "</table>\n",
       "</div>"
      ],
      "text/plain": [
       "   insult                                               text source  \\\n",
       "0       1                                 You fuck your dad.  train   \n",
       "1       0  i really don't understand your point.\\xa0 It s...  train   \n",
       "2       0  A\\\\xc2\\\\xa0majority of Canadians can and has b...  train   \n",
       "3       0  listen if you dont wanna get married to a man ...  train   \n",
       "4       0  C\\xe1c b\\u1ea1n xu\\u1ed1ng \\u0111\\u01b0\\u1eddn...  train   \n",
       "\n",
       "                                               short  \n",
       "0                                           fuck dad  \n",
       "1             understand point.\\xa0 mix apple orange  \n",
       "2  a\\\\xc2\\\\xa0majority Canadians wrong again.\\\\n\\...  \n",
       "3  listen not wanna married man woman dont bother...  \n",
       "4  c\\xe1c b\\u1ea1n xu\\u1ed1ng \\u0111\\u01b0\\u1eddn...  "
      ]
     },
     "execution_count": 78,
     "metadata": {},
     "output_type": "execute_result"
    }
   ],
   "source": [
    "#Show the added column\n",
    "df.head()"
   ]
  },
  {
   "cell_type": "code",
   "execution_count": 79,
   "metadata": {},
   "outputs": [],
   "source": [
    "# function to remove numbers\n",
    "df['no_digit'] = df['short'].str.replace('\\d+', '')\n"
   ]
  },
  {
   "cell_type": "code",
   "execution_count": 80,
   "metadata": {},
   "outputs": [],
   "source": [
    "#function to remove lingering newline characters\n",
    "df['no_newline'] = df['no_digit'].str.replace(r'\\\\n', ' ')"
   ]
  },
  {
   "cell_type": "code",
   "execution_count": 81,
   "metadata": {},
   "outputs": [],
   "source": [
    "#Special character removal\n",
    "def remove_characters(sentence,keep_apostrophes=False):\n",
    "    sentence = sentence.strip()\n",
    "    if keep_apostrophes:\n",
    "        PATTERN = r'[?|$|&|*|%|@|(|)|~|\\|/]' # add other characters here tocremove them\n",
    "        filtered_sentence = re.sub(PATTERN, r'', sentence)\n",
    "    else:\n",
    "        PATTERN = r'[^a-zA-Z0-9 ]' # only extract alpha-numeric characters\n",
    "        filtered_sentence = re.sub(PATTERN, r'', sentence)\n",
    "    return filtered_sentence"
   ]
  },
  {
   "cell_type": "code",
   "execution_count": 82,
   "metadata": {},
   "outputs": [],
   "source": [
    "df['no_special'] = df['no_newline'].apply(remove_characters)"
   ]
  },
  {
   "cell_type": "code",
   "execution_count": 83,
   "metadata": {},
   "outputs": [
    {
     "data": {
      "text/html": [
       "<div>\n",
       "<style scoped>\n",
       "    .dataframe tbody tr th:only-of-type {\n",
       "        vertical-align: middle;\n",
       "    }\n",
       "\n",
       "    .dataframe tbody tr th {\n",
       "        vertical-align: top;\n",
       "    }\n",
       "\n",
       "    .dataframe thead th {\n",
       "        text-align: right;\n",
       "    }\n",
       "</style>\n",
       "<table border=\"1\" class=\"dataframe\">\n",
       "  <thead>\n",
       "    <tr style=\"text-align: right;\">\n",
       "      <th></th>\n",
       "      <th>insult</th>\n",
       "      <th>text</th>\n",
       "      <th>source</th>\n",
       "      <th>short</th>\n",
       "      <th>no_digit</th>\n",
       "      <th>no_newline</th>\n",
       "      <th>no_special</th>\n",
       "    </tr>\n",
       "  </thead>\n",
       "  <tbody>\n",
       "    <tr>\n",
       "      <th>0</th>\n",
       "      <td>1</td>\n",
       "      <td>You fuck your dad.</td>\n",
       "      <td>train</td>\n",
       "      <td>fuck dad</td>\n",
       "      <td>fuck dad</td>\n",
       "      <td>fuck dad</td>\n",
       "      <td>fuck dad</td>\n",
       "    </tr>\n",
       "    <tr>\n",
       "      <th>1</th>\n",
       "      <td>0</td>\n",
       "      <td>i really don't understand your point.\\xa0 It s...</td>\n",
       "      <td>train</td>\n",
       "      <td>understand point.\\xa0 mix apple orange</td>\n",
       "      <td>understand point.\\xa mix apple orange</td>\n",
       "      <td>understand point.\\xa mix apple orange</td>\n",
       "      <td>understand pointxa mix apple orange</td>\n",
       "    </tr>\n",
       "    <tr>\n",
       "      <th>2</th>\n",
       "      <td>0</td>\n",
       "      <td>A\\\\xc2\\\\xa0majority of Canadians can and has b...</td>\n",
       "      <td>train</td>\n",
       "      <td>a\\\\xc2\\\\xa0majority Canadians wrong again.\\\\n\\...</td>\n",
       "      <td>a\\\\xc\\\\xamajority Canadians wrong again.\\\\n\\\\n...</td>\n",
       "      <td>a\\\\xc\\\\xamajority Canadians wrong again.\\ \\ un...</td>\n",
       "      <td>axcxamajority Canadians wrong again  unless su...</td>\n",
       "    </tr>\n",
       "    <tr>\n",
       "      <th>3</th>\n",
       "      <td>0</td>\n",
       "      <td>listen if you dont wanna get married to a man ...</td>\n",
       "      <td>train</td>\n",
       "      <td>listen not wanna married man woman dont bother...</td>\n",
       "      <td>listen not wanna married man woman dont bother...</td>\n",
       "      <td>listen not wanna married man woman dont bother...</td>\n",
       "      <td>listen not wanna married man woman dont bother...</td>\n",
       "    </tr>\n",
       "    <tr>\n",
       "      <th>4</th>\n",
       "      <td>0</td>\n",
       "      <td>C\\xe1c b\\u1ea1n xu\\u1ed1ng \\u0111\\u01b0\\u1eddn...</td>\n",
       "      <td>train</td>\n",
       "      <td>c\\xe1c b\\u1ea1n xu\\u1ed1ng \\u0111\\u01b0\\u1eddn...</td>\n",
       "      <td>c\\xec b\\uean xu\\uedng \\u\\ub\\ueddng bi\\uecu t\\x...</td>\n",
       "      <td>c\\xec b\\uean xu\\uedng \\u\\ub\\ueddng bi\\uecu t\\x...</td>\n",
       "      <td>cxec buean xuuedng uubueddng biuecu txecnh cxf...</td>\n",
       "    </tr>\n",
       "    <tr>\n",
       "      <th>5</th>\n",
       "      <td>0</td>\n",
       "      <td>@SDL OK, but I would hope they'd sign him to a...</td>\n",
       "      <td>train</td>\n",
       "      <td>@sdl ok hope sign year contract start chance r...</td>\n",
       "      <td>@sdl ok hope sign year contract start chance r...</td>\n",
       "      <td>@sdl ok hope sign year contract start chance r...</td>\n",
       "      <td>sdl ok hope sign year contract start chance re...</td>\n",
       "    </tr>\n",
       "    <tr>\n",
       "      <th>6</th>\n",
       "      <td>0</td>\n",
       "      <td>Yeah and where are you now?</td>\n",
       "      <td>train</td>\n",
       "      <td>yeah</td>\n",
       "      <td>yeah</td>\n",
       "      <td>yeah</td>\n",
       "      <td>yeah</td>\n",
       "    </tr>\n",
       "    <tr>\n",
       "      <th>7</th>\n",
       "      <td>1</td>\n",
       "      <td>shut the fuck up. you and the rest of your fag...</td>\n",
       "      <td>train</td>\n",
       "      <td>shut fuck rest faggot friend burn stake</td>\n",
       "      <td>shut fuck rest faggot friend burn stake</td>\n",
       "      <td>shut fuck rest faggot friend burn stake</td>\n",
       "      <td>shut fuck rest faggot friend burn stake</td>\n",
       "    </tr>\n",
       "    <tr>\n",
       "      <th>8</th>\n",
       "      <td>1</td>\n",
       "      <td>Either you are fake or extremely stupid...mayb...</td>\n",
       "      <td>train</td>\n",
       "      <td>fake extremely stupid maybe</td>\n",
       "      <td>fake extremely stupid maybe</td>\n",
       "      <td>fake extremely stupid maybe</td>\n",
       "      <td>fake extremely stupid maybe</td>\n",
       "    </tr>\n",
       "    <tr>\n",
       "      <th>9</th>\n",
       "      <td>1</td>\n",
       "      <td>That you are an idiot who understands neither ...</td>\n",
       "      <td>train</td>\n",
       "      <td>idiot understand taxation woman health</td>\n",
       "      <td>idiot understand taxation woman health</td>\n",
       "      <td>idiot understand taxation woman health</td>\n",
       "      <td>idiot understand taxation woman health</td>\n",
       "    </tr>\n",
       "    <tr>\n",
       "      <th>10</th>\n",
       "      <td>0</td>\n",
       "      <td>@jdstorm dont wish him injury but it happened ...</td>\n",
       "      <td>train</td>\n",
       "      <td>@jdstorm not wish injury happen doubt injure l...</td>\n",
       "      <td>@jdstorm not wish injury happen doubt injure l...</td>\n",
       "      <td>@jdstorm not wish injury happen doubt injure l...</td>\n",
       "      <td>jdstorm not wish injury happen doubt injure lo...</td>\n",
       "    </tr>\n",
       "    <tr>\n",
       "      <th>11</th>\n",
       "      <td>0</td>\n",
       "      <td>Be careful,Jimbo.OG has a fork with your name ...</td>\n",
       "      <td>train</td>\n",
       "      <td>careful Jimbo OG fork</td>\n",
       "      <td>careful Jimbo OG fork</td>\n",
       "      <td>careful Jimbo OG fork</td>\n",
       "      <td>careful Jimbo OG fork</td>\n",
       "    </tr>\n",
       "    <tr>\n",
       "      <th>12</th>\n",
       "      <td>0</td>\n",
       "      <td>@tonnyb  Or they just don't pay attention</td>\n",
       "      <td>train</td>\n",
       "      <td>@tonnyb   pay attention</td>\n",
       "      <td>@tonnyb   pay attention</td>\n",
       "      <td>@tonnyb   pay attention</td>\n",
       "      <td>tonnyb   pay attention</td>\n",
       "    </tr>\n",
       "    <tr>\n",
       "      <th>13</th>\n",
       "      <td>0</td>\n",
       "      <td>Hmmm. Perhaps some who are too pig-faced to ge...</td>\n",
       "      <td>train</td>\n",
       "      <td>hmmm pig face lay zero chance get pregnant act...</td>\n",
       "      <td>hmmm pig face lay zero chance get pregnant act...</td>\n",
       "      <td>hmmm pig face lay zero chance get pregnant act...</td>\n",
       "      <td>hmmm pig face lay zero chance get pregnant act...</td>\n",
       "    </tr>\n",
       "    <tr>\n",
       "      <th>14</th>\n",
       "      <td>0</td>\n",
       "      <td>@barrettmarson Huh? Her income was $21,912. He...</td>\n",
       "      <td>train</td>\n",
       "      <td>@barrettmarson huh income $ 21,912 spending $ ...</td>\n",
       "      <td>@barrettmarson huh income $ , spending $ , mat...</td>\n",
       "      <td>@barrettmarson huh income $ , spending $ , mat...</td>\n",
       "      <td>barrettmarson huh income   spending   math put</td>\n",
       "    </tr>\n",
       "    <tr>\n",
       "      <th>15</th>\n",
       "      <td>1</td>\n",
       "      <td>FOR SOME REASON U SOUND RETARDED. LOL. DAMN. W...</td>\n",
       "      <td>train</td>\n",
       "      <td>reason u sound retarded lol DAMN u negro</td>\n",
       "      <td>reason u sound retarded lol DAMN u negro</td>\n",
       "      <td>reason u sound retarded lol DAMN u negro</td>\n",
       "      <td>reason u sound retarded lol DAMN u negro</td>\n",
       "    </tr>\n",
       "    <tr>\n",
       "      <th>16</th>\n",
       "      <td>1</td>\n",
       "      <td>You with the 'racist' screen name\\n\\nYou are a...</td>\n",
       "      <td>train</td>\n",
       "      <td>racist screen name\\n\\nyou pieceofshit</td>\n",
       "      <td>racist screen name\\n\\nyou pieceofshit</td>\n",
       "      <td>racist screen name  you pieceofshit</td>\n",
       "      <td>racist screen name  you pieceofshit</td>\n",
       "    </tr>\n",
       "    <tr>\n",
       "      <th>17</th>\n",
       "      <td>0</td>\n",
       "      <td>Oh! &amp; cheating as well...1966 cup was a cheat ...</td>\n",
       "      <td>train</td>\n",
       "      <td>oh cheat cup cheat f dare post comment shame lol</td>\n",
       "      <td>oh cheat cup cheat f dare post comment shame lol</td>\n",
       "      <td>oh cheat cup cheat f dare post comment shame lol</td>\n",
       "      <td>oh cheat cup cheat f dare post comment shame lol</td>\n",
       "    </tr>\n",
       "    <tr>\n",
       "      <th>18</th>\n",
       "      <td>1</td>\n",
       "      <td>your such a dickhead...</td>\n",
       "      <td>train</td>\n",
       "      <td>dickhead</td>\n",
       "      <td>dickhead</td>\n",
       "      <td>dickhead</td>\n",
       "      <td>dickhead</td>\n",
       "    </tr>\n",
       "    <tr>\n",
       "      <th>19</th>\n",
       "      <td>1</td>\n",
       "      <td>Your a retard go post your head up your #%&amp;*</td>\n",
       "      <td>train</td>\n",
       "      <td>retard post head</td>\n",
       "      <td>retard post head</td>\n",
       "      <td>retard post head</td>\n",
       "      <td>retard post head</td>\n",
       "    </tr>\n",
       "  </tbody>\n",
       "</table>\n",
       "</div>"
      ],
      "text/plain": [
       "    insult                                               text source  \\\n",
       "0        1                                 You fuck your dad.  train   \n",
       "1        0  i really don't understand your point.\\xa0 It s...  train   \n",
       "2        0  A\\\\xc2\\\\xa0majority of Canadians can and has b...  train   \n",
       "3        0  listen if you dont wanna get married to a man ...  train   \n",
       "4        0  C\\xe1c b\\u1ea1n xu\\u1ed1ng \\u0111\\u01b0\\u1eddn...  train   \n",
       "5        0  @SDL OK, but I would hope they'd sign him to a...  train   \n",
       "6        0                        Yeah and where are you now?  train   \n",
       "7        1  shut the fuck up. you and the rest of your fag...  train   \n",
       "8        1  Either you are fake or extremely stupid...mayb...  train   \n",
       "9        1  That you are an idiot who understands neither ...  train   \n",
       "10       0  @jdstorm dont wish him injury but it happened ...  train   \n",
       "11       0  Be careful,Jimbo.OG has a fork with your name ...  train   \n",
       "12       0         @tonnyb  Or they just don't pay attention   train   \n",
       "13       0  Hmmm. Perhaps some who are too pig-faced to ge...  train   \n",
       "14       0  @barrettmarson Huh? Her income was $21,912. He...  train   \n",
       "15       1  FOR SOME REASON U SOUND RETARDED. LOL. DAMN. W...  train   \n",
       "16       1  You with the 'racist' screen name\\n\\nYou are a...  train   \n",
       "17       0  Oh! & cheating as well...1966 cup was a cheat ...  train   \n",
       "18       1                            your such a dickhead...  train   \n",
       "19       1       Your a retard go post your head up your #%&*  train   \n",
       "\n",
       "                                                short  \\\n",
       "0                                            fuck dad   \n",
       "1              understand point.\\xa0 mix apple orange   \n",
       "2   a\\\\xc2\\\\xa0majority Canadians wrong again.\\\\n\\...   \n",
       "3   listen not wanna married man woman dont bother...   \n",
       "4   c\\xe1c b\\u1ea1n xu\\u1ed1ng \\u0111\\u01b0\\u1eddn...   \n",
       "5   @sdl ok hope sign year contract start chance r...   \n",
       "6                                                yeah   \n",
       "7             shut fuck rest faggot friend burn stake   \n",
       "8                         fake extremely stupid maybe   \n",
       "9              idiot understand taxation woman health   \n",
       "10  @jdstorm not wish injury happen doubt injure l...   \n",
       "11                              careful Jimbo OG fork   \n",
       "12                            @tonnyb   pay attention   \n",
       "13  hmmm pig face lay zero chance get pregnant act...   \n",
       "14  @barrettmarson huh income $ 21,912 spending $ ...   \n",
       "15           reason u sound retarded lol DAMN u negro   \n",
       "16              racist screen name\\n\\nyou pieceofshit   \n",
       "17   oh cheat cup cheat f dare post comment shame lol   \n",
       "18                                           dickhead   \n",
       "19                                   retard post head   \n",
       "\n",
       "                                             no_digit  \\\n",
       "0                                            fuck dad   \n",
       "1               understand point.\\xa mix apple orange   \n",
       "2   a\\\\xc\\\\xamajority Canadians wrong again.\\\\n\\\\n...   \n",
       "3   listen not wanna married man woman dont bother...   \n",
       "4   c\\xec b\\uean xu\\uedng \\u\\ub\\ueddng bi\\uecu t\\x...   \n",
       "5   @sdl ok hope sign year contract start chance r...   \n",
       "6                                                yeah   \n",
       "7             shut fuck rest faggot friend burn stake   \n",
       "8                         fake extremely stupid maybe   \n",
       "9              idiot understand taxation woman health   \n",
       "10  @jdstorm not wish injury happen doubt injure l...   \n",
       "11                              careful Jimbo OG fork   \n",
       "12                            @tonnyb   pay attention   \n",
       "13  hmmm pig face lay zero chance get pregnant act...   \n",
       "14  @barrettmarson huh income $ , spending $ , mat...   \n",
       "15           reason u sound retarded lol DAMN u negro   \n",
       "16              racist screen name\\n\\nyou pieceofshit   \n",
       "17   oh cheat cup cheat f dare post comment shame lol   \n",
       "18                                           dickhead   \n",
       "19                                   retard post head   \n",
       "\n",
       "                                           no_newline  \\\n",
       "0                                            fuck dad   \n",
       "1               understand point.\\xa mix apple orange   \n",
       "2   a\\\\xc\\\\xamajority Canadians wrong again.\\ \\ un...   \n",
       "3   listen not wanna married man woman dont bother...   \n",
       "4   c\\xec b\\uean xu\\uedng \\u\\ub\\ueddng bi\\uecu t\\x...   \n",
       "5   @sdl ok hope sign year contract start chance r...   \n",
       "6                                                yeah   \n",
       "7             shut fuck rest faggot friend burn stake   \n",
       "8                         fake extremely stupid maybe   \n",
       "9              idiot understand taxation woman health   \n",
       "10  @jdstorm not wish injury happen doubt injure l...   \n",
       "11                              careful Jimbo OG fork   \n",
       "12                            @tonnyb   pay attention   \n",
       "13  hmmm pig face lay zero chance get pregnant act...   \n",
       "14  @barrettmarson huh income $ , spending $ , mat...   \n",
       "15           reason u sound retarded lol DAMN u negro   \n",
       "16                racist screen name  you pieceofshit   \n",
       "17   oh cheat cup cheat f dare post comment shame lol   \n",
       "18                                           dickhead   \n",
       "19                                   retard post head   \n",
       "\n",
       "                                           no_special  \n",
       "0                                            fuck dad  \n",
       "1                 understand pointxa mix apple orange  \n",
       "2   axcxamajority Canadians wrong again  unless su...  \n",
       "3   listen not wanna married man woman dont bother...  \n",
       "4   cxec buean xuuedng uubueddng biuecu txecnh cxf...  \n",
       "5   sdl ok hope sign year contract start chance re...  \n",
       "6                                                yeah  \n",
       "7             shut fuck rest faggot friend burn stake  \n",
       "8                         fake extremely stupid maybe  \n",
       "9              idiot understand taxation woman health  \n",
       "10  jdstorm not wish injury happen doubt injure lo...  \n",
       "11                              careful Jimbo OG fork  \n",
       "12                             tonnyb   pay attention  \n",
       "13  hmmm pig face lay zero chance get pregnant act...  \n",
       "14    barrettmarson huh income   spending   math put   \n",
       "15           reason u sound retarded lol DAMN u negro  \n",
       "16                racist screen name  you pieceofshit  \n",
       "17   oh cheat cup cheat f dare post comment shame lol  \n",
       "18                                           dickhead  \n",
       "19                                   retard post head  "
      ]
     },
     "execution_count": 83,
     "metadata": {},
     "output_type": "execute_result"
    }
   ],
   "source": [
    "df.head(20)"
   ]
  },
  {
   "cell_type": "code",
   "execution_count": null,
   "metadata": {},
   "outputs": [],
   "source": []
  },
  {
   "cell_type": "code",
   "execution_count": 84,
   "metadata": {},
   "outputs": [
    {
     "data": {
      "text/plain": [
       "'Im going to period blood all over your dick'"
      ]
     },
     "execution_count": 84,
     "metadata": {},
     "output_type": "execute_result"
    }
   ],
   "source": [
    "#Show Original Text\n",
    "df.iloc[5989,1]"
   ]
  },
  {
   "cell_type": "code",
   "execution_count": 86,
   "metadata": {},
   "outputs": [
    {
     "data": {
      "text/plain": [
       "'be go period blood dick'"
      ]
     },
     "execution_count": 86,
     "metadata": {},
     "output_type": "execute_result"
    }
   ],
   "source": [
    "#Show 'Cleaned' text\n",
    "df.iloc[5989,6]"
   ]
  },
  {
   "cell_type": "code",
   "execution_count": 87,
   "metadata": {},
   "outputs": [
    {
     "name": "stdout",
     "output_type": "stream",
     "text": [
      "No, Vicky<2.... wrote the pathetic and pathological Beckerhead.\\n\\nDo you really think that we care what people stupid enough to follow Glenn Beck and self-deceitful enough to rationalize his lies opine about?\\n\\nDo you? \\xa0Are you actually that self-deluded to think that we don't recognize you for what you are, a childish flame warrior obsessed with every comment I write?\\n\\nAnyone can see here that you're obsessed with me. \\xa0Guess you can't stand someone who exposed your hero as the liar, hypocrite, ignorant reactionary propagandist that ignorant and gullible people like you support.\\n\\nAs a Beckerhead, you have gall to insult anyone's intelligence.\n"
     ]
    }
   ],
   "source": [
    "#Original text\n",
    "print(df.iloc[5568,1])"
   ]
  },
  {
   "cell_type": "code",
   "execution_count": 88,
   "metadata": {},
   "outputs": [
    {
     "name": "stdout",
     "output_type": "stream",
     "text": [
      "vicky< write pathetic pathological beckerhead.\\n\\ndo think care people stupid follow glenn beck self deceitful rationalize lie opine about?\\n\\ndo \\xaare actually self delude think recognize childish flame warrior obsess comment write?\\n\\nanyone obsess \\xaguess stand expose hero liar hypocrite ignorant reactionary propagandist ignorant gullible people like support.\\n\\nas beckerhead gall insult intelligence\n"
     ]
    }
   ],
   "source": [
    "#Show cleaned text\n",
    "print (df.iloc[5568,4])"
   ]
  },
  {
   "cell_type": "code",
   "execution_count": 89,
   "metadata": {},
   "outputs": [
    {
     "name": "stdout",
     "output_type": "stream",
     "text": [
      "662\n"
     ]
    },
    {
     "data": {
      "text/plain": [
       "408"
      ]
     },
     "execution_count": 89,
     "metadata": {},
     "output_type": "execute_result"
    }
   ],
   "source": [
    "#Examine difference in string length\n",
    "\n",
    "string_1 = str(df.iloc[5568,1])\n",
    "string_2 = str(df.iloc[5568,4])\n",
    "\n",
    "print(len(string_1)); (len(string_2))"
   ]
  },
  {
   "cell_type": "code",
   "execution_count": 90,
   "metadata": {},
   "outputs": [
    {
     "data": {
      "text/html": [
       "<div>\n",
       "<style scoped>\n",
       "    .dataframe tbody tr th:only-of-type {\n",
       "        vertical-align: middle;\n",
       "    }\n",
       "\n",
       "    .dataframe tbody tr th {\n",
       "        vertical-align: top;\n",
       "    }\n",
       "\n",
       "    .dataframe thead th {\n",
       "        text-align: right;\n",
       "    }\n",
       "</style>\n",
       "<table border=\"1\" class=\"dataframe\">\n",
       "  <thead>\n",
       "    <tr style=\"text-align: right;\">\n",
       "      <th></th>\n",
       "      <th>insult</th>\n",
       "      <th>text</th>\n",
       "      <th>source</th>\n",
       "      <th>short</th>\n",
       "      <th>no_digit</th>\n",
       "      <th>no_newline</th>\n",
       "      <th>no_special</th>\n",
       "    </tr>\n",
       "  </thead>\n",
       "  <tbody>\n",
       "    <tr>\n",
       "      <th>0</th>\n",
       "      <td>1</td>\n",
       "      <td>You fuck your dad.</td>\n",
       "      <td>train</td>\n",
       "      <td>fuck dad</td>\n",
       "      <td>fuck dad</td>\n",
       "      <td>fuck dad</td>\n",
       "      <td>fuck dad</td>\n",
       "    </tr>\n",
       "    <tr>\n",
       "      <th>1</th>\n",
       "      <td>0</td>\n",
       "      <td>i really don't understand your point.\\xa0 It s...</td>\n",
       "      <td>train</td>\n",
       "      <td>understand point.\\xa0 mix apple orange</td>\n",
       "      <td>understand point.\\xa mix apple orange</td>\n",
       "      <td>understand point.\\xa mix apple orange</td>\n",
       "      <td>understand pointxa mix apple orange</td>\n",
       "    </tr>\n",
       "    <tr>\n",
       "      <th>2</th>\n",
       "      <td>0</td>\n",
       "      <td>A\\\\xc2\\\\xa0majority of Canadians can and has b...</td>\n",
       "      <td>train</td>\n",
       "      <td>a\\\\xc2\\\\xa0majority Canadians wrong again.\\\\n\\...</td>\n",
       "      <td>a\\\\xc\\\\xamajority Canadians wrong again.\\\\n\\\\n...</td>\n",
       "      <td>a\\\\xc\\\\xamajority Canadians wrong again.\\ \\ un...</td>\n",
       "      <td>axcxamajority Canadians wrong again  unless su...</td>\n",
       "    </tr>\n",
       "    <tr>\n",
       "      <th>3</th>\n",
       "      <td>0</td>\n",
       "      <td>listen if you dont wanna get married to a man ...</td>\n",
       "      <td>train</td>\n",
       "      <td>listen not wanna married man woman dont bother...</td>\n",
       "      <td>listen not wanna married man woman dont bother...</td>\n",
       "      <td>listen not wanna married man woman dont bother...</td>\n",
       "      <td>listen not wanna married man woman dont bother...</td>\n",
       "    </tr>\n",
       "    <tr>\n",
       "      <th>4</th>\n",
       "      <td>0</td>\n",
       "      <td>C\\xe1c b\\u1ea1n xu\\u1ed1ng \\u0111\\u01b0\\u1eddn...</td>\n",
       "      <td>train</td>\n",
       "      <td>c\\xe1c b\\u1ea1n xu\\u1ed1ng \\u0111\\u01b0\\u1eddn...</td>\n",
       "      <td>c\\xec b\\uean xu\\uedng \\u\\ub\\ueddng bi\\uecu t\\x...</td>\n",
       "      <td>c\\xec b\\uean xu\\uedng \\u\\ub\\ueddng bi\\uecu t\\x...</td>\n",
       "      <td>cxec buean xuuedng uubueddng biuecu txecnh cxf...</td>\n",
       "    </tr>\n",
       "  </tbody>\n",
       "</table>\n",
       "</div>"
      ],
      "text/plain": [
       "   insult                                               text source  \\\n",
       "0       1                                 You fuck your dad.  train   \n",
       "1       0  i really don't understand your point.\\xa0 It s...  train   \n",
       "2       0  A\\\\xc2\\\\xa0majority of Canadians can and has b...  train   \n",
       "3       0  listen if you dont wanna get married to a man ...  train   \n",
       "4       0  C\\xe1c b\\u1ea1n xu\\u1ed1ng \\u0111\\u01b0\\u1eddn...  train   \n",
       "\n",
       "                                               short  \\\n",
       "0                                           fuck dad   \n",
       "1             understand point.\\xa0 mix apple orange   \n",
       "2  a\\\\xc2\\\\xa0majority Canadians wrong again.\\\\n\\...   \n",
       "3  listen not wanna married man woman dont bother...   \n",
       "4  c\\xe1c b\\u1ea1n xu\\u1ed1ng \\u0111\\u01b0\\u1eddn...   \n",
       "\n",
       "                                            no_digit  \\\n",
       "0                                           fuck dad   \n",
       "1              understand point.\\xa mix apple orange   \n",
       "2  a\\\\xc\\\\xamajority Canadians wrong again.\\\\n\\\\n...   \n",
       "3  listen not wanna married man woman dont bother...   \n",
       "4  c\\xec b\\uean xu\\uedng \\u\\ub\\ueddng bi\\uecu t\\x...   \n",
       "\n",
       "                                          no_newline  \\\n",
       "0                                           fuck dad   \n",
       "1              understand point.\\xa mix apple orange   \n",
       "2  a\\\\xc\\\\xamajority Canadians wrong again.\\ \\ un...   \n",
       "3  listen not wanna married man woman dont bother...   \n",
       "4  c\\xec b\\uean xu\\uedng \\u\\ub\\ueddng bi\\uecu t\\x...   \n",
       "\n",
       "                                          no_special  \n",
       "0                                           fuck dad  \n",
       "1                understand pointxa mix apple orange  \n",
       "2  axcxamajority Canadians wrong again  unless su...  \n",
       "3  listen not wanna married man woman dont bother...  \n",
       "4  cxec buean xuuedng uubueddng biuecu txecnh cxf...  "
      ]
     },
     "execution_count": 90,
     "metadata": {},
     "output_type": "execute_result"
    }
   ],
   "source": [
    "df.head()"
   ]
  },
  {
   "cell_type": "code",
   "execution_count": null,
   "metadata": {},
   "outputs": [],
   "source": []
  },
  {
   "cell_type": "code",
   "execution_count": 94,
   "metadata": {},
   "outputs": [],
   "source": [
    "#Drop unneeded columns\n",
    "df.drop(['source','short','no_digit','no_newline'], axis=1, inplace=True)"
   ]
  },
  {
   "cell_type": "code",
   "execution_count": 95,
   "metadata": {},
   "outputs": [],
   "source": [
    "#Rename column\n",
    "df.rename(columns = {'no_special':'text_final'}, inplace = True) \n"
   ]
  },
  {
   "cell_type": "markdown",
   "metadata": {},
   "source": [
    "## Feature Engineering"
   ]
  },
  {
   "cell_type": "code",
   "execution_count": 96,
   "metadata": {},
   "outputs": [
    {
     "data": {
      "text/plain": [
       "<matplotlib.axes._subplots.AxesSubplot at 0x7fe29fe3d650>"
      ]
     },
     "execution_count": 96,
     "metadata": {},
     "output_type": "execute_result"
    },
    {
     "data": {
      "image/png": "[encoded data removed]",
      "text/plain": [
       "<Figure size 432x288 with 1 Axes>"
      ]
     },
     "metadata": {
      "needs_background": "light"
     },
     "output_type": "display_data"
    }
   ],
   "source": [
    "#Show data imbalance\n",
    "#Countplot of insults vs non-insults\n",
    "sns.countplot(df['insult'], palette='vlag_r')\n"
   ]
  },
  {
   "cell_type": "markdown",
   "metadata": {},
   "source": [
    "### Split Data"
   ]
  },
  {
   "cell_type": "code",
   "execution_count": 97,
   "metadata": {},
   "outputs": [
    {
     "data": {
      "text/plain": [
       "0    0.735735\n",
       "1    0.264265\n",
       "Name: insult, dtype: float64"
      ]
     },
     "metadata": {},
     "output_type": "display_data"
    },
    {
     "data": {
      "text/plain": [
       "0    0.736164\n",
       "1    0.263836\n",
       "Name: insult, dtype: float64"
      ]
     },
     "metadata": {},
     "output_type": "display_data"
    }
   ],
   "source": [
    "# Features and Labels\n",
    "X = df['text_final']\n",
    "y = df['insult']\n",
    "\n",
    "# split the dataset\n",
    "X_train, X_test, y_train, y_test = train_test_split(X, y, test_size = 0.2, random_state = 42, stratify=y)\n",
    "\n",
    "display(y_train.value_counts(normalize=True))\n",
    "display(y_test.value_counts(normalize=True))"
   ]
  },
  {
   "cell_type": "markdown",
   "metadata": {},
   "source": [
    "### Count Vectorizer/Bag-of-Words (BOW) as Features"
   ]
  },
  {
   "cell_type": "code",
   "execution_count": 98,
   "metadata": {},
   "outputs": [],
   "source": [
    "# create count vectorizer object\n",
    "counts = CountVectorizer()\n",
    "\n",
    "# Learn a vocabulary dictionary of all tokens in the raw documents\n",
    "counts.fit(df['text_final'])\n",
    "\n",
    "# Transform documents to document-term matrix.\n",
    "X_train_count = counts.transform(X_train)\n",
    "X_test_count = counts.transform(X_test)"
   ]
  },
  {
   "cell_type": "code",
   "execution_count": 209,
   "metadata": {},
   "outputs": [
    {
     "data": {
      "text/plain": [
       "<5275x20077 sparse matrix of type '<class 'numpy.int64'>'\n",
       "\twith 72201 stored elements in Compressed Sparse Row format>"
      ]
     },
     "execution_count": 209,
     "metadata": {},
     "output_type": "execute_result"
    }
   ],
   "source": [
    "X_train_count"
   ]
  },
  {
   "cell_type": "markdown",
   "metadata": {},
   "source": [
    "### TF-IDF as Features"
   ]
  },
  {
   "cell_type": "markdown",
   "metadata": {},
   "source": [
    "#### Word-level TF-IDF"
   ]
  },
  {
   "cell_type": "code",
   "execution_count": 99,
   "metadata": {},
   "outputs": [
    {
     "name": "stdout",
     "output_type": "stream",
     "text": [
      "TfidfVectorizer()\n",
      "CPU times: user 357 ms, sys: 12 ms, total: 369 ms\n",
      "Wall time: 432 ms\n"
     ]
    }
   ],
   "source": [
    "%%time\n",
    "# word level tf-idf\n",
    "tfidf = TfidfVectorizer(analyzer = 'word')\n",
    "print(tfidf)\n",
    "#Fit on \n",
    "tfidf.fit(df['text_final'])\n",
    "X_train_tfidf = tfidf.transform(X_train)\n",
    "X_test_tfidf  = tfidf.transform(X_test)"
   ]
  },
  {
   "cell_type": "markdown",
   "metadata": {},
   "source": [
    "#### N-Gram TF-IDF"
   ]
  },
  {
   "cell_type": "code",
   "execution_count": 100,
   "metadata": {},
   "outputs": [
    {
     "name": "stdout",
     "output_type": "stream",
     "text": [
      "TfidfVectorizer(ngram_range=(2, 3), token_pattern='\\\\w{1,}')\n",
      "CPU times: user 1.19 s, sys: 62.9 ms, total: 1.26 s\n",
      "Wall time: 1.41 s\n"
     ]
    }
   ],
   "source": [
    "%%time\n",
    "# ngram level tf-idf\n",
    "tfidf_ngram = TfidfVectorizer(analyzer = 'word',\n",
    "                                   token_pattern = r'\\w{1,}',\n",
    "                                   ngram_range = (2, 3))\n",
    "print(tfidf_ngram)\n",
    "\n",
    "tfidf_ngram.fit(df['text_final'])\n",
    "X_train_tfidf_ngram = tfidf_ngram.transform(X_train)\n",
    "X_test_tfidf_ngram  = tfidf_ngram.transform(X_test)"
   ]
  },
  {
   "cell_type": "markdown",
   "metadata": {},
   "source": [
    "#### Character-level TF-IDF"
   ]
  },
  {
   "cell_type": "code",
   "execution_count": 101,
   "metadata": {},
   "outputs": [
    {
     "name": "stdout",
     "output_type": "stream",
     "text": [
      "TfidfVectorizer(analyzer='char', ngram_range=(2, 3), token_pattern='\\\\w{1,}')\n",
      "CPU times: user 2.12 s, sys: 78 ms, total: 2.19 s\n",
      "Wall time: 2.6 s\n"
     ]
    }
   ],
   "source": [
    "%%time\n",
    "# characters level tf-idf\n",
    "tfidf_ngram_chars = TfidfVectorizer(analyzer = 'char',\n",
    "                                         token_pattern = r'\\w{1,}',\n",
    "                                         ngram_range = (2, 3))\n",
    "print(tfidf_ngram_chars)\n",
    "\n",
    "tfidf_ngram_chars.fit(df['text_final'])\n",
    "X_train_tfidf_ngram_chars = tfidf_ngram_chars.transform(X_train)\n",
    "X_test_tfidf_ngram_chars  = tfidf_ngram_chars.transform(X_test)"
   ]
  },
  {
   "cell_type": "markdown",
   "metadata": {},
   "source": [
    "### Text/NLP Features/EDA"
   ]
  },
  {
   "cell_type": "code",
   "execution_count": 104,
   "metadata": {},
   "outputs": [
    {
     "name": "stdout",
     "output_type": "stream",
     "text": [
      "CPU times: user 408 ms, sys: 11.9 ms, total: 420 ms\n",
      "Wall time: 684 ms\n"
     ]
    }
   ],
   "source": [
    "%%time\n",
    "df['char_count'] = df['text'].apply(len)\n",
    "df['word_count'] = df['text'].apply(lambda x: len(x.split()))\n",
    "df['word_count_final'] = df['text_final'].apply(lambda x: len(x.split()))\n",
    "df['word_density'] = df['char_count'] / (df['word_count'] + 1)\n",
    "df['punctuation_count'] = df['text'].apply(lambda x: len(''.join(_ for _ in x if _ in string.punctuation))) \n",
    "df['title_word_count'] = df['text'].apply(lambda x: len([w for w in x.split() if w.istitle()]))\n",
    "df['uppercase_word_count'] = df['text'].apply(lambda x: len([w for w in x.split() if w.isupper()]))"
   ]
  },
  {
   "cell_type": "code",
   "execution_count": 105,
   "metadata": {},
   "outputs": [
    {
     "data": {
      "text/html": [
       "<div>\n",
       "<style scoped>\n",
       "    .dataframe tbody tr th:only-of-type {\n",
       "        vertical-align: middle;\n",
       "    }\n",
       "\n",
       "    .dataframe tbody tr th {\n",
       "        vertical-align: top;\n",
       "    }\n",
       "\n",
       "    .dataframe thead th {\n",
       "        text-align: right;\n",
       "    }\n",
       "</style>\n",
       "<table border=\"1\" class=\"dataframe\">\n",
       "  <thead>\n",
       "    <tr style=\"text-align: right;\">\n",
       "      <th></th>\n",
       "      <th>insult</th>\n",
       "      <th>text</th>\n",
       "      <th>text_final</th>\n",
       "      <th>char_count</th>\n",
       "      <th>word_count</th>\n",
       "      <th>word_density</th>\n",
       "      <th>punctuation_count</th>\n",
       "      <th>title_word_count</th>\n",
       "      <th>uppercase_word_count</th>\n",
       "      <th>word_count_final</th>\n",
       "    </tr>\n",
       "  </thead>\n",
       "  <tbody>\n",
       "    <tr>\n",
       "      <th>5165</th>\n",
       "      <td>0</td>\n",
       "      <td>Verlander is the best pitcher in baseball but ...</td>\n",
       "      <td>verlander good pitcher baseball ready prime ti...</td>\n",
       "      <td>332</td>\n",
       "      <td>62</td>\n",
       "      <td>5.269841</td>\n",
       "      <td>9</td>\n",
       "      <td>4</td>\n",
       "      <td>1</td>\n",
       "      <td>27</td>\n",
       "    </tr>\n",
       "    <tr>\n",
       "      <th>3666</th>\n",
       "      <td>0</td>\n",
       "      <td>That thing looks like Sloth from the Goonies. ...</td>\n",
       "      <td>thing look like sloth goonie scrap new dear ch...</td>\n",
       "      <td>162</td>\n",
       "      <td>32</td>\n",
       "      <td>4.909091</td>\n",
       "      <td>5</td>\n",
       "      <td>7</td>\n",
       "      <td>0</td>\n",
       "      <td>12</td>\n",
       "    </tr>\n",
       "    <tr>\n",
       "      <th>3129</th>\n",
       "      <td>1</td>\n",
       "      <td>You are an evil despicable animal, and I'm sur...</td>\n",
       "      <td>evil despicable animal sure eventually god spe...</td>\n",
       "      <td>128</td>\n",
       "      <td>23</td>\n",
       "      <td>5.333333</td>\n",
       "      <td>5</td>\n",
       "      <td>2</td>\n",
       "      <td>0</td>\n",
       "      <td>11</td>\n",
       "    </tr>\n",
       "    <tr>\n",
       "      <th>3472</th>\n",
       "      <td>0</td>\n",
       "      <td>&lt;div class=forum-item forum-reply&gt;&lt;div class=f...</td>\n",
       "      <td>div class  forum item forum replydiv class  f...</td>\n",
       "      <td>181</td>\n",
       "      <td>22</td>\n",
       "      <td>7.869565</td>\n",
       "      <td>18</td>\n",
       "      <td>3</td>\n",
       "      <td>1</td>\n",
       "      <td>18</td>\n",
       "    </tr>\n",
       "    <tr>\n",
       "      <th>128</th>\n",
       "      <td>1</td>\n",
       "      <td>Your still a loser, man we must have really go...</td>\n",
       "      <td>loser man get skin lol</td>\n",
       "      <td>70</td>\n",
       "      <td>14</td>\n",
       "      <td>4.666667</td>\n",
       "      <td>1</td>\n",
       "      <td>1</td>\n",
       "      <td>0</td>\n",
       "      <td>5</td>\n",
       "    </tr>\n",
       "  </tbody>\n",
       "</table>\n",
       "</div>"
      ],
      "text/plain": [
       "      insult                                               text  \\\n",
       "5165       0  Verlander is the best pitcher in baseball but ...   \n",
       "3666       0  That thing looks like Sloth from the Goonies. ...   \n",
       "3129       1  You are an evil despicable animal, and I'm sur...   \n",
       "3472       0  <div class=forum-item forum-reply><div class=f...   \n",
       "128        1  Your still a loser, man we must have really go...   \n",
       "\n",
       "                                             text_final  char_count  \\\n",
       "5165  verlander good pitcher baseball ready prime ti...         332   \n",
       "3666  thing look like sloth goonie scrap new dear ch...         162   \n",
       "3129  evil despicable animal sure eventually god spe...         128   \n",
       "3472   div class  forum item forum replydiv class  f...         181   \n",
       "128                              loser man get skin lol          70   \n",
       "\n",
       "      word_count  word_density  punctuation_count  title_word_count  \\\n",
       "5165          62      5.269841                  9                 4   \n",
       "3666          32      4.909091                  5                 7   \n",
       "3129          23      5.333333                  5                 2   \n",
       "3472          22      7.869565                 18                 3   \n",
       "128           14      4.666667                  1                 1   \n",
       "\n",
       "      uppercase_word_count  word_count_final  \n",
       "5165                     1                27  \n",
       "3666                     0                12  \n",
       "3129                     0                11  \n",
       "3472                     1                18  \n",
       "128                      0                 5  "
      ]
     },
     "execution_count": 105,
     "metadata": {},
     "output_type": "execute_result"
    }
   ],
   "source": [
    "df.sample(5)"
   ]
  },
  {
   "cell_type": "code",
   "execution_count": null,
   "metadata": {},
   "outputs": [],
   "source": []
  },
  {
   "cell_type": "code",
   "execution_count": 122,
   "metadata": {},
   "outputs": [
    {
     "data": {
      "text/html": [
       "<div>\n",
       "<style scoped>\n",
       "    .dataframe tbody tr th:only-of-type {\n",
       "        vertical-align: middle;\n",
       "    }\n",
       "\n",
       "    .dataframe tbody tr th {\n",
       "        vertical-align: top;\n",
       "    }\n",
       "\n",
       "    .dataframe thead th {\n",
       "        text-align: right;\n",
       "    }\n",
       "</style>\n",
       "<table border=\"1\" class=\"dataframe\">\n",
       "  <thead>\n",
       "    <tr style=\"text-align: right;\">\n",
       "      <th></th>\n",
       "      <th>insult</th>\n",
       "      <th>word_count</th>\n",
       "    </tr>\n",
       "  </thead>\n",
       "  <tbody>\n",
       "    <tr>\n",
       "      <th>0</th>\n",
       "      <td>0</td>\n",
       "      <td>34.224216</td>\n",
       "    </tr>\n",
       "    <tr>\n",
       "      <th>1</th>\n",
       "      <td>1</td>\n",
       "      <td>25.558553</td>\n",
       "    </tr>\n",
       "  </tbody>\n",
       "</table>\n",
       "</div>"
      ],
      "text/plain": [
       "   insult  word_count\n",
       "0       0   34.224216\n",
       "1       1   25.558553"
      ]
     },
     "execution_count": 122,
     "metadata": {},
     "output_type": "execute_result"
    }
   ],
   "source": [
    "#Average Word count by insult - Original Text\n",
    "df.groupby('insult', as_index=False)['word_count'].mean()\n"
   ]
  },
  {
   "cell_type": "code",
   "execution_count": 108,
   "metadata": {},
   "outputs": [
    {
     "data": {
      "text/html": [
       "<div>\n",
       "<style scoped>\n",
       "    .dataframe tbody tr th:only-of-type {\n",
       "        vertical-align: middle;\n",
       "    }\n",
       "\n",
       "    .dataframe tbody tr th {\n",
       "        vertical-align: top;\n",
       "    }\n",
       "\n",
       "    .dataframe thead th {\n",
       "        text-align: right;\n",
       "    }\n",
       "</style>\n",
       "<table border=\"1\" class=\"dataframe\">\n",
       "  <thead>\n",
       "    <tr style=\"text-align: right;\">\n",
       "      <th></th>\n",
       "      <th>insult</th>\n",
       "      <th>word_count_final</th>\n",
       "    </tr>\n",
       "  </thead>\n",
       "  <tbody>\n",
       "    <tr>\n",
       "      <th>0</th>\n",
       "      <td>0</td>\n",
       "      <td>17.277411</td>\n",
       "    </tr>\n",
       "    <tr>\n",
       "      <th>1</th>\n",
       "      <td>1</td>\n",
       "      <td>12.311137</td>\n",
       "    </tr>\n",
       "  </tbody>\n",
       "</table>\n",
       "</div>"
      ],
      "text/plain": [
       "   insult  word_count_final\n",
       "0       0         17.277411\n",
       "1       1         12.311137"
      ]
     },
     "execution_count": 108,
     "metadata": {},
     "output_type": "execute_result"
    }
   ],
   "source": [
    "#Average Word count by insult - Final clean text\n",
    "df.groupby('insult', as_index=False)['word_count_final'].mean()"
   ]
  },
  {
   "cell_type": "code",
   "execution_count": 112,
   "metadata": {},
   "outputs": [
    {
     "name": "stdout",
     "output_type": "stream",
     "text": [
      "2004    Henry Cisneros - Democrat - U.S. Secretary of ...\n",
      "3416    Great Scott\\\\nStephen F. Hayes\\\\nFebruary 20, ...\n",
      "4388    The real reason comments sections are limited....\n",
      "4610    Christi... I hope somehow you do see this comm...\n",
      "Name: text, dtype: object\n"
     ]
    }
   ],
   "source": [
    "#Find longest text comment\n",
    "print(df.query('word_count >= 1000 ')['text'])\n",
    "#df.iloc[4388,1]"
   ]
  },
  {
   "cell_type": "code",
   "execution_count": 113,
   "metadata": {},
   "outputs": [],
   "source": [
    "#Drop overly long comments with a lot of noise and not much information gain\n",
    "df.drop([2004, 3416, 4388, 4610], axis=0, inplace=True)\n"
   ]
  },
  {
   "cell_type": "code",
   "execution_count": 123,
   "metadata": {},
   "outputs": [
    {
     "data": {
      "text/html": [
       "<div>\n",
       "<style scoped>\n",
       "    .dataframe tbody tr th:only-of-type {\n",
       "        vertical-align: middle;\n",
       "    }\n",
       "\n",
       "    .dataframe tbody tr th {\n",
       "        vertical-align: top;\n",
       "    }\n",
       "\n",
       "    .dataframe thead th {\n",
       "        text-align: right;\n",
       "    }\n",
       "</style>\n",
       "<table border=\"1\" class=\"dataframe\">\n",
       "  <thead>\n",
       "    <tr style=\"text-align: right;\">\n",
       "      <th></th>\n",
       "      <th>insult</th>\n",
       "      <th>punctuation_count</th>\n",
       "    </tr>\n",
       "  </thead>\n",
       "  <tbody>\n",
       "    <tr>\n",
       "      <th>0</th>\n",
       "      <td>0</td>\n",
       "      <td>10.968028</td>\n",
       "    </tr>\n",
       "    <tr>\n",
       "      <th>1</th>\n",
       "      <td>1</td>\n",
       "      <td>7.341561</td>\n",
       "    </tr>\n",
       "  </tbody>\n",
       "</table>\n",
       "</div>"
      ],
      "text/plain": [
       "   insult  punctuation_count\n",
       "0       0          10.968028\n",
       "1       1           7.341561"
      ]
     },
     "execution_count": 123,
     "metadata": {},
     "output_type": "execute_result"
    }
   ],
   "source": [
    "#punctuation count by insult\n",
    "df.groupby('insult', as_index=False)['punctuation_count'].mean()\n"
   ]
  },
  {
   "cell_type": "code",
   "execution_count": 126,
   "metadata": {
    "scrolled": true
   },
   "outputs": [
    {
     "data": {
      "text/plain": [
       "Text(0.5, 1.0, 'Syntax of an Insult')"
      ]
     },
     "execution_count": 126,
     "metadata": {},
     "output_type": "execute_result"
    },
    {
     "data": {
      "image/png": "[encoded data removed]",
      "text/plain": [
       "<Figure size 472.04x432 with 1 Axes>"
      ]
     },
     "metadata": {
      "needs_background": "light"
     },
     "output_type": "display_data"
    }
   ],
   "source": [
    "#Plot the Syntax of an insult\n",
    "sns.set_context(\"paper\", rc={\"axes.labelsize\":14})\n",
    "g=sns.pairplot(data=df, hue='insult', x_vars='word_count', y_vars='punctuation_count', height=6, palette='Set2')\n",
    "plt.title('Syntax of an Insult', size=14)"
   ]
  },
  {
   "cell_type": "code",
   "execution_count": 127,
   "metadata": {},
   "outputs": [
    {
     "data": {
      "text/html": [
       "<div>\n",
       "<style scoped>\n",
       "    .dataframe tbody tr th:only-of-type {\n",
       "        vertical-align: middle;\n",
       "    }\n",
       "\n",
       "    .dataframe tbody tr th {\n",
       "        vertical-align: top;\n",
       "    }\n",
       "\n",
       "    .dataframe thead th {\n",
       "        text-align: right;\n",
       "    }\n",
       "</style>\n",
       "<table border=\"1\" class=\"dataframe\">\n",
       "  <thead>\n",
       "    <tr style=\"text-align: right;\">\n",
       "      <th></th>\n",
       "      <th>insult</th>\n",
       "      <th>text</th>\n",
       "      <th>text_final</th>\n",
       "      <th>char_count</th>\n",
       "      <th>word_count</th>\n",
       "      <th>word_density</th>\n",
       "      <th>punctuation_count</th>\n",
       "      <th>title_word_count</th>\n",
       "      <th>uppercase_word_count</th>\n",
       "      <th>word_count_final</th>\n",
       "    </tr>\n",
       "  </thead>\n",
       "  <tbody>\n",
       "    <tr>\n",
       "      <th>3208</th>\n",
       "      <td>1</td>\n",
       "      <td>Randal, regarding your first paragraph above, ...</td>\n",
       "      <td>randal paragraph articulett said  regarde seco...</td>\n",
       "      <td>4014</td>\n",
       "      <td>703</td>\n",
       "      <td>5.701705</td>\n",
       "      <td>128</td>\n",
       "      <td>50</td>\n",
       "      <td>20</td>\n",
       "      <td>253</td>\n",
       "    </tr>\n",
       "  </tbody>\n",
       "</table>\n",
       "</div>"
      ],
      "text/plain": [
       "      insult                                               text  \\\n",
       "3208       1  Randal, regarding your first paragraph above, ...   \n",
       "\n",
       "                                             text_final  char_count  \\\n",
       "3208  randal paragraph articulett said  regarde seco...        4014   \n",
       "\n",
       "      word_count  word_density  punctuation_count  title_word_count  \\\n",
       "3208         703      5.701705                128                50   \n",
       "\n",
       "      uppercase_word_count  word_count_final  \n",
       "3208                    20               253  "
      ]
     },
     "execution_count": 127,
     "metadata": {},
     "output_type": "execute_result"
    }
   ],
   "source": [
    "#Find longest insult\n",
    "df.loc[(df['word_count']>=650) & (df['insult'] == 1)]"
   ]
  },
  {
   "cell_type": "code",
   "execution_count": 130,
   "metadata": {},
   "outputs": [
    {
     "data": {
      "text/plain": [
       "'randal paragraph articulett said  regarde second paragraph force argue blog co write book stretch thing suit believe use improbability conclude probability time case   take speculation non believer especially Christians hear  things book Christians consider  things mean sentence aritculett  first come CHRISTIANS scared death seriously doubt faith scared threat hell wrong probably understand time come seriously doubt faith understand point convince faith probability order reject thexa point Pascal wager force investigate thoroughly educated faith investigate likely say book thing Christians consider before  i mountain anecdotal evidence Christian speak learn learn little scenario repeat time disunion Christian see response blog half year period teach teach me  when come non believer general study show non believer know Bible Christians evidence baby probability thereforexa non believer learn book likely otherwise  so speculation evidence evidence talk co write book skirt step order believe   and provide evidence compare probability speculation predict people rain february th believer learn speculate skeptic learn speculate believer learn define minimally compare speculation prediction people rain february th ask specify mathematical number people rain ask impossible near impossible predict weather like planet seven month charitably assume comparison ask predict number people rain globally w  ahem absolutely comparative parity all  this time  the unfortunate thing spend minute explain delude mind waste mind opinion waste bright mind use like area life come faith  not predict defend utterly ignorant comparison  you realize stop waste time blogge Christan like correct reasoning ability come faith bad sorry hope convince jsut hope convince leader Scientology argue faith reason place  there hope'"
      ]
     },
     "execution_count": 130,
     "metadata": {},
     "output_type": "execute_result"
    }
   ],
   "source": [
    "#Show clean version\n",
    "df.iloc[3207,2]"
   ]
  },
  {
   "cell_type": "code",
   "execution_count": 131,
   "metadata": {},
   "outputs": [],
   "source": [
    "# Initialise some columns for feature's counts\n",
    "df['adj_count'] = 0\n",
    "df['adv_count'] = 0\n",
    "df['noun_count'] = 0\n",
    "df['num_count'] = 0\n",
    "df['pron_count'] = 0\n",
    "df['propn_count'] = 0\n",
    "df['verb_count'] = 0"
   ]
  },
  {
   "cell_type": "code",
   "execution_count": 133,
   "metadata": {},
   "outputs": [
    {
     "name": "stdout",
     "output_type": "stream",
     "text": [
      "CPU times: user 1min 36s, sys: 3.37 s, total: 1min 39s\n",
      "Wall time: 2min 7s\n"
     ]
    }
   ],
   "source": [
    "%%time\n",
    "#Using spaCy to populate the columns\n",
    "# for each text\n",
    "for i in range(df.shape[0]):\n",
    "    # convert into a spaCy document\n",
    "    doc = nlp(df.iloc[i]['text'])\n",
    "    # initialise feature counters\n",
    "    c = Counter([t.pos_ for t in doc])\n",
    "\n",
    "    df.at[i, 'adj_count'] = c['ADJ']\n",
    "    df.at[i, 'adv_count'] = c['ADV']\n",
    "    df.at[i, 'noun_count'] = c['NOUN']\n",
    "    df.at[i, 'num_count'] = c['NUM']\n",
    "    df.at[i, 'pron_count'] = c['PRON']\n",
    "    df.at[i, 'propn_count'] = c['PROPN']\n",
    "    df.at[i, 'verb_count'] = c['VERB']"
   ]
  },
  {
   "cell_type": "code",
   "execution_count": 134,
   "metadata": {},
   "outputs": [
    {
     "data": {
      "text/html": [
       "<div>\n",
       "<style scoped>\n",
       "    .dataframe tbody tr th:only-of-type {\n",
       "        vertical-align: middle;\n",
       "    }\n",
       "\n",
       "    .dataframe tbody tr th {\n",
       "        vertical-align: top;\n",
       "    }\n",
       "\n",
       "    .dataframe thead th {\n",
       "        text-align: right;\n",
       "    }\n",
       "</style>\n",
       "<table border=\"1\" class=\"dataframe\">\n",
       "  <thead>\n",
       "    <tr style=\"text-align: right;\">\n",
       "      <th></th>\n",
       "      <th>char_count</th>\n",
       "      <th>word_count</th>\n",
       "      <th>word_density</th>\n",
       "      <th>punctuation_count</th>\n",
       "      <th>title_word_count</th>\n",
       "      <th>uppercase_word_count</th>\n",
       "      <th>adj_count</th>\n",
       "      <th>adv_count</th>\n",
       "      <th>noun_count</th>\n",
       "      <th>num_count</th>\n",
       "      <th>pron_count</th>\n",
       "      <th>propn_count</th>\n",
       "      <th>verb_count</th>\n",
       "    </tr>\n",
       "  </thead>\n",
       "  <tbody>\n",
       "    <tr>\n",
       "      <th>236</th>\n",
       "      <td>17.0</td>\n",
       "      <td>4.0</td>\n",
       "      <td>3.400000</td>\n",
       "      <td>1.0</td>\n",
       "      <td>1.0</td>\n",
       "      <td>1.0</td>\n",
       "      <td>0.0</td>\n",
       "      <td>0.0</td>\n",
       "      <td>0.0</td>\n",
       "      <td>0.0</td>\n",
       "      <td>2.0</td>\n",
       "      <td>0.0</td>\n",
       "      <td>2.0</td>\n",
       "    </tr>\n",
       "    <tr>\n",
       "      <th>3746</th>\n",
       "      <td>206.0</td>\n",
       "      <td>40.0</td>\n",
       "      <td>5.024390</td>\n",
       "      <td>13.0</td>\n",
       "      <td>2.0</td>\n",
       "      <td>0.0</td>\n",
       "      <td>14.0</td>\n",
       "      <td>10.0</td>\n",
       "      <td>30.0</td>\n",
       "      <td>0.0</td>\n",
       "      <td>13.0</td>\n",
       "      <td>13.0</td>\n",
       "      <td>22.0</td>\n",
       "    </tr>\n",
       "    <tr>\n",
       "      <th>3092</th>\n",
       "      <td>150.0</td>\n",
       "      <td>27.0</td>\n",
       "      <td>5.357143</td>\n",
       "      <td>10.0</td>\n",
       "      <td>1.0</td>\n",
       "      <td>0.0</td>\n",
       "      <td>5.0</td>\n",
       "      <td>3.0</td>\n",
       "      <td>6.0</td>\n",
       "      <td>0.0</td>\n",
       "      <td>7.0</td>\n",
       "      <td>3.0</td>\n",
       "      <td>8.0</td>\n",
       "    </tr>\n",
       "    <tr>\n",
       "      <th>6184</th>\n",
       "      <td>67.0</td>\n",
       "      <td>11.0</td>\n",
       "      <td>5.583333</td>\n",
       "      <td>6.0</td>\n",
       "      <td>0.0</td>\n",
       "      <td>0.0</td>\n",
       "      <td>2.0</td>\n",
       "      <td>0.0</td>\n",
       "      <td>1.0</td>\n",
       "      <td>0.0</td>\n",
       "      <td>0.0</td>\n",
       "      <td>1.0</td>\n",
       "      <td>0.0</td>\n",
       "    </tr>\n",
       "    <tr>\n",
       "      <th>157</th>\n",
       "      <td>90.0</td>\n",
       "      <td>16.0</td>\n",
       "      <td>5.294118</td>\n",
       "      <td>4.0</td>\n",
       "      <td>4.0</td>\n",
       "      <td>2.0</td>\n",
       "      <td>0.0</td>\n",
       "      <td>2.0</td>\n",
       "      <td>0.0</td>\n",
       "      <td>1.0</td>\n",
       "      <td>3.0</td>\n",
       "      <td>2.0</td>\n",
       "      <td>4.0</td>\n",
       "    </tr>\n",
       "  </tbody>\n",
       "</table>\n",
       "</div>"
      ],
      "text/plain": [
       "      char_count  word_count  word_density  punctuation_count  \\\n",
       "236         17.0         4.0      3.400000                1.0   \n",
       "3746       206.0        40.0      5.024390               13.0   \n",
       "3092       150.0        27.0      5.357143               10.0   \n",
       "6184        67.0        11.0      5.583333                6.0   \n",
       "157         90.0        16.0      5.294118                4.0   \n",
       "\n",
       "      title_word_count  uppercase_word_count  adj_count  adv_count  \\\n",
       "236                1.0                   1.0        0.0        0.0   \n",
       "3746               2.0                   0.0       14.0       10.0   \n",
       "3092               1.0                   0.0        5.0        3.0   \n",
       "6184               0.0                   0.0        2.0        0.0   \n",
       "157                4.0                   2.0        0.0        2.0   \n",
       "\n",
       "      noun_count  num_count  pron_count  propn_count  verb_count  \n",
       "236          0.0        0.0         2.0          0.0         2.0  \n",
       "3746        30.0        0.0        13.0         13.0        22.0  \n",
       "3092         6.0        0.0         7.0          3.0         8.0  \n",
       "6184         1.0        0.0         0.0          1.0         0.0  \n",
       "157          0.0        1.0         3.0          2.0         4.0  "
      ]
     },
     "execution_count": 134,
     "metadata": {},
     "output_type": "execute_result"
    }
   ],
   "source": [
    "#Set column names\n",
    "cols = [\n",
    "    'char_count', 'word_count', 'word_density',\n",
    "    'punctuation_count', 'title_word_count',\n",
    "    'uppercase_word_count', 'adj_count',\n",
    "    'adv_count', 'noun_count', 'num_count',\n",
    "    'pron_count', 'propn_count', 'verb_count']\n",
    "\n",
    "df[cols].sample(5)"
   ]
  },
  {
   "cell_type": "code",
   "execution_count": 135,
   "metadata": {},
   "outputs": [
    {
     "data": {
      "text/html": [
       "<div>\n",
       "<style scoped>\n",
       "    .dataframe tbody tr th:only-of-type {\n",
       "        vertical-align: middle;\n",
       "    }\n",
       "\n",
       "    .dataframe tbody tr th {\n",
       "        vertical-align: top;\n",
       "    }\n",
       "\n",
       "    .dataframe thead th {\n",
       "        text-align: right;\n",
       "    }\n",
       "</style>\n",
       "<table border=\"1\" class=\"dataframe\">\n",
       "  <thead>\n",
       "    <tr style=\"text-align: right;\">\n",
       "      <th></th>\n",
       "      <th>insult</th>\n",
       "      <th>num_count</th>\n",
       "    </tr>\n",
       "  </thead>\n",
       "  <tbody>\n",
       "    <tr>\n",
       "      <th>0</th>\n",
       "      <td>0.0</td>\n",
       "      <td>0.450701</td>\n",
       "    </tr>\n",
       "    <tr>\n",
       "      <th>1</th>\n",
       "      <td>1.0</td>\n",
       "      <td>0.325488</td>\n",
       "    </tr>\n",
       "  </tbody>\n",
       "</table>\n",
       "</div>"
      ],
      "text/plain": [
       "   insult  num_count\n",
       "0     0.0   0.450701\n",
       "1     1.0   0.325488"
      ]
     },
     "execution_count": 135,
     "metadata": {},
     "output_type": "execute_result"
    }
   ],
   "source": [
    "#Number count by insult\n",
    "df.groupby('insult', as_index=False)['num_count'].mean()"
   ]
  },
  {
   "cell_type": "code",
   "execution_count": 136,
   "metadata": {},
   "outputs": [
    {
     "data": {
      "text/html": [
       "<div>\n",
       "<style scoped>\n",
       "    .dataframe tbody tr th:only-of-type {\n",
       "        vertical-align: middle;\n",
       "    }\n",
       "\n",
       "    .dataframe tbody tr th {\n",
       "        vertical-align: top;\n",
       "    }\n",
       "\n",
       "    .dataframe thead th {\n",
       "        text-align: right;\n",
       "    }\n",
       "</style>\n",
       "<table border=\"1\" class=\"dataframe\">\n",
       "  <thead>\n",
       "    <tr style=\"text-align: right;\">\n",
       "      <th></th>\n",
       "      <th>insult</th>\n",
       "      <th>propn_count</th>\n",
       "    </tr>\n",
       "  </thead>\n",
       "  <tbody>\n",
       "    <tr>\n",
       "      <th>0</th>\n",
       "      <td>0.0</td>\n",
       "      <td>3.091790</td>\n",
       "    </tr>\n",
       "    <tr>\n",
       "      <th>1</th>\n",
       "      <td>1.0</td>\n",
       "      <td>2.480482</td>\n",
       "    </tr>\n",
       "  </tbody>\n",
       "</table>\n",
       "</div>"
      ],
      "text/plain": [
       "   insult  propn_count\n",
       "0     0.0     3.091790\n",
       "1     1.0     2.480482"
      ]
     },
     "execution_count": 136,
     "metadata": {},
     "output_type": "execute_result"
    }
   ],
   "source": [
    "#Proper Noun count by insult\n",
    "df.groupby('insult', as_index=False)['propn_count'].mean()"
   ]
  },
  {
   "cell_type": "code",
   "execution_count": 137,
   "metadata": {},
   "outputs": [
    {
     "data": {
      "text/html": [
       "<div>\n",
       "<style scoped>\n",
       "    .dataframe tbody tr th:only-of-type {\n",
       "        vertical-align: middle;\n",
       "    }\n",
       "\n",
       "    .dataframe tbody tr th {\n",
       "        vertical-align: top;\n",
       "    }\n",
       "\n",
       "    .dataframe thead th {\n",
       "        text-align: right;\n",
       "    }\n",
       "</style>\n",
       "<table border=\"1\" class=\"dataframe\">\n",
       "  <thead>\n",
       "    <tr style=\"text-align: right;\">\n",
       "      <th></th>\n",
       "      <th>insult</th>\n",
       "      <th>verb_count</th>\n",
       "    </tr>\n",
       "  </thead>\n",
       "  <tbody>\n",
       "    <tr>\n",
       "      <th>0</th>\n",
       "      <td>0.0</td>\n",
       "      <td>4.723185</td>\n",
       "    </tr>\n",
       "    <tr>\n",
       "      <th>1</th>\n",
       "      <td>1.0</td>\n",
       "      <td>4.297933</td>\n",
       "    </tr>\n",
       "  </tbody>\n",
       "</table>\n",
       "</div>"
      ],
      "text/plain": [
       "   insult  verb_count\n",
       "0     0.0    4.723185\n",
       "1     1.0    4.297933"
      ]
     },
     "execution_count": 137,
     "metadata": {},
     "output_type": "execute_result"
    }
   ],
   "source": [
    "#Verb count by insult\n",
    "df.groupby('insult', as_index=False)['verb_count'].mean()"
   ]
  },
  {
   "cell_type": "code",
   "execution_count": 138,
   "metadata": {},
   "outputs": [
    {
     "data": {
      "text/html": [
       "<div>\n",
       "<style scoped>\n",
       "    .dataframe tbody tr th:only-of-type {\n",
       "        vertical-align: middle;\n",
       "    }\n",
       "\n",
       "    .dataframe tbody tr th {\n",
       "        vertical-align: top;\n",
       "    }\n",
       "\n",
       "    .dataframe thead th {\n",
       "        text-align: right;\n",
       "    }\n",
       "</style>\n",
       "<table border=\"1\" class=\"dataframe\">\n",
       "  <thead>\n",
       "    <tr style=\"text-align: right;\">\n",
       "      <th></th>\n",
       "      <th>insult</th>\n",
       "      <th>adj_count</th>\n",
       "      <th>adv_count</th>\n",
       "      <th>noun_count</th>\n",
       "      <th>num_count</th>\n",
       "      <th>propn_count</th>\n",
       "      <th>verb_count</th>\n",
       "    </tr>\n",
       "  </thead>\n",
       "  <tbody>\n",
       "    <tr>\n",
       "      <th>0</th>\n",
       "      <td>1.0</td>\n",
       "      <td>0.0</td>\n",
       "      <td>0.0</td>\n",
       "      <td>1.0</td>\n",
       "      <td>0.0</td>\n",
       "      <td>0.0</td>\n",
       "      <td>1.0</td>\n",
       "    </tr>\n",
       "    <tr>\n",
       "      <th>1</th>\n",
       "      <td>0.0</td>\n",
       "      <td>0.0</td>\n",
       "      <td>1.0</td>\n",
       "      <td>3.0</td>\n",
       "      <td>0.0</td>\n",
       "      <td>0.0</td>\n",
       "      <td>3.0</td>\n",
       "    </tr>\n",
       "    <tr>\n",
       "      <th>2</th>\n",
       "      <td>0.0</td>\n",
       "      <td>6.0</td>\n",
       "      <td>4.0</td>\n",
       "      <td>10.0</td>\n",
       "      <td>0.0</td>\n",
       "      <td>2.0</td>\n",
       "      <td>7.0</td>\n",
       "    </tr>\n",
       "    <tr>\n",
       "      <th>3</th>\n",
       "      <td>0.0</td>\n",
       "      <td>5.0</td>\n",
       "      <td>1.0</td>\n",
       "      <td>8.0</td>\n",
       "      <td>0.0</td>\n",
       "      <td>2.0</td>\n",
       "      <td>9.0</td>\n",
       "    </tr>\n",
       "    <tr>\n",
       "      <th>4</th>\n",
       "      <td>0.0</td>\n",
       "      <td>0.0</td>\n",
       "      <td>0.0</td>\n",
       "      <td>16.0</td>\n",
       "      <td>4.0</td>\n",
       "      <td>49.0</td>\n",
       "      <td>5.0</td>\n",
       "    </tr>\n",
       "  </tbody>\n",
       "</table>\n",
       "</div>"
      ],
      "text/plain": [
       "   insult  adj_count  adv_count  noun_count  num_count  propn_count  \\\n",
       "0     1.0        0.0        0.0         1.0        0.0          0.0   \n",
       "1     0.0        0.0        1.0         3.0        0.0          0.0   \n",
       "2     0.0        6.0        4.0        10.0        0.0          2.0   \n",
       "3     0.0        5.0        1.0         8.0        0.0          2.0   \n",
       "4     0.0        0.0        0.0        16.0        4.0         49.0   \n",
       "\n",
       "   verb_count  \n",
       "0         1.0  \n",
       "1         3.0  \n",
       "2         7.0  \n",
       "3         9.0  \n",
       "4         5.0  "
      ]
     },
     "execution_count": 138,
     "metadata": {},
     "output_type": "execute_result"
    }
   ],
   "source": [
    "#Create POS Dataframe\n",
    "POS_df=df[['insult','adj_count', 'adv_count', 'noun_count', 'num_count', 'propn_count', 'verb_count']]\n",
    "POS_df.head()"
   ]
  },
  {
   "cell_type": "code",
   "execution_count": 139,
   "metadata": {},
   "outputs": [
    {
     "data": {
      "text/html": [
       "<div>\n",
       "<style scoped>\n",
       "    .dataframe tbody tr th:only-of-type {\n",
       "        vertical-align: middle;\n",
       "    }\n",
       "\n",
       "    .dataframe tbody tr th {\n",
       "        vertical-align: top;\n",
       "    }\n",
       "\n",
       "    .dataframe thead th {\n",
       "        text-align: right;\n",
       "    }\n",
       "</style>\n",
       "<table border=\"1\" class=\"dataframe\">\n",
       "  <thead>\n",
       "    <tr style=\"text-align: right;\">\n",
       "      <th></th>\n",
       "      <th>insult</th>\n",
       "      <th>adj_count</th>\n",
       "      <th>adv_count</th>\n",
       "      <th>noun_count</th>\n",
       "      <th>num_count</th>\n",
       "      <th>propn_count</th>\n",
       "      <th>verb_count</th>\n",
       "    </tr>\n",
       "  </thead>\n",
       "  <tbody>\n",
       "    <tr>\n",
       "      <th>insult</th>\n",
       "      <td>1.000000</td>\n",
       "      <td>-0.011929</td>\n",
       "      <td>-0.016129</td>\n",
       "      <td>-0.022538</td>\n",
       "      <td>-0.038404</td>\n",
       "      <td>-0.034045</td>\n",
       "      <td>-0.026143</td>\n",
       "    </tr>\n",
       "    <tr>\n",
       "      <th>adj_count</th>\n",
       "      <td>-0.011929</td>\n",
       "      <td>1.000000</td>\n",
       "      <td>0.765390</td>\n",
       "      <td>0.856993</td>\n",
       "      <td>0.408304</td>\n",
       "      <td>0.419867</td>\n",
       "      <td>0.797923</td>\n",
       "    </tr>\n",
       "    <tr>\n",
       "      <th>adv_count</th>\n",
       "      <td>-0.016129</td>\n",
       "      <td>0.765390</td>\n",
       "      <td>1.000000</td>\n",
       "      <td>0.762362</td>\n",
       "      <td>0.342953</td>\n",
       "      <td>0.360363</td>\n",
       "      <td>0.842936</td>\n",
       "    </tr>\n",
       "    <tr>\n",
       "      <th>noun_count</th>\n",
       "      <td>-0.022538</td>\n",
       "      <td>0.856993</td>\n",
       "      <td>0.762362</td>\n",
       "      <td>1.000000</td>\n",
       "      <td>0.498150</td>\n",
       "      <td>0.501227</td>\n",
       "      <td>0.873819</td>\n",
       "    </tr>\n",
       "    <tr>\n",
       "      <th>num_count</th>\n",
       "      <td>-0.038404</td>\n",
       "      <td>0.408304</td>\n",
       "      <td>0.342953</td>\n",
       "      <td>0.498150</td>\n",
       "      <td>1.000000</td>\n",
       "      <td>0.524627</td>\n",
       "      <td>0.406121</td>\n",
       "    </tr>\n",
       "    <tr>\n",
       "      <th>propn_count</th>\n",
       "      <td>-0.034045</td>\n",
       "      <td>0.419867</td>\n",
       "      <td>0.360363</td>\n",
       "      <td>0.501227</td>\n",
       "      <td>0.524627</td>\n",
       "      <td>1.000000</td>\n",
       "      <td>0.425840</td>\n",
       "    </tr>\n",
       "    <tr>\n",
       "      <th>verb_count</th>\n",
       "      <td>-0.026143</td>\n",
       "      <td>0.797923</td>\n",
       "      <td>0.842936</td>\n",
       "      <td>0.873819</td>\n",
       "      <td>0.406121</td>\n",
       "      <td>0.425840</td>\n",
       "      <td>1.000000</td>\n",
       "    </tr>\n",
       "  </tbody>\n",
       "</table>\n",
       "</div>"
      ],
      "text/plain": [
       "               insult  adj_count  adv_count  noun_count  num_count  \\\n",
       "insult       1.000000  -0.011929  -0.016129   -0.022538  -0.038404   \n",
       "adj_count   -0.011929   1.000000   0.765390    0.856993   0.408304   \n",
       "adv_count   -0.016129   0.765390   1.000000    0.762362   0.342953   \n",
       "noun_count  -0.022538   0.856993   0.762362    1.000000   0.498150   \n",
       "num_count   -0.038404   0.408304   0.342953    0.498150   1.000000   \n",
       "propn_count -0.034045   0.419867   0.360363    0.501227   0.524627   \n",
       "verb_count  -0.026143   0.797923   0.842936    0.873819   0.406121   \n",
       "\n",
       "             propn_count  verb_count  \n",
       "insult         -0.034045   -0.026143  \n",
       "adj_count       0.419867    0.797923  \n",
       "adv_count       0.360363    0.842936  \n",
       "noun_count      0.501227    0.873819  \n",
       "num_count       0.524627    0.406121  \n",
       "propn_count     1.000000    0.425840  \n",
       "verb_count      0.425840    1.000000  "
      ]
     },
     "execution_count": 139,
     "metadata": {},
     "output_type": "execute_result"
    }
   ],
   "source": [
    "POS_df.corr()"
   ]
  },
  {
   "cell_type": "code",
   "execution_count": 143,
   "metadata": {},
   "outputs": [
    {
     "data": {
      "text/html": [
       "<div>\n",
       "<style scoped>\n",
       "    .dataframe tbody tr th:only-of-type {\n",
       "        vertical-align: middle;\n",
       "    }\n",
       "\n",
       "    .dataframe tbody tr th {\n",
       "        vertical-align: top;\n",
       "    }\n",
       "\n",
       "    .dataframe thead th {\n",
       "        text-align: right;\n",
       "    }\n",
       "</style>\n",
       "<table border=\"1\" class=\"dataframe\">\n",
       "  <thead>\n",
       "    <tr style=\"text-align: right;\">\n",
       "      <th></th>\n",
       "      <th>insult</th>\n",
       "      <th>adj_count</th>\n",
       "      <th>adv_count</th>\n",
       "      <th>noun_count</th>\n",
       "      <th>num_count</th>\n",
       "      <th>propn_count</th>\n",
       "      <th>verb_count</th>\n",
       "    </tr>\n",
       "  </thead>\n",
       "  <tbody>\n",
       "    <tr>\n",
       "      <th>count</th>\n",
       "      <td>6590.000000</td>\n",
       "      <td>6594.000000</td>\n",
       "      <td>6594.000000</td>\n",
       "      <td>6594.000000</td>\n",
       "      <td>6594.000000</td>\n",
       "      <td>6594.000000</td>\n",
       "      <td>6594.000000</td>\n",
       "    </tr>\n",
       "    <tr>\n",
       "      <th>mean</th>\n",
       "      <td>0.264340</td>\n",
       "      <td>2.243706</td>\n",
       "      <td>2.012284</td>\n",
       "      <td>5.561116</td>\n",
       "      <td>0.417804</td>\n",
       "      <td>2.933576</td>\n",
       "      <td>4.616166</td>\n",
       "    </tr>\n",
       "    <tr>\n",
       "      <th>std</th>\n",
       "      <td>0.441015</td>\n",
       "      <td>3.878156</td>\n",
       "      <td>3.426328</td>\n",
       "      <td>8.984101</td>\n",
       "      <td>1.437824</td>\n",
       "      <td>7.920189</td>\n",
       "      <td>7.180914</td>\n",
       "    </tr>\n",
       "    <tr>\n",
       "      <th>min</th>\n",
       "      <td>0.000000</td>\n",
       "      <td>0.000000</td>\n",
       "      <td>0.000000</td>\n",
       "      <td>0.000000</td>\n",
       "      <td>0.000000</td>\n",
       "      <td>0.000000</td>\n",
       "      <td>0.000000</td>\n",
       "    </tr>\n",
       "    <tr>\n",
       "      <th>25%</th>\n",
       "      <td>0.000000</td>\n",
       "      <td>0.000000</td>\n",
       "      <td>0.000000</td>\n",
       "      <td>1.000000</td>\n",
       "      <td>0.000000</td>\n",
       "      <td>0.000000</td>\n",
       "      <td>1.000000</td>\n",
       "    </tr>\n",
       "    <tr>\n",
       "      <th>50%</th>\n",
       "      <td>0.000000</td>\n",
       "      <td>1.000000</td>\n",
       "      <td>1.000000</td>\n",
       "      <td>3.000000</td>\n",
       "      <td>0.000000</td>\n",
       "      <td>1.000000</td>\n",
       "      <td>3.000000</td>\n",
       "    </tr>\n",
       "    <tr>\n",
       "      <th>75%</th>\n",
       "      <td>1.000000</td>\n",
       "      <td>3.000000</td>\n",
       "      <td>3.000000</td>\n",
       "      <td>6.000000</td>\n",
       "      <td>0.000000</td>\n",
       "      <td>3.000000</td>\n",
       "      <td>5.000000</td>\n",
       "    </tr>\n",
       "    <tr>\n",
       "      <th>max</th>\n",
       "      <td>1.000000</td>\n",
       "      <td>77.000000</td>\n",
       "      <td>63.000000</td>\n",
       "      <td>168.000000</td>\n",
       "      <td>47.000000</td>\n",
       "      <td>248.000000</td>\n",
       "      <td>108.000000</td>\n",
       "    </tr>\n",
       "  </tbody>\n",
       "</table>\n",
       "</div>"
      ],
      "text/plain": [
       "            insult    adj_count    adv_count   noun_count    num_count  \\\n",
       "count  6590.000000  6594.000000  6594.000000  6594.000000  6594.000000   \n",
       "mean      0.264340     2.243706     2.012284     5.561116     0.417804   \n",
       "std       0.441015     3.878156     3.426328     8.984101     1.437824   \n",
       "min       0.000000     0.000000     0.000000     0.000000     0.000000   \n",
       "25%       0.000000     0.000000     0.000000     1.000000     0.000000   \n",
       "50%       0.000000     1.000000     1.000000     3.000000     0.000000   \n",
       "75%       1.000000     3.000000     3.000000     6.000000     0.000000   \n",
       "max       1.000000    77.000000    63.000000   168.000000    47.000000   \n",
       "\n",
       "       propn_count   verb_count  \n",
       "count  6594.000000  6594.000000  \n",
       "mean      2.933576     4.616166  \n",
       "std       7.920189     7.180914  \n",
       "min       0.000000     0.000000  \n",
       "25%       0.000000     1.000000  \n",
       "50%       1.000000     3.000000  \n",
       "75%       3.000000     5.000000  \n",
       "max     248.000000   108.000000  "
      ]
     },
     "execution_count": 143,
     "metadata": {},
     "output_type": "execute_result"
    }
   ],
   "source": [
    "#Describe POS df\n",
    "POS_df.describe()"
   ]
  },
  {
   "cell_type": "code",
   "execution_count": 148,
   "metadata": {
    "scrolled": true
   },
   "outputs": [
    {
     "data": {
      "text/plain": [
       "<seaborn.axisgrid.PairGrid at 0x7fe228815b10>"
      ]
     },
     "execution_count": 148,
     "metadata": {},
     "output_type": "execute_result"
    },
    {
     "data": {
      "image/png": "[encoded data removed]",
      "text/plain": [
       "<Figure size 593.665x540 with 12 Axes>"
      ]
     },
     "metadata": {
      "needs_background": "light"
     },
     "output_type": "display_data"
    }
   ],
   "source": [
    "#Pairplot of POS\n",
    "sns.set_context(\"paper\", rc={\"axes.labelsize\":20})\n",
    "sns.pairplot(POS_df, vars=[\"propn_count\", \"num_count\",'verb_count'], hue=\"insult\", diag_kws={'bw': 0.2})\n"
   ]
  },
  {
   "cell_type": "markdown",
   "metadata": {
    "colab_type": "text",
    "id": "TbwjijVyLcgP"
   },
   "source": [
    "## Modelling"
   ]
  },
  {
   "cell_type": "code",
   "execution_count": null,
   "metadata": {},
   "outputs": [],
   "source": [
    "# helper function to show results and charts\n",
    "def show_summary_report(actual, prediction, probabilities):\n",
    "    \n",
    "    # If actual labels is a Series, extract the array\n",
    "    if isinstance(actual, pd.Series):\n",
    "        actual = actual.values\n",
    "    # If actual and/or prediction labels are strings, convert to integers\n",
    "    if actual.dtype.name == 'object':\n",
    "        actual = actual.astype(int)\n",
    "    if prediction.dtype.name == 'object':\n",
    "        prediction = prediction.astype(int)\n",
    "        \n",
    "    # Calculate model evaluation metrics\n",
    "    accuracy_ = accuracy_score(actual, prediction)\n",
    "    precision_ = precision_score(actual, prediction)\n",
    "    recall_ = recall_score(actual, prediction)\n",
    "    roc_auc_ = roc_auc_score(actual, prediction)\n",
    "    f1_score_=f1_score(actual, prediction)\n",
    "\n",
    "    print('Accuracy : %.4f [TP / N] Proportion of predicted labels that match the true labels. Best: 1, Worst: 0' % accuracy_)\n",
    "    print('Precision: %.4f [TP / (TP + FP)] Not to label a negative sample as positive.        Best: 1, Worst: 0' % precision_)\n",
    "    print('Recall   : %.4f [TP / (TP + FN)] Find all the positive samples.                     Best: 1, Worst: 0' % recall_)\n",
    "    print('ROC AUC  : %.4f                                                                     Best: 1, Worst: < 0.5' % roc_auc_)\n",
    "    print('f1 score : %.4f [TP / (TP + FN)] Find all the positive samples.                     Best: 1, Worst: 0' % f1_score_)\n",
    "    print('-' * 107)\n",
    "    print('TP: True Positives, FP: False Positives, TN: True Negatives, FN: False Negatives, N: Number of samples')\n",
    "\n",
    "    # Confusion Matrix\n",
    "    mat = confusion_matrix(actual, prediction)\n",
    "\n",
    "    # Precision/Recall\n",
    "    precision, recall, _ = precision_recall_curve(actual, prediction)\n",
    "    average_precision = average_precision_score(actual, prediction)\n",
    "    \n",
    "    # Compute ROC curve and ROC area\n",
    "    fpr, tpr, _ = roc_curve(actual, probabilities)\n",
    "    roc_auc = auc(fpr, tpr)\n",
    "\n",
    "    # plot\n",
    "    fig, ax = plt.subplots(1, 3, figsize = (18, 6))\n",
    "    fig.subplots_adjust(left = 0.02, right = 0.98, wspace = 0.2)\n",
    "\n",
    "    # Plot Confusion Matrix\n",
    "    sns.heatmap(mat.T, square = True, annot = True, fmt = 'd', cbar = False, cmap = 'Blues', ax = ax[0])\n",
    "\n",
    "    ax[0].set_title('Confusion Matrix')\n",
    "    ax[0].set_xlabel('True label')\n",
    "    ax[0].set_ylabel('Predicted label')\n",
    "    \n",
    "    # Plot Precision/Recall curve\n",
    "    step_kwargs = {'step': 'post'}\n",
    "    ax[1].step(recall, precision, color = 'b', alpha = 0.2, where = 'post')\n",
    "    ax[1].fill_between(recall, precision, alpha = 0.2, color = 'b', **step_kwargs)\n",
    "    ax[1].set_ylim([0.0, 1.0])\n",
    "    ax[1].set_xlim([0.0, 1.0])\n",
    "    ax[1].set_xlabel('Recall')\n",
    "    ax[1].set_ylabel('Precision')\n",
    "    ax[1].set_title('2-class Precision-Recall curve')\n",
    "\n",
    "    # Plot ROC curve\n",
    "    ax[2].plot(fpr, tpr, color = 'darkorange', lw = 2, label = 'ROC curve (AUC = %0.2f)' % roc_auc)\n",
    "    ax[2].plot([0, 1], [0, 1], color = 'navy', lw = 2, linestyle = '--')\n",
    "    ax[2].set_xlim([0.0, 1.0])\n",
    "    ax[2].set_ylim([0.0, 1.0])\n",
    "    ax[2].set_xlabel('False Positive Rate')\n",
    "    ax[2].set_ylabel('True Positive Rate')\n",
    "    ax[2].set_title('Receiver Operating Characteristic')\n",
    "    ax[2].legend(loc = 'lower right')\n",
    "\n",
    "    plt.show()\n",
    "    \n",
    "    return (accuracy_, precision_, recall_, roc_auc_,f1_score_)"
   ]
  },
  {
   "cell_type": "code",
   "execution_count": 227,
   "metadata": {},
   "outputs": [],
   "source": [
    "## helper function for training models\n",
    "\n",
    "def train_model(classifier, feature_vector_train, label, feature_vector_valid):\n",
    "    # fit the training dataset on the classifier\n",
    "    classifier.fit(feature_vector_train, label)\n",
    "\n",
    "    # predict the labels on validation dataset\n",
    "    predictions = classifier.predict(feature_vector_valid)\n",
    "    probability = classifier.predict_proba(feature_vector_valid)\n",
    "    \n",
    "    #Calc. eval scores\n",
    "    accuracy_ = accuracy_score(y_test, predictions)\n",
    "    precision_ = precision_score(y_test, predictions)\n",
    "    recall_ = recall_score(y_test, predictions)\n",
    "    roc_auc_ = roc_auc_score(y_test, predictions)\n",
    "    f1_score_ = f1_score(y_test, predictions)\n",
    "    \n",
    "    return (accuracy_,\n",
    "            precision_,\n",
    "            recall_,\n",
    "            roc_auc_)\n",
    "    print('Accuracy : %.4f [TP / N] Proportion of predicted labels that match the true labels. Best: 1, Worst: 0' % accuracy_)\n",
    "    print('Precision: %.4f [TP / (TP + FP)] Not to label a negative sample as positive.        Best: 1, Worst: 0' % precision_)\n",
    "    print('Recall   : %.4f [TP / (TP + FN)] Find all the positive samples.                     Best: 1, Worst: 0' % recall_)\n",
    "    print('ROC AUC  : %.4f                                                                     Best: 1, Worst: < 0.5' % roc_auc_)\n",
    "    print('-' * 107)\n",
    "    print('TP: True Positives, FP: False Positives, TN: True Negatives, FN: False Negatives, N: Number of samples')\n",
    "    "
   ]
  },
  {
   "cell_type": "code",
   "execution_count": 150,
   "metadata": {},
   "outputs": [],
   "source": [
    "# Keep the results in a dataframe\n",
    "results_1 = pd.DataFrame(columns = ['Count Vectors',\n",
    "                                  'WordLevel TF-IDF',\n",
    "                                  'N-Gram Vectors',\n",
    "                                  'CharLevel Vectors'])"
   ]
  },
  {
   "cell_type": "markdown",
   "metadata": {},
   "source": [
    "#### Naive Bayes Classifier"
   ]
  },
  {
   "cell_type": "code",
   "execution_count": 220,
   "metadata": {},
   "outputs": [
    {
     "name": "stdout",
     "output_type": "stream",
     "text": [
      "(0.7975739196360879, 0.6167146974063401, 0.6149425287356322, 0.7389851675604011)\n",
      "CPU times: user 5.53 s, sys: 1.13 s, total: 6.66 s\n",
      "Wall time: 8.73 s\n"
     ]
    }
   ],
   "source": [
    "%%time\n",
    "\n",
    "#Import NB Classifier from Sklearn\n",
    "from sklearn.naive_bayes import MultinomialNB\n",
    "\n",
    "#print('NB, Count Vector : %.4f\\n' % accuracy1)\n",
    "\n",
    "# Naive Bayes on Count Vectors\n",
    "accuracy1 = train_model(MultinomialNB(), X_train_count, y_train, X_test_count\n",
    "\n",
    "print(accuracy1)"
   ]
  },
  {
   "cell_type": "code",
   "execution_count": 212,
   "metadata": {},
   "outputs": [
    {
     "name": "stdout",
     "output_type": "stream",
     "text": [
      "(0.756633813495072, 0.8461538461538461, 0.09482758620689655, 0.5443241947512341)\n",
      "CPU times: user 13.3 ms, sys: 5.41 ms, total: 18.7 ms\n",
      "Wall time: 16.9 ms\n"
     ]
    }
   ],
   "source": [
    "%%time\n",
    "# Naive Bayes on Word Level TF IDF Vectors\n",
    "accuracy2 = train_model(MultinomialNB(), X_train_tfidf, y_train, X_test_tfidf)\n",
    "\n",
    "print(accuracy2)\n",
    "#print('NB, WordLevel TF-IDF : %.4f\\n' % accuracy2)\n"
   ]
  },
  {
   "cell_type": "code",
   "execution_count": null,
   "metadata": {},
   "outputs": [],
   "source": []
  },
  {
   "cell_type": "code",
   "execution_count": 185,
   "metadata": {},
   "outputs": [
    {
     "name": "stdout",
     "output_type": "stream",
     "text": [
      "(0.733131159969674, 0.16666666666666666, 0.0028735632183908046, 0.4988621163156835)\n",
      "CPU times: user 24.6 ms, sys: 10.8 ms, total: 35.4 ms\n",
      "Wall time: 35.2 ms\n"
     ]
    }
   ],
   "source": [
    "%%time\n",
    "# Naive Bayes on Ngram Level TF IDF Vectors\n",
    "accuracy3 = train_model(MultinomialNB(), X_train_tfidf_ngram, y_train, X_test_tfidf_ngram)\n",
    "#print('NB, N-Gram Vectors   : %.4f\\n' % accuracy3)\n",
    "print(accuracy3)"
   ]
  },
  {
   "cell_type": "code",
   "execution_count": 186,
   "metadata": {},
   "outputs": [
    {
     "name": "stdout",
     "output_type": "stream",
     "text": [
      "(0.7611827141774071, 0.8367346938775511, 0.11781609195402298, 0.5547885815073925)\n",
      "CPU times: user 18.3 ms, sys: 11.7 ms, total: 29.9 ms\n",
      "Wall time: 28 ms\n"
     ]
    }
   ],
   "source": [
    "%%time\n",
    "# # Naive Bayes on Character Level TF IDF Vectors\n",
    "accuracy4 = train_model(MultinomialNB(), X_train_tfidf_ngram_chars, y_train, X_test_tfidf_ngram_chars)\n",
    "#print('NB, CharLevel Vectors: %.4f\\n' % accuracy4)\n",
    "print(accuracy4)"
   ]
  },
  {
   "cell_type": "code",
   "execution_count": 187,
   "metadata": {},
   "outputs": [],
   "source": [
    "results_1.loc['Naïve Bayes'] = {\n",
    "    'Count Vectors': accuracy1,\n",
    "    'WordLevel TF-IDF': accuracy2,\n",
    "    'N-Gram Vectors': accuracy3,\n",
    "    'CharLevel Vectors': accuracy4}"
   ]
  },
  {
   "cell_type": "markdown",
   "metadata": {},
   "source": [
    "#### Support Vector Classifier"
   ]
  },
  {
   "cell_type": "code",
   "execution_count": null,
   "metadata": {},
   "outputs": [],
   "source": []
  },
  {
   "cell_type": "code",
   "execution_count": 214,
   "metadata": {
    "scrolled": true
   },
   "outputs": [
    {
     "name": "stdout",
     "output_type": "stream",
     "text": [
      "(0.8104624715693708, 0.6467065868263473, 0.6206896551724138, 0.7495827266593273)\n",
      "CPU times: user 186 ms, sys: 6.12 ms, total: 192 ms\n",
      "Wall time: 220 ms\n"
     ]
    }
   ],
   "source": [
    "%%time\n",
    "# Support Vector Machine on Count Vectors\n",
    "accuracy1 = train_model(LinearSVC(), X_train_count, y_train, X_test_count)\n",
    "#print('SVM, Count Vectors    : %.4f\\n' % accuracy1)\n",
    "print(accuracy1)\n"
   ]
  },
  {
   "cell_type": "code",
   "execution_count": 189,
   "metadata": {},
   "outputs": [
    {
     "name": "stdout",
     "output_type": "stream",
     "text": [
      "(0.8248673237300985, 0.7427385892116183, 0.514367816091954, 0.7252580584064301)\n",
      "CPU times: user 40.2 ms, sys: 3.05 ms, total: 43.2 ms\n",
      "Wall time: 71.3 ms\n"
     ]
    }
   ],
   "source": [
    "%%time\n",
    "# Support Vector Machine on Word Level TF IDF Vectors\n",
    "accuracy2 = train_model(LinearSVC(), X_train_tfidf, y_train, X_test_tfidf)\n",
    "#print('SVM, WordLevel TF-IDF : %.4f\\n' % accuracy2)\n",
    "print(accuracy2)"
   ]
  },
  {
   "cell_type": "code",
   "execution_count": 190,
   "metadata": {},
   "outputs": [
    {
     "name": "stdout",
     "output_type": "stream",
     "text": [
      "(0.7422289613343442, 0.8333333333333334, 0.028735632183908046, 0.5133379499745493)\n",
      "CPU times: user 87.4 ms, sys: 4.36 ms, total: 91.7 ms\n",
      "Wall time: 90.7 ms\n"
     ]
    }
   ],
   "source": [
    "%%time\n",
    "# Support Vector Machine on Ngram Level TF IDF Vectors\n",
    "accuracy3 = train_model(LinearSVC(), X_train_tfidf_ngram, y_train, X_test_tfidf_ngram)\n",
    "#print('SVM, N-Gram Vectors   : %.4f\\n' % accuracy3)\n",
    "print(accuracy3)"
   ]
  },
  {
   "cell_type": "code",
   "execution_count": 191,
   "metadata": {},
   "outputs": [
    {
     "name": "stdout",
     "output_type": "stream",
     "text": [
      "(0.8188021228203184, 0.6981818181818182, 0.5517241379310345, 0.7331226250932206)\n",
      "CPU times: user 169 ms, sys: 11.8 ms, total: 181 ms\n",
      "Wall time: 193 ms\n"
     ]
    }
   ],
   "source": [
    "%%time\n",
    "# Support Vector Machine on Character Level TF IDF Vectors\n",
    "accuracy4 = train_model(LinearSVC(), X_train_tfidf_ngram_chars, y_train, X_test_tfidf_ngram_chars)\n",
    "#print('SVM, CharLevel Vectors: %.4f\\n' % accuracy4)\n",
    "print(accuracy4)"
   ]
  },
  {
   "cell_type": "code",
   "execution_count": 192,
   "metadata": {},
   "outputs": [],
   "source": [
    "results_1.loc['Support Vector Machine'] = {\n",
    "    'Count Vectors': accuracy1,\n",
    "    'WordLevel TF-IDF': accuracy2,\n",
    "    'N-Gram Vectors': accuracy3,\n",
    "    'CharLevel Vectors': accuracy4}"
   ]
  },
  {
   "cell_type": "code",
   "execution_count": null,
   "metadata": {},
   "outputs": [],
   "source": []
  },
  {
   "cell_type": "markdown",
   "metadata": {},
   "source": [
    "#### Linear Classifier"
   ]
  },
  {
   "cell_type": "code",
   "execution_count": 204,
   "metadata": {},
   "outputs": [
    {
     "name": "stdout",
     "output_type": "stream",
     "text": [
      "(0.8347232752084913, 0.7708333333333334, 0.5316091954022989, 0.7374832794725191)\n",
      "CPU times: user 506 ms, sys: 75.5 ms, total: 581 ms\n",
      "Wall time: 482 ms\n"
     ]
    }
   ],
   "source": [
    "%%time\n",
    "# Linear Classifier on Count Vectors\n",
    "accuracy1 = train_model(LogisticRegression(solver = 'lbfgs', max_iter = 350), X_train_count, y_train, X_test_count)\n",
    "#print('LR, Count Vectors    : %.4f\\n' % accuracy1)\n",
    "print(accuracy1)"
   ]
  },
  {
   "cell_type": "code",
   "execution_count": 205,
   "metadata": {},
   "outputs": [
    {
     "name": "stdout",
     "output_type": "stream",
     "text": [
      "(0.8059135708870356, 0.8432835820895522, 0.32471264367816094, 0.6515427276063307)\n",
      "CPU times: user 339 ms, sys: 16.2 ms, total: 355 ms\n",
      "Wall time: 248 ms\n"
     ]
    }
   ],
   "source": [
    "%%time\n",
    "# Linear Classifier on Word Level TF IDF Vectors\n",
    "accuracy2 = train_model(LogisticRegression(solver = 'lbfgs', max_iter = 100), X_train_tfidf, y_train, X_test_tfidf)\n",
    "#print('LR, WordLevel TF-IDF : %.4f\\n' % accuracy2)\n",
    "print(accuracy2)"
   ]
  },
  {
   "cell_type": "code",
   "execution_count": 206,
   "metadata": {},
   "outputs": [
    {
     "name": "stdout",
     "output_type": "stream",
     "text": [
      "(0.7369219105382866, 1.0, 0.0028735632183908046, 0.5014367816091954)\n",
      "CPU times: user 1.21 s, sys: 100 ms, total: 1.31 s\n",
      "Wall time: 829 ms\n"
     ]
    }
   ],
   "source": [
    "%%time\n",
    "# Linear Classifier on Ngram Level TF IDF Vectors\n",
    "accuracy3 = train_model(LogisticRegression(solver = 'lbfgs', max_iter = 100), X_train_tfidf_ngram, y_train, X_test_tfidf_ngram)\n",
    "#print('LR, N-Gram Vectors   : %.4f\\n' % accuracy3)\n",
    "print(accuracy3)"
   ]
  },
  {
   "cell_type": "code",
   "execution_count": 207,
   "metadata": {},
   "outputs": [
    {
     "name": "stdout",
     "output_type": "stream",
     "text": [
      "(0.8165276724791509, 0.8192771084337349, 0.39080459770114945, 0.6799543070895037)\n",
      "CPU times: user 267 ms, sys: 36.9 ms, total: 304 ms\n",
      "Wall time: 231 ms\n"
     ]
    }
   ],
   "source": [
    "%%time\n",
    "# Linear Classifier on Character Level TF IDF Vectors\n",
    "accuracy4 = train_model(LogisticRegression(solver = 'lbfgs', max_iter = 100), X_train_tfidf_ngram_chars, y_train, X_test_tfidf_ngram_chars)\n",
    "#print('LR, CharLevel Vectors: %.4f\\n' % accuracy4)\n",
    "print(accuracy4)\n"
   ]
  },
  {
   "cell_type": "code",
   "execution_count": null,
   "metadata": {},
   "outputs": [],
   "source": []
  },
  {
   "cell_type": "markdown",
   "metadata": {},
   "source": [
    "#### Undersampling - Bag of Words"
   ]
  },
  {
   "cell_type": "code",
   "execution_count": 221,
   "metadata": {},
   "outputs": [
    {
     "name": "stdout",
     "output_type": "stream",
     "text": [
      "Counter({0: 3881, 1: 1394})\n",
      "Counter({0: 1394, 1: 1394})\n"
     ]
    }
   ],
   "source": [
    "#Undersampling BOW\n",
    "# Random undersampling to balance the class distribution\n",
    "from imblearn.under_sampling import RandomUnderSampler\n",
    "# summarize class distribution\n",
    "print(Counter(y_train))\n",
    "# define undersample strategy\n",
    "undersample = RandomUnderSampler(sampling_strategy='majority')\n",
    "# fit and apply the transform\n",
    "X_train_count_under, y_train_under = undersample.fit_resample(X_train_count, y_train)\n",
    "# summarize class distribution\n",
    "print(Counter(y_train_under))"
   ]
  },
  {
   "cell_type": "markdown",
   "metadata": {},
   "source": [
    "#### Undersampling tf-idf - Word"
   ]
  },
  {
   "cell_type": "code",
   "execution_count": 232,
   "metadata": {},
   "outputs": [
    {
     "name": "stdout",
     "output_type": "stream",
     "text": [
      "Counter({0: 3881, 1: 1394})\n",
      "Counter({0: 1394, 1: 1394})\n"
     ]
    }
   ],
   "source": [
    "#Undersampling tf-idf (word/unigram)\n",
    "# Random undersampling to balance the class distribution\n",
    "from imblearn.under_sampling import RandomUnderSampler\n",
    "# summarize class distribution\n",
    "print(Counter(y_train))\n",
    "# define undersample strategy\n",
    "undersample = RandomUnderSampler(sampling_strategy='majority')\n",
    "# fit and apply the transform\n",
    "X_train_tfidf_under, y_train_under = undersample.fit_resample(X_train_tfidf, y_train)\n",
    "# summarize class distribution\n",
    "print(Counter(y_train_under))"
   ]
  },
  {
   "cell_type": "markdown",
   "metadata": {},
   "source": [
    "#### Undersampling tf-idf - N_gram"
   ]
  },
  {
   "cell_type": "code",
   "execution_count": 238,
   "metadata": {},
   "outputs": [
    {
     "name": "stdout",
     "output_type": "stream",
     "text": [
      "Counter({0: 3881, 1: 1394})\n",
      "Counter({0: 1394, 1: 1394})\n"
     ]
    }
   ],
   "source": [
    "#Undersampling tf-idf (N_gram)\n",
    "# Random undersampling to balance the class distribution\n",
    "from imblearn.under_sampling import RandomUnderSampler\n",
    "# summarize class distribution\n",
    "print(Counter(y_train))\n",
    "# define undersample strategy\n",
    "undersample = RandomUnderSampler(sampling_strategy='majority')\n",
    "# fit and apply the transform\n",
    "X_train_tfidf_ngram_under, y_train_under = undersample.fit_resample(X_train_tfidf_ngram, y_train)\n",
    "# summarize class distribution\n",
    "print(Counter(y_train_under))\n"
   ]
  },
  {
   "cell_type": "markdown",
   "metadata": {},
   "source": [
    "#### Undersampling tf-idf - Character"
   ]
  },
  {
   "cell_type": "code",
   "execution_count": 244,
   "metadata": {},
   "outputs": [
    {
     "name": "stdout",
     "output_type": "stream",
     "text": [
      "Counter({0: 3881, 1: 1394})\n",
      "Counter({0: 1394, 1: 1394})\n"
     ]
    }
   ],
   "source": [
    "#Undersampling tf-idf (N_gram)\n",
    "# Random undersampling to balance the class distribution\n",
    "from imblearn.under_sampling import RandomUnderSampler\n",
    "# summarize class distribution\n",
    "print(Counter(y_train))\n",
    "# define undersample strategy\n",
    "undersample = RandomUnderSampler(sampling_strategy='majority')\n",
    "# fit and apply the transform\n",
    "X_train_tfidf_ngram_chars_under, y_train_under = undersample.fit_resample(X_train_tfidf_ngram_chars, y_train)\n",
    "# summarize class distribution\n",
    "print(Counter(y_train_under))"
   ]
  },
  {
   "cell_type": "code",
   "execution_count": null,
   "metadata": {},
   "outputs": [],
   "source": []
  },
  {
   "cell_type": "markdown",
   "metadata": {},
   "source": [
    "#### Naive Bayes w. Undersampling"
   ]
  },
  {
   "cell_type": "markdown",
   "metadata": {},
   "source": [
    "##### Bag of Words"
   ]
  },
  {
   "cell_type": "code",
   "execution_count": 236,
   "metadata": {},
   "outputs": [
    {
     "name": "stdout",
     "output_type": "stream",
     "text": [
      "Accuracy : 0.7051 [TP / N] Proportion of predicted labels that match the true labels. Best: 1, Worst: 0\n",
      "Precision: 0.4683 [TP / (TP + FP)] Not to label a negative sample as positive.        Best: 1, Worst: 0\n",
      "Recall   : 0.8707 [TP / (TP + FN)] Find all the positive samples.                     Best: 1, Worst: 0\n",
      "ROC AUC  : 0.7582                                                                     Best: 1, Worst: < 0.5\n",
      "f1 score : 0.6090 [TP / (TP + FN)] Find all the positive samples.                     Best: 1, Worst: 0\n",
      "-----------------------------------------------------------------------------------------------------------\n",
      "TP: True Positives, FP: False Positives, TN: True Negatives, FN: False Negatives, N: Number of samples\n"
     ]
    },
    {
     "data": {
      "image/png": "[encoded data removed]",
      "text/plain": [
       "<Figure size 1296x432 with 3 Axes>"
      ]
     },
     "metadata": {
      "needs_background": "light"
     },
     "output_type": "display_data"
    },
    {
     "name": "stdout",
     "output_type": "stream",
     "text": [
      "CPU times: user 1.41 s, sys: 451 ms, total: 1.87 s\n",
      "Wall time: 2.5 s\n"
     ]
    },
    {
     "data": {
      "text/plain": [
       "(0.7050796057619408,\n",
       " 0.46831530139103555,\n",
       " 0.8706896551724138,\n",
       " 0.7582078553925922,\n",
       " 0.6090452261306533)"
      ]
     },
     "execution_count": 236,
     "metadata": {},
     "output_type": "execute_result"
    }
   ],
   "source": [
    "%%time\n",
    "#NB Undersampled with BOW\n",
    "\n",
    "#Import NB Classifier from Sklearn\n",
    "from sklearn.naive_bayes import MultinomialNB\n",
    "\n",
    "#Create MNB Instance\n",
    "\n",
    "mnb=MultinomialNB()\n",
    "\n",
    "#Fit NB model on undersampled data\n",
    "mnb.fit(X_train_count_under,y_train_under)\n",
    "\n",
    "# make predictions based on the test data\n",
    "predictions = mnb.predict(X_test_count)\n",
    "    #(B.todense())\n",
    "\n",
    "# store probabilities of predictions being 1\n",
    "probabilities = mnb.predict_proba(X_test_count.todense())[:, 1]\n",
    "\n",
    "show_summary_report(y_test, predictions, probabilities)"
   ]
  },
  {
   "cell_type": "markdown",
   "metadata": {},
   "source": [
    "# TF-idf (Unigram) - Best Performing Model"
   ]
  },
  {
   "cell_type": "code",
   "execution_count": 250,
   "metadata": {
    "scrolled": false
   },
   "outputs": [
    {
     "name": "stdout",
     "output_type": "stream",
     "text": [
      "Accuracy : 0.7498 [TP / N] Proportion of predicted labels that match the true labels. Best: 1, Worst: 0\n",
      "Precision: 0.5153 [TP / (TP + FP)] Not to label a negative sample as positive.        Best: 1, Worst: 0\n",
      "Recall   : 0.8707 [TP / (TP + FN)] Find all the positive samples.                     Best: 1, Worst: 0\n",
      "ROC AUC  : 0.7886                                                                     Best: 1, Worst: < 0.5\n",
      "f1 score : 0.6474 [TP / (TP + FN)] Find all the positive samples.                     Best: 1, Worst: 0\n",
      "-----------------------------------------------------------------------------------------------------------\n",
      "TP: True Positives, FP: False Positives, TN: True Negatives, FN: False Negatives, N: Number of samples\n"
     ]
    },
    {
     "data": {
      "image/png": "[encoded data removed]",
      "text/plain": [
       "<Figure size 1296x432 with 3 Axes>"
      ]
     },
     "metadata": {
      "needs_background": "light"
     },
     "output_type": "display_data"
    },
    {
     "name": "stdout",
     "output_type": "stream",
     "text": [
      "[1 1 0 ... 0 1 0]\n",
      "CPU times: user 1.57 s, sys: 311 ms, total: 1.88 s\n",
      "Wall time: 2.64 s\n"
     ]
    }
   ],
   "source": [
    "%%time\n",
    "#NB Undersampled with tf-idf\n",
    "\n",
    "#Import NB Classifier from Sklearn\n",
    "from sklearn.naive_bayes import MultinomialNB\n",
    "\n",
    "#Create MNB Instance\n",
    "\n",
    "mnb=MultinomialNB()\n",
    "\n",
    "#Fit NB model on undersampled data\n",
    "mnb.fit(X_train_tfidf_under,y_train_under)\n",
    "\n",
    "# make predictions based on the test data\n",
    "predictions = mnb.predict(X_test_tfidf)\n",
    "    #(B.todense())\n",
    "\n",
    "# store probabilities of predictions being 1\n",
    "probabilities = mnb.predict_proba(X_test_tfidf.todense())[:, 1]\n",
    "\n",
    "show_summary_report(y_test, predictions, probabilities)"
   ]
  },
  {
   "cell_type": "code",
   "execution_count": 254,
   "metadata": {},
   "outputs": [],
   "source": [
    "#Create a DF of this best model for predicted & actual values to compare results of insults\n",
    "predictions = mnb.predict(X_test_tfidf)\n",
    "results_df = pd.DataFrame({'actual': y_test, 'preds': predictions, 'comment':X_test})\n"
   ]
  },
  {
   "cell_type": "code",
   "execution_count": 255,
   "metadata": {},
   "outputs": [
    {
     "data": {
      "text/html": [
       "<div>\n",
       "<style scoped>\n",
       "    .dataframe tbody tr th:only-of-type {\n",
       "        vertical-align: middle;\n",
       "    }\n",
       "\n",
       "    .dataframe tbody tr th {\n",
       "        vertical-align: top;\n",
       "    }\n",
       "\n",
       "    .dataframe thead th {\n",
       "        text-align: right;\n",
       "    }\n",
       "</style>\n",
       "<table border=\"1\" class=\"dataframe\">\n",
       "  <thead>\n",
       "    <tr style=\"text-align: right;\">\n",
       "      <th></th>\n",
       "      <th>actual</th>\n",
       "      <th>preds</th>\n",
       "      <th>comment</th>\n",
       "    </tr>\n",
       "  </thead>\n",
       "  <tbody>\n",
       "    <tr>\n",
       "      <th>5408</th>\n",
       "      <td>0</td>\n",
       "      <td>1</td>\n",
       "      <td>lol allkpop decide use pic Tiffany fuck dimension</td>\n",
       "    </tr>\n",
       "    <tr>\n",
       "      <th>4754</th>\n",
       "      <td>1</td>\n",
       "      <td>1</td>\n",
       "      <td>people racist idiot mad momma want nice black ...</td>\n",
       "    </tr>\n",
       "    <tr>\n",
       "      <th>757</th>\n",
       "      <td>0</td>\n",
       "      <td>0</td>\n",
       "      <td>luke babbitt funniest tweet read year luke bab...</td>\n",
       "    </tr>\n",
       "    <tr>\n",
       "      <th>939</th>\n",
       "      <td>0</td>\n",
       "      <td>0</td>\n",
       "      <td>remember hater scream rid Blanton season now n...</td>\n",
       "    </tr>\n",
       "    <tr>\n",
       "      <th>2795</th>\n",
       "      <td>0</td>\n",
       "      <td>1</td>\n",
       "      <td>matter sloppy</td>\n",
       "    </tr>\n",
       "  </tbody>\n",
       "</table>\n",
       "</div>"
      ],
      "text/plain": [
       "      actual  preds                                            comment\n",
       "5408       0      1  lol allkpop decide use pic Tiffany fuck dimension\n",
       "4754       1      1  people racist idiot mad momma want nice black ...\n",
       "757        0      0  luke babbitt funniest tweet read year luke bab...\n",
       "939        0      0  remember hater scream rid Blanton season now n...\n",
       "2795       0      1                                      matter sloppy"
      ]
     },
     "execution_count": 255,
     "metadata": {},
     "output_type": "execute_result"
    }
   ],
   "source": [
    "#df head\n",
    "results_df.head()"
   ]
  },
  {
   "cell_type": "code",
   "execution_count": 257,
   "metadata": {},
   "outputs": [
    {
     "data": {
      "text/plain": [
       "(1319, 3)"
      ]
     },
     "execution_count": 257,
     "metadata": {},
     "output_type": "execute_result"
    }
   ],
   "source": [
    "#Check df shape\n",
    "results_df.shape"
   ]
  },
  {
   "cell_type": "code",
   "execution_count": 260,
   "metadata": {},
   "outputs": [
    {
     "data": {
      "text/plain": [
       "actual      int64\n",
       "preds       int64\n",
       "comment    object\n",
       "dtype: object"
      ]
     },
     "execution_count": 260,
     "metadata": {},
     "output_type": "execute_result"
    }
   ],
   "source": [
    "#Check dtypes\n",
    "results_df.dtypes"
   ]
  },
  {
   "cell_type": "code",
   "execution_count": 261,
   "metadata": {},
   "outputs": [],
   "source": [
    "#Create differentual to slice rows that were misclassified\n",
    "results_df['misclassified'] = (results_df['actual'] -- results_df['preds'])"
   ]
  },
  {
   "cell_type": "code",
   "execution_count": 262,
   "metadata": {},
   "outputs": [
    {
     "data": {
      "text/html": [
       "<div>\n",
       "<style scoped>\n",
       "    .dataframe tbody tr th:only-of-type {\n",
       "        vertical-align: middle;\n",
       "    }\n",
       "\n",
       "    .dataframe tbody tr th {\n",
       "        vertical-align: top;\n",
       "    }\n",
       "\n",
       "    .dataframe thead th {\n",
       "        text-align: right;\n",
       "    }\n",
       "</style>\n",
       "<table border=\"1\" class=\"dataframe\">\n",
       "  <thead>\n",
       "    <tr style=\"text-align: right;\">\n",
       "      <th></th>\n",
       "      <th>actual</th>\n",
       "      <th>preds</th>\n",
       "      <th>comment</th>\n",
       "      <th>misclassified</th>\n",
       "    </tr>\n",
       "  </thead>\n",
       "  <tbody>\n",
       "    <tr>\n",
       "      <th>5408</th>\n",
       "      <td>0</td>\n",
       "      <td>1</td>\n",
       "      <td>lol allkpop decide use pic Tiffany fuck dimension</td>\n",
       "      <td>1</td>\n",
       "    </tr>\n",
       "    <tr>\n",
       "      <th>4754</th>\n",
       "      <td>1</td>\n",
       "      <td>1</td>\n",
       "      <td>people racist idiot mad momma want nice black ...</td>\n",
       "      <td>2</td>\n",
       "    </tr>\n",
       "    <tr>\n",
       "      <th>757</th>\n",
       "      <td>0</td>\n",
       "      <td>0</td>\n",
       "      <td>luke babbitt funniest tweet read year luke bab...</td>\n",
       "      <td>0</td>\n",
       "    </tr>\n",
       "    <tr>\n",
       "      <th>939</th>\n",
       "      <td>0</td>\n",
       "      <td>0</td>\n",
       "      <td>remember hater scream rid Blanton season now n...</td>\n",
       "      <td>0</td>\n",
       "    </tr>\n",
       "    <tr>\n",
       "      <th>2795</th>\n",
       "      <td>0</td>\n",
       "      <td>1</td>\n",
       "      <td>matter sloppy</td>\n",
       "      <td>1</td>\n",
       "    </tr>\n",
       "  </tbody>\n",
       "</table>\n",
       "</div>"
      ],
      "text/plain": [
       "      actual  preds                                            comment  \\\n",
       "5408       0      1  lol allkpop decide use pic Tiffany fuck dimension   \n",
       "4754       1      1  people racist idiot mad momma want nice black ...   \n",
       "757        0      0  luke babbitt funniest tweet read year luke bab...   \n",
       "939        0      0  remember hater scream rid Blanton season now n...   \n",
       "2795       0      1                                      matter sloppy   \n",
       "\n",
       "      misclassified  \n",
       "5408              1  \n",
       "4754              2  \n",
       "757               0  \n",
       "939               0  \n",
       "2795              1  "
      ]
     },
     "execution_count": 262,
     "metadata": {},
     "output_type": "execute_result"
    }
   ],
   "source": [
    "#Check head\n",
    "results_df.head()"
   ]
  },
  {
   "cell_type": "code",
   "execution_count": 267,
   "metadata": {},
   "outputs": [],
   "source": [
    "#Subset dataframe \n",
    "results_misclass_df = results_df[(results_df['misclassified'] == 1)&(results_df['actual']==1)]"
   ]
  },
  {
   "cell_type": "code",
   "execution_count": 268,
   "metadata": {},
   "outputs": [
    {
     "data": {
      "text/plain": [
       "(45, 4)"
      ]
     },
     "execution_count": 268,
     "metadata": {},
     "output_type": "execute_result"
    }
   ],
   "source": [
    "#Shape shows 45 misclassified insults\n",
    "results_misclass_df.shape"
   ]
  },
  {
   "cell_type": "code",
   "execution_count": 269,
   "metadata": {},
   "outputs": [],
   "source": [
    "#Export this DF to create wordcloud in Google Colab (unable to do so on my machine) on misclassified insults\n",
    "results_misclass_df.to_csv('/Users/Sam/Downloads/misclassified_insults_final.csv', index = None)"
   ]
  },
  {
   "cell_type": "code",
   "execution_count": 270,
   "metadata": {},
   "outputs": [],
   "source": [
    "#Export results doc for Worcloud too\n",
    "results_df.to_csv('/Users/Sam/Downloads/results_final_df.csv', index = None)"
   ]
  },
  {
   "cell_type": "markdown",
   "metadata": {},
   "source": [
    "##### TF-idf (Bi/Tri_grams)"
   ]
  },
  {
   "cell_type": "code",
   "execution_count": 242,
   "metadata": {},
   "outputs": [
    {
     "name": "stdout",
     "output_type": "stream",
     "text": [
      "Accuracy : 0.3912 [TP / N] Proportion of predicted labels that match the true labels. Best: 1, Worst: 0\n",
      "Precision: 0.2884 [TP / (TP + FP)] Not to label a negative sample as positive.        Best: 1, Worst: 0\n",
      "Recall   : 0.8908 [TP / (TP + FN)] Find all the positive samples.                     Best: 1, Worst: 0\n",
      "ROC AUC  : 0.5515                                                                     Best: 1, Worst: < 0.5\n",
      "f1 score : 0.4357 [TP / (TP + FN)] Find all the positive samples.                     Best: 1, Worst: 0\n",
      "-----------------------------------------------------------------------------------------------------------\n",
      "TP: True Positives, FP: False Positives, TN: True Negatives, FN: False Negatives, N: Number of samples\n"
     ]
    },
    {
     "data": {
      "image/png": "[encoded data removed]",
      "text/plain": [
       "<Figure size 1296x432 with 3 Axes>"
      ]
     },
     "metadata": {
      "needs_background": "light"
     },
     "output_type": "display_data"
    },
    {
     "name": "stdout",
     "output_type": "stream",
     "text": [
      "CPU times: user 3.05 s, sys: 2.56 s, total: 5.61 s\n",
      "Wall time: 7.28 s\n"
     ]
    },
    {
     "data": {
      "text/plain": [
       "(0.3912054586808188,\n",
       " 0.28837209302325584,\n",
       " 0.8908045977011494,\n",
       " 0.5514785089432627,\n",
       " 0.4356992269852425)"
      ]
     },
     "execution_count": 242,
     "metadata": {},
     "output_type": "execute_result"
    }
   ],
   "source": [
    "%%time\n",
    "#NB Undersampled with tf-idf\n",
    "\n",
    "#Import NB Classifier from Sklearn\n",
    "from sklearn.naive_bayes import MultinomialNB\n",
    "\n",
    "#Create MNB Instance\n",
    "\n",
    "mnb=MultinomialNB()\n",
    "\n",
    "#Fit NB model on undersampled data\n",
    "mnb.fit(X_train_tfidf_ngram_under,y_train_under)\n",
    "\n",
    "# make predictions based on the test data\n",
    "predictions = mnb.predict(X_test_tfidf_ngram)\n",
    "    #(B.todense())\n",
    "\n",
    "# store probabilities of predictions being 1\n",
    "probabilities = mnb.predict_proba(X_test_tfidf_ngram.todense())[:, 1]\n",
    "\n",
    "show_summary_report(y_test, predictions, probabilities)"
   ]
  },
  {
   "cell_type": "markdown",
   "metadata": {},
   "source": [
    "##### Tf-idf (Character-level)"
   ]
  },
  {
   "cell_type": "code",
   "execution_count": 245,
   "metadata": {},
   "outputs": [
    {
     "name": "stdout",
     "output_type": "stream",
     "text": [
      "Accuracy : 0.7945 [TP / N] Proportion of predicted labels that match the true labels. Best: 1, Worst: 0\n",
      "Precision: 0.5902 [TP / (TP + FP)] Not to label a negative sample as positive.        Best: 1, Worst: 0\n",
      "Recall   : 0.7241 [TP / (TP + FN)] Find all the positive samples.                     Best: 1, Worst: 0\n",
      "ROC AUC  : 0.7720                                                                     Best: 1, Worst: < 0.5\n",
      "f1 score : 0.6503 [TP / (TP + FN)] Find all the positive samples.                     Best: 1, Worst: 0\n",
      "-----------------------------------------------------------------------------------------------------------\n",
      "TP: True Positives, FP: False Positives, TN: True Negatives, FN: False Negatives, N: Number of samples\n"
     ]
    },
    {
     "data": {
      "image/png": "[encoded data removed]",
      "text/plain": [
       "<Figure size 1296x432 with 3 Axes>"
      ]
     },
     "metadata": {
      "needs_background": "light"
     },
     "output_type": "display_data"
    },
    {
     "name": "stdout",
     "output_type": "stream",
     "text": [
      "CPU times: user 1.47 s, sys: 206 ms, total: 1.68 s\n",
      "Wall time: 1.9 s\n"
     ]
    },
    {
     "data": {
      "text/plain": [
       "(0.7945413191811979,\n",
       " 0.5901639344262295,\n",
       " 0.7241379310344828,\n",
       " 0.7719556802443268,\n",
       " 0.6503225806451612)"
      ]
     },
     "execution_count": 245,
     "metadata": {},
     "output_type": "execute_result"
    }
   ],
   "source": [
    "%%time\n",
    "#NB Undersampled with tf-idf\n",
    "\n",
    "#Import NB Classifier from Sklearn\n",
    "from sklearn.naive_bayes import MultinomialNB\n",
    "\n",
    "#Create MNB Instance\n",
    "\n",
    "mnb=MultinomialNB()\n",
    "\n",
    "#Fit NB model on undersampled data\n",
    "mnb.fit(X_train_tfidf_ngram_chars_under,y_train_under)\n",
    "\n",
    "# make predictions based on the test data\n",
    "predictions = mnb.predict(X_test_tfidf_ngram_chars)\n",
    "    #(B.todense())\n",
    "\n",
    "# store probabilities of predictions being 1\n",
    "probabilities = mnb.predict_proba(X_test_tfidf_ngram_chars.todense())[:, 1]\n",
    "\n",
    "show_summary_report(y_test, predictions, probabilities)"
   ]
  },
  {
   "cell_type": "code",
   "execution_count": null,
   "metadata": {},
   "outputs": [],
   "source": []
  },
  {
   "cell_type": "markdown",
   "metadata": {},
   "source": [
    "#### SVC with Undersampling"
   ]
  },
  {
   "cell_type": "markdown",
   "metadata": {},
   "source": [
    "##### Bag of Words"
   ]
  },
  {
   "cell_type": "code",
   "execution_count": 246,
   "metadata": {},
   "outputs": [
    {
     "name": "stdout",
     "output_type": "stream",
     "text": [
      "Accuracy : 0.7665 [TP / N] Proportion of predicted labels that match the true labels. Best: 1, Worst: 0\n",
      "Precision: 0.5397 [TP / (TP + FP)] Not to label a negative sample as positive.        Best: 1, Worst: 0\n",
      "Recall   : 0.7816 [TP / (TP + FN)] Find all the positive samples.                     Best: 1, Worst: 0\n",
      "ROC AUC  : 0.7713                                                                     Best: 1, Worst: < 0.5\n",
      "f1 score : 0.6385 [TP / (TP + FN)] Find all the positive samples.                     Best: 1, Worst: 0\n",
      "-----------------------------------------------------------------------------------------------------------\n",
      "TP: True Positives, FP: False Positives, TN: True Negatives, FN: False Negatives, N: Number of samples\n"
     ]
    },
    {
     "data": {
      "image/png": "[encoded data removed]",
      "text/plain": [
       "<Figure size 1296x432 with 3 Axes>"
      ]
     },
     "metadata": {
      "needs_background": "light"
     },
     "output_type": "display_data"
    },
    {
     "data": {
      "text/plain": [
       "(0.7664897649734648,\n",
       " 0.5396825396825397,\n",
       " 0.7816091954022989,\n",
       " 0.7713401280821999,\n",
       " 0.6384976525821596)"
      ]
     },
     "execution_count": 246,
     "metadata": {},
     "output_type": "execute_result"
    }
   ],
   "source": [
    "#SVC Undersampled data with BOW features\n",
    "\n",
    "#Create Classifier\n",
    "svc = SVC(kernel='linear', probability=True)\n",
    "\n",
    "#Fit classifier\n",
    "svc.fit(X_train_count_under, y_train_under)\n",
    "\n",
    "# make predictions based on the test data\n",
    "predictions = svc.predict(X_test_count)\n",
    "\n",
    "# store probabilities of predictions being 1\n",
    "probabilities = svc.predict_proba(X_test_count.todense())[:, 1]\n",
    "\n",
    "show_summary_report(y_test, predictions, probabilities)"
   ]
  },
  {
   "cell_type": "markdown",
   "metadata": {},
   "source": [
    "##### TF-idf (Unigram)"
   ]
  },
  {
   "cell_type": "code",
   "execution_count": 247,
   "metadata": {},
   "outputs": [
    {
     "name": "stdout",
     "output_type": "stream",
     "text": [
      "Accuracy : 0.8097 [TP / N] Proportion of predicted labels that match the true labels. Best: 1, Worst: 0\n",
      "Precision: 0.6180 [TP / (TP + FP)] Not to label a negative sample as positive.        Best: 1, Worst: 0\n",
      "Recall   : 0.7299 [TP / (TP + FN)] Find all the positive samples.                     Best: 1, Worst: 0\n",
      "ROC AUC  : 0.7841                                                                     Best: 1, Worst: < 0.5\n",
      "f1 score : 0.6693 [TP / (TP + FN)] Find all the positive samples.                     Best: 1, Worst: 0\n",
      "-----------------------------------------------------------------------------------------------------------\n",
      "TP: True Positives, FP: False Positives, TN: True Negatives, FN: False Negatives, N: Number of samples\n"
     ]
    },
    {
     "data": {
      "image/png": "[encoded data removed]",
      "text/plain": [
       "<Figure size 1296x432 with 3 Axes>"
      ]
     },
     "metadata": {
      "needs_background": "light"
     },
     "output_type": "display_data"
    },
    {
     "data": {
      "text/plain": [
       "(0.8097043214556482,\n",
       " 0.6180048661800487,\n",
       " 0.7298850574712644,\n",
       " 0.7840980385193603,\n",
       " 0.6693017127799736)"
      ]
     },
     "execution_count": 247,
     "metadata": {},
     "output_type": "execute_result"
    }
   ],
   "source": [
    "#SVC Undersampled data with Tf-idf (words) features\n",
    "\n",
    "#Create Classifier\n",
    "svc = SVC(kernel='linear', probability=True)\n",
    "\n",
    "#Fit classifier\n",
    "svc.fit(X_train_tfidf_under, y_train_under)\n",
    "\n",
    "# make predictions based on the test data\n",
    "predictions = svc.predict(X_test_tfidf)\n",
    "\n",
    "# store probabilities of predictions being 1\n",
    "probabilities = svc.predict_proba(X_test_tfidf.todense())[:, 1]\n",
    "\n",
    "show_summary_report(y_test, predictions, probabilities)"
   ]
  },
  {
   "cell_type": "markdown",
   "metadata": {},
   "source": [
    "##### Tf-idf (Bi/Tri_grams)"
   ]
  },
  {
   "cell_type": "code",
   "execution_count": 248,
   "metadata": {},
   "outputs": [
    {
     "name": "stdout",
     "output_type": "stream",
     "text": [
      "Accuracy : 0.7392 [TP / N] Proportion of predicted labels that match the true labels. Best: 1, Worst: 0\n",
      "Precision: 0.5085 [TP / (TP + FP)] Not to label a negative sample as positive.        Best: 1, Worst: 0\n",
      "Recall   : 0.3420 [TP / (TP + FN)] Find all the positive samples.                     Best: 1, Worst: 0\n",
      "ROC AUC  : 0.6118                                                                     Best: 1, Worst: < 0.5\n",
      "f1 score : 0.4089 [TP / (TP + FN)] Find all the positive samples.                     Best: 1, Worst: 0\n",
      "-----------------------------------------------------------------------------------------------------------\n",
      "TP: True Positives, FP: False Positives, TN: True Negatives, FN: False Negatives, N: Number of samples\n"
     ]
    },
    {
     "data": {
      "image/png": "[encoded data removed]",
      "text/plain": [
       "<Figure size 1296x432 with 3 Axes>"
      ]
     },
     "metadata": {
      "needs_background": "light"
     },
     "output_type": "display_data"
    },
    {
     "data": {
      "text/plain": [
       "(0.7391963608794542,\n",
       " 0.5085470085470085,\n",
       " 0.34195402298850575,\n",
       " 0.6117597097434805,\n",
       " 0.40893470790378006)"
      ]
     },
     "execution_count": 248,
     "metadata": {},
     "output_type": "execute_result"
    }
   ],
   "source": [
    "#SVC Undersampled data with Tf-idf (bi/tri_gram) features\n",
    "\n",
    "#Create Classifier\n",
    "svc = SVC(kernel='linear', probability=True)\n",
    "\n",
    "#Fit classifier\n",
    "svc.fit(X_train_tfidf_ngram_under, y_train_under)\n",
    "\n",
    "# make predictions based on the test data\n",
    "predictions = svc.predict(X_test_tfidf_ngram)\n",
    "\n",
    "# store probabilities of predictions being 1\n",
    "probabilities = svc.predict_proba(X_test_tfidf_ngram.todense())[:, 1]\n",
    "\n",
    "show_summary_report(y_test, predictions, probabilities)"
   ]
  },
  {
   "cell_type": "markdown",
   "metadata": {},
   "source": [
    "##### Tf-idf (Characters)"
   ]
  },
  {
   "cell_type": "code",
   "execution_count": 249,
   "metadata": {},
   "outputs": [
    {
     "name": "stdout",
     "output_type": "stream",
     "text": [
      "Accuracy : 0.7953 [TP / N] Proportion of predicted labels that match the true labels. Best: 1, Worst: 0\n",
      "Precision: 0.5859 [TP / (TP + FP)] Not to label a negative sample as positive.        Best: 1, Worst: 0\n",
      "Recall   : 0.7644 [TP / (TP + FN)] Find all the positive samples.                     Best: 1, Worst: 0\n",
      "ROC AUC  : 0.7854                                                                     Best: 1, Worst: < 0.5\n",
      "f1 score : 0.6633 [TP / (TP + FN)] Find all the positive samples.                     Best: 1, Worst: 0\n",
      "-----------------------------------------------------------------------------------------------------------\n",
      "TP: True Positives, FP: False Positives, TN: True Negatives, FN: False Negatives, N: Number of samples\n"
     ]
    },
    {
     "data": {
      "image/png": "[encoded data removed]",
      "text/plain": [
       "<Figure size 1296x432 with 3 Axes>"
      ]
     },
     "metadata": {
      "needs_background": "light"
     },
     "output_type": "display_data"
    },
    {
     "data": {
      "text/plain": [
       "(0.7952994692949203,\n",
       " 0.5859030837004405,\n",
       " 0.764367816091954,\n",
       " 0.7853764930099317,\n",
       " 0.6633416458852869)"
      ]
     },
     "execution_count": 249,
     "metadata": {},
     "output_type": "execute_result"
    }
   ],
   "source": [
    "#SVC Undersampled data with Tf-idf (Character) features\n",
    "\n",
    "#Create Classifier\n",
    "svc = SVC(kernel='linear', probability=True)\n",
    "\n",
    "#Fit classifier\n",
    "svc.fit(X_train_tfidf_ngram_chars_under, y_train_under)\n",
    "\n",
    "# make predictions based on the test data\n",
    "predictions = svc.predict(X_test_tfidf_ngram_chars)\n",
    "\n",
    "# store probabilities of predictions being 1\n",
    "probabilities = svc.predict_proba(X_test_tfidf_ngram_chars.todense())[:, 1]\n",
    "\n",
    "show_summary_report(y_test, predictions, probabilities)"
   ]
  }
 ],
 "metadata": {
  "colab": {
   "collapsed_sections": [],
   "name": "DSIA Lab-9_6-Answers.ipynb",
   "provenance": []
  },
  "kernelspec": {
   "display_name": "Python 3",
   "language": "python",
   "name": "python3"
  },
  "language_info": {
   "codemirror_mode": {
    "name": "ipython",
    "version": 3
   },
   "file_extension": ".py",
   "mimetype": "text/x-python",
   "name": "python",
   "nbconvert_exporter": "python",
   "pygments_lexer": "ipython3",
   "version": "3.7.6"
  }
 },
 "nbformat": 4,
 "nbformat_minor": 1
}
