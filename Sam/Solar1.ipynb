{
 "cells": [
  {
   "cell_type": "code",
   "execution_count": 1,
   "metadata": {},
   "outputs": [],
   "source": [
    "import numpy as np\n",
    "import pandas as pd"
   ]
  },
  {
   "cell_type": "code",
   "execution_count": 13,
   "metadata": {},
   "outputs": [],
   "source": [
    "solar = pd.read_csv('Benefits of converting to solar hot water – dataset .csv')"
   ]
  },
  {
   "cell_type": "code",
   "execution_count": 14,
   "metadata": {},
   "outputs": [
    {
     "data": {
      "text/html": [
       "<div>\n",
       "<style scoped>\n",
       "    .dataframe tbody tr th:only-of-type {\n",
       "        vertical-align: middle;\n",
       "    }\n",
       "\n",
       "    .dataframe tbody tr th {\n",
       "        vertical-align: top;\n",
       "    }\n",
       "\n",
       "    .dataframe thead th {\n",
       "        text-align: right;\n",
       "    }\n",
       "</style>\n",
       "<table border=\"1\" class=\"dataframe\">\n",
       "  <thead>\n",
       "    <tr style=\"text-align: right;\">\n",
       "      <th></th>\n",
       "      <th>Victorian regions</th>\n",
       "      <th>Homes</th>\n",
       "      <th>Horizontal radiation MJ/sq m/day</th>\n",
       "      <th>Solar saving</th>\n",
       "      <th>CO2e saved kilotons</th>\n",
       "      <th>Cars off road thousands</th>\n",
       "      <th>Black balloons millions</th>\n",
       "    </tr>\n",
       "  </thead>\n",
       "  <tbody>\n",
       "    <tr>\n",
       "      <th>0</th>\n",
       "      <td>Alpine</td>\n",
       "      <td>5,366</td>\n",
       "      <td>19.3</td>\n",
       "      <td>78%</td>\n",
       "      <td>14.10</td>\n",
       "      <td>3.25</td>\n",
       "      <td>282</td>\n",
       "    </tr>\n",
       "    <tr>\n",
       "      <th>1</th>\n",
       "      <td>Ararat</td>\n",
       "      <td>4,277</td>\n",
       "      <td>18.9</td>\n",
       "      <td>77%</td>\n",
       "      <td>11.21</td>\n",
       "      <td>2.59</td>\n",
       "      <td>224.2</td>\n",
       "    </tr>\n",
       "    <tr>\n",
       "      <th>2</th>\n",
       "      <td>Ballarat</td>\n",
       "      <td>30,506</td>\n",
       "      <td>18.7</td>\n",
       "      <td>76%</td>\n",
       "      <td>68.11</td>\n",
       "      <td>15.78</td>\n",
       "      <td>1,362.20</td>\n",
       "    </tr>\n",
       "    <tr>\n",
       "      <th>3</th>\n",
       "      <td>Bass Coast</td>\n",
       "      <td>10,549</td>\n",
       "      <td>18.5</td>\n",
       "      <td>78%</td>\n",
       "      <td>30.89</td>\n",
       "      <td>7.13</td>\n",
       "      <td>617.8</td>\n",
       "    </tr>\n",
       "    <tr>\n",
       "      <th>4</th>\n",
       "      <td>Baw Baw</td>\n",
       "      <td>12,931</td>\n",
       "      <td>18.1</td>\n",
       "      <td>76%</td>\n",
       "      <td>37.99</td>\n",
       "      <td>8.79</td>\n",
       "      <td>759.8</td>\n",
       "    </tr>\n",
       "  </tbody>\n",
       "</table>\n",
       "</div>"
      ],
      "text/plain": [
       "  Victorian regions   Homes  Horizontal radiation MJ/sq m/day Solar saving  \\\n",
       "0            Alpine   5,366                              19.3          78%   \n",
       "1            Ararat   4,277                              18.9          77%   \n",
       "2          Ballarat  30,506                              18.7          76%   \n",
       "3        Bass Coast  10,549                              18.5          78%   \n",
       "4           Baw Baw  12,931                              18.1          76%   \n",
       "\n",
       "   CO2e saved kilotons  Cars off road thousands Black balloons millions  \n",
       "0                14.10                     3.25                     282  \n",
       "1                11.21                     2.59                   224.2  \n",
       "2                68.11                    15.78                1,362.20  \n",
       "3                30.89                     7.13                   617.8  \n",
       "4                37.99                     8.79                   759.8  "
      ]
     },
     "execution_count": 14,
     "metadata": {},
     "output_type": "execute_result"
    }
   ],
   "source": [
    "solar.head()"
   ]
  },
  {
   "cell_type": "code",
   "execution_count": 22,
   "metadata": {},
   "outputs": [
    {
     "data": {
      "text/plain": [
       "56.20375000000001"
      ]
     },
     "execution_count": 22,
     "metadata": {},
     "output_type": "execute_result"
    }
   ],
   "source": [
    "np.mean(solar['CO2e saved kilotons'])"
   ]
  },
  {
   "cell_type": "code",
   "execution_count": 23,
   "metadata": {},
   "outputs": [
    {
     "data": {
      "text/plain": [
       "(56, 7)"
      ]
     },
     "execution_count": 23,
     "metadata": {},
     "output_type": "execute_result"
    }
   ],
   "source": [
    "solar.shape"
   ]
  },
  {
   "cell_type": "code",
   "execution_count": null,
   "metadata": {},
   "outputs": [],
   "source": []
  }
 ],
 "metadata": {
  "kernelspec": {
   "display_name": "Python 3",
   "language": "python",
   "name": "python3"
  },
  "language_info": {
   "codemirror_mode": {
    "name": "ipython",
    "version": 3
   },
   "file_extension": ".py",
   "mimetype": "text/x-python",
   "name": "python",
   "nbconvert_exporter": "python",
   "pygments_lexer": "ipython3",
   "version": "3.7.6"
  }
 },
 "nbformat": 4,
 "nbformat_minor": 4
}
