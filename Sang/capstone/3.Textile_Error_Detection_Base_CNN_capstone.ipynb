{
 "cells": [
  {
   "cell_type": "code",
   "execution_count": 45,
   "metadata": {
    "colab": {
     "base_uri": "https://localhost:8080/"
    },
    "id": "bZeSF958DUpT",
    "outputId": "8d0ed9ac-6af7-4cc9-c898-e67b50623ae6"
   },
   "outputs": [
    {
     "name": "stdout",
     "output_type": "stream",
     "text": [
      "Found GPU at: /device:GPU:0\n"
     ]
    }
   ],
   "source": [
    "## check colab GPU\n",
    "import tensorflow as tf\n",
    "%tensorflow_version 2.x\n",
    "device_name = tf.test.gpu_device_name()\n",
    "\n",
    "if device_name != '/device:GPU:0':\n",
    "  raise SystemError('GPU device not found')\n",
    "print('Found GPU at: {}'.format(device_name))"
   ]
  },
  {
   "cell_type": "code",
   "execution_count": 46,
   "metadata": {
    "colab": {
     "base_uri": "https://localhost:8080/"
    },
    "id": "rZPi2omUDpF0",
    "outputId": "3a278dab-0cea-457d-bbef-4faddbf8e765"
   },
   "outputs": [
    {
     "name": "stdout",
     "output_type": "stream",
     "text": [
      "Time (s) to convolve 32x7x7x3 filter over random 100x100x100x3 images (batch x height x width x channel). Sum of ten runs.\n",
      "CPU (s):\n",
      "3.4440496470001563\n",
      "GPU (s):\n",
      "0.10706212900004175\n",
      "GPU speedup over CPU: 32x\n"
     ]
    }
   ],
   "source": [
    "## comaprison between CPU vs GPU\n",
    "\n",
    "%tensorflow_version 2.x\n",
    "import tensorflow as tf\n",
    "import timeit\n",
    "\n",
    "device_name = tf.test.gpu_device_name()\n",
    "if device_name != '/device:GPU:0':\n",
    "  print(\n",
    "      '\\n\\nThis error most likely means that this notebook is not '\n",
    "      'configured to use a GPU.  Change this in Notebook Settings via the '\n",
    "      'command palette (cmd/ctrl-shift-P) or the Edit menu.\\n\\n')\n",
    "  raise SystemError('GPU device not found')\n",
    "\n",
    "def cpu():\n",
    "  with tf.device('/cpu:0'):\n",
    "    random_image_cpu = tf.random.normal((100, 100, 100, 3))\n",
    "    net_cpu = tf.keras.layers.Conv2D(32, 7)(random_image_cpu)\n",
    "    return tf.math.reduce_sum(net_cpu)\n",
    "\n",
    "def gpu():\n",
    "  with tf.device('/device:GPU:0'):\n",
    "    random_image_gpu = tf.random.normal((100, 100, 100, 3))\n",
    "    net_gpu = tf.keras.layers.Conv2D(32, 7)(random_image_gpu)\n",
    "    return tf.math.reduce_sum(net_gpu)\n",
    "  \n",
    "# We run each op once to warm up; see: https://stackoverflow.com/a/45067900\n",
    "cpu()\n",
    "gpu()\n",
    "\n",
    "# Run the op several times.\n",
    "print('Time (s) to convolve 32x7x7x3 filter over random 100x100x100x3 images '\n",
    "      '(batch x height x width x channel). Sum of ten runs.')\n",
    "print('CPU (s):')\n",
    "cpu_time = timeit.timeit('cpu()', number=10, setup=\"from __main__ import cpu\")\n",
    "print(cpu_time)\n",
    "print('GPU (s):')\n",
    "gpu_time = timeit.timeit('gpu()', number=10, setup=\"from __main__ import gpu\")\n",
    "print(gpu_time)\n",
    "print('GPU speedup over CPU: {}x'.format(int(cpu_time/gpu_time)))"
   ]
  },
  {
   "cell_type": "code",
   "execution_count": 113,
   "metadata": {
    "id": "lLTfTW2xxUa2"
   },
   "outputs": [],
   "source": [
    "import glob\n",
    "import os\n",
    "import tensorflow as tf\n",
    "import cv2\n",
    "from tensorflow.keras.layers import Conv2D, MaxPool2D, Flatten, Dense\n",
    "from tensorflow.keras.models import Sequential\n",
    "from tensorflow.keras.preprocessing.image import ImageDataGenerator\n",
    "import numpy as np\n",
    "%matplotlib inline\n",
    "import matplotlib.pyplot as plt\n",
    "import random\n",
    "import seaborn as sns"
   ]
  },
  {
   "cell_type": "markdown",
   "metadata": {
    "id": "aLmIAzvM0xbg"
   },
   "source": []
  },
  {
   "cell_type": "code",
   "execution_count": 75,
   "metadata": {
    "id": "TrftDcNcxdjs"
   },
   "outputs": [],
   "source": [
    "## base model definition\n",
    "## EPOCHS 100 to see the initial output\n",
    "EPOCHS = 100\n",
    "\n",
    "## Dataset path\n",
    "DATASET_PATH = '/content/drive/MyDrive/IOD/dataset/base'\n",
    "\n",
    "## Result path\n",
    "RESULT_PATH = '/content/drive/MyDrive/IOD/results/'"
   ]
  },
  {
   "cell_type": "code",
   "execution_count": 58,
   "metadata": {
    "id": "ZwyBZQVo3glE"
   },
   "outputs": [],
   "source": [
    "## Simple Sequential CNN, input with grayscale shape\n",
    "\n",
    "def Model():\n",
    "    return Sequential([Conv2D(32, (3, 3), activation='relu', input_shape=(256, 256, 1)), \n",
    "                       MaxPool2D(),\n",
    "                       Conv2D(64, (3, 3), activation='relu'),\n",
    "                       MaxPool2D(),\n",
    "                       Conv2D(128, (3, 3), activation='relu'),\n",
    "                       MaxPool2D(),\n",
    "                       Conv2D(256, (3, 3), activation='relu'),\n",
    "                       MaxPool2D(),\n",
    "                       Flatten(),\n",
    "                       Dense(1, activation='sigmoid')])"
   ]
  },
  {
   "cell_type": "code",
   "execution_count": 52,
   "metadata": {
    "colab": {
     "base_uri": "https://localhost:8080/"
    },
    "id": "qHLmgUUK3uMU",
    "outputId": "783147d5-8d63-4f40-cc3c-fb5ed0898805"
   },
   "outputs": [
    {
     "name": "stdout",
     "output_type": "stream",
     "text": [
      "Found 945 files belonging to 2 classes.\n",
      "Using 662 files for training.\n",
      "Found 945 files belonging to 2 classes.\n",
      "Using 283 files for validation.\n"
     ]
    }
   ],
   "source": [
    "## Build image Dataset using keras.preprocessing.image_dataset_from_directory function\n",
    "## Label the Non Defect images = 0, Defect = 1, automatically encoded using lables = 'inferred'\n",
    "## Training set 70%, validation set 30%\n",
    "\n",
    "ds_train = tf.keras.preprocessing.image_dataset_from_directory(\n",
    "    DATASET_PATH,\n",
    "    labels  = 'inferred', \n",
    "    label_mode= 'int',\n",
    "    shuffle=True,\n",
    "    seed=123,\n",
    "    validation_split=0.3,\n",
    "    color_mode='grayscale',\n",
    "    subset='training',\n",
    ")\n",
    "ds_validation = tf.keras.preprocessing.image_dataset_from_directory(\n",
    "    DATASET_PATH,\n",
    "    labels = 'inferred', \n",
    "    label_mode= 'int',\n",
    "    shuffle=True,\n",
    "    seed=123,\n",
    "    validation_split=0.3,\n",
    "    color_mode='grayscale',\n",
    "    subset='validation'\n",
    ")"
   ]
  },
  {
   "cell_type": "code",
   "execution_count": 76,
   "metadata": {
    "id": "MNqKV0wf5i1L"
   },
   "outputs": [],
   "source": [
    "## Compile model\n",
    "model = Model()\n",
    "model.compile(optimizer='adam',\n",
    "              loss='binary_crossentropy',\n",
    "              metrics=['accuracy'])"
   ]
  },
  {
   "cell_type": "code",
   "execution_count": 60,
   "metadata": {
    "colab": {
     "base_uri": "https://localhost:8080/"
    },
    "id": "Q68kpypbSjkM",
    "outputId": "18c48a56-aeda-41b9-fd86-a75c3326f161"
   },
   "outputs": [
    {
     "name": "stdout",
     "output_type": "stream",
     "text": [
      "Model: \"sequential_4\"\n",
      "_________________________________________________________________\n",
      "Layer (type)                 Output Shape              Param #   \n",
      "=================================================================\n",
      "conv2d_104 (Conv2D)          (None, 254, 254, 32)      320       \n",
      "_________________________________________________________________\n",
      "max_pooling2d_16 (MaxPooling (None, 127, 127, 32)      0         \n",
      "_________________________________________________________________\n",
      "conv2d_105 (Conv2D)          (None, 125, 125, 64)      18496     \n",
      "_________________________________________________________________\n",
      "max_pooling2d_17 (MaxPooling (None, 62, 62, 64)        0         \n",
      "_________________________________________________________________\n",
      "conv2d_106 (Conv2D)          (None, 60, 60, 128)       73856     \n",
      "_________________________________________________________________\n",
      "max_pooling2d_18 (MaxPooling (None, 30, 30, 128)       0         \n",
      "_________________________________________________________________\n",
      "conv2d_107 (Conv2D)          (None, 28, 28, 256)       295168    \n",
      "_________________________________________________________________\n",
      "max_pooling2d_19 (MaxPooling (None, 14, 14, 256)       0         \n",
      "_________________________________________________________________\n",
      "flatten_4 (Flatten)          (None, 50176)             0         \n",
      "_________________________________________________________________\n",
      "dense_4 (Dense)              (None, 1)                 50177     \n",
      "=================================================================\n",
      "Total params: 438,017\n",
      "Trainable params: 438,017\n",
      "Non-trainable params: 0\n",
      "_________________________________________________________________\n"
     ]
    }
   ],
   "source": [
    "model.summary()"
   ]
  },
  {
   "cell_type": "code",
   "execution_count": 77,
   "metadata": {
    "colab": {
     "base_uri": "https://localhost:8080/"
    },
    "id": "nVGgw1oO5kwL",
    "outputId": "124ed6cb-76c3-4fd8-9193-732e32a84251"
   },
   "outputs": [
    {
     "name": "stdout",
     "output_type": "stream",
     "text": [
      "Epoch 1/100\n",
      "21/21 [==============================] - 4s 201ms/step - loss: 7.4388 - accuracy: 0.7810 - val_loss: 0.5803 - val_accuracy: 0.8693\n",
      "Epoch 2/100\n",
      "21/21 [==============================] - 4s 186ms/step - loss: 0.4799 - accuracy: 0.8550 - val_loss: 0.3478 - val_accuracy: 0.8799\n",
      "Epoch 3/100\n",
      "21/21 [==============================] - 4s 184ms/step - loss: 0.3504 - accuracy: 0.8776 - val_loss: 0.3363 - val_accuracy: 0.8940\n",
      "Epoch 4/100\n",
      "21/21 [==============================] - 4s 183ms/step - loss: 0.3327 - accuracy: 0.8792 - val_loss: 0.3485 - val_accuracy: 0.8622\n",
      "Epoch 5/100\n",
      "21/21 [==============================] - 4s 181ms/step - loss: 0.3454 - accuracy: 0.8776 - val_loss: 0.3301 - val_accuracy: 0.8869\n",
      "Epoch 6/100\n",
      "21/21 [==============================] - 4s 185ms/step - loss: 0.3338 - accuracy: 0.8822 - val_loss: 0.3323 - val_accuracy: 0.8940\n",
      "Epoch 7/100\n",
      "21/21 [==============================] - 4s 183ms/step - loss: 0.3390 - accuracy: 0.8792 - val_loss: 0.3613 - val_accuracy: 0.8693\n",
      "Epoch 8/100\n",
      "21/21 [==============================] - 4s 178ms/step - loss: 0.3408 - accuracy: 0.8807 - val_loss: 0.3531 - val_accuracy: 0.8551\n",
      "Epoch 9/100\n",
      "21/21 [==============================] - 4s 183ms/step - loss: 0.3444 - accuracy: 0.8761 - val_loss: 0.3506 - val_accuracy: 0.8693\n",
      "Epoch 10/100\n",
      "21/21 [==============================] - 4s 181ms/step - loss: 0.3384 - accuracy: 0.8807 - val_loss: 0.3340 - val_accuracy: 0.8587\n",
      "Epoch 11/100\n",
      "21/21 [==============================] - 4s 183ms/step - loss: 0.3224 - accuracy: 0.8776 - val_loss: 0.3265 - val_accuracy: 0.8940\n",
      "Epoch 12/100\n",
      "21/21 [==============================] - 4s 183ms/step - loss: 0.3239 - accuracy: 0.8852 - val_loss: 0.4165 - val_accuracy: 0.8551\n",
      "Epoch 13/100\n",
      "21/21 [==============================] - 4s 180ms/step - loss: 0.3457 - accuracy: 0.8671 - val_loss: 0.3433 - val_accuracy: 0.8657\n",
      "Epoch 14/100\n",
      "21/21 [==============================] - 4s 182ms/step - loss: 0.3143 - accuracy: 0.8716 - val_loss: 0.3244 - val_accuracy: 0.8763\n",
      "Epoch 15/100\n",
      "21/21 [==============================] - 4s 179ms/step - loss: 0.3265 - accuracy: 0.8761 - val_loss: 0.3324 - val_accuracy: 0.8940\n",
      "Epoch 16/100\n",
      "21/21 [==============================] - 4s 179ms/step - loss: 0.3138 - accuracy: 0.8867 - val_loss: 0.3234 - val_accuracy: 0.8799\n",
      "Epoch 17/100\n",
      "21/21 [==============================] - 4s 180ms/step - loss: 0.3036 - accuracy: 0.8807 - val_loss: 0.3291 - val_accuracy: 0.8551\n",
      "Epoch 18/100\n",
      "21/21 [==============================] - 4s 181ms/step - loss: 0.3011 - accuracy: 0.8852 - val_loss: 0.4053 - val_accuracy: 0.8693\n",
      "Epoch 19/100\n",
      "21/21 [==============================] - 4s 181ms/step - loss: 0.2925 - accuracy: 0.8882 - val_loss: 0.3295 - val_accuracy: 0.8693\n",
      "Epoch 20/100\n",
      "21/21 [==============================] - 4s 180ms/step - loss: 0.2863 - accuracy: 0.9003 - val_loss: 0.3547 - val_accuracy: 0.8587\n",
      "Epoch 21/100\n",
      "21/21 [==============================] - 4s 179ms/step - loss: 0.2926 - accuracy: 0.8988 - val_loss: 0.3274 - val_accuracy: 0.8763\n",
      "Epoch 22/100\n",
      "21/21 [==============================] - 4s 180ms/step - loss: 0.2957 - accuracy: 0.8912 - val_loss: 0.3348 - val_accuracy: 0.8799\n",
      "Epoch 23/100\n",
      "21/21 [==============================] - 4s 180ms/step - loss: 0.2881 - accuracy: 0.8897 - val_loss: 0.3727 - val_accuracy: 0.8799\n",
      "Epoch 24/100\n",
      "21/21 [==============================] - 4s 178ms/step - loss: 0.3171 - accuracy: 0.8912 - val_loss: 0.3264 - val_accuracy: 0.8763\n",
      "Epoch 25/100\n",
      "21/21 [==============================] - 4s 182ms/step - loss: 0.3378 - accuracy: 0.8761 - val_loss: 0.3418 - val_accuracy: 0.8693\n",
      "Epoch 26/100\n",
      "21/21 [==============================] - 4s 184ms/step - loss: 0.3287 - accuracy: 0.8837 - val_loss: 0.3388 - val_accuracy: 0.8905\n",
      "Epoch 27/100\n",
      "21/21 [==============================] - 4s 182ms/step - loss: 0.2976 - accuracy: 0.8897 - val_loss: 0.3329 - val_accuracy: 0.8693\n",
      "Epoch 28/100\n",
      "21/21 [==============================] - 4s 184ms/step - loss: 0.3033 - accuracy: 0.8882 - val_loss: 0.3267 - val_accuracy: 0.8693\n",
      "Epoch 29/100\n",
      "21/21 [==============================] - 4s 181ms/step - loss: 0.3225 - accuracy: 0.8927 - val_loss: 0.3784 - val_accuracy: 0.8693\n",
      "Epoch 30/100\n",
      "21/21 [==============================] - 4s 184ms/step - loss: 0.4024 - accuracy: 0.8625 - val_loss: 0.4621 - val_accuracy: 0.8693\n",
      "Epoch 31/100\n",
      "21/21 [==============================] - 4s 183ms/step - loss: 0.3947 - accuracy: 0.8746 - val_loss: 0.3925 - val_accuracy: 0.8693\n",
      "Epoch 32/100\n",
      "21/21 [==============================] - 4s 181ms/step - loss: 0.3483 - accuracy: 0.8807 - val_loss: 0.3777 - val_accuracy: 0.8693\n",
      "Epoch 33/100\n",
      "21/21 [==============================] - 4s 180ms/step - loss: 0.3550 - accuracy: 0.8807 - val_loss: 0.3760 - val_accuracy: 0.8693\n",
      "Epoch 34/100\n",
      "21/21 [==============================] - 4s 182ms/step - loss: 0.3413 - accuracy: 0.8822 - val_loss: 0.3553 - val_accuracy: 0.8763\n",
      "Epoch 35/100\n",
      "21/21 [==============================] - 4s 184ms/step - loss: 0.3355 - accuracy: 0.8822 - val_loss: 0.3859 - val_accuracy: 0.8693\n",
      "Epoch 36/100\n",
      "21/21 [==============================] - 4s 180ms/step - loss: 0.3432 - accuracy: 0.8776 - val_loss: 0.3719 - val_accuracy: 0.8693\n",
      "Epoch 37/100\n",
      "21/21 [==============================] - 4s 178ms/step - loss: 0.3314 - accuracy: 0.8746 - val_loss: 0.3320 - val_accuracy: 0.8905\n",
      "Epoch 38/100\n",
      "21/21 [==============================] - 4s 180ms/step - loss: 0.2865 - accuracy: 0.8852 - val_loss: 0.3249 - val_accuracy: 0.8905\n",
      "Epoch 39/100\n",
      "21/21 [==============================] - 4s 179ms/step - loss: 0.2803 - accuracy: 0.8867 - val_loss: 0.4919 - val_accuracy: 0.8587\n",
      "Epoch 40/100\n",
      "21/21 [==============================] - 4s 180ms/step - loss: 0.3326 - accuracy: 0.8897 - val_loss: 0.3627 - val_accuracy: 0.8657\n",
      "Epoch 41/100\n",
      "21/21 [==============================] - 4s 185ms/step - loss: 0.2866 - accuracy: 0.8988 - val_loss: 0.3547 - val_accuracy: 0.8587\n",
      "Epoch 42/100\n",
      "21/21 [==============================] - 4s 185ms/step - loss: 0.2759 - accuracy: 0.8943 - val_loss: 0.3214 - val_accuracy: 0.9011\n",
      "Epoch 43/100\n",
      "21/21 [==============================] - 4s 187ms/step - loss: 0.2618 - accuracy: 0.9048 - val_loss: 0.3417 - val_accuracy: 0.8587\n",
      "Epoch 44/100\n",
      "21/21 [==============================] - 4s 187ms/step - loss: 0.2655 - accuracy: 0.8852 - val_loss: 0.3289 - val_accuracy: 0.8834\n",
      "Epoch 45/100\n",
      "21/21 [==============================] - 4s 183ms/step - loss: 0.2559 - accuracy: 0.9003 - val_loss: 0.3244 - val_accuracy: 0.8869\n",
      "Epoch 46/100\n",
      "21/21 [==============================] - 4s 187ms/step - loss: 0.2529 - accuracy: 0.9154 - val_loss: 0.3742 - val_accuracy: 0.8622\n",
      "Epoch 47/100\n",
      "21/21 [==============================] - 4s 187ms/step - loss: 0.2698 - accuracy: 0.8943 - val_loss: 0.3363 - val_accuracy: 0.8905\n",
      "Epoch 48/100\n",
      "21/21 [==============================] - 4s 184ms/step - loss: 0.2392 - accuracy: 0.9109 - val_loss: 0.3525 - val_accuracy: 0.8940\n",
      "Epoch 49/100\n",
      "21/21 [==============================] - 4s 182ms/step - loss: 0.2369 - accuracy: 0.9199 - val_loss: 0.3450 - val_accuracy: 0.8622\n",
      "Epoch 50/100\n",
      "21/21 [==============================] - 4s 185ms/step - loss: 0.2422 - accuracy: 0.9184 - val_loss: 0.3418 - val_accuracy: 0.8657\n",
      "Epoch 51/100\n",
      "21/21 [==============================] - 4s 184ms/step - loss: 0.2521 - accuracy: 0.9169 - val_loss: 0.3233 - val_accuracy: 0.8657\n",
      "Epoch 52/100\n",
      "21/21 [==============================] - 4s 191ms/step - loss: 0.2131 - accuracy: 0.9290 - val_loss: 0.3303 - val_accuracy: 0.8940\n",
      "Epoch 53/100\n",
      "21/21 [==============================] - 4s 187ms/step - loss: 0.1891 - accuracy: 0.9350 - val_loss: 0.3579 - val_accuracy: 0.9011\n",
      "Epoch 54/100\n",
      "21/21 [==============================] - 4s 189ms/step - loss: 0.1942 - accuracy: 0.9350 - val_loss: 0.3600 - val_accuracy: 0.8481\n",
      "Epoch 55/100\n",
      "21/21 [==============================] - 4s 190ms/step - loss: 0.1944 - accuracy: 0.9396 - val_loss: 0.3650 - val_accuracy: 0.8763\n",
      "Epoch 56/100\n",
      "21/21 [==============================] - 4s 189ms/step - loss: 0.2373 - accuracy: 0.9245 - val_loss: 0.3593 - val_accuracy: 0.8622\n",
      "Epoch 57/100\n",
      "21/21 [==============================] - 4s 198ms/step - loss: 0.2475 - accuracy: 0.9033 - val_loss: 0.3522 - val_accuracy: 0.8657\n",
      "Epoch 58/100\n",
      "21/21 [==============================] - 4s 202ms/step - loss: 0.2131 - accuracy: 0.9290 - val_loss: 0.3568 - val_accuracy: 0.8622\n",
      "Epoch 59/100\n",
      "21/21 [==============================] - 4s 191ms/step - loss: 0.1715 - accuracy: 0.9456 - val_loss: 0.4257 - val_accuracy: 0.8940\n",
      "Epoch 60/100\n",
      "21/21 [==============================] - 4s 187ms/step - loss: 0.1697 - accuracy: 0.9486 - val_loss: 0.3976 - val_accuracy: 0.8551\n",
      "Epoch 61/100\n",
      "21/21 [==============================] - 4s 185ms/step - loss: 0.1387 - accuracy: 0.9592 - val_loss: 0.3813 - val_accuracy: 0.8657\n",
      "Epoch 62/100\n",
      "21/21 [==============================] - 4s 184ms/step - loss: 0.1205 - accuracy: 0.9668 - val_loss: 0.4930 - val_accuracy: 0.8834\n",
      "Epoch 63/100\n",
      "21/21 [==============================] - 4s 184ms/step - loss: 0.1246 - accuracy: 0.9653 - val_loss: 0.3901 - val_accuracy: 0.8622\n",
      "Epoch 64/100\n",
      "21/21 [==============================] - 4s 184ms/step - loss: 0.1109 - accuracy: 0.9653 - val_loss: 0.4440 - val_accuracy: 0.8834\n",
      "Epoch 65/100\n",
      "21/21 [==============================] - 4s 184ms/step - loss: 0.0974 - accuracy: 0.9683 - val_loss: 0.4338 - val_accuracy: 0.8728\n",
      "Epoch 66/100\n",
      "21/21 [==============================] - 4s 183ms/step - loss: 0.1213 - accuracy: 0.9653 - val_loss: 0.4818 - val_accuracy: 0.9081\n",
      "Epoch 67/100\n",
      "21/21 [==============================] - 4s 183ms/step - loss: 0.1203 - accuracy: 0.9562 - val_loss: 0.4849 - val_accuracy: 0.8587\n",
      "Epoch 68/100\n",
      "21/21 [==============================] - 4s 184ms/step - loss: 0.1155 - accuracy: 0.9592 - val_loss: 0.5903 - val_accuracy: 0.8445\n",
      "Epoch 69/100\n",
      "21/21 [==============================] - 4s 185ms/step - loss: 0.1978 - accuracy: 0.9411 - val_loss: 0.4381 - val_accuracy: 0.8799\n",
      "Epoch 70/100\n",
      "21/21 [==============================] - 4s 182ms/step - loss: 0.1104 - accuracy: 0.9592 - val_loss: 0.4694 - val_accuracy: 0.8799\n",
      "Epoch 71/100\n",
      "21/21 [==============================] - 4s 185ms/step - loss: 0.0832 - accuracy: 0.9698 - val_loss: 0.5987 - val_accuracy: 0.8587\n",
      "Epoch 72/100\n",
      "21/21 [==============================] - 4s 182ms/step - loss: 0.1800 - accuracy: 0.9592 - val_loss: 0.5054 - val_accuracy: 0.8693\n",
      "Epoch 00072: early stopping\n"
     ]
    }
   ],
   "source": [
    "## Train the model, and passing earlystopping callback to stop if val_loss is not improving over given patience time\n",
    "\n",
    "earlystopping = tf.keras.callbacks.EarlyStopping(monitor='val_loss', patience=30, verbose=2)\n",
    "\n",
    "history = model.fit(ds_train, validation_data=ds_validation, epochs=EPOCHS, callbacks=[earlystopping])"
   ]
  },
  {
   "cell_type": "code",
   "execution_count": 78,
   "metadata": {
    "colab": {
     "base_uri": "https://localhost:8080/"
    },
    "id": "bEmeVUKzl4V8",
    "outputId": "0d903f0e-e0d7-4c0f-b35d-fc885d2e436a"
   },
   "outputs": [
    {
     "name": "stdout",
     "output_type": "stream",
     "text": [
      "9/9 [==============================] - 0s 26ms/step - loss: 0.5054 - accuracy: 0.8693\n"
     ]
    }
   ],
   "source": [
    "score = model.evaluate(ds_validation, batch_size = 10)"
   ]
  },
  {
   "cell_type": "code",
   "execution_count": 79,
   "metadata": {
    "id": "fzKJsMeu5mNu"
   },
   "outputs": [],
   "source": [
    "## Save the prediction outputs and save images to results folder\n",
    "## This code also to be used to caculate the confusion matrix, as the dataset was prebuild and batched, not able to extract the labels in correct order\n",
    "\n",
    "def mkdir(path):\n",
    "    if os.path.exists(path) is False:\n",
    "        os.mkdir(path)\n",
    "mkdir(RESULT_PATH)\n",
    "mkdir(RESULT_PATH + '/TP')\n",
    "mkdir(RESULT_PATH + '/TN')\n",
    "mkdir(RESULT_PATH + '/FP')\n",
    "mkdir(RESULT_PATH + '/FN')\n",
    "\n",
    "index = 0\n",
    "for imgs, labels in ds_validation:\n",
    "    preds = model.predict(imgs)\n",
    "    # print(preds)\n",
    "    for i in range(imgs.shape[0]):\n",
    "        target = labels[i].numpy()\n",
    "        y = preds[i]\n",
    "        # print(y)\n",
    "        \n",
    "        if target == 1 and y > 0.5:\n",
    "            path = RESULT_PATH + '/TP'\n",
    "        elif target == 1 and y <= 0.5:\n",
    "            path = RESULT_PATH + '/FN'\n",
    "        elif target == 0 and y > 0.5:\n",
    "            path = RESULT_PATH + '/FP'\n",
    "        else:\n",
    "            path = RESULT_PATH + '/TN'\n",
    "            \n",
    "        cv2.imwrite(path + '/%.4f_%04d.png' % (y, index), imgs[i].numpy())\n",
    "        index +=1"
   ]
  },
  {
   "cell_type": "code",
   "execution_count": 99,
   "metadata": {
    "id": "Hi2Vu_c6G9hJ"
   },
   "outputs": [],
   "source": [
    "## Output lenth check \n",
    "\n",
    "TP = len(glob.glob(RESULT_PATH + '/TP/*.png'))\n",
    "TN = len(glob.glob(RESULT_PATH + '/TN/*.png'))\n",
    "FP = len(glob.glob(RESULT_PATH + '/FP/*.png'))\n",
    "FN = len(glob.glob(RESULT_PATH + '/FN/*.png'))"
   ]
  },
  {
   "cell_type": "code",
   "execution_count": 114,
   "metadata": {
    "id": "p6F5nD3bqTXK"
   },
   "outputs": [],
   "source": [
    "## confusion matrix \n",
    "cf_matrix = np.asarray([[TN, FP], [FN, TP]])"
   ]
  },
  {
   "cell_type": "code",
   "execution_count": 117,
   "metadata": {
    "colab": {
     "base_uri": "https://localhost:8080/",
     "height": 267
    },
    "id": "ToB9odr8tg0K",
    "outputId": "d5f722c1-38c3-4495-c959-994cc2166409"
   },
   "outputs": [
    {
     "data": {
      "image/png": "[encoded data removed]",
      "text/plain": [
       "<Figure size 432x288 with 2 Axes>"
      ]
     },
     "metadata": {
      "needs_background": "light",
      "tags": []
     },
     "output_type": "display_data"
    }
   ],
   "source": [
    "## confusion matrix heatmap\n",
    "sns.heatmap(cf_matrix/np.sum(cf_matrix), annot=True, \n",
    "            fmt='.2%', cmap='Blues')\n",
    "plt.show()"
   ]
  },
  {
   "cell_type": "code",
   "execution_count": 126,
   "metadata": {
    "colab": {
     "base_uri": "https://localhost:8080/"
    },
    "id": "i6hHFR-arj_w",
    "outputId": "b524e5fd-3da9-486e-f530-2389e0a9e050"
   },
   "outputs": [
    {
     "name": "stdout",
     "output_type": "stream",
     "text": [
      "Accuracy : 0.87 \n",
      "Classification Error : 0.13 \n",
      "Recall : 0.46 \n",
      "Specificity : 0.93 \n",
      "False Positive Rate : 0.07 \n"
     ]
    }
   ],
   "source": [
    "accuracy = (TP + TN) / float(TP + TN + FP + FN)\n",
    "print('Accuracy : {:.2f} '.format(accuracy) )\n",
    "\n",
    "classification_error = (FP + FN) / float(TP + TN + FP + FN)\n",
    "print('Classification Error : {:.2f} '.format(classification_error))\n",
    "\n",
    "sensitivity = TP / float(FN + TP)\n",
    "print('Recall : {:.2f} '.format(sensitivity))\n",
    "\n",
    "specificity = TN / (TN + FP)\n",
    "print('Specificity : {:.2f} '.format(specificity))\n",
    "\n",
    "print('False Positive Rate : {:.2f} '.format(1 - specificity))"
   ]
  },
  {
   "cell_type": "code",
   "execution_count": 96,
   "metadata": {
    "colab": {
     "base_uri": "https://localhost:8080/",
     "height": 350
    },
    "id": "L1Q7wsNEm1GH",
    "outputId": "ea64c84e-7fe5-414f-8112-ec81781c69f7"
   },
   "outputs": [
    {
     "data": {
      "image/png": "[encoded data removed]",
      "text/plain": [
       "<Figure size 720x360 with 1 Axes>"
      ]
     },
     "metadata": {
      "needs_background": "light",
      "tags": []
     },
     "output_type": "display_data"
    }
   ],
   "source": [
    "## loss vs val_loss curve\n",
    "\n",
    "loss = history.history['loss']\n",
    "val_loss = history.history['val_loss']\n",
    "\n",
    "plt.figure(figsize=(10,5))\n",
    "plt.plot(loss, label='loss')\n",
    "plt.plot(val_loss, label='val_loss')\n",
    "plt.legend()\n",
    "plt.grid()\n",
    "plt.ylabel('Cross Entropy')\n",
    "plt.xlabel('Epoch')\n",
    "plt.title('Training and Validation Loss')\n",
    "plt.show()"
   ]
  },
  {
   "cell_type": "code",
   "execution_count": 95,
   "metadata": {
    "colab": {
     "base_uri": "https://localhost:8080/",
     "height": 350
    },
    "id": "J36caSGlpHf6",
    "outputId": "2f5b1e4c-8183-4171-d877-9555f99fefd1"
   },
   "outputs": [
    {
     "data": {
      "image/png": "[encoded data removed]",
      "text/plain": [
       "<Figure size 720x360 with 1 Axes>"
      ]
     },
     "metadata": {
      "needs_background": "light",
      "tags": []
     },
     "output_type": "display_data"
    }
   ],
   "source": [
    "## accuracy vs val_accuracy curve\n",
    "\n",
    "accuracy = history.history['accuracy']\n",
    "val_accuracy = history.history['val_accuracy']\n",
    "\n",
    "plt.figure(figsize=(10,5))\n",
    "plt.plot(accuracy,  label='accuracy')\n",
    "plt.plot(val_accuracy, label='val_accuracy')\n",
    "plt.legend()\n",
    "plt.grid()\n",
    "plt.ylabel('Cross Entropy')\n",
    "plt.xlabel('Epoch')\n",
    "plt.title('Training and Validation accuracy')\n",
    "plt.show()"
   ]
  }
 ],
 "metadata": {
  "accelerator": "GPU",
  "colab": {
   "collapsed_sections": [],
   "name": "Base_Line_Model.ipynb",
   "provenance": []
  },
  "kernelspec": {
   "display_name": "Python 3",
   "language": "python",
   "name": "python3"
  },
  "language_info": {
   "codemirror_mode": {
    "name": "ipython",
    "version": 3
   },
   "file_extension": ".py",
   "mimetype": "text/x-python",
   "name": "python",
   "nbconvert_exporter": "python",
   "pygments_lexer": "ipython3",
   "version": "3.7.9"
  }
 },
 "nbformat": 4,
 "nbformat_minor": 1
}
