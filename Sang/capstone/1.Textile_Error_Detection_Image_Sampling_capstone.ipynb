{
 "cells": [
  {
   "cell_type": "code",
   "execution_count": 1,
   "metadata": {},
   "outputs": [],
   "source": [
    "## 1. Loading Image Data\n",
    "## 2. Crop the non-defect image data\n",
    "## 3. Pair the defect + mask image data"
   ]
  },
  {
   "cell_type": "code",
   "execution_count": 2,
   "metadata": {},
   "outputs": [],
   "source": [
    "import cv2\n",
    "import os\n",
    "import glob as gb\n",
    "import shutil\n",
    "import random\n",
    "import string\n",
    "import numpy as np"
   ]
  },
  {
   "cell_type": "code",
   "execution_count": 3,
   "metadata": {},
   "outputs": [],
   "source": [
    "## 1-1. Loading Image Data and add them into each list\n",
    "random.seed(42)\n",
    "\n",
    "nodefect_img_list = []\n",
    "for filepath in gb.iglob(r'./NODefect_images/**/*.png'):\n",
    "    nodefect_img_list.append(filepath)\n",
    "\n",
    "defect_img_list = []\n",
    "for filepath in gb.iglob(r'./Defect_images/*.png'):\n",
    "    defect_img_list.append(filepath)\n",
    "    \n",
    "mask_img_list = []\n",
    "for filepath in gb.iglob(r'./Mask_images/*.png'):\n",
    "    mask_img_list.append(filepath)"
   ]
  },
  {
   "cell_type": "code",
   "execution_count": 4,
   "metadata": {},
   "outputs": [
    {
     "name": "stdout",
     "output_type": "stream",
     "text": [
      "./NODefect_images/2306881-210020u/0001_000_05.png\n",
      "./Defect_images/0001_002_00.png\n",
      "./Mask_images/0001_002_00_mask.png\n"
     ]
    }
   ],
   "source": [
    "## 1-2. Sorting files\n",
    "nodefect_img_list = sorted(nodefect_img_list)\n",
    "defect_img_list = sorted(defect_img_list)\n",
    "mask_img_list = sorted(mask_img_list)\n",
    "print(nodefect_img_list[0])\n",
    "print(defect_img_list[0])\n",
    "print(mask_img_list[0])"
   ]
  },
  {
   "cell_type": "code",
   "execution_count": 5,
   "metadata": {},
   "outputs": [
    {
     "name": "stdout",
     "output_type": "stream",
     "text": [
      "NO Defect Image shape:  (256, 4096)\n",
      "Defect Image shape:  (256, 4096)\n",
      "Mask Image shape:  (256, 4096)\n"
     ]
    }
   ],
   "source": [
    "## 1-2. Image shape check\n",
    "nodefect_image_sample = cv2.imread(nodefect_img_list[0])\n",
    "print('NO Defect Image shape: ', nodefect_image_sample.shape[:-1])\n",
    "\n",
    "defect_image_sample = cv2.imread(defect_img_list[0])\n",
    "print('Defect Image shape: ', defect_image_sample.shape[:-1])\n",
    "\n",
    "mask_image_sample = cv2.imread(mask_img_list[0])\n",
    "print('Mask Image shape: ', mask_image_sample.shape[:-1])"
   ]
  },
  {
   "cell_type": "code",
   "execution_count": 14,
   "metadata": {},
   "outputs": [],
   "source": [
    "## 2.1. Cropping non defect images by margin to cover overlapped area, \n",
    "## start point incremeting by margin value (128)\n",
    "\n",
    "index = 0\n",
    "\n",
    "for item in nodefect_img_list:\n",
    "    image = cv2.imread(item)\n",
    "    h, w = image.shape[:-1]\n",
    "    m = h // 2\n",
    "\n",
    "    for i in range(w // m): \n",
    "        st_point = i * margin\n",
    "        \n",
    "        ## condition: until the start point is not greater than image width \n",
    "        ## and take random samples when random number is 0 or 1, 2. \n",
    "        if st_point < w - h and random.randint(0, 9) < 3: \n",
    "            #print(start_point, width-height)\n",
    "            crop = image[:, st_point:st_point+h, :]\n",
    "            cv2.imwrite('dataset/3/0/%04d.png' % index, crop)\n",
    "            index += 1 "
   ]
  },
  {
   "cell_type": "code",
   "execution_count": 21,
   "metadata": {},
   "outputs": [
    {
     "data": {
      "text/plain": [
       "['./Mask_images/0001_002_00_mask.png',\n",
       " './Mask_images/0002_002_00_mask.png',\n",
       " './Mask_images/0003_002_00_mask.png',\n",
       " './Mask_images/0004_002_01_mask.png',\n",
       " './Mask_images/0005_002_01_mask.png',\n",
       " './Mask_images/0006_002_01_mask.png',\n",
       " './Mask_images/0010_006_02_mask.png',\n",
       " './Mask_images/0011_006_02_mask.png',\n",
       " './Mask_images/0012_006_02_mask.png',\n",
       " './Mask_images/0013_006_02_mask.png',\n",
       " './Mask_images/0014_006_02_mask.png',\n",
       " './Mask_images/0015_006_02_mask.png',\n",
       " './Mask_images/0016_006_02_mask.png',\n",
       " './Mask_images/0017_002_02_mask.png',\n",
       " './Mask_images/0018_010_03_mask.png',\n",
       " './Mask_images/0019_016_03_mask.png',\n",
       " './Mask_images/0020_016_03_mask.png',\n",
       " './Mask_images/0021_016_03_mask.png',\n",
       " './Mask_images/0022_019_02_mask.png',\n",
       " './Mask_images/0023_019_02_mask.png',\n",
       " './Mask_images/0024_019_02_mask.png',\n",
       " './Mask_images/0025_019_02_mask.png',\n",
       " './Mask_images/0026_019_02_mask.png',\n",
       " './Mask_images/0027_019_02_mask.png',\n",
       " './Mask_images/0028_019_02_mask.png',\n",
       " './Mask_images/0029_019_02_mask.png',\n",
       " './Mask_images/0030_019_02_mask.png',\n",
       " './Mask_images/0031_019_02_mask.png',\n",
       " './Mask_images/0032_019_02_mask.png',\n",
       " './Mask_images/0033_019_02_mask.png',\n",
       " './Mask_images/0034_019_02_mask.png',\n",
       " './Mask_images/0035_019_02_mask.png',\n",
       " './Mask_images/0036_019_02_mask.png',\n",
       " './Mask_images/0037_019_02_mask.png',\n",
       " './Mask_images/0038_019_02_mask.png',\n",
       " './Mask_images/0039_019_02_mask.png',\n",
       " './Mask_images/0040_019_02_mask.png',\n",
       " './Mask_images/0041_019_02_mask.png',\n",
       " './Mask_images/0042_019_02_mask.png',\n",
       " './Mask_images/0043_019_04_mask.png',\n",
       " './Mask_images/0044_019_04_mask1.png',\n",
       " './Mask_images/0044_019_04_mask2.png',\n",
       " './Mask_images/0045_019_04_mask.png',\n",
       " './Mask_images/0046_019_04_mask.png',\n",
       " './Mask_images/0047_019_04_mask.png',\n",
       " './Mask_images/0048_019_04_mask.png',\n",
       " './Mask_images/0049_030_03_mask.png',\n",
       " './Mask_images/0050_019_03_mask.png',\n",
       " './Mask_images/0051_019_03_mask.png',\n",
       " './Mask_images/0052_019_03_mask.png',\n",
       " './Mask_images/0053_019_03_mask.png',\n",
       " './Mask_images/0054_019_03_mask.png',\n",
       " './Mask_images/0055_019_06_mask.png',\n",
       " './Mask_images/0056_019_06_mask.png',\n",
       " './Mask_images/0057_019_06_mask.png',\n",
       " './Mask_images/0058_019_06_mask.png',\n",
       " './Mask_images/0059_019_01_mask.png',\n",
       " './Mask_images/0060_022_06_mask.png',\n",
       " './Mask_images/0061_022_06_mask.png',\n",
       " './Mask_images/0062_022_00_mask.png',\n",
       " './Mask_images/0063_022_00_mask.png',\n",
       " './Mask_images/0064_022_00_mask.png',\n",
       " './Mask_images/0065_022_00_mask.png',\n",
       " './Mask_images/0066_023_01_mask.png',\n",
       " './Mask_images/0067_023_01_mask.png',\n",
       " './Mask_images/0068_023_02_mask.png',\n",
       " './Mask_images/0069_023_02_mask.png',\n",
       " './Mask_images/0070_023_02_mask.png',\n",
       " './Mask_images/0071_030_03_mask.png',\n",
       " './Mask_images/0072_010_03_mask.png',\n",
       " './Mask_images/0073_010_03_mask.png',\n",
       " './Mask_images/0074_010_03_mask.png',\n",
       " './Mask_images/0075_010_03_mask.png',\n",
       " './Mask_images/0076_030_03_mask.png',\n",
       " './Mask_images/0077_022_03_mask.png',\n",
       " './Mask_images/0078_025_03_mask.png',\n",
       " './Mask_images/0079_025_03_mask.png',\n",
       " './Mask_images/0080_036_01_mask.png',\n",
       " './Mask_images/0081_006_04_mask.png',\n",
       " './Mask_images/0082_030_04_mask.png',\n",
       " './Mask_images/0083_029_04_mask.png',\n",
       " './Mask_images/0084_030_04_mask.png',\n",
       " './Mask_images/0085_030_02_mask.png',\n",
       " './Mask_images/0086_030_02_mask.png',\n",
       " './Mask_images/0087_030_02_mask.png',\n",
       " './Mask_images/0088_030_02_mask.png',\n",
       " './Mask_images/0089_002_01_mask.png',\n",
       " './Mask_images/0090_002_01_mask.png',\n",
       " './Mask_images/0091_030_01_mask.png',\n",
       " './Mask_images/0092_030_01_mask.png',\n",
       " './Mask_images/0093_030_01_mask.png',\n",
       " './Mask_images/0094_027_05_mask.png',\n",
       " './Mask_images/0095_010_03_mask.png',\n",
       " './Mask_images/0096_030_03_mask.png',\n",
       " './Mask_images/0097_030_03_mask1.png',\n",
       " './Mask_images/0097_030_03_mask2.png',\n",
       " './Mask_images/0098_019_02_mask.png',\n",
       " './Mask_images/0099_019_02_mask.png',\n",
       " './Mask_images/0101_022_03_mask.png',\n",
       " './Mask_images/0102_010_03_mask.png',\n",
       " './Mask_images/0103_010_03_mask.png',\n",
       " './Mask_images/0104_022_03_mask.png',\n",
       " './Mask_images/0105_010_03_mask.png',\n",
       " './Mask_images/0106_010_03_mask.png',\n",
       " './Mask_images/0107_025_03_mask.png',\n",
       " './Mask_images/0108_025_03_mask.png',\n",
       " './Mask_images/0109_025_03_mask.png']"
      ]
     },
     "execution_count": 21,
     "metadata": {},
     "output_type": "execute_result"
    }
   ],
   "source": [
    "mask_img_list"
   ]
  },
  {
   "cell_type": "code",
   "execution_count": 22,
   "metadata": {
    "scrolled": true
   },
   "outputs": [
    {
     "data": {
      "text/plain": [
       "['0001_002_00', '.png']"
      ]
     },
     "execution_count": 22,
     "metadata": {},
     "output_type": "execute_result"
    }
   ],
   "source": [
    "mask_img_list[0].split('/')[-1].split('_mask')"
   ]
  },
  {
   "cell_type": "code",
   "execution_count": 23,
   "metadata": {},
   "outputs": [
    {
     "data": {
      "text/plain": [
       "'0001'"
      ]
     },
     "execution_count": 23,
     "metadata": {},
     "output_type": "execute_result"
    }
   ],
   "source": [
    "mask_img_list[0].split('/')[-1].split('_')[0]"
   ]
  },
  {
   "cell_type": "code",
   "execution_count": 20,
   "metadata": {},
   "outputs": [
    {
     "data": {
      "text/plain": [
       "['./Defect_images/0001_002_00.png',\n",
       " './Defect_images/0002_002_00.png',\n",
       " './Defect_images/0003_002_00.png',\n",
       " './Defect_images/0004_002_01.png',\n",
       " './Defect_images/0005_002_01.png',\n",
       " './Defect_images/0006_002_01.png',\n",
       " './Defect_images/0010_006_02.png',\n",
       " './Defect_images/0011_006_02.png',\n",
       " './Defect_images/0012_006_02.png',\n",
       " './Defect_images/0013_006_02.png',\n",
       " './Defect_images/0014_006_02.png',\n",
       " './Defect_images/0015_006_02.png',\n",
       " './Defect_images/0016_006_02.png',\n",
       " './Defect_images/0017_002_02.png',\n",
       " './Defect_images/0018_010_03.png',\n",
       " './Defect_images/0019_016_03.png',\n",
       " './Defect_images/0020_016_03.png',\n",
       " './Defect_images/0021_016_03.png',\n",
       " './Defect_images/0022_019_02.png',\n",
       " './Defect_images/0023_019_02.png',\n",
       " './Defect_images/0024_019_02.png',\n",
       " './Defect_images/0025_019_02.png',\n",
       " './Defect_images/0026_019_02.png',\n",
       " './Defect_images/0027_019_02.png',\n",
       " './Defect_images/0028_019_02.png',\n",
       " './Defect_images/0029_019_02.png',\n",
       " './Defect_images/0030_019_02.png',\n",
       " './Defect_images/0031_019_02.png',\n",
       " './Defect_images/0032_019_02.png',\n",
       " './Defect_images/0033_019_02.png',\n",
       " './Defect_images/0034_019_02.png',\n",
       " './Defect_images/0035_019_02.png',\n",
       " './Defect_images/0036_019_02.png',\n",
       " './Defect_images/0037_019_02.png',\n",
       " './Defect_images/0038_019_02.png',\n",
       " './Defect_images/0039_019_02.png',\n",
       " './Defect_images/0040_019_02.png',\n",
       " './Defect_images/0041_019_02.png',\n",
       " './Defect_images/0042_019_02.png',\n",
       " './Defect_images/0043_019_04.png',\n",
       " './Defect_images/0044_019_04.png',\n",
       " './Defect_images/0045_019_04.png',\n",
       " './Defect_images/0046_019_04.png',\n",
       " './Defect_images/0047_019_04.png',\n",
       " './Defect_images/0048_019_04.png',\n",
       " './Defect_images/0049_030_03.png',\n",
       " './Defect_images/0050_019_03.png',\n",
       " './Defect_images/0051_019_03.png',\n",
       " './Defect_images/0052_019_03.png',\n",
       " './Defect_images/0053_019_03.png',\n",
       " './Defect_images/0054_019_03.png',\n",
       " './Defect_images/0055_019_06.png',\n",
       " './Defect_images/0056_019_06.png',\n",
       " './Defect_images/0057_019_06.png',\n",
       " './Defect_images/0058_019_06.png',\n",
       " './Defect_images/0059_019_01.png',\n",
       " './Defect_images/0060_022_06.png',\n",
       " './Defect_images/0061_022_06.png',\n",
       " './Defect_images/0062_022_00.png',\n",
       " './Defect_images/0063_022_00.png',\n",
       " './Defect_images/0064_022_00.png',\n",
       " './Defect_images/0065_022_00.png',\n",
       " './Defect_images/0066_023_01.png',\n",
       " './Defect_images/0067_023_01.png',\n",
       " './Defect_images/0068_023_02.png',\n",
       " './Defect_images/0069_023_02.png',\n",
       " './Defect_images/0070_023_02.png',\n",
       " './Defect_images/0071_030_03.png',\n",
       " './Defect_images/0072_010_03.png',\n",
       " './Defect_images/0073_010_03.png',\n",
       " './Defect_images/0074_010_03.png',\n",
       " './Defect_images/0075_010_03.png',\n",
       " './Defect_images/0076_030_03.png',\n",
       " './Defect_images/0077_022_03.png',\n",
       " './Defect_images/0078_025_03.png',\n",
       " './Defect_images/0079_025_03.png',\n",
       " './Defect_images/0080_036_01.png',\n",
       " './Defect_images/0081_006_04.png',\n",
       " './Defect_images/0082_030_04.png',\n",
       " './Defect_images/0083_029_04.png',\n",
       " './Defect_images/0084_030_04.png',\n",
       " './Defect_images/0085_030_02.png',\n",
       " './Defect_images/0086_030_02.png',\n",
       " './Defect_images/0087_030_02.png',\n",
       " './Defect_images/0088_030_02.png',\n",
       " './Defect_images/0089_002_01.png',\n",
       " './Defect_images/0090_002_01.png',\n",
       " './Defect_images/0091_030_01.png',\n",
       " './Defect_images/0092_030_01.png',\n",
       " './Defect_images/0093_030_01.png',\n",
       " './Defect_images/0094_027_05.png',\n",
       " './Defect_images/0095_010_03.png',\n",
       " './Defect_images/0096_030_03.png',\n",
       " './Defect_images/0097_030_03.png',\n",
       " './Defect_images/0098_019_02.png',\n",
       " './Defect_images/0099_019_02.png',\n",
       " './Defect_images/0100_025_08.png',\n",
       " './Defect_images/0101_022_03.png',\n",
       " './Defect_images/0102_010_03.png',\n",
       " './Defect_images/0103_010_03.png',\n",
       " './Defect_images/0104_022_03.png',\n",
       " './Defect_images/0105_010_03.png',\n",
       " './Defect_images/0106_010_03.png',\n",
       " './Defect_images/0107_025_03.png',\n",
       " './Defect_images/0108_025_03.png',\n",
       " './Defect_images/0109_025_03.png']"
      ]
     },
     "execution_count": 20,
     "metadata": {},
     "output_type": "execute_result"
    }
   ],
   "source": [
    "defect_img_list"
   ]
  },
  {
   "cell_type": "code",
   "execution_count": 24,
   "metadata": {},
   "outputs": [
    {
     "data": {
      "text/plain": [
       "'0001_002_00.png'"
      ]
     },
     "execution_count": 24,
     "metadata": {},
     "output_type": "execute_result"
    }
   ],
   "source": [
    "defect_img_list[0].split('/')[-1]"
   ]
  },
  {
   "cell_type": "code",
   "execution_count": 26,
   "metadata": {
    "scrolled": true
   },
   "outputs": [],
   "source": [
    "## matching the defect number = mask number and append them to new lists\n",
    "\n",
    "defect_img_list_new = []\n",
    "mask_img_list_new = []\n",
    "\n",
    "for defect_img in defect_img_list:\n",
    "    ''' Splitting and extract the defect number \n",
    "    '''\n",
    "    defect_number = defect_img.split('/')[-1].split('.')[:-1]\n",
    "    #print('defect number: ', defect_number)\n",
    "    for mask_img in mask_img_list:\n",
    "        \n",
    "        ''' Splitting and extract the mask number'''\n",
    "        \n",
    "        mask_number = mask_img.split('/')[-1].split('_mask')[:-1]\n",
    "        \n",
    "        #print('mask number: ', mask_number)\n",
    "        \n",
    "        ''' matching the defect number == mask number, append them to each list'''\n",
    "        if defect_number == mask_number:\n",
    "            defect_img_list_new.append(defect_img)\n",
    "            mask_img_list_new.append(mask_img)\n",
    "            \n",
    "defect_img_list = defect_img_list_new\n",
    "mask_img_list = mask_img_list_new"
   ]
  },
  {
   "cell_type": "code",
   "execution_count": 32,
   "metadata": {
    "scrolled": true
   },
   "outputs": [],
   "source": [
    "random.seed(42)\n",
    "pair_img_list = []\n",
    "\n",
    "for item in zip(defect_img_list, mask_img_list):\n",
    "    defect, mask = item\n",
    "#     print(defect)\n",
    "#     print(mask)\n",
    "\n",
    "    defect_img = cv2.imread(defect)\n",
    "    mask_img = cv2.imread(mask)\n",
    "\n",
    "    h, w = defect_img.shape[:-1]\n",
    "    m = h // 2\n",
    "    \n",
    "    for i in range(w // m):\n",
    "        st_point = i * m\n",
    "        if st_point < w - h:\n",
    "            crop_defect = defect_img[:, st_point:st_point+h, :]\n",
    "            crop_mask = mask_img[:, st_point:st_point+h, :]\n",
    "\n",
    "            if crop_mask.sum() > 0: ## if not black coloured, something found\n",
    "                pair_img_list.append((crop_defect, crop_mask))"
   ]
  },
  {
   "cell_type": "code",
   "execution_count": 33,
   "metadata": {},
   "outputs": [],
   "source": [
    "for i, pair in enumerate(pair_img_list):\n",
    "    crop_defect, crop_mask = pair\n",
    "    cv2.imwrite('dataset/3/1/%04d.png' % i, crop_defect)"
   ]
  },
  {
   "cell_type": "code",
   "execution_count": null,
   "metadata": {},
   "outputs": [],
   "source": []
  }
 ],
 "metadata": {
  "kernelspec": {
   "display_name": "Python 3",
   "language": "python",
   "name": "python3"
  },
  "language_info": {
   "codemirror_mode": {
    "name": "ipython",
    "version": 3
   },
   "file_extension": ".py",
   "mimetype": "text/x-python",
   "name": "python",
   "nbconvert_exporter": "python",
   "pygments_lexer": "ipython3",
   "version": "3.7.9"
  }
 },
 "nbformat": 4,
 "nbformat_minor": 4
}
