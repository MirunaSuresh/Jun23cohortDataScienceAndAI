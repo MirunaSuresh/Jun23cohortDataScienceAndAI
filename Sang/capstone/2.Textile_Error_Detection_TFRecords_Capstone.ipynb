{
 "cells": [
  {
   "cell_type": "markdown",
   "metadata": {},
   "source": [
    "# TFRecord Builder"
   ]
  },
  {
   "cell_type": "code",
   "execution_count": 1,
   "metadata": {},
   "outputs": [],
   "source": [
    "import glob\n",
    "import os\n",
    "import tensorflow as tf\n",
    "import cv2"
   ]
  },
  {
   "cell_type": "code",
   "execution_count": 2,
   "metadata": {},
   "outputs": [
    {
     "data": {
      "text/plain": [
       "['Defect_images',\n",
       " '.DS_Store',\n",
       " 'Capstone project evaluation.docx',\n",
       " 'Untitled.ipynb',\n",
       " 'Mask_images',\n",
       " 'dataset',\n",
       " 'Textile Error Detection Capstone Project.ipynb',\n",
       " 'Base_Line_Model.ipynb',\n",
       " 'Capstone_Project_Sang Don Lee_2020-12-01.pptx',\n",
       " 'NODefect_images',\n",
       " '.ipynb_checkpoints',\n",
       " 'TFRecords.ipynb']"
      ]
     },
     "execution_count": 2,
     "metadata": {},
     "output_type": "execute_result"
    }
   ],
   "source": [
    "os.listdir()"
   ]
  },
  {
   "cell_type": "code",
   "execution_count": 29,
   "metadata": {},
   "outputs": [],
   "source": [
    "## Define the paths for the files to retrieve and output directory of TFrecords\n",
    "\n",
    "PASS = 'dataset/3/0/*.png'\n",
    "FAIL = 'dataset/3/1/*.png'\n",
    "\n",
    "TFRECORD_PATH = 'tfrecords/'\n",
    "IMAGE_PER_TFRECORD = 100"
   ]
  },
  {
   "cell_type": "code",
   "execution_count": 30,
   "metadata": {},
   "outputs": [],
   "source": [
    "pass_list = glob.glob(PASS)\n",
    "fail_list = glob.glob(FAIL)"
   ]
  },
  {
   "cell_type": "code",
   "execution_count": 6,
   "metadata": {},
   "outputs": [],
   "source": [
    "## increase the fail list up to the length of PASS file number\n",
    "\n",
    "## difference the number of files between pass and fail list\n",
    "diff_times = ok_len//fail_len\n",
    "remainder = ok_len % fail_len\n"
   ]
  },
  {
   "cell_type": "code",
   "execution_count": 14,
   "metadata": {},
   "outputs": [
    {
     "data": {
      "text/plain": [
       "1074"
      ]
     },
     "execution_count": 14,
     "metadata": {},
     "output_type": "execute_result"
    }
   ],
   "source": [
    "fail_list_new = []\n",
    "\n",
    "for _ in range(diff_times):\n",
    "    fail_list_new = fail_list_new + fail_list\n",
    "\n",
    "len(fail_list_new)"
   ]
  },
  {
   "cell_type": "code",
   "execution_count": 15,
   "metadata": {},
   "outputs": [],
   "source": [
    "## check the new fail list length\n",
    "# print(len(fail_list_new))\n",
    "\n",
    "## add the remainders \n",
    "fail_list_new = fail_list_new + fail_list[: remainder]\n",
    "fail_list = fail_list_new\n",
    "\n",
    "\n",
    "## creating labels and combine them together\n",
    "pass_label = [0] * len(pass_list)\n",
    "fail_label = [1] * len(fail_list)\n",
    "\n",
    "file_list = pass_list + fail_list\n",
    "label_list =  pass_label + fail_label"
   ]
  },
  {
   "cell_type": "code",
   "execution_count": 18,
   "metadata": {},
   "outputs": [
    {
     "data": {
      "text/plain": [
       "1240"
      ]
     },
     "execution_count": 18,
     "metadata": {},
     "output_type": "execute_result"
    }
   ],
   "source": [
    "len(pass_list)"
   ]
  },
  {
   "cell_type": "code",
   "execution_count": 17,
   "metadata": {},
   "outputs": [
    {
     "data": {
      "text/plain": [
       "1240"
      ]
     },
     "execution_count": 17,
     "metadata": {},
     "output_type": "execute_result"
    }
   ],
   "source": [
    "len(fail_list)"
   ]
  },
  {
   "cell_type": "code",
   "execution_count": 19,
   "metadata": {},
   "outputs": [],
   "source": [
    "## copied from TF website\n",
    "# The following functions can be used to convert a value to a type compatible\n",
    "# with tf.train.Example.\n",
    "\n",
    "def _bytes_feature(value):\n",
    "    \"\"\"Returns a bytes_list from a string / byte.\"\"\"\n",
    "    if isinstance(value, type(tf.constant(0))):\n",
    "        value = value.numpy() # BytesList won't unpack a string from an EagerTensor.\n",
    "    return tf.train.Feature(bytes_list=tf.train.BytesList(value=[value]))\n",
    "\n",
    "def _int64_feature(value):\n",
    "    \"\"\"Returns an int64_list from a bool / enum / int / uint.\"\"\"\n",
    "    return tf.train.Feature(int64_list=tf.train.Int64List(value=[value]))\n",
    "\n",
    "def image_example(image_string, label):\n",
    "    image_shape = tf.image.decode_image(image_string).shape\n",
    "\n",
    "    feature = {\n",
    "        'height': _int64_feature(image_shape[0]),\n",
    "        'width': _int64_feature(image_shape[1]),\n",
    "        'depth': _int64_feature(image_shape[2]),\n",
    "        'label': _int64_feature(label),\n",
    "        'image_raw': _bytes_feature(image_string),\n",
    "    }\n",
    "\n",
    "    return tf.train.Example(features=tf.train.Features(feature=feature))"
   ]
  },
  {
   "cell_type": "markdown",
   "metadata": {},
   "source": [
    "## Write TFRecords"
   ]
  },
  {
   "cell_type": "code",
   "execution_count": 20,
   "metadata": {
    "scrolled": false
   },
   "outputs": [
    {
     "name": "stdout",
     "output_type": "stream",
     "text": [
      "0\n",
      "100\n",
      "100\n",
      "200\n",
      "200\n",
      "300\n",
      "300\n",
      "400\n",
      "400\n",
      "500\n",
      "500\n",
      "600\n",
      "600\n",
      "700\n",
      "700\n",
      "800\n",
      "800\n",
      "900\n",
      "900\n",
      "1000\n",
      "1000\n",
      "1100\n",
      "1100\n",
      "1200\n",
      "1200\n",
      "1300\n",
      "1300\n",
      "1400\n",
      "1400\n",
      "1500\n",
      "1500\n",
      "1600\n",
      "1600\n",
      "1700\n",
      "1700\n",
      "1800\n",
      "1800\n",
      "1900\n",
      "1900\n",
      "2000\n",
      "2000\n",
      "2100\n",
      "2100\n",
      "2200\n",
      "2200\n",
      "2300\n",
      "2300\n",
      "2400\n"
     ]
    }
   ],
   "source": [
    "if os.path.exists(TFRECORD_PATH) is False:\n",
    "    os.mkdir(TFRECORD_PATH)\n",
    "\n",
    "num_tfrecords = len(file_list) // IMAGE_PER_TFRECORD\n",
    "# if len(file_list) % IMAGE_PER_TFRECORD != 0:\n",
    "#     num_tfrecords += 1\n",
    "\n",
    "for idx in range(num_tfrecords):\n",
    "    idx0 = idx * IMAGE_PER_TFRECORD\n",
    "    print(idx0)\n",
    "    idx1 = idx0 + IMAGE_PER_TFRECORD\n",
    "    print(idx1)\n",
    "    record_file = TFRECORD_PATH + '%05d.tfrecords' % idx\n",
    "    with tf.io.TFRecordWriter(record_file) as writer:\n",
    "        for filename, label in zip(file_list[idx0:idx1],label_list[idx0:idx1]):\n",
    "            image_string = open(filename, 'rb').read()\n",
    "            tf_example = image_example(image_string, label)\n",
    "            writer.write(tf_example.SerializeToString())"
   ]
  },
  {
   "cell_type": "code",
   "execution_count": 24,
   "metadata": {},
   "outputs": [],
   "source": [
    "tffiles = glob.glob('../input/tfrecords/*')\n",
    "raw_image_dataset = tf.data.TFRecordDataset(tffiles)\n",
    "\n",
    "image_feature_description = {\n",
    "    'height': tf.io.FixedLenFeature([], tf.int64),\n",
    "    'width': tf.io.FixedLenFeature([], tf.int64),\n",
    "    'depth': tf.io.FixedLenFeature([], tf.int64),\n",
    "    'label': tf.io.FixedLenFeature([], tf.int64),\n",
    "    'image_raw': tf.io.FixedLenFeature([], tf.string),\n",
    "}\n",
    "\n",
    "def _parse_image_function(example_proto):\n",
    "    return tf.io.parse_single_example(example_proto, image_feature_description)\n",
    "\n",
    "def _parse_image_label(parsed_dataset):\n",
    "    return preprocess(tf.image.decode_png(parsed_dataset['image_raw'])), parsed_dataset['label']\n",
    "\n",
    "parsed_image_dataset = raw_image_dataset.map(_parse_image_function)"
   ]
  },
  {
   "cell_type": "code",
   "execution_count": 25,
   "metadata": {},
   "outputs": [],
   "source": [
    "for image_features in parsed_image_dataset:\n",
    "  image_raw = image_features['image_raw'].numpy()\n",
    "  display.display(display.Image(data=image_raw))"
   ]
  },
  {
   "cell_type": "code",
   "execution_count": null,
   "metadata": {},
   "outputs": [],
   "source": []
  }
 ],
 "metadata": {
  "kernelspec": {
   "display_name": "Python 3",
   "language": "python",
   "name": "python3"
  },
  "language_info": {
   "codemirror_mode": {
    "name": "ipython",
    "version": 3
   },
   "file_extension": ".py",
   "mimetype": "text/x-python",
   "name": "python",
   "nbconvert_exporter": "python",
   "pygments_lexer": "ipython3",
   "version": "3.7.9"
  }
 },
 "nbformat": 4,
 "nbformat_minor": 4
}
