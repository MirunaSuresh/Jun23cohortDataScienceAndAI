{
 "cells": [
  {
   "cell_type": "markdown",
   "metadata": {
    "colab_type": "text",
    "id": "gm7oR_yWsjnk"
   },
   "source": [
    "<div>\n",
    "<img src=https://www.institutedata.com/wp-content/uploads/2019/10/iod_h_tp_primary_c.svg width=\"300\">\n",
    "</div>"
   ]
  },
  {
   "cell_type": "markdown",
   "metadata": {
    "colab_type": "text",
    "id": "UlfytRuusjnn"
   },
   "source": [
    "# Lab 4.3: Measurements"
   ]
  },
  {
   "cell_type": "code",
   "execution_count": 1,
   "metadata": {
    "colab": {},
    "colab_type": "code",
    "id": "xHsJeO0tsjno"
   },
   "outputs": [],
   "source": [
    "## Import Libraries\n",
    "\n",
    "import pandas as pd\n",
    "\n",
    "%matplotlib inline\n",
    "import matplotlib.pyplot as plt\n",
    "\n",
    "from sklearn import datasets\n",
    "from sklearn.linear_model import LinearRegression\n",
    "from sklearn.model_selection import train_test_split"
   ]
  },
  {
   "cell_type": "markdown",
   "metadata": {
    "colab_type": "text",
    "id": "j-Y7yPDBsjnw"
   },
   "source": [
    "### 1. Forward Feature Selection\n",
    "\n",
    "> Forward Selection: Forward selection is an iterative method in which we start with having no feature in the model. In each iteration, we keep adding the feature which best improves our model till an addition of a new variable does not improve the performance of the model.\n",
    "\n",
    "Create a Regression model using Forward Feature Selection by looping over all the features adding one at a time until there are no improvements on the prediction metric ( R2  and  AdjustedR2  in this case)."
   ]
  },
  {
   "cell_type": "markdown",
   "metadata": {
    "colab_type": "text",
    "id": "mFSxSn2hsjnz"
   },
   "source": [
    "#### 1.1 Load Diabetics Data Using datasets of sklearn"
   ]
  },
  {
   "cell_type": "code",
   "execution_count": 2,
   "metadata": {
    "colab": {},
    "colab_type": "code",
    "id": "l2gHGPKVsjn0"
   },
   "outputs": [],
   "source": [
    "## Load the Diabetes Housing dataset\n",
    "\n",
    "# Load the diabetes dataset from sklearn\n",
    "diabetes = datasets.load_diabetes()"
   ]
  },
  {
   "cell_type": "code",
   "execution_count": 3,
   "metadata": {
    "colab": {
     "base_uri": "https://localhost:8080/",
     "height": 712
    },
    "colab_type": "code",
    "id": "VNyg3soKsjn3",
    "outputId": "230ac33d-8184-4fe3-c144-a594e8ee0a20"
   },
   "outputs": [
    {
     "name": "stdout",
     "output_type": "stream",
     "text": [
      ".. _diabetes_dataset:\n",
      "\n",
      "Diabetes dataset\n",
      "----------------\n",
      "\n",
      "Ten baseline variables, age, sex, body mass index, average blood\n",
      "pressure, and six blood serum measurements were obtained for each of n =\n",
      "442 diabetes patients, as well as the response of interest, a\n",
      "quantitative measure of disease progression one year after baseline.\n",
      "\n",
      "**Data Set Characteristics:**\n",
      "\n",
      "  :Number of Instances: 442\n",
      "\n",
      "  :Number of Attributes: First 10 columns are numeric predictive values\n",
      "\n",
      "  :Target: Column 11 is a quantitative measure of disease progression one year after baseline\n",
      "\n",
      "  :Attribute Information:\n",
      "      - age     age in years\n",
      "      - sex\n",
      "      - bmi     body mass index\n",
      "      - bp      average blood pressure\n",
      "      - s1      tc, T-Cells (a type of white blood cells)\n",
      "      - s2      ldl, low-density lipoproteins\n",
      "      - s3      hdl, high-density lipoproteins\n",
      "      - s4      tch, thyroid stimulating hormone\n",
      "      - s5      ltg, lamotrigine\n",
      "      - s6      glu, blood sugar level\n",
      "\n",
      "Note: Each of these 10 feature variables have been mean centered and scaled by the standard deviation times `n_samples` (i.e. the sum of squares of each column totals 1).\n",
      "\n",
      "Source URL:\n",
      "https://www4.stat.ncsu.edu/~boos/var.select/diabetes.html\n",
      "\n",
      "For more information see:\n",
      "Bradley Efron, Trevor Hastie, Iain Johnstone and Robert Tibshirani (2004) \"Least Angle Regression,\" Annals of Statistics (with discussion), 407-499.\n",
      "(https://web.stanford.edu/~hastie/Papers/LARS/LeastAngle_2002.pdf)\n"
     ]
    }
   ],
   "source": [
    "# Description\n",
    "print(diabetes.DESCR)"
   ]
  },
  {
   "cell_type": "code",
   "execution_count": 4,
   "metadata": {
    "colab": {},
    "colab_type": "code",
    "id": "0Le6yeYXsjn-"
   },
   "outputs": [],
   "source": [
    "# Predictors\n",
    "X = pd.DataFrame(diabetes.data, columns = diabetes.feature_names)"
   ]
  },
  {
   "cell_type": "code",
   "execution_count": 5,
   "metadata": {
    "colab": {},
    "colab_type": "code",
    "id": "iR8WVIqssjoD"
   },
   "outputs": [],
   "source": [
    "# Target\n",
    "y = diabetes.target"
   ]
  },
  {
   "cell_type": "code",
   "execution_count": 6,
   "metadata": {
    "colab": {},
    "colab_type": "code",
    "id": "QaaJqQxUsjoG"
   },
   "outputs": [],
   "source": [
    "## Create training and testing subsets\n",
    "\n",
    "X_train, X_test, y_train, y_test = train_test_split(X, y, test_size = 0.2, random_state = 42)"
   ]
  },
  {
   "cell_type": "markdown",
   "metadata": {
    "colab_type": "text",
    "id": "9NPcYC45sjoI"
   },
   "source": [
    "#### 1.2 Use Forward Feature Selection to pick a good model\n",
    "\n",
    "**Hint: Same as Lab 4.2.2**\n",
    "\n",
    "- Add R^2 value in a list\n",
    "- Add Adjusted R^2 in another list\n",
    "- Display both R^2 and Adjusted R^2"
   ]
  },
  {
   "cell_type": "code",
   "execution_count": 11,
   "metadata": {
    "colab": {},
    "colab_type": "code",
    "id": "Xnk9hncbsjoJ"
   },
   "outputs": [],
   "source": [
    "## Flag intermediate output\n",
    "\n",
    "show_steps = True   # for testing/debugging\n",
    "# show_steps = False  # without showing steps"
   ]
  },
  {
   "cell_type": "code",
   "execution_count": 12,
   "metadata": {
    "colab": {},
    "colab_type": "code",
    "id": "DEqC7hHbsjoN",
    "scrolled": false
   },
   "outputs": [
    {
     "name": "stdout",
     "output_type": "stream",
     "text": [
      "\n",
      "(Step) Excluded = s1, age, bmi, s6, s3, s2, sex, s4, bp, s5\n",
      "(Step) Trying s1...\n",
      "(Step) - Features = s1\n",
      "(Step) - Adjusted R^2: This = 0.029; Best = 0.000\n",
      "(Step) - New Best!   : Feature = s1; R^2 = 0.040; Adjusted R^2 = 0.029\n",
      "(Step) Trying age...\n",
      "(Step) - Features = age\n",
      "(Step) - Adjusted R^2: This = 0.028; Best = 0.029\n",
      "(Step) Trying bmi...\n",
      "(Step) - Features = bmi\n",
      "(Step) - Adjusted R^2: This = 0.358; Best = 0.029\n",
      "(Step) - New Best!   : Feature = bmi; R^2 = 0.366; Adjusted R^2 = 0.358\n",
      "(Step) Trying s6...\n",
      "(Step) - Features = s6\n",
      "(Step) - Adjusted R^2: This = 0.143; Best = 0.358\n",
      "(Step) Trying s3...\n",
      "(Step) - Features = s3\n",
      "(Step) - Adjusted R^2: This = 0.138; Best = 0.358\n",
      "(Step) Trying s2...\n",
      "(Step) - Features = s2\n",
      "(Step) - Adjusted R^2: This = 0.013; Best = 0.358\n",
      "(Step) Trying sex...\n",
      "(Step) - Features = sex\n",
      "(Step) - Adjusted R^2: This = -0.011; Best = 0.358\n",
      "(Step) Trying s4...\n",
      "(Step) - Features = s4\n",
      "(Step) - Adjusted R^2: This = 0.171; Best = 0.358\n",
      "(Step) Trying bp...\n",
      "(Step) - Features = bp\n",
      "(Step) - Adjusted R^2: This = 0.189; Best = 0.358\n",
      "(Step) Trying s5...\n",
      "(Step) - Features = s5\n",
      "(Step) - Adjusted R^2: This = 0.297; Best = 0.358\n",
      "Added feature bmi  with R^2 = 0.366 and adjusted R^2 = 0.358\n",
      "\n",
      "(Step) Excluded = s1, age, s6, s3, s2, sex, s4, bp, s5\n",
      "(Step) Trying s1...\n",
      "(Step) - Features = bmi, s1\n",
      "(Step) - Adjusted R^2: This = 0.353; Best = 0.358\n",
      "(Step) Trying age...\n",
      "(Step) - Features = bmi, age\n",
      "(Step) - Adjusted R^2: This = 0.359; Best = 0.358\n",
      "(Step) - New Best!   : Feature = age; R^2 = 0.373; Adjusted R^2 = 0.359\n",
      "(Step) Trying s6...\n",
      "(Step) - Features = bmi, s6\n",
      "(Step) - Adjusted R^2: This = 0.377; Best = 0.359\n",
      "(Step) - New Best!   : Feature = s6; R^2 = 0.391; Adjusted R^2 = 0.377\n",
      "(Step) Trying s3...\n",
      "(Step) - Features = bmi, s3\n",
      "(Step) - Adjusted R^2: This = 0.385; Best = 0.377\n",
      "(Step) - New Best!   : Feature = s3; R^2 = 0.399; Adjusted R^2 = 0.385\n",
      "(Step) Trying s2...\n",
      "(Step) - Features = bmi, s2\n",
      "(Step) - Adjusted R^2: This = 0.351; Best = 0.385\n",
      "(Step) Trying sex...\n",
      "(Step) - Features = bmi, sex\n",
      "(Step) - Adjusted R^2: This = 0.351; Best = 0.385\n",
      "(Step) Trying s4...\n",
      "(Step) - Features = bmi, s4\n",
      "(Step) - Adjusted R^2: This = 0.385; Best = 0.385\n",
      "(Step) - New Best!   : Feature = s4; R^2 = 0.399; Adjusted R^2 = 0.385\n",
      "(Step) Trying bp...\n",
      "(Step) - Features = bmi, bp\n",
      "(Step) - Adjusted R^2: This = 0.403; Best = 0.385\n",
      "(Step) - New Best!   : Feature = bp; R^2 = 0.416; Adjusted R^2 = 0.403\n",
      "(Step) Trying s5...\n",
      "(Step) - Features = bmi, s5\n",
      "(Step) - Adjusted R^2: This = 0.446; Best = 0.403\n",
      "(Step) - New Best!   : Feature = s5; R^2 = 0.458; Adjusted R^2 = 0.446\n",
      "Added feature s5   with R^2 = 0.458 and adjusted R^2 = 0.446\n",
      "\n",
      "(Step) Excluded = s1, age, s6, s3, s2, sex, s4, bp\n",
      "(Step) Trying s1...\n",
      "(Step) - Features = bmi, s5, s1\n",
      "(Step) - Adjusted R^2: This = 0.454; Best = 0.446\n",
      "(Step) - New Best!   : Feature = s1; R^2 = 0.472; Adjusted R^2 = 0.454\n",
      "(Step) Trying age...\n",
      "(Step) - Features = bmi, s5, age\n",
      "(Step) - Adjusted R^2: This = 0.440; Best = 0.454\n",
      "(Step) Trying s6...\n",
      "(Step) - Features = bmi, s5, s6\n",
      "(Step) - Adjusted R^2: This = 0.442; Best = 0.454\n",
      "(Step) Trying s3...\n",
      "(Step) - Features = bmi, s5, s3\n",
      "(Step) - Adjusted R^2: This = 0.451; Best = 0.454\n",
      "(Step) Trying s2...\n",
      "(Step) - Features = bmi, s5, s2\n",
      "(Step) - Adjusted R^2: This = 0.444; Best = 0.454\n",
      "(Step) Trying sex...\n",
      "(Step) - Features = bmi, s5, sex\n",
      "(Step) - Adjusted R^2: This = 0.442; Best = 0.454\n",
      "(Step) Trying s4...\n",
      "(Step) - Features = bmi, s5, s4\n",
      "(Step) - Adjusted R^2: This = 0.440; Best = 0.454\n",
      "(Step) Trying bp...\n",
      "(Step) - Features = bmi, s5, bp\n",
      "(Step) - Adjusted R^2: This = 0.465; Best = 0.454\n",
      "(Step) - New Best!   : Feature = bp; R^2 = 0.483; Adjusted R^2 = 0.465\n",
      "Added feature bp   with R^2 = 0.483 and adjusted R^2 = 0.465\n",
      "\n",
      "(Step) Excluded = s1, age, s6, s3, s2, sex, s4\n",
      "(Step) Trying s1...\n",
      "(Step) - Features = bmi, s5, bp, s1\n",
      "(Step) - Adjusted R^2: This = 0.475; Best = 0.465\n",
      "(Step) - New Best!   : Feature = s1; R^2 = 0.499; Adjusted R^2 = 0.475\n",
      "(Step) Trying age...\n",
      "(Step) - Features = bmi, s5, bp, age\n",
      "(Step) - Adjusted R^2: This = 0.459; Best = 0.475\n",
      "(Step) Trying s6...\n",
      "(Step) - Features = bmi, s5, bp, s6\n",
      "(Step) - Adjusted R^2: This = 0.459; Best = 0.475\n",
      "(Step) Trying s3...\n",
      "(Step) - Features = bmi, s5, bp, s3\n",
      "(Step) - Adjusted R^2: This = 0.474; Best = 0.475\n",
      "(Step) Trying s2...\n",
      "(Step) - Features = bmi, s5, bp, s2\n",
      "(Step) - Adjusted R^2: This = 0.464; Best = 0.475\n",
      "(Step) Trying sex...\n",
      "(Step) - Features = bmi, s5, bp, sex\n",
      "(Step) - Adjusted R^2: This = 0.464; Best = 0.475\n",
      "(Step) Trying s4...\n",
      "(Step) - Features = bmi, s5, bp, s4\n",
      "(Step) - Adjusted R^2: This = 0.460; Best = 0.475\n",
      "Added feature s1   with R^2 = 0.499 and adjusted R^2 = 0.475\n",
      "\n",
      "(Step) Excluded = age, s6, s3, s2, sex, s4\n",
      "(Step) Trying age...\n",
      "(Step) - Features = bmi, s5, bp, s1, age\n",
      "(Step) - Adjusted R^2: This = 0.469; Best = 0.475\n",
      "(Step) Trying s6...\n",
      "(Step) - Features = bmi, s5, bp, s1, s6\n",
      "(Step) - Adjusted R^2: This = 0.470; Best = 0.475\n",
      "(Step) Trying s3...\n",
      "(Step) - Features = bmi, s5, bp, s1, s3\n",
      "(Step) - Adjusted R^2: This = 0.477; Best = 0.475\n",
      "(Step) - New Best!   : Feature = s3; R^2 = 0.506; Adjusted R^2 = 0.477\n",
      "(Step) Trying s2...\n",
      "(Step) - Features = bmi, s5, bp, s1, s2\n",
      "(Step) - Adjusted R^2: This = 0.479; Best = 0.477\n",
      "(Step) - New Best!   : Feature = s2; R^2 = 0.509; Adjusted R^2 = 0.479\n",
      "(Step) Trying sex...\n",
      "(Step) - Features = bmi, s5, bp, s1, sex\n",
      "(Step) - Adjusted R^2: This = 0.476; Best = 0.479\n",
      "(Step) Trying s4...\n",
      "(Step) - Features = bmi, s5, bp, s1, s4\n",
      "(Step) - Adjusted R^2: This = 0.478; Best = 0.479\n",
      "Added feature s2   with R^2 = 0.509 and adjusted R^2 = 0.479\n",
      "\n",
      "(Step) Excluded = age, s6, s3, sex, s4\n",
      "(Step) Trying age...\n",
      "(Step) - Features = bmi, s5, bp, s1, s2, age\n",
      "(Step) - Adjusted R^2: This = 0.473; Best = 0.479\n",
      "(Step) Trying s6...\n",
      "(Step) - Features = bmi, s5, bp, s1, s2, s6\n",
      "(Step) - Adjusted R^2: This = 0.473; Best = 0.479\n",
      "(Step) Trying s3...\n",
      "(Step) - Features = bmi, s5, bp, s1, s2, s3\n",
      "(Step) - Adjusted R^2: This = 0.473; Best = 0.479\n",
      "(Step) Trying sex...\n",
      "(Step) - Features = bmi, s5, bp, s1, s2, sex\n",
      "(Step) - Adjusted R^2: This = 0.489; Best = 0.479\n",
      "(Step) - New Best!   : Feature = sex; R^2 = 0.523; Adjusted R^2 = 0.489\n",
      "(Step) Trying s4...\n",
      "(Step) - Features = bmi, s5, bp, s1, s2, s4\n",
      "(Step) - Adjusted R^2: This = 0.473; Best = 0.489\n",
      "Added feature sex  with R^2 = 0.523 and adjusted R^2 = 0.489\n",
      "\n",
      "(Step) Excluded = s6, age, s3, s4\n",
      "(Step) Trying s6...\n",
      "(Step) - Features = bmi, s5, bp, s1, s2, sex, s6\n",
      "(Step) - Adjusted R^2: This = 0.483; Best = 0.489\n",
      "(Step) Trying age...\n",
      "(Step) - Features = bmi, s5, bp, s1, s2, sex, age\n",
      "(Step) - Adjusted R^2: This = 0.483; Best = 0.489\n",
      "(Step) Trying s3...\n",
      "(Step) - Features = bmi, s5, bp, s1, s2, sex, s3\n",
      "(Step) - Adjusted R^2: This = 0.482; Best = 0.489\n",
      "(Step) Trying s4...\n",
      "(Step) - Features = bmi, s5, bp, s1, s2, sex, s4\n",
      "(Step) - Adjusted R^2: This = 0.485; Best = 0.489\n",
      "**************************************************\n",
      "\n",
      "Resulting features:\n",
      "bmi, s5, bp, s1, s2, sex\n"
     ]
    }
   ],
   "source": [
    "## Use Forward Feature Selection to pick a good model\n",
    "\n",
    "# start with no predictors\n",
    "included = []\n",
    "# keep track of model and parameters\n",
    "best = {'feature': '', 'r2': 0, 'a_r2': 0}\n",
    "# create a model object to hold the modelling parameters\n",
    "model = LinearRegression()\n",
    "# get the number of cases in the test data\n",
    "n = X_test.shape[0]\n",
    "\n",
    "r2_list = []\n",
    "adjusted_r2_list = []\n",
    "\n",
    "while True:\n",
    "    changed = False\n",
    "    \n",
    "    if show_steps:\n",
    "        print('') \n",
    "\n",
    "    # list the features to be evaluated\n",
    "    excluded = list(set(X.columns) - set(included))\n",
    "    \n",
    "    if show_steps:\n",
    "        print('(Step) Excluded = %s' % ', '.join(excluded))  \n",
    "\n",
    "    # for each remaining feature to be evaluated\n",
    "    for new_column in excluded:\n",
    "        \n",
    "        if show_steps:\n",
    "            print('(Step) Trying %s...' % new_column)\n",
    "            print('(Step) - Features = %s' % ', '.join(included + [new_column]))\n",
    "\n",
    "        # fit the model with the Training data\n",
    "        fit = model.fit(X_train[included + [new_column]], y_train)\n",
    "        # calculate the score (R^2 for Regression)\n",
    "        r2 = fit.score(X_train[included + [new_column]], y_train)\n",
    "        \n",
    "        # number of predictors in this model\n",
    "        k = len(included) + 1\n",
    "        # calculate the adjusted R^2\n",
    "        adjusted_r2 = 1 - ( ( (1 - r2) * (n - 1) ) / (n - k - 1) )\n",
    "        \n",
    "        if show_steps:\n",
    "            print('(Step) - Adjusted R^2: This = %.3f; Best = %.3f' % \n",
    "                  (adjusted_r2, best['a_r2']))\n",
    "\n",
    "        # if model improves\n",
    "        if adjusted_r2 > best['a_r2']:\n",
    "            # record new parameters\n",
    "            best = {'feature': new_column, 'r2': r2, 'a_r2': adjusted_r2}\n",
    "            # flag that found a better model\n",
    "            changed = True\n",
    "            if show_steps:\n",
    "                print('(Step) - New Best!   : Feature = %s; R^2 = %.3f; Adjusted R^2 = %.3f' % \n",
    "                      (best['feature'], best['r2'], best['a_r2']))\n",
    "    # END for\n",
    "    \n",
    "    r2_list.append(best['r2'])\n",
    "    adjusted_r2_list.append(best['a_r2'])\n",
    "\n",
    "    # if found a better model after testing all remaining features\n",
    "    if changed:\n",
    "        # update control details\n",
    "        included.append(best['feature'])\n",
    "        excluded = list(set(excluded) - set(best['feature']))\n",
    "        print('Added feature %-4s with R^2 = %.3f and adjusted R^2 = %.3f' % \n",
    "              (best['feature'], best['r2'], best['a_r2']))\n",
    "    else:\n",
    "        # terminate if no better model\n",
    "        print('*'*50)\n",
    "        break\n",
    "\n",
    "print('')\n",
    "print('Resulting features:')\n",
    "print(', '.join(included))"
   ]
  },
  {
   "cell_type": "code",
   "execution_count": 10,
   "metadata": {
    "colab": {
     "base_uri": "https://localhost:8080/",
     "height": 337
    },
    "colab_type": "code",
    "id": "whvMHo6rsjoU",
    "outputId": "0f05a34f-f5bd-46ac-9798-73b43c8e4d95"
   },
   "outputs": [
    {
     "data": {
      "image/png": "[encoded data removed]",
      "text/plain": [
       "<Figure size 720x360 with 1 Axes>"
      ]
     },
     "metadata": {
      "needs_background": "light"
     },
     "output_type": "display_data"
    }
   ],
   "source": [
    "## Chart both R^2 and Adjusted R^2\n",
    "\n",
    "_range = range(1, len(r2_list)+1)\n",
    "\n",
    "# define chart size\n",
    "plt.figure(figsize = (10, 5))\n",
    "# plot each metric \n",
    "plt.plot(_range, r2_list, label = '$R^2$')\n",
    "plt.plot(_range, adjusted_r2_list, label = '$Adjusted \\: R^2$')\n",
    "# add some better visualisation\n",
    "plt.xlabel('Number of Features')\n",
    "plt.legend()\n",
    "# output the chart\n",
    "plt.show()"
   ]
  },
  {
   "cell_type": "markdown",
   "metadata": {
    "colab_type": "text",
    "id": "ZNsyA27Dlwxs"
   },
   "source": [
    "\n",
    "\n",
    "---\n",
    "\n",
    "\n",
    "\n",
    "---\n",
    "\n",
    "\n",
    "\n",
    "> > > > > > > > > © 2019 Institute of Data\n",
    "\n",
    "\n",
    "---\n",
    "\n",
    "\n",
    "\n",
    "---\n",
    "\n",
    "\n",
    "\n"
   ]
  }
 ],
 "metadata": {
  "colab": {
   "collapsed_sections": [],
   "name": "IOD_Lab 4.3.ipynb",
   "provenance": []
  },
  "kernelspec": {
   "display_name": "Python 3",
   "language": "python",
   "name": "python3"
  },
  "language_info": {
   "codemirror_mode": {
    "name": "ipython",
    "version": 3
   },
   "file_extension": ".py",
   "mimetype": "text/x-python",
   "name": "python",
   "nbconvert_exporter": "python",
   "pygments_lexer": "ipython3",
   "version": "3.7.7"
  }
 },
 "nbformat": 4,
 "nbformat_minor": 1
}
