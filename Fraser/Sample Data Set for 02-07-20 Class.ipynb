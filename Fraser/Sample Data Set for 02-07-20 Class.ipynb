{
 "cells": [
  {
   "cell_type": "code",
   "execution_count": 26,
   "metadata": {},
   "outputs": [
    {
     "name": "stdout",
     "output_type": "stream",
     "text": [
      "hello world\n"
     ]
    }
   ],
   "source": [
    "import numpy as np\n",
    "import pandas as pd\n",
    "import matplotlib.pyplot as plt\n",
    "from scipy import stats\n",
    "# get matplot to show charts inline\n",
    "%matplotlib inline\n",
    "print('hello world')"
   ]
  },
  {
   "cell_type": "code",
   "execution_count": 11,
   "metadata": {},
   "outputs": [
    {
     "data": {
      "text/plain": [
       "0.02375408326645123"
      ]
     },
     "execution_count": 11,
     "metadata": {},
     "output_type": "execute_result"
    }
   ],
   "source": [
    "import random as rd\n",
    "rd.random()"
   ]
  },
  {
   "cell_type": "code",
   "execution_count": 13,
   "metadata": {},
   "outputs": [
    {
     "data": {
      "text/plain": [
       "0.052363598850944326"
      ]
     },
     "execution_count": 13,
     "metadata": {},
     "output_type": "execute_result"
    }
   ],
   "source": [
    "rd.seed(123)\n",
    "rd.random()"
   ]
  },
  {
   "cell_type": "code",
   "execution_count": 17,
   "metadata": {},
   "outputs": [
    {
     "data": {
      "text/plain": [
       "77.12668247012"
      ]
     },
     "execution_count": 17,
     "metadata": {},
     "output_type": "execute_result"
    }
   ],
   "source": [
    "rd.randint(1,100)\n",
    "rd.uniform(1,100)"
   ]
  },
  {
   "cell_type": "code",
   "execution_count": 25,
   "metadata": {},
   "outputs": [
    {
     "name": "stdout",
     "output_type": "stream",
     "text": [
      "2020-07-06\n"
     ]
    }
   ],
   "source": [
    "weekly_days = np.arange(0, 7)\n",
    "base_date = np.datetime64('2020-07-02')\n",
    "random_date = base_date + np.random.choice(weekly_days)\n",
    "\n",
    "print(random_date)\n"
   ]
  },
  {
   "cell_type": "code",
   "execution_count": 30,
   "metadata": {},
   "outputs": [
    {
     "name": "stdout",
     "output_type": "stream",
     "text": [
      "The generated string is hfanyctmcakxodb\n"
     ]
    }
   ],
   "source": [
    "import random\n",
    "import string\n",
    "\n",
    "def randomString(stringLength=15):\n",
    "    letters = string.ascii_lowercase\n",
    "    return ''.join(random.choice(letters) for i in range(stringLength))\n",
    "print (\"The generated string is\", randomString())"
   ]
  },
  {
   "cell_type": "code",
   "execution_count": 10,
   "metadata": {
    "scrolled": true
   },
   "outputs": [
    {
     "name": "stdout",
     "output_type": "stream",
     "text": [
      "Help on package names:\n",
      "\n",
      "NAME\n",
      "    names\n",
      "\n",
      "PACKAGE CONTENTS\n",
      "    main\n",
      "\n",
      "FUNCTIONS\n",
      "    full_path lambda filename\n",
      "    \n",
      "    get_first_name(gender=None)\n",
      "    \n",
      "    get_full_name(gender=None)\n",
      "    \n",
      "    get_last_name()\n",
      "    \n",
      "    get_name(filename)\n",
      "\n",
      "DATA\n",
      "    FILES = {'first:female': r'C:\\Anaconda\\lib\\site-packages\\names\\dist.fe...\n",
      "    __license__ = 'MIT'\n",
      "    __title__ = 'names'\n",
      "    unicode_literals = _Feature((2, 6, 0, 'alpha', 2), (3, 0, 0, 'alpha', ...\n",
      "\n",
      "VERSION\n",
      "    0.3.0\n",
      "\n",
      "AUTHOR\n",
      "    Trey Hunner\n",
      "\n",
      "FILE\n",
      "    c:\\anaconda\\lib\\site-packages\\names\\__init__.py\n",
      "\n",
      "\n"
     ]
    }
   ],
   "source": [
    "help(names)"
   ]
  },
  {
   "cell_type": "code",
   "execution_count": 13,
   "metadata": {},
   "outputs": [],
   "source": [
    "import names"
   ]
  },
  {
   "cell_type": "code",
   "execution_count": 16,
   "metadata": {
    "scrolled": true
   },
   "outputs": [
    {
     "data": {
      "text/plain": [
       "'Patricia Diclaudio'"
      ]
     },
     "execution_count": 16,
     "metadata": {},
     "output_type": "execute_result"
    }
   ],
   "source": [
    "names.get_full_name()"
   ]
  },
  {
   "cell_type": "code",
   "execution_count": 17,
   "metadata": {},
   "outputs": [
    {
     "data": {
      "text/plain": [
       "'Kimberly'"
      ]
     },
     "execution_count": 17,
     "metadata": {},
     "output_type": "execute_result"
    }
   ],
   "source": [
    "names.get_first_name(gender='female')"
   ]
  },
  {
   "cell_type": "code",
   "execution_count": 23,
   "metadata": {},
   "outputs": [],
   "source": [
    "import pandas as pd\n",
    "from sklearn.datasets import make_regression\n",
    "\n",
    "from sklearn.datasets import make_regression\n",
    "# Generate fetures, outputs, and true coefficient of 100 samples\n",
    "features, output, coef = make_regression(n_samples = 100,\n",
    "                                         # three features\n",
    "                                         n_features = 3,\n",
    "                                         # two features are useful,\n",
    "                                         n_informative = 2,\n",
    "                                         # one target\n",
    "                                         n_targets = 1,\n",
    "                                         # 0.0 standard deviation\n",
    "                                         noise = 0.0,\n",
    "                                         # show the true coefficient \n",
    "                                         coef = True)"
   ]
  },
  {
   "cell_type": "code",
   "execution_count": 24,
   "metadata": {},
   "outputs": [
    {
     "data": {
      "text/html": [
       "<div>\n",
       "<style scoped>\n",
       "    .dataframe tbody tr th:only-of-type {\n",
       "        vertical-align: middle;\n",
       "    }\n",
       "\n",
       "    .dataframe tbody tr th {\n",
       "        vertical-align: top;\n",
       "    }\n",
       "\n",
       "    .dataframe thead th {\n",
       "        text-align: right;\n",
       "    }\n",
       "</style>\n",
       "<table border=\"1\" class=\"dataframe\">\n",
       "  <thead>\n",
       "    <tr style=\"text-align: right;\">\n",
       "      <th></th>\n",
       "      <th>Coefficient Values</th>\n",
       "    </tr>\n",
       "  </thead>\n",
       "  <tbody>\n",
       "    <tr>\n",
       "      <th>0</th>\n",
       "      <td>0.000000</td>\n",
       "    </tr>\n",
       "    <tr>\n",
       "      <th>1</th>\n",
       "      <td>67.558456</td>\n",
       "    </tr>\n",
       "    <tr>\n",
       "      <th>2</th>\n",
       "      <td>8.307234</td>\n",
       "    </tr>\n",
       "  </tbody>\n",
       "</table>\n",
       "</div>"
      ],
      "text/plain": [
       "   Coefficient Values\n",
       "0            0.000000\n",
       "1           67.558456\n",
       "2            8.307234"
      ]
     },
     "execution_count": 24,
     "metadata": {},
     "output_type": "execute_result"
    }
   ],
   "source": [
    "# View the features of the first 10 rows\n",
    "pd.DataFrame(features, columns=['Customer A', 'Customer B', 'Customer C']).head(10)\n",
    "# View the output of the first 10 rows\n",
    "pd.DataFrame(output, columns=['Sales']).head(10)\n",
    "# View the actual, true coefficients used to generate the data\n",
    "pd.DataFrame(coef, columns=['Coefficient Values'])"
   ]
  },
  {
   "cell_type": "code",
   "execution_count": 27,
   "metadata": {},
   "outputs": [
    {
     "data": {
      "text/html": [
       "<div>\n",
       "<style scoped>\n",
       "    .dataframe tbody tr th:only-of-type {\n",
       "        vertical-align: middle;\n",
       "    }\n",
       "\n",
       "    .dataframe tbody tr th {\n",
       "        vertical-align: top;\n",
       "    }\n",
       "\n",
       "    .dataframe thead th {\n",
       "        text-align: right;\n",
       "    }\n",
       "</style>\n",
       "<table border=\"1\" class=\"dataframe\">\n",
       "  <thead>\n",
       "    <tr style=\"text-align: right;\">\n",
       "      <th></th>\n",
       "      <th>A</th>\n",
       "      <th>B</th>\n",
       "      <th>C</th>\n",
       "      <th>D</th>\n",
       "      <th>AminusB</th>\n",
       "      <th>names</th>\n",
       "    </tr>\n",
       "  </thead>\n",
       "  <tbody>\n",
       "    <tr>\n",
       "      <th>0</th>\n",
       "      <td>67</td>\n",
       "      <td>97</td>\n",
       "      <td>62</td>\n",
       "      <td>18</td>\n",
       "      <td>57.3</td>\n",
       "      <td>Laura</td>\n",
       "    </tr>\n",
       "    <tr>\n",
       "      <th>1</th>\n",
       "      <td>1</td>\n",
       "      <td>95</td>\n",
       "      <td>98</td>\n",
       "      <td>81</td>\n",
       "      <td>-8.5</td>\n",
       "      <td>Laura</td>\n",
       "    </tr>\n",
       "    <tr>\n",
       "      <th>2</th>\n",
       "      <td>60</td>\n",
       "      <td>8</td>\n",
       "      <td>41</td>\n",
       "      <td>99</td>\n",
       "      <td>59.2</td>\n",
       "      <td>Laura</td>\n",
       "    </tr>\n",
       "    <tr>\n",
       "      <th>3</th>\n",
       "      <td>76</td>\n",
       "      <td>87</td>\n",
       "      <td>38</td>\n",
       "      <td>91</td>\n",
       "      <td>67.3</td>\n",
       "      <td>Laura</td>\n",
       "    </tr>\n",
       "    <tr>\n",
       "      <th>4</th>\n",
       "      <td>14</td>\n",
       "      <td>79</td>\n",
       "      <td>81</td>\n",
       "      <td>96</td>\n",
       "      <td>6.1</td>\n",
       "      <td>Laura</td>\n",
       "    </tr>\n",
       "  </tbody>\n",
       "</table>\n",
       "</div>"
      ],
      "text/plain": [
       "    A   B   C   D  AminusB  names\n",
       "0  67  97  62  18     57.3  Laura\n",
       "1   1  95  98  81     -8.5  Laura\n",
       "2  60   8  41  99     59.2  Laura\n",
       "3  76  87  38  91     67.3  Laura\n",
       "4  14  79  81  96      6.1  Laura"
      ]
     },
     "execution_count": 27,
     "metadata": {},
     "output_type": "execute_result"
    }
   ],
   "source": [
    "import numpy as np\n",
    "\n",
    "#using numpy's randint\n",
    "df = pd.DataFrame(np.random.randint(0,100,size=(15, 4)), columns=list('ABCD'))\n",
    "# create a new column \n",
    "df['AminusB'] = df['A'] - (0.1 * df['B'])\n",
    "df['names'] = 'Laura'\n",
    "df.head(5)"
   ]
  },
  {
   "cell_type": "code",
   "execution_count": 28,
   "metadata": {},
   "outputs": [
    {
     "data": {
      "text/html": [
       "<div>\n",
       "<style scoped>\n",
       "    .dataframe tbody tr th:only-of-type {\n",
       "        vertical-align: middle;\n",
       "    }\n",
       "\n",
       "    .dataframe tbody tr th {\n",
       "        vertical-align: top;\n",
       "    }\n",
       "\n",
       "    .dataframe thead th {\n",
       "        text-align: right;\n",
       "    }\n",
       "</style>\n",
       "<table border=\"1\" class=\"dataframe\">\n",
       "  <thead>\n",
       "    <tr style=\"text-align: right;\">\n",
       "      <th></th>\n",
       "      <th>A</th>\n",
       "      <th>B</th>\n",
       "      <th>C</th>\n",
       "      <th>D</th>\n",
       "      <th>AminusB</th>\n",
       "      <th>names</th>\n",
       "    </tr>\n",
       "  </thead>\n",
       "  <tbody>\n",
       "    <tr>\n",
       "      <th>0</th>\n",
       "      <td>67</td>\n",
       "      <td>97</td>\n",
       "      <td>62</td>\n",
       "      <td>18</td>\n",
       "      <td>57.3</td>\n",
       "      <td>Christine</td>\n",
       "    </tr>\n",
       "    <tr>\n",
       "      <th>1</th>\n",
       "      <td>1</td>\n",
       "      <td>95</td>\n",
       "      <td>98</td>\n",
       "      <td>81</td>\n",
       "      <td>-8.5</td>\n",
       "      <td>Rosa</td>\n",
       "    </tr>\n",
       "    <tr>\n",
       "      <th>2</th>\n",
       "      <td>60</td>\n",
       "      <td>8</td>\n",
       "      <td>41</td>\n",
       "      <td>99</td>\n",
       "      <td>59.2</td>\n",
       "      <td>Katherine</td>\n",
       "    </tr>\n",
       "    <tr>\n",
       "      <th>3</th>\n",
       "      <td>76</td>\n",
       "      <td>87</td>\n",
       "      <td>38</td>\n",
       "      <td>91</td>\n",
       "      <td>67.3</td>\n",
       "      <td>Lorraine</td>\n",
       "    </tr>\n",
       "    <tr>\n",
       "      <th>4</th>\n",
       "      <td>14</td>\n",
       "      <td>79</td>\n",
       "      <td>81</td>\n",
       "      <td>96</td>\n",
       "      <td>6.1</td>\n",
       "      <td>Bobbi</td>\n",
       "    </tr>\n",
       "  </tbody>\n",
       "</table>\n",
       "</div>"
      ],
      "text/plain": [
       "    A   B   C   D  AminusB      names\n",
       "0  67  97  62  18     57.3  Christine\n",
       "1   1  95  98  81     -8.5       Rosa\n",
       "2  60   8  41  99     59.2  Katherine\n",
       "3  76  87  38  91     67.3   Lorraine\n",
       "4  14  79  81  96      6.1      Bobbi"
      ]
     },
     "execution_count": 28,
     "metadata": {},
     "output_type": "execute_result"
    }
   ],
   "source": [
    "import names\n",
    "for index, row in df.iterrows():\n",
    "      df.at[index,'names'] = names.get_first_name(gender='female')\n",
    "    \n",
    "df.head(5)"
   ]
  },
  {
   "cell_type": "code",
   "execution_count": 46,
   "metadata": {},
   "outputs": [],
   "source": [
    "df.to_csv(r'c:\\Users\\Public\\Sample_Data_Frame.csv', index = False)"
   ]
  },
  {
   "cell_type": "code",
   "execution_count": 53,
   "metadata": {},
   "outputs": [
    {
     "name": "stdout",
     "output_type": "stream",
     "text": [
      "     A   B   C   D  AminusB      names\n",
      "0   67  97  62  18     57.3  Christine\n",
      "1    1  95  98  81     -8.5       Rosa\n",
      "2   60   8  41  99     59.2  Katherine\n",
      "3   76  87  38  91     67.3   Lorraine\n",
      "4   14  79  81  96      6.1      Bobbi\n",
      "5   72  46  31  66     67.4    Tabitha\n",
      "6   74  51  17  96     68.9     Rhonda\n",
      "7   87  62  38  17     80.8       Thea\n",
      "8   36   5  57  21     35.5      Nancy\n",
      "9   30  29  46   8     27.1      Norma\n",
      "10  94  10  88  17     93.0      Cindy\n",
      "11  78  68  14  12     71.2   Patricia\n",
      "12  46  86  29  87     37.4      Heidi\n",
      "13  15  83  82  99      6.7   Deandrea\n",
      "14  94  95  45  99     84.5     Brenda\n"
     ]
    }
   ],
   "source": [
    "df = pd.read_csv(r'c:\\Users\\Public\\Sample_Data_Frame.csv')\n",
    "print(df)"
   ]
  },
  {
   "cell_type": "code",
   "execution_count": 154,
   "metadata": {},
   "outputs": [
    {
     "name": "stdout",
     "output_type": "stream",
     "text": [
      "    Age  weight  Level of Trustworthiness  Work Ethic  AminusB      names\n",
      "0    67      97                        62          18     57.3  Christine\n",
      "1     1      95                        98          81     -8.5       Rosa\n",
      "2    60       8                        41          99     59.2  Katherine\n",
      "3    76      87                        38          91     67.3   Lorraine\n",
      "4    14      79                        81          96      6.1      Bobbi\n",
      "5    72      46                        31          66     67.4    Tabitha\n",
      "6    74      51                        17          96     68.9     Rhonda\n",
      "7    87      62                        38          17     80.8       Thea\n",
      "8    36       5                        57          21     35.5      Nancy\n",
      "9    30      29                        46           8     27.1      Norma\n",
      "10   94      10                        88          17     93.0      Cindy\n",
      "11   78      68                        14          12     71.2   Patricia\n",
      "12   46      86                        29          87     37.4      Heidi\n",
      "13   15      83                        82          99      6.7   Deandrea\n",
      "14   94      95                        45          99     84.5     Brenda\n"
     ]
    }
   ],
   "source": [
    "df.rename(columns={'A': 'Age', 'B': 'weight', 'C': 'Trustworthiness', 'D': 'Work Ethic'}, inplace=True)\n",
    "print(df)\n"
   ]
  },
  {
   "cell_type": "code",
   "execution_count": 151,
   "metadata": {},
   "outputs": [
    {
     "data": {
      "text/plain": [
       "(15, 6)"
      ]
     },
     "execution_count": 151,
     "metadata": {},
     "output_type": "execute_result"
    }
   ],
   "source": [
    "df.shape"
   ]
  },
  {
   "cell_type": "code",
   "execution_count": 122,
   "metadata": {},
   "outputs": [
    {
     "data": {
      "text/plain": [
       "RangeIndex(start=0, stop=15, step=1)"
      ]
     },
     "execution_count": 122,
     "metadata": {},
     "output_type": "execute_result"
    }
   ],
   "source": [
    "df.index"
   ]
  },
  {
   "cell_type": "code",
   "execution_count": 123,
   "metadata": {},
   "outputs": [
    {
     "name": "stdout",
     "output_type": "stream",
     "text": [
      "<class 'pandas.core.frame.DataFrame'>\n",
      "RangeIndex: 15 entries, 0 to 14\n",
      "Data columns (total 6 columns):\n",
      " #   Column                    Non-Null Count  Dtype  \n",
      "---  ------                    --------------  -----  \n",
      " 0   Age                       15 non-null     int64  \n",
      " 1   weight                    15 non-null     int64  \n",
      " 2   Level of Trustworthiness  15 non-null     int64  \n",
      " 3   Work Ethic                15 non-null     int64  \n",
      " 4   AminusB                   15 non-null     float64\n",
      " 5   names                     15 non-null     object \n",
      "dtypes: float64(1), int64(4), object(1)\n",
      "memory usage: 848.0+ bytes\n"
     ]
    }
   ],
   "source": [
    "df.info()"
   ]
  },
  {
   "cell_type": "code",
   "execution_count": 124,
   "metadata": {},
   "outputs": [
    {
     "data": {
      "text/plain": [
       "Age                                                                       844\n",
       "weight                                                                    901\n",
       "Level of Trustworthiness                                                  767\n",
       "Work Ethic                                                                907\n",
       "AminusB                                                                 753.9\n",
       "names                       ChristineRosaKatherineLorraineBobbiTabithaRhon...\n",
       "dtype: object"
      ]
     },
     "execution_count": 124,
     "metadata": {},
     "output_type": "execute_result"
    }
   ],
   "source": [
    "df.sum()"
   ]
  },
  {
   "cell_type": "code",
   "execution_count": 125,
   "metadata": {},
   "outputs": [
    {
     "data": {
      "text/plain": [
       "Age                             1\n",
       "weight                          5\n",
       "Level of Trustworthiness       14\n",
       "Work Ethic                      8\n",
       "AminusB                      -8.5\n",
       "names                       Bobbi\n",
       "dtype: object"
      ]
     },
     "execution_count": 125,
     "metadata": {},
     "output_type": "execute_result"
    }
   ],
   "source": [
    "df.min()"
   ]
  },
  {
   "cell_type": "code",
   "execution_count": 126,
   "metadata": {},
   "outputs": [
    {
     "data": {
      "text/plain": [
       "Age                           94\n",
       "weight                        97\n",
       "Level of Trustworthiness      98\n",
       "Work Ethic                    99\n",
       "AminusB                       93\n",
       "names                       Thea\n",
       "dtype: object"
      ]
     },
     "execution_count": 126,
     "metadata": {},
     "output_type": "execute_result"
    }
   ],
   "source": [
    "df.max()"
   ]
  },
  {
   "cell_type": "code",
   "execution_count": 130,
   "metadata": {},
   "outputs": [
    {
     "name": "stdout",
     "output_type": "stream",
     "text": [
      "DataFrame Shape : (15, 6)\n",
      "Number of rows : 15\n",
      "Number of columns : 6\n"
     ]
    }
   ],
   "source": [
    "shape = df.shape\n",
    "print('DataFrame Shape :', shape)\n",
    "print('Number of rows :', shape[0])\n",
    "print('Number of columns :', shape[1])"
   ]
  },
  {
   "cell_type": "code",
   "execution_count": 131,
   "metadata": {},
   "outputs": [
    {
     "data": {
      "text/plain": [
       "Age                         56.266667\n",
       "weight                      60.066667\n",
       "Level of Trustworthiness    51.133333\n",
       "Work Ethic                  60.466667\n",
       "AminusB                     50.260000\n",
       "dtype: float64"
      ]
     },
     "execution_count": 131,
     "metadata": {},
     "output_type": "execute_result"
    }
   ],
   "source": [
    "df.mean()"
   ]
  },
  {
   "cell_type": "code",
   "execution_count": 168,
   "metadata": {},
   "outputs": [
    {
     "data": {
      "image/png": "[encoded data removed]",
      "text/plain": [
       "<Figure size 432x288 with 1 Axes>"
      ]
     },
     "metadata": {
      "needs_background": "light"
     },
     "output_type": "display_data"
    }
   ],
   "source": [
    "# a scatter plot comparing num_children and num_pets\n",
    "df.plot(kind='scatter',x='names',y='weight',color='red')\n",
    "plt.show()"
   ]
  },
  {
   "cell_type": "code",
   "execution_count": 171,
   "metadata": {},
   "outputs": [
    {
     "data": {
      "image/png": "[encoded data removed]",
      "text/plain": [
       "<Figure size 432x288 with 1 Axes>"
      ]
     },
     "metadata": {
      "needs_background": "light"
     },
     "output_type": "display_data"
    }
   ],
   "source": [
    "# a scatter plot comparing num_children and num_pets\n",
    "df.plot(kind='scatter',x='weight',y='Work Ethic',color='orange')\n",
    "plt.show()"
   ]
  },
  {
   "cell_type": "code",
   "execution_count": 180,
   "metadata": {},
   "outputs": [
    {
     "data": {
      "text/plain": [
       "<matplotlib.axes._subplots.AxesSubplot at 0x14f6173bf08>"
      ]
     },
     "execution_count": 180,
     "metadata": {},
     "output_type": "execute_result"
    },
    {
     "data": {
      "image/png": "[encoded data removed]",
      "text/plain": [
       "<Figure size 432x288 with 1 Axes>"
      ]
     },
     "metadata": {
      "needs_background": "light"
     },
     "output_type": "display_data"
    }
   ],
   "source": [
    "df.plot(kind='bar')\n"
   ]
  },
  {
   "cell_type": "code",
   "execution_count": 185,
   "metadata": {},
   "outputs": [
    {
     "data": {
      "text/plain": [
       "<matplotlib.axes._subplots.AxesSubplot at 0x14f61c50148>"
      ]
     },
     "execution_count": 185,
     "metadata": {},
     "output_type": "execute_result"
    },
    {
     "data": {
      "image/png": "[encoded data removed]",
      "text/plain": [
       "<Figure size 432x288 with 1 Axes>"
      ]
     },
     "metadata": {
      "needs_background": "light"
     },
     "output_type": "display_data"
    }
   ],
   "source": [
    "df.plot(kind='hist', bins=50)"
   ]
  }
 ],
 "metadata": {
  "kernelspec": {
   "display_name": "Python 3",
   "language": "python",
   "name": "python3"
  },
  "language_info": {
   "codemirror_mode": {
    "name": "ipython",
    "version": 3
   },
   "file_extension": ".py",
   "mimetype": "text/x-python",
   "name": "python",
   "nbconvert_exporter": "python",
   "pygments_lexer": "ipython3",
   "version": "3.7.6"
  }
 },
 "nbformat": 4,
 "nbformat_minor": 4
}
