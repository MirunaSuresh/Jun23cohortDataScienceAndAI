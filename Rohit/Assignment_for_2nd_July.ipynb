{
  "nbformat": 4,
  "nbformat_minor": 0,
  "metadata": {
    "colab": {
      "name": "Assignment for 2nd July.ipynb",
      "provenance": [],
      "collapsed_sections": []
    },
    "kernelspec": {
      "name": "python3",
      "display_name": "Python 3"
    }
  },
  "cells": [
    {
      "cell_type": "code",
      "metadata": {
        "id": "GDd1i3eOQczO",
        "colab_type": "code",
        "colab": {
          "base_uri": "https://localhost:8080/",
          "height": 938
        },
        "outputId": "6c41b4a2-7dc7-4e04-beff-fcec12af7125"
      },
      "source": [
        "#1 Importing data from google colab\n",
        "from google.colab import drive\n",
        "drive.mount('/content/gdrive/', force_remount=True)\n",
        "import pandas as pd\n",
        "df=pd.read_csv('/content/gdrive/My Drive/Colab Notebooks/housing-data.csv')\n",
        "print(df)"
      ],
      "execution_count": 2,
      "outputs": [
        {
          "output_type": "stream",
          "text": [
            "Go to this URL in a browser: https://accounts.google.com/o/oauth2/auth?client_id=947318989803-6bn6qk8qdgf4n4g3pfee6491hc0brc4i.apps.googleusercontent.com&redirect_uri=urn%3aietf%3awg%3aoauth%3a2.0%3aoob&response_type=code&scope=email%20https%3a%2f%2fwww.googleapis.com%2fauth%2fdocs.test%20https%3a%2f%2fwww.googleapis.com%2fauth%2fdrive%20https%3a%2f%2fwww.googleapis.com%2fauth%2fdrive.photos.readonly%20https%3a%2f%2fwww.googleapis.com%2fauth%2fpeopleapi.readonly\n",
            "\n",
            "Enter your authorization code:\n",
            "··········\n",
            "Mounted at /content/gdrive/\n",
            "    sqft  bdrms  age   price\n",
            "0   2104      3   70  399900\n",
            "1   1600      3   28  329900\n",
            "2   2400      3   44  369000\n",
            "3   1416      2   49  232000\n",
            "4   3000      4   75  539900\n",
            "5   1985      4   61  299900\n",
            "6   1534      3   12  314900\n",
            "7   1427      3   57  198999\n",
            "8   1380      3   14  212000\n",
            "9   1494      3   15  242500\n",
            "10  1940      4    7  239999\n",
            "11  2000      3   27  347000\n",
            "12  1890      3   45  329999\n",
            "13  4478      5   49  699900\n",
            "14  1268      3   58  259900\n",
            "15  2300      4   77  449900\n",
            "16  1320      2   62  299900\n",
            "17  1236      3   78  199900\n",
            "18  2609      4    5  499998\n",
            "19  3031      4   21  599000\n",
            "20  1767      3   44  252900\n",
            "21  1888      2   79  255000\n",
            "22  1604      3   13  242900\n",
            "23  1962      4   53  259900\n",
            "24  3890      3   36  573900\n",
            "25  1100      3   60  249900\n",
            "26  1458      3   29  464500\n",
            "27  2526      3   13  469000\n",
            "28  2200      3   28  475000\n",
            "29  2637      3   25  299900\n",
            "30  1839      2   40  349900\n",
            "31  1000      1    5  169900\n",
            "32  2040      4   75  314900\n",
            "33  3137      3   67  579900\n",
            "34  1811      4   24  285900\n",
            "35  1437      3   50  249900\n",
            "36  1239      3   22  229900\n",
            "37  2132      4   28  345000\n",
            "38  4215      4   66  549000\n",
            "39  2162      4   43  287000\n",
            "40  1664      2   40  368500\n",
            "41  2238      3   37  329900\n",
            "42  2567      4   57  314000\n",
            "43  1200      3   76  299000\n",
            "44   852      2   70  179900\n",
            "45  1852      4   64  299900\n",
            "46  1203      3   11  239500\n"
          ],
          "name": "stdout"
        }
      ]
    },
    {
      "cell_type": "code",
      "metadata": {
        "id": "27JdYt6VWfSH",
        "colab_type": "code",
        "colab": {
          "base_uri": "https://localhost:8080/",
          "height": 173
        },
        "outputId": "ad443447-4b21-4bb4-a823-9085e7d9d145"
      },
      "source": [
        "2# Data Summary\n",
        "df.agg({'price': ['min', 'max', 'median', 'average']})\n",
        "df.agg({'sqft': ['min', 'max', 'median', 'average']})\n",
        "df.agg({'bdrms': ['min', 'max', 'median', 'average']})\n",
        "df.agg({'age': ['min', 'max', 'median', 'average']})"
      ],
      "execution_count": 12,
      "outputs": [
        {
          "output_type": "execute_result",
          "data": {
            "text/html": [
              "<div>\n",
              "<style scoped>\n",
              "    .dataframe tbody tr th:only-of-type {\n",
              "        vertical-align: middle;\n",
              "    }\n",
              "\n",
              "    .dataframe tbody tr th {\n",
              "        vertical-align: top;\n",
              "    }\n",
              "\n",
              "    .dataframe thead th {\n",
              "        text-align: right;\n",
              "    }\n",
              "</style>\n",
              "<table border=\"1\" class=\"dataframe\">\n",
              "  <thead>\n",
              "    <tr style=\"text-align: right;\">\n",
              "      <th></th>\n",
              "      <th>age</th>\n",
              "    </tr>\n",
              "  </thead>\n",
              "  <tbody>\n",
              "    <tr>\n",
              "      <th>min</th>\n",
              "      <td>5.000000</td>\n",
              "    </tr>\n",
              "    <tr>\n",
              "      <th>max</th>\n",
              "      <td>79.000000</td>\n",
              "    </tr>\n",
              "    <tr>\n",
              "      <th>median</th>\n",
              "      <td>44.000000</td>\n",
              "    </tr>\n",
              "    <tr>\n",
              "      <th>average</th>\n",
              "      <td>42.744681</td>\n",
              "    </tr>\n",
              "  </tbody>\n",
              "</table>\n",
              "</div>"
            ],
            "text/plain": [
              "               age\n",
              "min       5.000000\n",
              "max      79.000000\n",
              "median   44.000000\n",
              "average  42.744681"
            ]
          },
          "metadata": {
            "tags": []
          },
          "execution_count": 12
        }
      ]
    },
    {
      "cell_type": "code",
      "metadata": {
        "id": "FKV7-LU2XzrQ",
        "colab_type": "code",
        "colab": {
          "base_uri": "https://localhost:8080/",
          "height": 34
        },
        "outputId": "f75efd01-7a31-407d-9f10-c24f86a76b8d"
      },
      "source": [
        "#Average/mean of one of the numeric columns\n",
        "Age=df['age']\n",
        "Age.mean()"
      ],
      "execution_count": 23,
      "outputs": [
        {
          "output_type": "execute_result",
          "data": {
            "text/plain": [
              "42.744680851063826"
            ]
          },
          "metadata": {
            "tags": []
          },
          "execution_count": 23
        }
      ]
    },
    {
      "cell_type": "code",
      "metadata": {
        "id": "coa0m2JIesJD",
        "colab_type": "code",
        "colab": {
          "base_uri": "https://localhost:8080/",
          "height": 34
        },
        "outputId": "0f39fa73-8ead-4350-cc54-0a32dd2a256b"
      },
      "source": [
        "#Function returning dataframe shape\n",
        "\n",
        "def shape_output(df):\n",
        "    shape = df.shape\n",
        "    return shape\n",
        "  \n",
        "shape_output(df)"
      ],
      "execution_count": 34,
      "outputs": [
        {
          "output_type": "execute_result",
          "data": {
            "text/plain": [
              "(47, 4)"
            ]
          },
          "metadata": {
            "tags": []
          },
          "execution_count": 34
        }
      ]
    },
    {
      "cell_type": "code",
      "metadata": {
        "id": "N0wp8hqycrfG",
        "colab_type": "code",
        "colab": {
          "base_uri": "https://localhost:8080/",
          "height": 102
        },
        "outputId": "47eeff94-7336-4a36-bc85-175aab88c28d"
      },
      "source": [
        "#Mean of each numeric column\n",
        "df.mean()"
      ],
      "execution_count": 24,
      "outputs": [
        {
          "output_type": "execute_result",
          "data": {
            "text/plain": [
              "sqft       2000.680851\n",
              "bdrms         3.170213\n",
              "age          42.744681\n",
              "price    340412.659574\n",
              "dtype: float64"
            ]
          },
          "metadata": {
            "tags": []
          },
          "execution_count": 24
        }
      ]
    }
  ]
}