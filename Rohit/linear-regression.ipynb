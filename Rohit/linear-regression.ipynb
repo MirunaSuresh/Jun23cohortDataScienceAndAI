{
 "cells": [
  {
   "cell_type": "code",
   "execution_count": 49,
   "metadata": {
    "_cell_guid": "b1076dfc-b9ad-4769-8c92-a6c4dae69d19",
    "_uuid": "8f2839f25d086af736a60e9eeb907d3b93b6e0e5"
   },
   "outputs": [
    {
     "name": "stdout",
     "output_type": "stream",
     "text": [
      "['Summary of Weather.csv', 'Weather Station Locations.csv']\n"
     ]
    }
   ],
   "source": [
    "# This Python 3 environment comes with many helpful analytics libraries installed\n",
    "# It is defined by the kaggle/python docker image: https://github.com/kaggle/docker-python\n",
    "# For example, here's several helpful packages to load in \n",
    "\n",
    "import numpy as np # linear algebra\n",
    "import pandas as pd # data processing, CSV file I/O (e.g. pd.read_csv)\n",
    "\n",
    "# Input data files are available in the \"../input/\" directory.\n",
    "# For example, running this (by clicking run or pressing Shift+Enter) will list the files in the input directory\n",
    "\n",
    "import os\n",
    "print(os.listdir(\"C:/Users/Owner/Downloads/datasets\"))\n",
    "\n",
    "# Any results you write to the current directory are saved as output."
   ]
  },
  {
   "cell_type": "code",
   "execution_count": 32,
   "metadata": {
    "_cell_guid": "79c7e3d0-c299-4dcb-8224-4455121ee9b0",
    "_uuid": "d629ff2d2480ee46fbb7e2d37f6b5fab8052498a"
   },
   "outputs": [
    {
     "name": "stderr",
     "output_type": "stream",
     "text": [
      "D:\\Anaconda\\lib\\site-packages\\IPython\\core\\interactiveshell.py:3063: DtypeWarning: Columns (7,8,18,25) have mixed types.Specify dtype option on import or set low_memory=False.\n",
      "  interactivity=interactivity, compiler=compiler, result=result)\n"
     ]
    },
    {
     "name": "stdout",
     "output_type": "stream",
     "text": [
      "          STA        Date Precip  WindGustSpd    MaxTemp    MinTemp  \\\n",
      "0       10001    1942-7-1  1.016          NaN  25.555556  22.222222   \n",
      "1       10001    1942-7-2      0          NaN  28.888889  21.666667   \n",
      "2       10001    1942-7-3   2.54          NaN  26.111111  22.222222   \n",
      "3       10001    1942-7-4   2.54          NaN  26.666667  22.222222   \n",
      "4       10001    1942-7-5      0          NaN  26.666667  21.666667   \n",
      "...       ...         ...    ...          ...        ...        ...   \n",
      "119035  82506  1945-12-27      0          NaN  28.333333  18.333333   \n",
      "119036  82506  1945-12-28  9.906          NaN  29.444444  18.333333   \n",
      "119037  82506  1945-12-29      0          NaN  28.333333  18.333333   \n",
      "119038  82506  1945-12-30      0          NaN  28.333333  18.333333   \n",
      "119039  82506  1945-12-31      0          NaN  29.444444  17.222222   \n",
      "\n",
      "         MeanTemp Snowfall PoorWeather  YR  ...  FB  FTI ITH  PGT  TSHDSBRSGF  \\\n",
      "0       23.888889        0         NaN  42  ... NaN  NaN NaN  NaN         NaN   \n",
      "1       25.555556        0         NaN  42  ... NaN  NaN NaN  NaN         NaN   \n",
      "2       24.444444        0         NaN  42  ... NaN  NaN NaN  NaN         NaN   \n",
      "3       24.444444        0         NaN  42  ... NaN  NaN NaN  NaN         NaN   \n",
      "4       24.444444        0         NaN  42  ... NaN  NaN NaN  NaN         NaN   \n",
      "...           ...      ...         ...  ..  ...  ..  ...  ..  ...         ...   \n",
      "119035  23.333333        0         NaN  45  ... NaN  NaN NaN  NaN         NaN   \n",
      "119036  23.888889        0           1  45  ... NaN  NaN NaN  NaN           1   \n",
      "119037  23.333333        0           1  45  ... NaN  NaN NaN  NaN           1   \n",
      "119038  23.333333        0         NaN  45  ... NaN  NaN NaN  NaN         NaN   \n",
      "119039  23.333333        0         NaN  45  ... NaN  NaN NaN  NaN         NaN   \n",
      "\n",
      "        SD3  RHX  RHN RVG  WTE  \n",
      "0       NaN  NaN  NaN NaN  NaN  \n",
      "1       NaN  NaN  NaN NaN  NaN  \n",
      "2       NaN  NaN  NaN NaN  NaN  \n",
      "3       NaN  NaN  NaN NaN  NaN  \n",
      "4       NaN  NaN  NaN NaN  NaN  \n",
      "...     ...  ...  ...  ..  ...  \n",
      "119035  NaN  NaN  NaN NaN  NaN  \n",
      "119036  NaN  NaN  NaN NaN  NaN  \n",
      "119037  NaN  NaN  NaN NaN  NaN  \n",
      "119038  NaN  NaN  NaN NaN  NaN  \n",
      "119039  NaN  NaN  NaN NaN  NaN  \n",
      "\n",
      "[119040 rows x 31 columns]\n"
     ]
    }
   ],
   "source": [
    "df1=pd.read_csv(\"C:/Users/Owner/Downloads/Summary of Weather.csv\")\n",
    "print(df1)"
   ]
  },
  {
   "cell_type": "code",
   "execution_count": 33,
   "metadata": {},
   "outputs": [],
   "source": [
    "from sklearn.linear_model import LinearRegression\n",
    "\n",
    "lr = LinearRegression()"
   ]
  },
  {
   "cell_type": "code",
   "execution_count": 34,
   "metadata": {},
   "outputs": [],
   "source": [
    "x=df1.MinTemp.values"
   ]
  },
  {
   "cell_type": "code",
   "execution_count": 35,
   "metadata": {},
   "outputs": [
    {
     "data": {
      "text/plain": [
       "(119040,)"
      ]
     },
     "execution_count": 35,
     "metadata": {},
     "output_type": "execute_result"
    }
   ],
   "source": [
    "x.shape"
   ]
  },
  {
   "cell_type": "code",
   "execution_count": 36,
   "metadata": {},
   "outputs": [],
   "source": [
    "x=x.reshape(-1,1)"
   ]
  },
  {
   "cell_type": "code",
   "execution_count": 37,
   "metadata": {},
   "outputs": [
    {
     "data": {
      "text/plain": [
       "(119040, 1)"
      ]
     },
     "execution_count": 37,
     "metadata": {},
     "output_type": "execute_result"
    }
   ],
   "source": [
    "x.shape"
   ]
  },
  {
   "cell_type": "code",
   "execution_count": 38,
   "metadata": {},
   "outputs": [],
   "source": [
    "y=df1.MaxTemp.values.reshape(-1,1)"
   ]
  },
  {
   "cell_type": "code",
   "execution_count": 39,
   "metadata": {},
   "outputs": [
    {
     "data": {
      "text/plain": [
       "LinearRegression(copy_X=True, fit_intercept=True, n_jobs=None, normalize=False)"
      ]
     },
     "execution_count": 39,
     "metadata": {},
     "output_type": "execute_result"
    }
   ],
   "source": [
    "lr.fit(x,y)"
   ]
  },
  {
   "cell_type": "code",
   "execution_count": 40,
   "metadata": {},
   "outputs": [],
   "source": [
    "X=np.array([10,20,30,40,50]).reshape(-1,1)"
   ]
  },
  {
   "cell_type": "code",
   "execution_count": 41,
   "metadata": {},
   "outputs": [
    {
     "name": "stdout",
     "output_type": "stream",
     "text": [
      "Results\n",
      "Min: [10] Predicted Max: [[19.88830934]]\n",
      "Min: [20] Predicted Max: [[29.07605165]]\n",
      "Min: [30] Predicted Max: [[38.26379396]]\n",
      "Min: [40] Predicted Max: [[47.45153626]]\n",
      "Min: [50] Predicted Max: [[56.63927857]]\n"
     ]
    }
   ],
   "source": [
    "print(\"Results\")\n",
    "for i in X:\n",
    "    print(\"Min:\",i,\"Predicted Max:\",lr.predict([i]))"
   ]
  },
  {
   "cell_type": "code",
   "execution_count": 42,
   "metadata": {},
   "outputs": [
    {
     "data": {
      "image/png": "[encoded data removed]",
      "text/plain": [
       "<Figure size 432x288 with 1 Axes>"
      ]
     },
     "metadata": {
      "needs_background": "light"
     },
     "output_type": "display_data"
    }
   ],
   "source": [
    "#Visualize\n",
    "import matplotlib.pyplot as plt\n",
    "X\n",
    "plt.scatter(x,y)\n",
    "plt.show()"
   ]
  },
  {
   "cell_type": "code",
   "execution_count": 43,
   "metadata": {},
   "outputs": [
    {
     "data": {
      "image/png": "[encoded data removed]",
      "text/plain": [
       "<Figure size 432x288 with 1 Axes>"
      ]
     },
     "metadata": {
      "needs_background": "light"
     },
     "output_type": "display_data"
    }
   ],
   "source": [
    "y_head=lr.predict(X)\n",
    "plt.scatter(X,y_head,color=\"red\")\n",
    "plt.show()"
   ]
  },
  {
   "cell_type": "code",
   "execution_count": null,
   "metadata": {},
   "outputs": [],
   "source": []
  }
 ],
 "metadata": {
  "kernelspec": {
   "display_name": "Python 3",
   "language": "python",
   "name": "python3"
  },
  "language_info": {
   "codemirror_mode": {
    "name": "ipython",
    "version": 3
   },
   "file_extension": ".py",
   "mimetype": "text/x-python",
   "name": "python",
   "nbconvert_exporter": "python",
   "pygments_lexer": "ipython3",
   "version": "3.7.6"
  }
 },
 "nbformat": 4,
 "nbformat_minor": 1
}
